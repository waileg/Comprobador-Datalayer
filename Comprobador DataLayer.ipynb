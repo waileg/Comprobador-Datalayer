{
 "cells": [
  {
   "cell_type": "code",
   "execution_count": 1,
   "id": "d974d8b6",
   "metadata": {},
   "outputs": [],
   "source": [
    "# Deberás tener instalado:\n",
    "pip install beautifulsoup4\n",
    "pip install selenium\n",
    "pip install requests\n",
    "pip install pandas\n",
    "pip install numpy"
   ]
  },
  {
   "cell_type": "code",
   "execution_count": null,
   "id": "e3cda2d0",
   "metadata": {},
   "outputs": [],
   "source": [
    "# Luego llama a:\n",
    "import requests\n",
    "from bs4 import BeautifulSoup\n",
    "import pandas as pd\n",
    "import numpy as np\n"
   ]
  },
  {
   "cell_type": "code",
   "execution_count": 68,
   "id": "801cb61b",
   "metadata": {},
   "outputs": [],
   "source": [
    "def comprobador(url):\n",
    "    response = requests.get(url)\n",
    "    soup = BeautifulSoup(response.content, 'html.parser')\n",
    "    datalayer_script = soup.find('script', {'data-name': 'dataLayer'})\n",
    "    datalayer_script=soup.find_all(\"script\")\n",
    "\n",
    "    if datalayer_script:\n",
    "        datalayer_content = str(datalayer_script)\n",
    "\n",
    "        # Verifica si el campo personalizado existe en el datalayer\n",
    "        # Cambia custom_field por el campo que quieras revisar\n",
    "        custom_field = 'academicType'\n",
    "        if custom_field in datalayer_content:\n",
    "            print(f\"Si está el campo personalizado para la URL '{url}'\")\n",
    "        else:\n",
    "            print(f\"No está el campo personalizado para la URL '{url}'\")\n",
    "    else:\n",
    "        print(\"No se encontró el script del datalayer de GTM en la página.\")\n",
    "\n"
   ]
  },
  {
   "cell_type": "code",
   "execution_count": 45,
   "id": "be5b4925",
   "metadata": {},
   "outputs": [],
   "source": []
  },
  {
   "cell_type": "code",
   "execution_count": 50,
   "id": "15487405",
   "metadata": {},
   "outputs": [
    {
     "name": "stdout",
     "output_type": "stream",
     "text": [
      "                                                    URL  DataLayer_c\n",
      "0     https://estudiar.universidadeuropea.com/animac...          NaN\n",
      "1     https://estudiar.universidadeuropea.com/area-a...          NaN\n",
      "2     https://estudiar.universidadeuropea.com/area-b...          NaN\n",
      "3     https://estudiar.universidadeuropea.com/area-e...          NaN\n",
      "4     https://estudiar.universidadeuropea.com/area-i...          NaN\n",
      "...                                                 ...          ...\n",
      "1118  https://estudiar.universidadeuropea.com/grado-...          NaN\n",
      "1119  https://online.universidadeuropea.com/maestria...          NaN\n",
      "1120  https://online.universidadeuropea.com/master-u...          NaN\n",
      "1121  https://estudiar.universidadeuropea.com/grado-...          NaN\n",
      "1122  https://estudiar.universidadeuropea.com/area-p...          NaN\n",
      "\n",
      "[1123 rows x 2 columns]\n"
     ]
    }
   ],
   "source": [
    "#Para poder llamar a la base de datos necesitas que esté en formato CSV con el nombre URL\n",
    "bbdd=pd.read_csv(\"/Users/9140/Desktop/Comprobador.csv\",sep=\";\")\n",
    "bbdd=pd.DataFrame(bbdd)\n",
    "print(bbdd)"
   ]
  },
  {
   "cell_type": "code",
   "execution_count": null,
   "id": "6527dbe7",
   "metadata": {},
   "outputs": [],
   "source": [
    "bbdd2=pd.DataFrame(bbdd2)\n",
    "for a in bbdd2[\"URL\"]:\n",
    "    comprobador(a);"
   ]
  },
  {
   "cell_type": "code",
   "execution_count": null,
   "id": "bdf93afa",
   "metadata": {},
   "outputs": [],
   "source": []
  }
 ],
 "metadata": {
  "kernelspec": {
   "display_name": "Python 3 (ipykernel)",
   "language": "python",
   "name": "python3"
  },
  "language_info": {
   "codemirror_mode": {
    "name": "ipython",
    "version": 3
   },
   "file_extension": ".py",
   "mimetype": "text/x-python",
   "name": "python",
   "nbconvert_exporter": "python",
   "pygments_lexer": "ipython3",
   "version": "3.10.9"
  }
 },
 "nbformat": 4,
 "nbformat_minor": 5
}
