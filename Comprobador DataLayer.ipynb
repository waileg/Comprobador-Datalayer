{
 "cells": [
  {
   "cell_type": "code",
   "execution_count": 1,
   "id": "d974d8b6",
   "metadata": {},
   "outputs": [],
   "source": [
    "#pip install beautifulsoup4"
   ]
  },
  {
   "cell_type": "code",
   "execution_count": 5,
   "id": "e3cda2d0",
   "metadata": {},
   "outputs": [
    {
     "name": "stdout",
     "output_type": "stream",
     "text": [
      "Collecting selenium\n",
      "  Downloading selenium-4.9.1-py3-none-any.whl (6.6 MB)\n",
      "     ---------------------------------------- 6.6/6.6 MB 46.4 MB/s eta 0:00:00\n",
      "Requirement already satisfied: certifi>=2021.10.8 in c:\\users\\9140\\appdata\\local\\anaconda3\\lib\\site-packages (from selenium) (2022.12.7)\n",
      "Collecting trio~=0.17\n",
      "  Downloading trio-0.22.0-py3-none-any.whl (384 kB)\n",
      "     ------------------------------------- 384.9/384.9 kB 23.4 MB/s eta 0:00:00\n",
      "Requirement already satisfied: urllib3[socks]<3,>=1.26 in c:\\users\\9140\\appdata\\local\\anaconda3\\lib\\site-packages (from selenium) (1.26.14)\n",
      "Collecting trio-websocket~=0.9\n",
      "  Downloading trio_websocket-0.10.2-py3-none-any.whl (17 kB)\n",
      "Collecting outcome\n",
      "  Downloading outcome-1.2.0-py2.py3-none-any.whl (9.7 kB)\n",
      "Requirement already satisfied: idna in c:\\users\\9140\\appdata\\local\\anaconda3\\lib\\site-packages (from trio~=0.17->selenium) (3.4)\n",
      "Requirement already satisfied: attrs>=19.2.0 in c:\\users\\9140\\appdata\\local\\anaconda3\\lib\\site-packages (from trio~=0.17->selenium) (22.1.0)\n",
      "Requirement already satisfied: sniffio in c:\\users\\9140\\appdata\\local\\anaconda3\\lib\\site-packages (from trio~=0.17->selenium) (1.2.0)\n",
      "Requirement already satisfied: sortedcontainers in c:\\users\\9140\\appdata\\local\\anaconda3\\lib\\site-packages (from trio~=0.17->selenium) (2.4.0)\n",
      "Collecting async-generator>=1.9\n",
      "  Downloading async_generator-1.10-py3-none-any.whl (18 kB)\n",
      "Requirement already satisfied: cffi>=1.14 in c:\\users\\9140\\appdata\\local\\anaconda3\\lib\\site-packages (from trio~=0.17->selenium) (1.15.1)\n",
      "Collecting exceptiongroup>=1.0.0rc9\n",
      "  Downloading exceptiongroup-1.1.1-py3-none-any.whl (14 kB)\n",
      "Collecting wsproto>=0.14\n",
      "  Downloading wsproto-1.2.0-py3-none-any.whl (24 kB)\n",
      "Requirement already satisfied: PySocks!=1.5.7,<2.0,>=1.5.6 in c:\\users\\9140\\appdata\\local\\anaconda3\\lib\\site-packages (from urllib3[socks]<3,>=1.26->selenium) (1.7.1)\n",
      "Requirement already satisfied: pycparser in c:\\users\\9140\\appdata\\local\\anaconda3\\lib\\site-packages (from cffi>=1.14->trio~=0.17->selenium) (2.21)\n",
      "Collecting h11<1,>=0.9.0\n",
      "  Downloading h11-0.14.0-py3-none-any.whl (58 kB)\n",
      "     ---------------------------------------- 58.3/58.3 kB 3.0 MB/s eta 0:00:00\n",
      "Installing collected packages: outcome, h11, exceptiongroup, async-generator, wsproto, trio, trio-websocket, selenium\n",
      "Successfully installed async-generator-1.10 exceptiongroup-1.1.1 h11-0.14.0 outcome-1.2.0 selenium-4.9.1 trio-0.22.0 trio-websocket-0.10.2 wsproto-1.2.0\n",
      "Note: you may need to restart the kernel to use updated packages.\n"
     ]
    }
   ],
   "source": [
    "pip install selenium"
   ]
  },
  {
   "cell_type": "code",
   "execution_count": 6,
   "id": "4c4e7d2c",
   "metadata": {},
   "outputs": [
    {
     "name": "stdout",
     "output_type": "stream",
     "text": [
      "Requirement already satisfied: requests in c:\\users\\9140\\appdata\\local\\anaconda3\\lib\\site-packages (2.28.1)\n",
      "Requirement already satisfied: charset-normalizer<3,>=2 in c:\\users\\9140\\appdata\\local\\anaconda3\\lib\\site-packages (from requests) (2.0.4)\n",
      "Requirement already satisfied: idna<4,>=2.5 in c:\\users\\9140\\appdata\\local\\anaconda3\\lib\\site-packages (from requests) (3.4)\n",
      "Requirement already satisfied: urllib3<1.27,>=1.21.1 in c:\\users\\9140\\appdata\\local\\anaconda3\\lib\\site-packages (from requests) (1.26.14)\n",
      "Requirement already satisfied: certifi>=2017.4.17 in c:\\users\\9140\\appdata\\local\\anaconda3\\lib\\site-packages (from requests) (2022.12.7)\n",
      "Note: you may need to restart the kernel to use updated packages.\n"
     ]
    }
   ],
   "source": [
    "pip install requests"
   ]
  },
  {
   "cell_type": "code",
   "execution_count": 2,
   "id": "a7af21c0",
   "metadata": {},
   "outputs": [],
   "source": [
    "import requests\n",
    "from bs4 import BeautifulSoup\n",
    "\n"
   ]
  },
  {
   "cell_type": "code",
   "execution_count": 68,
   "id": "801cb61b",
   "metadata": {},
   "outputs": [],
   "source": [
    "import requests\n",
    "from bs4 import BeautifulSoup\n",
    "url= \"https://estudiar.universidadeuropea.com/animacion-diseno-videojuegos/\"\n",
    "\n",
    "def comprobador(url):\n",
    "    response = requests.get(url)\n",
    "    soup = BeautifulSoup(response.content, 'html.parser')\n",
    "    datalayer_script = soup.find('script', {'data-name': 'dataLayer'})\n",
    "    datalayer_script=soup.find_all(\"script\")\n",
    "\n",
    "    if datalayer_script:\n",
    "        datalayer_content = str(datalayer_script)\n",
    "\n",
    "        # Verifica si el campo personalizado existe en el datalayer\n",
    "        custom_field = 'academicType'\n",
    "        if custom_field in datalayer_content:\n",
    "            print(f\"Si está el campo personalizado para la URL '{url}'\")\n",
    "        else:\n",
    "            print(f\"No está el campo personalizado para la URL '{url}'\")\n",
    "    else:\n",
    "        print(\"No se encontró el script del datalayer de GTM en la página.\")\n",
    "\n"
   ]
  },
  {
   "cell_type": "code",
   "execution_count": 45,
   "id": "be5b4925",
   "metadata": {},
   "outputs": [],
   "source": [
    "import pandas as pd\n",
    "import numpy as np"
   ]
  },
  {
   "cell_type": "code",
   "execution_count": 50,
   "id": "15487405",
   "metadata": {},
   "outputs": [
    {
     "name": "stdout",
     "output_type": "stream",
     "text": [
      "                                                    URL  DataLayer_c\n",
      "0     https://estudiar.universidadeuropea.com/animac...          NaN\n",
      "1     https://estudiar.universidadeuropea.com/area-a...          NaN\n",
      "2     https://estudiar.universidadeuropea.com/area-b...          NaN\n",
      "3     https://estudiar.universidadeuropea.com/area-e...          NaN\n",
      "4     https://estudiar.universidadeuropea.com/area-i...          NaN\n",
      "...                                                 ...          ...\n",
      "1118  https://estudiar.universidadeuropea.com/grado-...          NaN\n",
      "1119  https://online.universidadeuropea.com/maestria...          NaN\n",
      "1120  https://online.universidadeuropea.com/master-u...          NaN\n",
      "1121  https://estudiar.universidadeuropea.com/grado-...          NaN\n",
      "1122  https://estudiar.universidadeuropea.com/area-p...          NaN\n",
      "\n",
      "[1123 rows x 2 columns]\n"
     ]
    }
   ],
   "source": [
    "bbdd=pd.read_csv(\"/Users/9140/Desktop/Comprobador.csv\",sep=\";\")\n",
    "bbdd=pd.DataFrame(bbdd)\n",
    "print(bbdd)"
   ]
  },
  {
   "cell_type": "code",
   "execution_count": 78,
   "id": "110a4bbc",
   "metadata": {
    "scrolled": true
   },
   "outputs": [
    {
     "name": "stdout",
     "output_type": "stream",
     "text": [
      "No está el campo personalizado para la URL 'https://estudiar.universidadeuropea.com/animacion-diseno-videojuegos/'\n"
     ]
    },
    {
     "name": "stderr",
     "output_type": "stream",
     "text": [
      "C:\\Users\\9140\\AppData\\Local\\Temp\\ipykernel_12948\\3282100434.py:2: FutureWarning: The frame.append method is deprecated and will be removed from pandas in a future version. Use pandas.concat instead.\n",
      "  resultados=resultados.append(comprobador(a))\n"
     ]
    },
    {
     "name": "stdout",
     "output_type": "stream",
     "text": [
      "No está el campo personalizado para la URL 'https://estudiar.universidadeuropea.com/area-arquitectura/'\n"
     ]
    },
    {
     "name": "stderr",
     "output_type": "stream",
     "text": [
      "C:\\Users\\9140\\AppData\\Local\\Temp\\ipykernel_12948\\3282100434.py:2: FutureWarning: The frame.append method is deprecated and will be removed from pandas in a future version. Use pandas.concat instead.\n",
      "  resultados=resultados.append(comprobador(a))\n"
     ]
    },
    {
     "name": "stdout",
     "output_type": "stream",
     "text": [
      "No está el campo personalizado para la URL 'https://estudiar.universidadeuropea.com/area-bootcamps/'\n"
     ]
    },
    {
     "name": "stderr",
     "output_type": "stream",
     "text": [
      "C:\\Users\\9140\\AppData\\Local\\Temp\\ipykernel_12948\\3282100434.py:2: FutureWarning: The frame.append method is deprecated and will be removed from pandas in a future version. Use pandas.concat instead.\n",
      "  resultados=resultados.append(comprobador(a))\n"
     ]
    },
    {
     "name": "stdout",
     "output_type": "stream",
     "text": [
      "No está el campo personalizado para la URL 'https://estudiar.universidadeuropea.com/area-educacion/'\n"
     ]
    },
    {
     "name": "stderr",
     "output_type": "stream",
     "text": [
      "C:\\Users\\9140\\AppData\\Local\\Temp\\ipykernel_12948\\3282100434.py:2: FutureWarning: The frame.append method is deprecated and will be removed from pandas in a future version. Use pandas.concat instead.\n",
      "  resultados=resultados.append(comprobador(a))\n"
     ]
    },
    {
     "name": "stdout",
     "output_type": "stream",
     "text": [
      "Si está el campo personalizado para la URL 'https://estudiar.universidadeuropea.com/area-ingenieria/'\n"
     ]
    },
    {
     "name": "stderr",
     "output_type": "stream",
     "text": [
      "C:\\Users\\9140\\AppData\\Local\\Temp\\ipykernel_12948\\3282100434.py:2: FutureWarning: The frame.append method is deprecated and will be removed from pandas in a future version. Use pandas.concat instead.\n",
      "  resultados=resultados.append(comprobador(a))\n"
     ]
    },
    {
     "name": "stdout",
     "output_type": "stream",
     "text": [
      "No está el campo personalizado para la URL 'https://estudiar.universidadeuropea.com/area-ingenierias/'\n"
     ]
    },
    {
     "name": "stderr",
     "output_type": "stream",
     "text": [
      "C:\\Users\\9140\\AppData\\Local\\Temp\\ipykernel_12948\\3282100434.py:2: FutureWarning: The frame.append method is deprecated and will be removed from pandas in a future version. Use pandas.concat instead.\n",
      "  resultados=resultados.append(comprobador(a))\n"
     ]
    },
    {
     "name": "stdout",
     "output_type": "stream",
     "text": [
      "No está el campo personalizado para la URL 'https://estudiar.universidadeuropea.com/arquitectura-diseno/'\n"
     ]
    },
    {
     "name": "stderr",
     "output_type": "stream",
     "text": [
      "C:\\Users\\9140\\AppData\\Local\\Temp\\ipykernel_12948\\3282100434.py:2: FutureWarning: The frame.append method is deprecated and will be removed from pandas in a future version. Use pandas.concat instead.\n",
      "  resultados=resultados.append(comprobador(a))\n"
     ]
    },
    {
     "name": "stdout",
     "output_type": "stream",
     "text": [
      "Si está el campo personalizado para la URL 'https://estudiar.universidadeuropea.com/en/bachelors-degree-physical-activity-sports-sciences/'\n"
     ]
    },
    {
     "name": "stderr",
     "output_type": "stream",
     "text": [
      "C:\\Users\\9140\\AppData\\Local\\Temp\\ipykernel_12948\\3282100434.py:2: FutureWarning: The frame.append method is deprecated and will be removed from pandas in a future version. Use pandas.concat instead.\n",
      "  resultados=resultados.append(comprobador(a))\n"
     ]
    },
    {
     "name": "stdout",
     "output_type": "stream",
     "text": [
      "Si está el campo personalizado para la URL 'https://estudiar.universidadeuropea.com/business-analytics/'\n"
     ]
    },
    {
     "name": "stderr",
     "output_type": "stream",
     "text": [
      "C:\\Users\\9140\\AppData\\Local\\Temp\\ipykernel_12948\\3282100434.py:2: FutureWarning: The frame.append method is deprecated and will be removed from pandas in a future version. Use pandas.concat instead.\n",
      "  resultados=resultados.append(comprobador(a))\n"
     ]
    },
    {
     "name": "stdout",
     "output_type": "stream",
     "text": [
      "Si está el campo personalizado para la URL 'https://estudiar.universidadeuropea.com/ce-ecografia-pequenos-animales/'\n"
     ]
    },
    {
     "name": "stderr",
     "output_type": "stream",
     "text": [
      "C:\\Users\\9140\\AppData\\Local\\Temp\\ipykernel_12948\\3282100434.py:2: FutureWarning: The frame.append method is deprecated and will be removed from pandas in a future version. Use pandas.concat instead.\n",
      "  resultados=resultados.append(comprobador(a))\n"
     ]
    },
    {
     "name": "stdout",
     "output_type": "stream",
     "text": [
      "Si está el campo personalizado para la URL 'https://estudiar.universidadeuropea.com/ce-sonoanatomia/'\n"
     ]
    },
    {
     "name": "stderr",
     "output_type": "stream",
     "text": [
      "C:\\Users\\9140\\AppData\\Local\\Temp\\ipykernel_12948\\3282100434.py:2: FutureWarning: The frame.append method is deprecated and will be removed from pandas in a future version. Use pandas.concat instead.\n",
      "  resultados=resultados.append(comprobador(a))\n"
     ]
    },
    {
     "name": "stdout",
     "output_type": "stream",
     "text": [
      "Si está el campo personalizado para la URL 'https://estudiar.universidadeuropea.com/ce-odontologia-digital/'\n"
     ]
    },
    {
     "name": "stderr",
     "output_type": "stream",
     "text": [
      "C:\\Users\\9140\\AppData\\Local\\Temp\\ipykernel_12948\\3282100434.py:2: FutureWarning: The frame.append method is deprecated and will be removed from pandas in a future version. Use pandas.concat instead.\n",
      "  resultados=resultados.append(comprobador(a))\n"
     ]
    },
    {
     "name": "stdout",
     "output_type": "stream",
     "text": [
      "Si está el campo personalizado para la URL 'https://estudiar.universidadeuropea.com/ce-terapia-manual-ortopedica/'\n"
     ]
    },
    {
     "name": "stderr",
     "output_type": "stream",
     "text": [
      "C:\\Users\\9140\\AppData\\Local\\Temp\\ipykernel_12948\\3282100434.py:2: FutureWarning: The frame.append method is deprecated and will be removed from pandas in a future version. Use pandas.concat instead.\n",
      "  resultados=resultados.append(comprobador(a))\n"
     ]
    },
    {
     "name": "stdout",
     "output_type": "stream",
     "text": [
      "Si está el campo personalizado para la URL 'https://estudiar.universidadeuropea.com/ciclos/'\n"
     ]
    },
    {
     "name": "stderr",
     "output_type": "stream",
     "text": [
      "C:\\Users\\9140\\AppData\\Local\\Temp\\ipykernel_12948\\3282100434.py:2: FutureWarning: The frame.append method is deprecated and will be removed from pandas in a future version. Use pandas.concat instead.\n",
      "  resultados=resultados.append(comprobador(a))\n"
     ]
    },
    {
     "name": "stdout",
     "output_type": "stream",
     "text": [
      "No está el campo personalizado para la URL 'https://estudiar.universidadeuropea.com/ciclos-formativos-grado-superior/'\n"
     ]
    },
    {
     "name": "stderr",
     "output_type": "stream",
     "text": [
      "C:\\Users\\9140\\AppData\\Local\\Temp\\ipykernel_12948\\3282100434.py:2: FutureWarning: The frame.append method is deprecated and will be removed from pandas in a future version. Use pandas.concat instead.\n",
      "  resultados=resultados.append(comprobador(a))\n"
     ]
    },
    {
     "name": "stdout",
     "output_type": "stream",
     "text": [
      "No está el campo personalizado para la URL 'https://estudiar.universidadeuropea.com/ciclos-formativos-deporte/'\n"
     ]
    },
    {
     "name": "stderr",
     "output_type": "stream",
     "text": [
      "C:\\Users\\9140\\AppData\\Local\\Temp\\ipykernel_12948\\3282100434.py:2: FutureWarning: The frame.append method is deprecated and will be removed from pandas in a future version. Use pandas.concat instead.\n",
      "  resultados=resultados.append(comprobador(a))\n"
     ]
    },
    {
     "name": "stdout",
     "output_type": "stream",
     "text": [
      "Si está el campo personalizado para la URL 'https://estudiar.universidadeuropea.com/ciencia-fisica-matematicas/'\n"
     ]
    },
    {
     "name": "stderr",
     "output_type": "stream",
     "text": [
      "C:\\Users\\9140\\AppData\\Local\\Temp\\ipykernel_12948\\3282100434.py:2: FutureWarning: The frame.append method is deprecated and will be removed from pandas in a future version. Use pandas.concat instead.\n",
      "  resultados=resultados.append(comprobador(a))\n"
     ]
    },
    {
     "name": "stdout",
     "output_type": "stream",
     "text": [
      "No se encontró el script del datalayer de GTM en la página.\n"
     ]
    },
    {
     "name": "stderr",
     "output_type": "stream",
     "text": [
      "C:\\Users\\9140\\AppData\\Local\\Temp\\ipykernel_12948\\3282100434.py:2: FutureWarning: The frame.append method is deprecated and will be removed from pandas in a future version. Use pandas.concat instead.\n",
      "  resultados=resultados.append(comprobador(a))\n"
     ]
    },
    {
     "name": "stdout",
     "output_type": "stream",
     "text": [
      "No está el campo personalizado para la URL 'https://estudiar.universidadeuropea.com/colectivos-profesionales-bg/'\n"
     ]
    },
    {
     "name": "stderr",
     "output_type": "stream",
     "text": [
      "C:\\Users\\9140\\AppData\\Local\\Temp\\ipykernel_12948\\3282100434.py:2: FutureWarning: The frame.append method is deprecated and will be removed from pandas in a future version. Use pandas.concat instead.\n",
      "  resultados=resultados.append(comprobador(a))\n"
     ]
    },
    {
     "name": "stdout",
     "output_type": "stream",
     "text": [
      "No se encontró el script del datalayer de GTM en la página.\n"
     ]
    },
    {
     "name": "stderr",
     "output_type": "stream",
     "text": [
      "C:\\Users\\9140\\AppData\\Local\\Temp\\ipykernel_12948\\3282100434.py:2: FutureWarning: The frame.append method is deprecated and will be removed from pandas in a future version. Use pandas.concat instead.\n",
      "  resultados=resultados.append(comprobador(a))\n"
     ]
    },
    {
     "name": "stdout",
     "output_type": "stream",
     "text": [
      "No está el campo personalizado para la URL 'https://estudiar.universidadeuropea.com/colectivos-profesionales-ls/'\n"
     ]
    },
    {
     "name": "stderr",
     "output_type": "stream",
     "text": [
      "C:\\Users\\9140\\AppData\\Local\\Temp\\ipykernel_12948\\3282100434.py:2: FutureWarning: The frame.append method is deprecated and will be removed from pandas in a future version. Use pandas.concat instead.\n",
      "  resultados=resultados.append(comprobador(a))\n"
     ]
    },
    {
     "name": "stdout",
     "output_type": "stream",
     "text": [
      "Si está el campo personalizado para la URL 'https://estudiar.universidadeuropea.com/colegio-ingenieros-caminos-canales-puertos/'\n"
     ]
    },
    {
     "name": "stderr",
     "output_type": "stream",
     "text": [
      "C:\\Users\\9140\\AppData\\Local\\Temp\\ipykernel_12948\\3282100434.py:2: FutureWarning: The frame.append method is deprecated and will be removed from pandas in a future version. Use pandas.concat instead.\n",
      "  resultados=resultados.append(comprobador(a))\n"
     ]
    },
    {
     "name": "stdout",
     "output_type": "stream",
     "text": [
      "No está el campo personalizado para la URL 'https://estudiar.universidadeuropea.com/colegios/'\n"
     ]
    },
    {
     "name": "stderr",
     "output_type": "stream",
     "text": [
      "C:\\Users\\9140\\AppData\\Local\\Temp\\ipykernel_12948\\3282100434.py:2: FutureWarning: The frame.append method is deprecated and will be removed from pandas in a future version. Use pandas.concat instead.\n",
      "  resultados=resultados.append(comprobador(a))\n"
     ]
    },
    {
     "name": "stdout",
     "output_type": "stream",
     "text": [
      "No está el campo personalizado para la URL 'https://estudiar.universidadeuropea.com/colegios-canarias/'\n"
     ]
    },
    {
     "name": "stderr",
     "output_type": "stream",
     "text": [
      "C:\\Users\\9140\\AppData\\Local\\Temp\\ipykernel_12948\\3282100434.py:2: FutureWarning: The frame.append method is deprecated and will be removed from pandas in a future version. Use pandas.concat instead.\n",
      "  resultados=resultados.append(comprobador(a))\n"
     ]
    },
    {
     "name": "stdout",
     "output_type": "stream",
     "text": [
      "Si está el campo personalizado para la URL 'https://estudiar.universidadeuropea.com/comunicacion-publicidad/'\n"
     ]
    },
    {
     "name": "stderr",
     "output_type": "stream",
     "text": [
      "C:\\Users\\9140\\AppData\\Local\\Temp\\ipykernel_12948\\3282100434.py:2: FutureWarning: The frame.append method is deprecated and will be removed from pandas in a future version. Use pandas.concat instead.\n",
      "  resultados=resultados.append(comprobador(a))\n"
     ]
    },
    {
     "name": "stdout",
     "output_type": "stream",
     "text": [
      "Si está el campo personalizado para la URL 'https://estudiar.universidadeuropea.com/curso-experto-enfermeria-dermoestetica/'\n"
     ]
    },
    {
     "name": "stderr",
     "output_type": "stream",
     "text": [
      "C:\\Users\\9140\\AppData\\Local\\Temp\\ipykernel_12948\\3282100434.py:2: FutureWarning: The frame.append method is deprecated and will be removed from pandas in a future version. Use pandas.concat instead.\n",
      "  resultados=resultados.append(comprobador(a))\n"
     ]
    },
    {
     "name": "stdout",
     "output_type": "stream",
     "text": [
      "Si está el campo personalizado para la URL 'https://estudiar.universidadeuropea.com/curso-experto-enfermeria-cuidados-intensivos-quirofano/'\n"
     ]
    },
    {
     "name": "stderr",
     "output_type": "stream",
     "text": [
      "C:\\Users\\9140\\AppData\\Local\\Temp\\ipykernel_12948\\3282100434.py:2: FutureWarning: The frame.append method is deprecated and will be removed from pandas in a future version. Use pandas.concat instead.\n",
      "  resultados=resultados.append(comprobador(a))\n"
     ]
    },
    {
     "name": "stdout",
     "output_type": "stream",
     "text": [
      "Si está el campo personalizado para la URL 'https://estudiar.universidadeuropea.com/curso-experto-fisioterapia-respiratoria/'\n"
     ]
    },
    {
     "name": "stderr",
     "output_type": "stream",
     "text": [
      "C:\\Users\\9140\\AppData\\Local\\Temp\\ipykernel_12948\\3282100434.py:2: FutureWarning: The frame.append method is deprecated and will be removed from pandas in a future version. Use pandas.concat instead.\n",
      "  resultados=resultados.append(comprobador(a))\n"
     ]
    },
    {
     "name": "stdout",
     "output_type": "stream",
     "text": [
      "Si está el campo personalizado para la URL 'https://estudiar.universidadeuropea.com/curso-experto-performance-marketing-valencia/'\n"
     ]
    },
    {
     "name": "stderr",
     "output_type": "stream",
     "text": [
      "C:\\Users\\9140\\AppData\\Local\\Temp\\ipykernel_12948\\3282100434.py:2: FutureWarning: The frame.append method is deprecated and will be removed from pandas in a future version. Use pandas.concat instead.\n",
      "  resultados=resultados.append(comprobador(a))\n"
     ]
    },
    {
     "name": "stdout",
     "output_type": "stream",
     "text": [
      "No está el campo personalizado para la URL 'https://online.universidadeuropea.com/cursos-especializacion-escuela-real-madrid/'\n"
     ]
    },
    {
     "name": "stderr",
     "output_type": "stream",
     "text": [
      "C:\\Users\\9140\\AppData\\Local\\Temp\\ipykernel_12948\\3282100434.py:2: FutureWarning: The frame.append method is deprecated and will be removed from pandas in a future version. Use pandas.concat instead.\n",
      "  resultados=resultados.append(comprobador(a))\n"
     ]
    },
    {
     "name": "stdout",
     "output_type": "stream",
     "text": [
      "Si está el campo personalizado para la URL 'https://estudiar.universidadeuropea.com/doble-grado-animacion-diseno-videojuegos-madrid/'\n"
     ]
    },
    {
     "name": "stderr",
     "output_type": "stream",
     "text": [
      "C:\\Users\\9140\\AppData\\Local\\Temp\\ipykernel_12948\\3282100434.py:2: FutureWarning: The frame.append method is deprecated and will be removed from pandas in a future version. Use pandas.concat instead.\n",
      "  resultados=resultados.append(comprobador(a))\n"
     ]
    },
    {
     "name": "stdout",
     "output_type": "stream",
     "text": [
      "Si está el campo personalizado para la URL 'https://estudiar.universidadeuropea.com/doble-grado-diseno-videojuegos-informatica-madrid/'\n"
     ]
    },
    {
     "name": "stderr",
     "output_type": "stream",
     "text": [
      "C:\\Users\\9140\\AppData\\Local\\Temp\\ipykernel_12948\\3282100434.py:2: FutureWarning: The frame.append method is deprecated and will be removed from pandas in a future version. Use pandas.concat instead.\n",
      "  resultados=resultados.append(comprobador(a))\n"
     ]
    },
    {
     "name": "stdout",
     "output_type": "stream",
     "text": [
      "Si está el campo personalizado para la URL 'https://estudiar.universidadeuropea.com/doble-grado-fundamentos-arquitectura-diseno-madrid/'\n"
     ]
    },
    {
     "name": "stderr",
     "output_type": "stream",
     "text": [
      "C:\\Users\\9140\\AppData\\Local\\Temp\\ipykernel_12948\\3282100434.py:2: FutureWarning: The frame.append method is deprecated and will be removed from pandas in a future version. Use pandas.concat instead.\n",
      "  resultados=resultados.append(comprobador(a))\n"
     ]
    },
    {
     "name": "stdout",
     "output_type": "stream",
     "text": [
      "Si está el campo personalizado para la URL 'https://estudiar.universidadeuropea.com/doble-grado-ingenieria-matematica-informatica-madrid/'\n"
     ]
    },
    {
     "name": "stderr",
     "output_type": "stream",
     "text": [
      "C:\\Users\\9140\\AppData\\Local\\Temp\\ipykernel_12948\\3282100434.py:2: FutureWarning: The frame.append method is deprecated and will be removed from pandas in a future version. Use pandas.concat instead.\n",
      "  resultados=resultados.append(comprobador(a))\n"
     ]
    },
    {
     "name": "stdout",
     "output_type": "stream",
     "text": [
      "Si está el campo personalizado para la URL 'https://estudiar.universidadeuropea.com/programa-doctorado-ingenieria-control-sistemas-inteligentes-salud-medioambiente/'\n"
     ]
    },
    {
     "name": "stderr",
     "output_type": "stream",
     "text": [
      "C:\\Users\\9140\\AppData\\Local\\Temp\\ipykernel_12948\\3282100434.py:2: FutureWarning: The frame.append method is deprecated and will be removed from pandas in a future version. Use pandas.concat instead.\n",
      "  resultados=resultados.append(comprobador(a))\n"
     ]
    },
    {
     "name": "stdout",
     "output_type": "stream",
     "text": [
      "Si está el campo personalizado para la URL 'https://estudiar.universidadeuropea.com/programa-doctorado-ingenieria-instrumentacion-industrial-aplicada-transporte-inteligente-energia-sostenible/'\n"
     ]
    },
    {
     "name": "stderr",
     "output_type": "stream",
     "text": [
      "C:\\Users\\9140\\AppData\\Local\\Temp\\ipykernel_12948\\3282100434.py:2: FutureWarning: The frame.append method is deprecated and will be removed from pandas in a future version. Use pandas.concat instead.\n",
      "  resultados=resultados.append(comprobador(a))\n"
     ]
    },
    {
     "name": "stdout",
     "output_type": "stream",
     "text": [
      "Si está el campo personalizado para la URL 'https://estudiar.universidadeuropea.com/programa-doctorado-medicina-cirugia/'\n"
     ]
    },
    {
     "name": "stderr",
     "output_type": "stream",
     "text": [
      "C:\\Users\\9140\\AppData\\Local\\Temp\\ipykernel_12948\\3282100434.py:2: FutureWarning: The frame.append method is deprecated and will be removed from pandas in a future version. Use pandas.concat instead.\n",
      "  resultados=resultados.append(comprobador(a))\n"
     ]
    },
    {
     "name": "stdout",
     "output_type": "stream",
     "text": [
      "Si está el campo personalizado para la URL 'https://estudiar.universidadeuropea.com/empresa-tecnologia/'\n"
     ]
    },
    {
     "name": "stderr",
     "output_type": "stream",
     "text": [
      "C:\\Users\\9140\\AppData\\Local\\Temp\\ipykernel_12948\\3282100434.py:2: FutureWarning: The frame.append method is deprecated and will be removed from pandas in a future version. Use pandas.concat instead.\n",
      "  resultados=resultados.append(comprobador(a))\n"
     ]
    },
    {
     "name": "stdout",
     "output_type": "stream",
     "text": [
      "Si está el campo personalizado para la URL 'https://estudiar.universidadeuropea.com/en/mba-sports-management-landingdual/'\n"
     ]
    },
    {
     "name": "stderr",
     "output_type": "stream",
     "text": [
      "C:\\Users\\9140\\AppData\\Local\\Temp\\ipykernel_12948\\3282100434.py:2: FutureWarning: The frame.append method is deprecated and will be removed from pandas in a future version. Use pandas.concat instead.\n",
      "  resultados=resultados.append(comprobador(a))\n"
     ]
    },
    {
     "name": "stdout",
     "output_type": "stream",
     "text": [
      "Si está el campo personalizado para la URL 'https://online.universidadeuropea.com/escuela-universitaria-real-madrid-online/'\n"
     ]
    },
    {
     "name": "stderr",
     "output_type": "stream",
     "text": [
      "C:\\Users\\9140\\AppData\\Local\\Temp\\ipykernel_12948\\3282100434.py:2: FutureWarning: The frame.append method is deprecated and will be removed from pandas in a future version. Use pandas.concat instead.\n",
      "  resultados=resultados.append(comprobador(a))\n"
     ]
    },
    {
     "name": "stdout",
     "output_type": "stream",
     "text": [
      "Si está el campo personalizado para la URL 'https://estudiar.universidadeuropea.com/escuela-universitaria-real-madrid-universidad-europea/'\n"
     ]
    },
    {
     "name": "stderr",
     "output_type": "stream",
     "text": [
      "C:\\Users\\9140\\AppData\\Local\\Temp\\ipykernel_12948\\3282100434.py:2: FutureWarning: The frame.append method is deprecated and will be removed from pandas in a future version. Use pandas.concat instead.\n",
      "  resultados=resultados.append(comprobador(a))\n"
     ]
    },
    {
     "name": "stdout",
     "output_type": "stream",
     "text": [
      "Si está el campo personalizado para la URL 'https://estudiar.universidadeuropea.com/especializate-doctorado/'\n"
     ]
    },
    {
     "name": "stderr",
     "output_type": "stream",
     "text": [
      "C:\\Users\\9140\\AppData\\Local\\Temp\\ipykernel_12948\\3282100434.py:2: FutureWarning: The frame.append method is deprecated and will be removed from pandas in a future version. Use pandas.concat instead.\n",
      "  resultados=resultados.append(comprobador(a))\n"
     ]
    },
    {
     "name": "stdout",
     "output_type": "stream",
     "text": [
      "Si está el campo personalizado para la URL 'https://estudiar.universidadeuropea.com/valoracion-tratamiento-sistema-fascial/'\n"
     ]
    },
    {
     "name": "stderr",
     "output_type": "stream",
     "text": [
      "C:\\Users\\9140\\AppData\\Local\\Temp\\ipykernel_12948\\3282100434.py:2: FutureWarning: The frame.append method is deprecated and will be removed from pandas in a future version. Use pandas.concat instead.\n",
      "  resultados=resultados.append(comprobador(a))\n"
     ]
    },
    {
     "name": "stdout",
     "output_type": "stream",
     "text": [
      "No está el campo personalizado para la URL 'https://estudiar.universidadeuropea.com/eventos-colectivos-profesionales/'\n"
     ]
    },
    {
     "name": "stderr",
     "output_type": "stream",
     "text": [
      "C:\\Users\\9140\\AppData\\Local\\Temp\\ipykernel_12948\\3282100434.py:2: FutureWarning: The frame.append method is deprecated and will be removed from pandas in a future version. Use pandas.concat instead.\n",
      "  resultados=resultados.append(comprobador(a))\n",
      "C:\\Users\\9140\\AppData\\Local\\Temp\\ipykernel_12948\\3282100434.py:2: FutureWarning: The frame.append method is deprecated and will be removed from pandas in a future version. Use pandas.concat instead.\n",
      "  resultados=resultados.append(comprobador(a))\n"
     ]
    },
    {
     "name": "stdout",
     "output_type": "stream",
     "text": [
      "Si está el campo personalizado para la URL 'https://estudiar.universidadeuropea.com/experto-fisioterapia/'\n",
      "No está el campo personalizado para la URL 'https://estudiar.universidadeuropea.com/en/evento-icef-berlin/'\n"
     ]
    },
    {
     "name": "stderr",
     "output_type": "stream",
     "text": [
      "C:\\Users\\9140\\AppData\\Local\\Temp\\ipykernel_12948\\3282100434.py:2: FutureWarning: The frame.append method is deprecated and will be removed from pandas in a future version. Use pandas.concat instead.\n",
      "  resultados=resultados.append(comprobador(a))\n"
     ]
    },
    {
     "name": "stdout",
     "output_type": "stream",
     "text": [
      "Si está el campo personalizado para la URL 'https://estudiar.universidadeuropea.com/en/global-bachelors-degree-international-business/'\n"
     ]
    },
    {
     "name": "stderr",
     "output_type": "stream",
     "text": [
      "C:\\Users\\9140\\AppData\\Local\\Temp\\ipykernel_12948\\3282100434.py:2: FutureWarning: The frame.append method is deprecated and will be removed from pandas in a future version. Use pandas.concat instead.\n",
      "  resultados=resultados.append(comprobador(a))\n"
     ]
    },
    {
     "name": "stdout",
     "output_type": "stream",
     "text": [
      "Si está el campo personalizado para la URL 'https://estudiar.universidadeuropea.com/en/global-bachelors-degree-international-relations-landingdual/'\n"
     ]
    },
    {
     "name": "stderr",
     "output_type": "stream",
     "text": [
      "C:\\Users\\9140\\AppData\\Local\\Temp\\ipykernel_12948\\3282100434.py:2: FutureWarning: The frame.append method is deprecated and will be removed from pandas in a future version. Use pandas.concat instead.\n",
      "  resultados=resultados.append(comprobador(a))\n"
     ]
    },
    {
     "name": "stdout",
     "output_type": "stream",
     "text": [
      "Si está el campo personalizado para la URL 'https://estudiar.universidadeuropea.com/en/global-sports-management-degree/'\n"
     ]
    },
    {
     "name": "stderr",
     "output_type": "stream",
     "text": [
      "C:\\Users\\9140\\AppData\\Local\\Temp\\ipykernel_12948\\3282100434.py:2: FutureWarning: The frame.append method is deprecated and will be removed from pandas in a future version. Use pandas.concat instead.\n",
      "  resultados=resultados.append(comprobador(a))\n"
     ]
    },
    {
     "name": "stdout",
     "output_type": "stream",
     "text": [
      "Si está el campo personalizado para la URL 'https://estudiar.universidadeuropea.com/grados/'\n"
     ]
    },
    {
     "name": "stderr",
     "output_type": "stream",
     "text": [
      "C:\\Users\\9140\\AppData\\Local\\Temp\\ipykernel_12948\\3282100434.py:2: FutureWarning: The frame.append method is deprecated and will be removed from pandas in a future version. Use pandas.concat instead.\n",
      "  resultados=resultados.append(comprobador(a))\n"
     ]
    },
    {
     "name": "stdout",
     "output_type": "stream",
     "text": [
      "Si está el campo personalizado para la URL 'https://estudiar.universidadeuropea.com/grado-administracion-direccion-empresas-landingdual/'\n"
     ]
    },
    {
     "name": "stderr",
     "output_type": "stream",
     "text": [
      "C:\\Users\\9140\\AppData\\Local\\Temp\\ipykernel_12948\\3282100434.py:2: FutureWarning: The frame.append method is deprecated and will be removed from pandas in a future version. Use pandas.concat instead.\n",
      "  resultados=resultados.append(comprobador(a))\n"
     ]
    },
    {
     "name": "stdout",
     "output_type": "stream",
     "text": [
      "Si está el campo personalizado para la URL 'https://estudiar.universidadeuropea.com/grado-animacion/'\n"
     ]
    },
    {
     "name": "stderr",
     "output_type": "stream",
     "text": [
      "C:\\Users\\9140\\AppData\\Local\\Temp\\ipykernel_12948\\3282100434.py:2: FutureWarning: The frame.append method is deprecated and will be removed from pandas in a future version. Use pandas.concat instead.\n",
      "  resultados=resultados.append(comprobador(a))\n"
     ]
    },
    {
     "name": "stdout",
     "output_type": "stream",
     "text": [
      "Si está el campo personalizado para la URL 'https://estudiar.universidadeuropea.com/grado-biotecnologia-valencia/'\n"
     ]
    },
    {
     "name": "stderr",
     "output_type": "stream",
     "text": [
      "C:\\Users\\9140\\AppData\\Local\\Temp\\ipykernel_12948\\3282100434.py:2: FutureWarning: The frame.append method is deprecated and will be removed from pandas in a future version. Use pandas.concat instead.\n",
      "  resultados=resultados.append(comprobador(a))\n"
     ]
    },
    {
     "name": "stdout",
     "output_type": "stream",
     "text": [
      "Si está el campo personalizado para la URL 'https://estudiar.universidadeuropea.com/grado-ciencia-datos-valencia/'\n"
     ]
    },
    {
     "name": "stderr",
     "output_type": "stream",
     "text": [
      "C:\\Users\\9140\\AppData\\Local\\Temp\\ipykernel_12948\\3282100434.py:2: FutureWarning: The frame.append method is deprecated and will be removed from pandas in a future version. Use pandas.concat instead.\n",
      "  resultados=resultados.append(comprobador(a))\n"
     ]
    },
    {
     "name": "stdout",
     "output_type": "stream",
     "text": [
      "Si está el campo personalizado para la URL 'https://estudiar.universidadeuropea.com/grado-ciencias-actividad-fisica-deporte/'\n"
     ]
    },
    {
     "name": "stderr",
     "output_type": "stream",
     "text": [
      "C:\\Users\\9140\\AppData\\Local\\Temp\\ipykernel_12948\\3282100434.py:2: FutureWarning: The frame.append method is deprecated and will be removed from pandas in a future version. Use pandas.concat instead.\n",
      "  resultados=resultados.append(comprobador(a))\n"
     ]
    },
    {
     "name": "stdout",
     "output_type": "stream",
     "text": [
      "Si está el campo personalizado para la URL 'https://estudiar.universidadeuropea.com/grado-ciencias-actividad-fisica-deporte-landingdual/'\n"
     ]
    },
    {
     "name": "stderr",
     "output_type": "stream",
     "text": [
      "C:\\Users\\9140\\AppData\\Local\\Temp\\ipykernel_12948\\3282100434.py:2: FutureWarning: The frame.append method is deprecated and will be removed from pandas in a future version. Use pandas.concat instead.\n",
      "  resultados=resultados.append(comprobador(a))\n"
     ]
    },
    {
     "name": "stdout",
     "output_type": "stream",
     "text": [
      "Si está el campo personalizado para la URL 'https://estudiar.universidadeuropea.com/grado-criminologia-valencia/'\n"
     ]
    },
    {
     "name": "stderr",
     "output_type": "stream",
     "text": [
      "C:\\Users\\9140\\AppData\\Local\\Temp\\ipykernel_12948\\3282100434.py:2: FutureWarning: The frame.append method is deprecated and will be removed from pandas in a future version. Use pandas.concat instead.\n",
      "  resultados=resultados.append(comprobador(a))\n"
     ]
    },
    {
     "name": "stdout",
     "output_type": "stream",
     "text": [
      "Si está el campo personalizado para la URL 'https://estudiar.universidadeuropea.com/grado-criminologia-landingdual/'\n"
     ]
    },
    {
     "name": "stderr",
     "output_type": "stream",
     "text": [
      "C:\\Users\\9140\\AppData\\Local\\Temp\\ipykernel_12948\\3282100434.py:2: FutureWarning: The frame.append method is deprecated and will be removed from pandas in a future version. Use pandas.concat instead.\n",
      "  resultados=resultados.append(comprobador(a))\n"
     ]
    },
    {
     "name": "stdout",
     "output_type": "stream",
     "text": [
      "Si está el campo personalizado para la URL 'https://estudiar.universidadeuropea.com/grado-en-derecho/'\n"
     ]
    },
    {
     "name": "stderr",
     "output_type": "stream",
     "text": [
      "C:\\Users\\9140\\AppData\\Local\\Temp\\ipykernel_12948\\3282100434.py:2: FutureWarning: The frame.append method is deprecated and will be removed from pandas in a future version. Use pandas.concat instead.\n",
      "  resultados=resultados.append(comprobador(a))\n"
     ]
    },
    {
     "name": "stdout",
     "output_type": "stream",
     "text": [
      "Si está el campo personalizado para la URL 'https://estudiar.universidadeuropea.com/grado-derecho-landingdual/'\n"
     ]
    },
    {
     "name": "stderr",
     "output_type": "stream",
     "text": [
      "C:\\Users\\9140\\AppData\\Local\\Temp\\ipykernel_12948\\3282100434.py:2: FutureWarning: The frame.append method is deprecated and will be removed from pandas in a future version. Use pandas.concat instead.\n",
      "  resultados=resultados.append(comprobador(a))\n"
     ]
    },
    {
     "name": "stdout",
     "output_type": "stream",
     "text": [
      "Si está el campo personalizado para la URL 'https://estudiar.universidadeuropea.com/grado-direccion-creacion-empresas-canarias/'\n"
     ]
    },
    {
     "name": "stderr",
     "output_type": "stream",
     "text": [
      "C:\\Users\\9140\\AppData\\Local\\Temp\\ipykernel_12948\\3282100434.py:2: FutureWarning: The frame.append method is deprecated and will be removed from pandas in a future version. Use pandas.concat instead.\n",
      "  resultados=resultados.append(comprobador(a))\n"
     ]
    },
    {
     "name": "stdout",
     "output_type": "stream",
     "text": [
      "Si está el campo personalizado para la URL 'https://estudiar.universidadeuropea.com/doble-grado-direccion-empresas-turismo-canarias/'\n"
     ]
    },
    {
     "name": "stderr",
     "output_type": "stream",
     "text": [
      "C:\\Users\\9140\\AppData\\Local\\Temp\\ipykernel_12948\\3282100434.py:2: FutureWarning: The frame.append method is deprecated and will be removed from pandas in a future version. Use pandas.concat instead.\n",
      "  resultados=resultados.append(comprobador(a))\n"
     ]
    },
    {
     "name": "stdout",
     "output_type": "stream",
     "text": [
      "Si está el campo personalizado para la URL 'https://estudiar.universidadeuropea.com/grado-administracion-direccion-empresas-madrid/'\n"
     ]
    },
    {
     "name": "stderr",
     "output_type": "stream",
     "text": [
      "C:\\Users\\9140\\AppData\\Local\\Temp\\ipykernel_12948\\3282100434.py:2: FutureWarning: The frame.append method is deprecated and will be removed from pandas in a future version. Use pandas.concat instead.\n",
      "  resultados=resultados.append(comprobador(a))\n"
     ]
    },
    {
     "name": "stdout",
     "output_type": "stream",
     "text": [
      "No está el campo personalizado para la URL 'https://estudiar.universidadeuropea.com/grado-biomedicina-madrid/\n",
      "\n",
      "'\n"
     ]
    },
    {
     "name": "stderr",
     "output_type": "stream",
     "text": [
      "C:\\Users\\9140\\AppData\\Local\\Temp\\ipykernel_12948\\3282100434.py:2: FutureWarning: The frame.append method is deprecated and will be removed from pandas in a future version. Use pandas.concat instead.\n",
      "  resultados=resultados.append(comprobador(a))\n"
     ]
    },
    {
     "name": "stdout",
     "output_type": "stream",
     "text": [
      "Si está el campo personalizado para la URL 'https://estudiar.universidadeuropea.com/grado-biotecnologia/'\n"
     ]
    },
    {
     "name": "stderr",
     "output_type": "stream",
     "text": [
      "C:\\Users\\9140\\AppData\\Local\\Temp\\ipykernel_12948\\3282100434.py:2: FutureWarning: The frame.append method is deprecated and will be removed from pandas in a future version. Use pandas.concat instead.\n",
      "  resultados=resultados.append(comprobador(a))\n"
     ]
    },
    {
     "name": "stdout",
     "output_type": "stream",
     "text": [
      "Si está el campo personalizado para la URL 'https://estudiar.universidadeuropea.com/grado-business-analytics/'\n"
     ]
    },
    {
     "name": "stderr",
     "output_type": "stream",
     "text": [
      "C:\\Users\\9140\\AppData\\Local\\Temp\\ipykernel_12948\\3282100434.py:2: FutureWarning: The frame.append method is deprecated and will be removed from pandas in a future version. Use pandas.concat instead.\n",
      "  resultados=resultados.append(comprobador(a))\n"
     ]
    },
    {
     "name": "stdout",
     "output_type": "stream",
     "text": [
      "Si está el campo personalizado para la URL 'https://estudiar.universidadeuropea.com/grado-comunicacion-audiovisual/'\n"
     ]
    },
    {
     "name": "stderr",
     "output_type": "stream",
     "text": [
      "C:\\Users\\9140\\AppData\\Local\\Temp\\ipykernel_12948\\3282100434.py:2: FutureWarning: The frame.append method is deprecated and will be removed from pandas in a future version. Use pandas.concat instead.\n",
      "  resultados=resultados.append(comprobador(a))\n"
     ]
    },
    {
     "name": "stdout",
     "output_type": "stream",
     "text": [
      "Si está el campo personalizado para la URL 'https://estudiar.universidadeuropea.com/grado-criminologia/'\n"
     ]
    },
    {
     "name": "stderr",
     "output_type": "stream",
     "text": [
      "C:\\Users\\9140\\AppData\\Local\\Temp\\ipykernel_12948\\3282100434.py:2: FutureWarning: The frame.append method is deprecated and will be removed from pandas in a future version. Use pandas.concat instead.\n",
      "  resultados=resultados.append(comprobador(a))\n"
     ]
    },
    {
     "name": "stdout",
     "output_type": "stream",
     "text": [
      "Si está el campo personalizado para la URL 'https://estudiar.universidadeuropea.com/grado-derecho/'\n"
     ]
    },
    {
     "name": "stderr",
     "output_type": "stream",
     "text": [
      "C:\\Users\\9140\\AppData\\Local\\Temp\\ipykernel_12948\\3282100434.py:2: FutureWarning: The frame.append method is deprecated and will be removed from pandas in a future version. Use pandas.concat instead.\n",
      "  resultados=resultados.append(comprobador(a))\n"
     ]
    },
    {
     "name": "stdout",
     "output_type": "stream",
     "text": [
      "Si está el campo personalizado para la URL 'https://estudiar.universidadeuropea.com/grado-diseno-videojuegos/'\n"
     ]
    },
    {
     "name": "stderr",
     "output_type": "stream",
     "text": [
      "C:\\Users\\9140\\AppData\\Local\\Temp\\ipykernel_12948\\3282100434.py:2: FutureWarning: The frame.append method is deprecated and will be removed from pandas in a future version. Use pandas.concat instead.\n",
      "  resultados=resultados.append(comprobador(a))\n"
     ]
    },
    {
     "name": "stdout",
     "output_type": "stream",
     "text": [
      "Si está el campo personalizado para la URL 'https://estudiar.universidadeuropea.com/grado-farmacia/'\n",
      "Si está el campo personalizado para la URL 'https://estudiar.universidadeuropea.com/grado-fisica/'\n"
     ]
    },
    {
     "name": "stderr",
     "output_type": "stream",
     "text": [
      "C:\\Users\\9140\\AppData\\Local\\Temp\\ipykernel_12948\\3282100434.py:2: FutureWarning: The frame.append method is deprecated and will be removed from pandas in a future version. Use pandas.concat instead.\n",
      "  resultados=resultados.append(comprobador(a))\n",
      "C:\\Users\\9140\\AppData\\Local\\Temp\\ipykernel_12948\\3282100434.py:2: FutureWarning: The frame.append method is deprecated and will be removed from pandas in a future version. Use pandas.concat instead.\n",
      "  resultados=resultados.append(comprobador(a))\n"
     ]
    },
    {
     "name": "stdout",
     "output_type": "stream",
     "text": [
      "Si está el campo personalizado para la URL 'https://estudiar.universidadeuropea.com/grado-fisioterapia/'\n"
     ]
    },
    {
     "name": "stderr",
     "output_type": "stream",
     "text": [
      "C:\\Users\\9140\\AppData\\Local\\Temp\\ipykernel_12948\\3282100434.py:2: FutureWarning: The frame.append method is deprecated and will be removed from pandas in a future version. Use pandas.concat instead.\n",
      "  resultados=resultados.append(comprobador(a))\n"
     ]
    },
    {
     "name": "stdout",
     "output_type": "stream",
     "text": [
      "Si está el campo personalizado para la URL 'https://estudiar.universidadeuropea.com/grado-fundamentos-arquitectura/'\n"
     ]
    },
    {
     "name": "stderr",
     "output_type": "stream",
     "text": [
      "C:\\Users\\9140\\AppData\\Local\\Temp\\ipykernel_12948\\3282100434.py:2: FutureWarning: The frame.append method is deprecated and will be removed from pandas in a future version. Use pandas.concat instead.\n",
      "  resultados=resultados.append(comprobador(a))\n"
     ]
    },
    {
     "name": "stdout",
     "output_type": "stream",
     "text": [
      "Si está el campo personalizado para la URL 'https://estudiar.universidadeuropea.com/grado-gestion-deportiva/'\n"
     ]
    },
    {
     "name": "stderr",
     "output_type": "stream",
     "text": [
      "C:\\Users\\9140\\AppData\\Local\\Temp\\ipykernel_12948\\3282100434.py:2: FutureWarning: The frame.append method is deprecated and will be removed from pandas in a future version. Use pandas.concat instead.\n",
      "  resultados=resultados.append(comprobador(a))\n",
      "C:\\Users\\9140\\AppData\\Local\\Temp\\ipykernel_12948\\3282100434.py:2: FutureWarning: The frame.append method is deprecated and will be removed from pandas in a future version. Use pandas.concat instead.\n",
      "  resultados=resultados.append(comprobador(a))\n"
     ]
    },
    {
     "name": "stdout",
     "output_type": "stream",
     "text": [
      "No está el campo personalizado para la URL 'https://estudiar.universidadeuropea.com/grado-ingenieria-biomedica-madrid/\n",
      "\n",
      "'\n",
      "Si está el campo personalizado para la URL 'https://estudiar.universidadeuropea.com/grado-ingenieria-civil/'\n"
     ]
    },
    {
     "name": "stderr",
     "output_type": "stream",
     "text": [
      "C:\\Users\\9140\\AppData\\Local\\Temp\\ipykernel_12948\\3282100434.py:2: FutureWarning: The frame.append method is deprecated and will be removed from pandas in a future version. Use pandas.concat instead.\n",
      "  resultados=resultados.append(comprobador(a))\n"
     ]
    },
    {
     "name": "stdout",
     "output_type": "stream",
     "text": [
      "Si está el campo personalizado para la URL 'https://estudiar.universidadeuropea.com/grado-educacion-primaria-madrid/'\n"
     ]
    },
    {
     "name": "stderr",
     "output_type": "stream",
     "text": [
      "C:\\Users\\9140\\AppData\\Local\\Temp\\ipykernel_12948\\3282100434.py:2: FutureWarning: The frame.append method is deprecated and will be removed from pandas in a future version. Use pandas.concat instead.\n",
      "  resultados=resultados.append(comprobador(a))\n"
     ]
    },
    {
     "name": "stdout",
     "output_type": "stream",
     "text": [
      "Si está el campo personalizado para la URL 'https://estudiar.universidadeuropea.com/grado-marketing/'\n"
     ]
    },
    {
     "name": "stderr",
     "output_type": "stream",
     "text": [
      "C:\\Users\\9140\\AppData\\Local\\Temp\\ipykernel_12948\\3282100434.py:2: FutureWarning: The frame.append method is deprecated and will be removed from pandas in a future version. Use pandas.concat instead.\n",
      "  resultados=resultados.append(comprobador(a))\n"
     ]
    },
    {
     "name": "stdout",
     "output_type": "stream",
     "text": [
      "Si está el campo personalizado para la URL 'https://estudiar.universidadeuropea.com/grado-nutricion-humana-dietetica/'\n"
     ]
    },
    {
     "name": "stderr",
     "output_type": "stream",
     "text": [
      "C:\\Users\\9140\\AppData\\Local\\Temp\\ipykernel_12948\\3282100434.py:2: FutureWarning: The frame.append method is deprecated and will be removed from pandas in a future version. Use pandas.concat instead.\n",
      "  resultados=resultados.append(comprobador(a))\n"
     ]
    },
    {
     "name": "stdout",
     "output_type": "stream",
     "text": [
      "Si está el campo personalizado para la URL 'https://estudiar.universidadeuropea.com/grado-periodismo/'\n"
     ]
    },
    {
     "name": "stderr",
     "output_type": "stream",
     "text": [
      "C:\\Users\\9140\\AppData\\Local\\Temp\\ipykernel_12948\\3282100434.py:2: FutureWarning: The frame.append method is deprecated and will be removed from pandas in a future version. Use pandas.concat instead.\n",
      "  resultados=resultados.append(comprobador(a))\n"
     ]
    },
    {
     "name": "stdout",
     "output_type": "stream",
     "text": [
      "Si está el campo personalizado para la URL 'https://estudiar.universidadeuropea.com/grado-publicidad/'\n"
     ]
    },
    {
     "name": "stderr",
     "output_type": "stream",
     "text": [
      "C:\\Users\\9140\\AppData\\Local\\Temp\\ipykernel_12948\\3282100434.py:2: FutureWarning: The frame.append method is deprecated and will be removed from pandas in a future version. Use pandas.concat instead.\n",
      "  resultados=resultados.append(comprobador(a))\n"
     ]
    },
    {
     "name": "stdout",
     "output_type": "stream",
     "text": [
      "Si está el campo personalizado para la URL 'https://estudiar.universidadeuropea.com/grado-relaciones-internacionales/'\n"
     ]
    },
    {
     "name": "stderr",
     "output_type": "stream",
     "text": [
      "C:\\Users\\9140\\AppData\\Local\\Temp\\ipykernel_12948\\3282100434.py:2: FutureWarning: The frame.append method is deprecated and will be removed from pandas in a future version. Use pandas.concat instead.\n",
      "  resultados=resultados.append(comprobador(a))\n"
     ]
    },
    {
     "name": "stdout",
     "output_type": "stream",
     "text": [
      "Si está el campo personalizado para la URL 'https://estudiar.universidadeuropea.com/grado-veterinaria/'\n"
     ]
    },
    {
     "name": "stderr",
     "output_type": "stream",
     "text": [
      "C:\\Users\\9140\\AppData\\Local\\Temp\\ipykernel_12948\\3282100434.py:2: FutureWarning: The frame.append method is deprecated and will be removed from pandas in a future version. Use pandas.concat instead.\n",
      "  resultados=resultados.append(comprobador(a))\n"
     ]
    },
    {
     "name": "stdout",
     "output_type": "stream",
     "text": [
      "Si está el campo personalizado para la URL 'https://estudiar.universidadeuropea.com/grado-farmacia-landingdual/'\n"
     ]
    },
    {
     "name": "stderr",
     "output_type": "stream",
     "text": [
      "C:\\Users\\9140\\AppData\\Local\\Temp\\ipykernel_12948\\3282100434.py:2: FutureWarning: The frame.append method is deprecated and will be removed from pandas in a future version. Use pandas.concat instead.\n",
      "  resultados=resultados.append(comprobador(a))\n"
     ]
    },
    {
     "name": "stdout",
     "output_type": "stream",
     "text": [
      "Si está el campo personalizado para la URL 'https://estudiar.universidadeuropea.com/grado-fisica-valencia/'\n"
     ]
    },
    {
     "name": "stderr",
     "output_type": "stream",
     "text": [
      "C:\\Users\\9140\\AppData\\Local\\Temp\\ipykernel_12948\\3282100434.py:2: FutureWarning: The frame.append method is deprecated and will be removed from pandas in a future version. Use pandas.concat instead.\n",
      "  resultados=resultados.append(comprobador(a))\n"
     ]
    },
    {
     "name": "stdout",
     "output_type": "stream",
     "text": [
      "Si está el campo personalizado para la URL 'https://estudiar.universidadeuropea.com/grado-fundamentos-arquitectura-canarias/'\n"
     ]
    },
    {
     "name": "stderr",
     "output_type": "stream",
     "text": [
      "C:\\Users\\9140\\AppData\\Local\\Temp\\ipykernel_12948\\3282100434.py:2: FutureWarning: The frame.append method is deprecated and will be removed from pandas in a future version. Use pandas.concat instead.\n",
      "  resultados=resultados.append(comprobador(a))\n"
     ]
    },
    {
     "name": "stdout",
     "output_type": "stream",
     "text": [
      "Si está el campo personalizado para la URL 'https://estudiar.universidadeuropea.com/grado-gestion-deportiva-landingdual/'\n"
     ]
    },
    {
     "name": "stderr",
     "output_type": "stream",
     "text": [
      "C:\\Users\\9140\\AppData\\Local\\Temp\\ipykernel_12948\\3282100434.py:2: FutureWarning: The frame.append method is deprecated and will be removed from pandas in a future version. Use pandas.concat instead.\n",
      "  resultados=resultados.append(comprobador(a))\n"
     ]
    },
    {
     "name": "stdout",
     "output_type": "stream",
     "text": [
      "No está el campo personalizado para la URL 'https://estudiar.universidadeuropea.com/grado-gestion-turismo-ocio-valencia/'\n"
     ]
    },
    {
     "name": "stderr",
     "output_type": "stream",
     "text": [
      "C:\\Users\\9140\\AppData\\Local\\Temp\\ipykernel_12948\\3282100434.py:2: FutureWarning: The frame.append method is deprecated and will be removed from pandas in a future version. Use pandas.concat instead.\n",
      "  resultados=resultados.append(comprobador(a))\n"
     ]
    },
    {
     "name": "stdout",
     "output_type": "stream",
     "text": [
      "Si está el campo personalizado para la URL 'https://estudiar.universidadeuropea.com/grado-ingenieria-aeroespacial-aeronaves/'\n"
     ]
    },
    {
     "name": "stderr",
     "output_type": "stream",
     "text": [
      "C:\\Users\\9140\\AppData\\Local\\Temp\\ipykernel_12948\\3282100434.py:2: FutureWarning: The frame.append method is deprecated and will be removed from pandas in a future version. Use pandas.concat instead.\n",
      "  resultados=resultados.append(comprobador(a))\n"
     ]
    },
    {
     "name": "stdout",
     "output_type": "stream",
     "text": [
      "Si está el campo personalizado para la URL 'https://estudiar.universidadeuropea.com/grado-ingenieria-informatica/'\n"
     ]
    },
    {
     "name": "stderr",
     "output_type": "stream",
     "text": [
      "C:\\Users\\9140\\AppData\\Local\\Temp\\ipykernel_12948\\3282100434.py:2: FutureWarning: The frame.append method is deprecated and will be removed from pandas in a future version. Use pandas.concat instead.\n",
      "  resultados=resultados.append(comprobador(a))\n"
     ]
    },
    {
     "name": "stdout",
     "output_type": "stream",
     "text": [
      "Si está el campo personalizado para la URL 'https://estudiar.universidadeuropea.com/grado-ingenieria-matematica-aplicada-analisis-datos/'\n"
     ]
    },
    {
     "name": "stderr",
     "output_type": "stream",
     "text": [
      "C:\\Users\\9140\\AppData\\Local\\Temp\\ipykernel_12948\\3282100434.py:2: FutureWarning: The frame.append method is deprecated and will be removed from pandas in a future version. Use pandas.concat instead.\n",
      "  resultados=resultados.append(comprobador(a))\n"
     ]
    },
    {
     "name": "stdout",
     "output_type": "stream",
     "text": [
      "Si está el campo personalizado para la URL 'https://estudiar.universidadeuropea.com/grado-ingenieria-organizacion-industrial-valencia/'\n"
     ]
    },
    {
     "name": "stderr",
     "output_type": "stream",
     "text": [
      "C:\\Users\\9140\\AppData\\Local\\Temp\\ipykernel_12948\\3282100434.py:2: FutureWarning: The frame.append method is deprecated and will be removed from pandas in a future version. Use pandas.concat instead.\n",
      "  resultados=resultados.append(comprobador(a))\n"
     ]
    },
    {
     "name": "stdout",
     "output_type": "stream",
     "text": [
      "Si está el campo personalizado para la URL 'https://estudiar.universidadeuropea.com/grado-ingenieria-sistemas-industriales-madrid/'\n"
     ]
    },
    {
     "name": "stderr",
     "output_type": "stream",
     "text": [
      "C:\\Users\\9140\\AppData\\Local\\Temp\\ipykernel_12948\\3282100434.py:2: FutureWarning: The frame.append method is deprecated and will be removed from pandas in a future version. Use pandas.concat instead.\n",
      "  resultados=resultados.append(comprobador(a))\n"
     ]
    },
    {
     "name": "stdout",
     "output_type": "stream",
     "text": [
      "Si está el campo personalizado para la URL 'https://estudiar.universidadeuropea.com/grado-maestro-educacion-primaria-landingdual/'\n"
     ]
    },
    {
     "name": "stderr",
     "output_type": "stream",
     "text": [
      "C:\\Users\\9140\\AppData\\Local\\Temp\\ipykernel_12948\\3282100434.py:2: FutureWarning: The frame.append method is deprecated and will be removed from pandas in a future version. Use pandas.concat instead.\n",
      "  resultados=resultados.append(comprobador(a))\n"
     ]
    },
    {
     "name": "stdout",
     "output_type": "stream",
     "text": [
      "Si está el campo personalizado para la URL 'https://estudiar.universidadeuropea.com/grado-marketing-direccion-comercial/'\n"
     ]
    },
    {
     "name": "stderr",
     "output_type": "stream",
     "text": [
      "C:\\Users\\9140\\AppData\\Local\\Temp\\ipykernel_12948\\3282100434.py:2: FutureWarning: The frame.append method is deprecated and will be removed from pandas in a future version. Use pandas.concat instead.\n",
      "  resultados=resultados.append(comprobador(a))\n"
     ]
    },
    {
     "name": "stdout",
     "output_type": "stream",
     "text": [
      "Si está el campo personalizado para la URL 'https://estudiar.universidadeuropea.com/grado-marketing-landingdual/'\n"
     ]
    },
    {
     "name": "stderr",
     "output_type": "stream",
     "text": [
      "C:\\Users\\9140\\AppData\\Local\\Temp\\ipykernel_12948\\3282100434.py:2: FutureWarning: The frame.append method is deprecated and will be removed from pandas in a future version. Use pandas.concat instead.\n",
      "  resultados=resultados.append(comprobador(a))\n"
     ]
    },
    {
     "name": "stdout",
     "output_type": "stream",
     "text": [
      "Si está el campo personalizado para la URL 'https://estudiar.universidadeuropea.com/grado-medio-ambiente-sostenibilidad/'\n"
     ]
    },
    {
     "name": "stderr",
     "output_type": "stream",
     "text": [
      "C:\\Users\\9140\\AppData\\Local\\Temp\\ipykernel_12948\\3282100434.py:2: FutureWarning: The frame.append method is deprecated and will be removed from pandas in a future version. Use pandas.concat instead.\n",
      "  resultados=resultados.append(comprobador(a))\n"
     ]
    },
    {
     "name": "stdout",
     "output_type": "stream",
     "text": [
      "Si está el campo personalizado para la URL 'https://estudiar.universidadeuropea.com/grado-nutricion-humana-dietetica-landingdual/'\n"
     ]
    },
    {
     "name": "stderr",
     "output_type": "stream",
     "text": [
      "C:\\Users\\9140\\AppData\\Local\\Temp\\ipykernel_12948\\3282100434.py:2: FutureWarning: The frame.append method is deprecated and will be removed from pandas in a future version. Use pandas.concat instead.\n",
      "  resultados=resultados.append(comprobador(a))\n"
     ]
    },
    {
     "name": "stdout",
     "output_type": "stream",
     "text": [
      "Si está el campo personalizado para la URL 'https://estudiar.universidadeuropea.com/grado-psicologia/'\n"
     ]
    },
    {
     "name": "stderr",
     "output_type": "stream",
     "text": [
      "C:\\Users\\9140\\AppData\\Local\\Temp\\ipykernel_12948\\3282100434.py:2: FutureWarning: The frame.append method is deprecated and will be removed from pandas in a future version. Use pandas.concat instead.\n",
      "  resultados=resultados.append(comprobador(a))\n"
     ]
    },
    {
     "name": "stdout",
     "output_type": "stream",
     "text": [
      "Si está el campo personalizado para la URL 'https://estudiar.universidadeuropea.com/grado-psicologia-canarias/'\n"
     ]
    },
    {
     "name": "stderr",
     "output_type": "stream",
     "text": [
      "C:\\Users\\9140\\AppData\\Local\\Temp\\ipykernel_12948\\3282100434.py:2: FutureWarning: The frame.append method is deprecated and will be removed from pandas in a future version. Use pandas.concat instead.\n",
      "  resultados=resultados.append(comprobador(a))\n"
     ]
    },
    {
     "name": "stdout",
     "output_type": "stream",
     "text": [
      "Si está el campo personalizado para la URL 'https://estudiar.universidadeuropea.com/grado-publicidad-canarias/'\n"
     ]
    },
    {
     "name": "stderr",
     "output_type": "stream",
     "text": [
      "C:\\Users\\9140\\AppData\\Local\\Temp\\ipykernel_12948\\3282100434.py:2: FutureWarning: The frame.append method is deprecated and will be removed from pandas in a future version. Use pandas.concat instead.\n",
      "  resultados=resultados.append(comprobador(a))\n"
     ]
    },
    {
     "name": "stdout",
     "output_type": "stream",
     "text": [
      "Si está el campo personalizado para la URL 'https://estudiar.universidadeuropea.com/grado-relaciones-internacionales-valencia/'\n"
     ]
    },
    {
     "name": "stderr",
     "output_type": "stream",
     "text": [
      "C:\\Users\\9140\\AppData\\Local\\Temp\\ipykernel_12948\\3282100434.py:2: FutureWarning: The frame.append method is deprecated and will be removed from pandas in a future version. Use pandas.concat instead.\n",
      "  resultados=resultados.append(comprobador(a))\n"
     ]
    },
    {
     "name": "stdout",
     "output_type": "stream",
     "text": [
      "Si está el campo personalizado para la URL 'https://estudiar.universidadeuropea.com/grados-area-biomedicas-salud/'\n"
     ]
    },
    {
     "name": "stderr",
     "output_type": "stream",
     "text": [
      "C:\\Users\\9140\\AppData\\Local\\Temp\\ipykernel_12948\\3282100434.py:2: FutureWarning: The frame.append method is deprecated and will be removed from pandas in a future version. Use pandas.concat instead.\n",
      "  resultados=resultados.append(comprobador(a))\n"
     ]
    },
    {
     "name": "stdout",
     "output_type": "stream",
     "text": [
      "Si está el campo personalizado para la URL 'https://estudiar.universidadeuropea.com/grados-area-ciencias-ingenierias-euv/'\n"
     ]
    },
    {
     "name": "stderr",
     "output_type": "stream",
     "text": [
      "C:\\Users\\9140\\AppData\\Local\\Temp\\ipykernel_12948\\3282100434.py:2: FutureWarning: The frame.append method is deprecated and will be removed from pandas in a future version. Use pandas.concat instead.\n",
      "  resultados=resultados.append(comprobador(a))\n"
     ]
    },
    {
     "name": "stdout",
     "output_type": "stream",
     "text": [
      "Si está el campo personalizado para la URL 'https://estudiar.universidadeuropea.com/grados-area-ciencias-sociales/'\n"
     ]
    },
    {
     "name": "stderr",
     "output_type": "stream",
     "text": [
      "C:\\Users\\9140\\AppData\\Local\\Temp\\ipykernel_12948\\3282100434.py:2: FutureWarning: The frame.append method is deprecated and will be removed from pandas in a future version. Use pandas.concat instead.\n",
      "  resultados=resultados.append(comprobador(a))\n"
     ]
    },
    {
     "name": "stdout",
     "output_type": "stream",
     "text": [
      "Si está el campo personalizado para la URL 'https://estudiar.universidadeuropea.com/grados-area-deporte/'\n"
     ]
    },
    {
     "name": "stderr",
     "output_type": "stream",
     "text": [
      "C:\\Users\\9140\\AppData\\Local\\Temp\\ipykernel_12948\\3282100434.py:2: FutureWarning: The frame.append method is deprecated and will be removed from pandas in a future version. Use pandas.concat instead.\n",
      "  resultados=resultados.append(comprobador(a))\n"
     ]
    },
    {
     "name": "stdout",
     "output_type": "stream",
     "text": [
      "Si está el campo personalizado para la URL 'https://estudiar.universidadeuropea.com/grados-area-empresa/'\n"
     ]
    },
    {
     "name": "stderr",
     "output_type": "stream",
     "text": [
      "C:\\Users\\9140\\AppData\\Local\\Temp\\ipykernel_12948\\3282100434.py:2: FutureWarning: The frame.append method is deprecated and will be removed from pandas in a future version. Use pandas.concat instead.\n",
      "  resultados=resultados.append(comprobador(a))\n"
     ]
    },
    {
     "name": "stdout",
     "output_type": "stream",
     "text": [
      "Si está el campo personalizado para la URL 'https://estudiar.universidadeuropea.com/grados-area-juridica/'\n"
     ]
    },
    {
     "name": "stderr",
     "output_type": "stream",
     "text": [
      "C:\\Users\\9140\\AppData\\Local\\Temp\\ipykernel_12948\\3282100434.py:2: FutureWarning: The frame.append method is deprecated and will be removed from pandas in a future version. Use pandas.concat instead.\n",
      "  resultados=resultados.append(comprobador(a))\n"
     ]
    },
    {
     "name": "stdout",
     "output_type": "stream",
     "text": [
      "Si está el campo personalizado para la URL 'https://estudiar.universidadeuropea.com/grados-masters-area-educacion/'\n"
     ]
    },
    {
     "name": "stderr",
     "output_type": "stream",
     "text": [
      "C:\\Users\\9140\\AppData\\Local\\Temp\\ipykernel_12948\\3282100434.py:2: FutureWarning: The frame.append method is deprecated and will be removed from pandas in a future version. Use pandas.concat instead.\n",
      "  resultados=resultados.append(comprobador(a))\n"
     ]
    },
    {
     "name": "stdout",
     "output_type": "stream",
     "text": [
      "Si está el campo personalizado para la URL 'https://estudiar.universidadeuropea.com/grados-universitarios-universidad-europea-canarias/'\n"
     ]
    },
    {
     "name": "stderr",
     "output_type": "stream",
     "text": [
      "C:\\Users\\9140\\AppData\\Local\\Temp\\ipykernel_12948\\3282100434.py:2: FutureWarning: The frame.append method is deprecated and will be removed from pandas in a future version. Use pandas.concat instead.\n",
      "  resultados=resultados.append(comprobador(a))\n"
     ]
    },
    {
     "name": "stdout",
     "output_type": "stream",
     "text": [
      "Si está el campo personalizado para la URL 'https://estudiar.universidadeuropea.com/grado-en-traduccion-comunicacion-intercultural/'\n"
     ]
    },
    {
     "name": "stderr",
     "output_type": "stream",
     "text": [
      "C:\\Users\\9140\\AppData\\Local\\Temp\\ipykernel_12948\\3282100434.py:2: FutureWarning: The frame.append method is deprecated and will be removed from pandas in a future version. Use pandas.concat instead.\n",
      "  resultados=resultados.append(comprobador(a))\n"
     ]
    },
    {
     "name": "stdout",
     "output_type": "stream",
     "text": [
      "Si está el campo personalizado para la URL 'https://estudiar.universidadeuropea.com/ingenieria-de-organizacion-landingdual/'\n"
     ]
    },
    {
     "name": "stderr",
     "output_type": "stream",
     "text": [
      "C:\\Users\\9140\\AppData\\Local\\Temp\\ipykernel_12948\\3282100434.py:2: FutureWarning: The frame.append method is deprecated and will be removed from pandas in a future version. Use pandas.concat instead.\n",
      "  resultados=resultados.append(comprobador(a))\n"
     ]
    },
    {
     "name": "stdout",
     "output_type": "stream",
     "text": [
      "Si está el campo personalizado para la URL 'https://estudiar.universidadeuropea.com/ingenieria-sistemas-industriales/'\n"
     ]
    },
    {
     "name": "stderr",
     "output_type": "stream",
     "text": [
      "C:\\Users\\9140\\AppData\\Local\\Temp\\ipykernel_12948\\3282100434.py:2: FutureWarning: The frame.append method is deprecated and will be removed from pandas in a future version. Use pandas.concat instead.\n",
      "  resultados=resultados.append(comprobador(a))\n"
     ]
    },
    {
     "name": "stdout",
     "output_type": "stream",
     "text": [
      "Si está el campo personalizado para la URL 'https://estudiar.universidadeuropea.com/master-inteligencia-artificial/'\n"
     ]
    },
    {
     "name": "stderr",
     "output_type": "stream",
     "text": [
      "C:\\Users\\9140\\AppData\\Local\\Temp\\ipykernel_12948\\3282100434.py:2: FutureWarning: The frame.append method is deprecated and will be removed from pandas in a future version. Use pandas.concat instead.\n",
      "  resultados=resultados.append(comprobador(a))\n"
     ]
    },
    {
     "name": "stdout",
     "output_type": "stream",
     "text": [
      "Si está el campo personalizado para la URL 'https://estudiar.universidadeuropea.com/en/international-master-football-coaching-management/'\n"
     ]
    },
    {
     "name": "stderr",
     "output_type": "stream",
     "text": [
      "C:\\Users\\9140\\AppData\\Local\\Temp\\ipykernel_12948\\3282100434.py:2: FutureWarning: The frame.append method is deprecated and will be removed from pandas in a future version. Use pandas.concat instead.\n",
      "  resultados=resultados.append(comprobador(a))\n"
     ]
    },
    {
     "name": "stdout",
     "output_type": "stream",
     "text": [
      "Si está el campo personalizado para la URL 'https://estudiar.universidadeuropea.com/en/international-master-football-coaching-management-landingdual/'\n"
     ]
    },
    {
     "name": "stderr",
     "output_type": "stream",
     "text": [
      "C:\\Users\\9140\\AppData\\Local\\Temp\\ipykernel_12948\\3282100434.py:2: FutureWarning: The frame.append method is deprecated and will be removed from pandas in a future version. Use pandas.concat instead.\n",
      "  resultados=resultados.append(comprobador(a))\n"
     ]
    },
    {
     "name": "stdout",
     "output_type": "stream",
     "text": [
      "No está el campo personalizado para la URL 'https://estudiar.universidadeuropea.com/evento-jornadas-puertas-abiertas-universidad-europea/'\n"
     ]
    },
    {
     "name": "stderr",
     "output_type": "stream",
     "text": [
      "C:\\Users\\9140\\AppData\\Local\\Temp\\ipykernel_12948\\3282100434.py:2: FutureWarning: The frame.append method is deprecated and will be removed from pandas in a future version. Use pandas.concat instead.\n",
      "  resultados=resultados.append(comprobador(a))\n"
     ]
    },
    {
     "name": "stdout",
     "output_type": "stream",
     "text": [
      "Si está el campo personalizado para la URL 'https://estudiar.universidadeuropea.com/en/degree-international-business/'\n"
     ]
    },
    {
     "name": "stderr",
     "output_type": "stream",
     "text": [
      "C:\\Users\\9140\\AppData\\Local\\Temp\\ipykernel_12948\\3282100434.py:2: FutureWarning: The frame.append method is deprecated and will be removed from pandas in a future version. Use pandas.concat instead.\n",
      "  resultados=resultados.append(comprobador(a))\n"
     ]
    },
    {
     "name": "stdout",
     "output_type": "stream",
     "text": [
      "Si está el campo personalizado para la URL 'https://estudiar.universidadeuropea.com/master-universitario-abogacia-valencia/'\n"
     ]
    },
    {
     "name": "stderr",
     "output_type": "stream",
     "text": [
      "C:\\Users\\9140\\AppData\\Local\\Temp\\ipykernel_12948\\3282100434.py:2: FutureWarning: The frame.append method is deprecated and will be removed from pandas in a future version. Use pandas.concat instead.\n",
      "  resultados=resultados.append(comprobador(a))\n"
     ]
    },
    {
     "name": "stdout",
     "output_type": "stream",
     "text": [
      "Si está el campo personalizado para la URL 'https://estudiar.universidadeuropea.com/master-actividad-fisica-y-salud/'\n"
     ]
    },
    {
     "name": "stderr",
     "output_type": "stream",
     "text": [
      "C:\\Users\\9140\\AppData\\Local\\Temp\\ipykernel_12948\\3282100434.py:2: FutureWarning: The frame.append method is deprecated and will be removed from pandas in a future version. Use pandas.concat instead.\n",
      "  resultados=resultados.append(comprobador(a))\n"
     ]
    },
    {
     "name": "stdout",
     "output_type": "stream",
     "text": [
      "Si está el campo personalizado para la URL 'https://estudiar.universidadeuropea.com/master-alto-rendimiento-deportivo-landingdual/'\n"
     ]
    },
    {
     "name": "stderr",
     "output_type": "stream",
     "text": [
      "C:\\Users\\9140\\AppData\\Local\\Temp\\ipykernel_12948\\3282100434.py:2: FutureWarning: The frame.append method is deprecated and will be removed from pandas in a future version. Use pandas.concat instead.\n",
      "  resultados=resultados.append(comprobador(a))\n"
     ]
    },
    {
     "name": "stdout",
     "output_type": "stream",
     "text": [
      "Si está el campo personalizado para la URL 'https://estudiar.universidadeuropea.com/master-big-data-analytics-landingdual/'\n"
     ]
    },
    {
     "name": "stderr",
     "output_type": "stream",
     "text": [
      "C:\\Users\\9140\\AppData\\Local\\Temp\\ipykernel_12948\\3282100434.py:2: FutureWarning: The frame.append method is deprecated and will be removed from pandas in a future version. Use pandas.concat instead.\n",
      "  resultados=resultados.append(comprobador(a))\n"
     ]
    },
    {
     "name": "stdout",
     "output_type": "stream",
     "text": [
      "Si está el campo personalizado para la URL 'https://estudiar.universidadeuropea.com/master-big-data-business-analytics/'\n"
     ]
    },
    {
     "name": "stderr",
     "output_type": "stream",
     "text": [
      "C:\\Users\\9140\\AppData\\Local\\Temp\\ipykernel_12948\\3282100434.py:2: FutureWarning: The frame.append method is deprecated and will be removed from pandas in a future version. Use pandas.concat instead.\n",
      "  resultados=resultados.append(comprobador(a))\n"
     ]
    },
    {
     "name": "stdout",
     "output_type": "stream",
     "text": [
      "Si está el campo personalizado para la URL 'https://estudiar.universidadeuropea.com/master-biologia-tecnologia-reproduccion-humana-asistida/'\n"
     ]
    },
    {
     "name": "stderr",
     "output_type": "stream",
     "text": [
      "C:\\Users\\9140\\AppData\\Local\\Temp\\ipykernel_12948\\3282100434.py:2: FutureWarning: The frame.append method is deprecated and will be removed from pandas in a future version. Use pandas.concat instead.\n",
      "  resultados=resultados.append(comprobador(a))\n"
     ]
    },
    {
     "name": "stdout",
     "output_type": "stream",
     "text": [
      "Si está el campo personalizado para la URL 'https://estudiar.universidadeuropea.com/master-business-analytics-landingdual/'\n"
     ]
    },
    {
     "name": "stderr",
     "output_type": "stream",
     "text": [
      "C:\\Users\\9140\\AppData\\Local\\Temp\\ipykernel_12948\\3282100434.py:2: FutureWarning: The frame.append method is deprecated and will be removed from pandas in a future version. Use pandas.concat instead.\n",
      "  resultados=resultados.append(comprobador(a))\n"
     ]
    },
    {
     "name": "stdout",
     "output_type": "stream",
     "text": [
      "Si está el campo personalizado para la URL 'https://estudiar.universidadeuropea.com/master-clinico-periodoncia-osteointegracion/'\n"
     ]
    },
    {
     "name": "stderr",
     "output_type": "stream",
     "text": [
      "C:\\Users\\9140\\AppData\\Local\\Temp\\ipykernel_12948\\3282100434.py:2: FutureWarning: The frame.append method is deprecated and will be removed from pandas in a future version. Use pandas.concat instead.\n",
      "  resultados=resultados.append(comprobador(a))\n"
     ]
    },
    {
     "name": "stdout",
     "output_type": "stream",
     "text": [
      "Si está el campo personalizado para la URL 'https://estudiar.universidadeuropea.com/master-creacion-gestion-contenidos-audiovisuales/'\n"
     ]
    },
    {
     "name": "stderr",
     "output_type": "stream",
     "text": [
      "C:\\Users\\9140\\AppData\\Local\\Temp\\ipykernel_12948\\3282100434.py:2: FutureWarning: The frame.append method is deprecated and will be removed from pandas in a future version. Use pandas.concat instead.\n",
      "  resultados=resultados.append(comprobador(a))\n"
     ]
    },
    {
     "name": "stdout",
     "output_type": "stream",
     "text": [
      "Si está el campo personalizado para la URL 'https://estudiar.universidadeuropea.com/en/master-degree-in-sports-marketing/'\n"
     ]
    },
    {
     "name": "stderr",
     "output_type": "stream",
     "text": [
      "C:\\Users\\9140\\AppData\\Local\\Temp\\ipykernel_12948\\3282100434.py:2: FutureWarning: The frame.append method is deprecated and will be removed from pandas in a future version. Use pandas.concat instead.\n",
      "  resultados=resultados.append(comprobador(a))\n"
     ]
    },
    {
     "name": "stdout",
     "output_type": "stream",
     "text": [
      "Si está el campo personalizado para la URL 'https://estudiar.universidadeuropea.com/en/master-degree-training-and-nutrition/'\n"
     ]
    },
    {
     "name": "stderr",
     "output_type": "stream",
     "text": [
      "C:\\Users\\9140\\AppData\\Local\\Temp\\ipykernel_12948\\3282100434.py:2: FutureWarning: The frame.append method is deprecated and will be removed from pandas in a future version. Use pandas.concat instead.\n",
      "  resultados=resultados.append(comprobador(a))\n"
     ]
    },
    {
     "name": "stdout",
     "output_type": "stream",
     "text": [
      "Si está el campo personalizado para la URL 'https://estudiar.universidadeuropea.com/master-derecho-deportivo/'\n"
     ]
    },
    {
     "name": "stderr",
     "output_type": "stream",
     "text": [
      "C:\\Users\\9140\\AppData\\Local\\Temp\\ipykernel_12948\\3282100434.py:2: FutureWarning: The frame.append method is deprecated and will be removed from pandas in a future version. Use pandas.concat instead.\n",
      "  resultados=resultados.append(comprobador(a))\n"
     ]
    },
    {
     "name": "stdout",
     "output_type": "stream",
     "text": [
      "Si está el campo personalizado para la URL 'https://estudiar.universidadeuropea.com/master-desarrollo-web-full-stack/'\n"
     ]
    },
    {
     "name": "stderr",
     "output_type": "stream",
     "text": [
      "C:\\Users\\9140\\AppData\\Local\\Temp\\ipykernel_12948\\3282100434.py:2: FutureWarning: The frame.append method is deprecated and will be removed from pandas in a future version. Use pandas.concat instead.\n",
      "  resultados=resultados.append(comprobador(a))\n"
     ]
    },
    {
     "name": "stdout",
     "output_type": "stream",
     "text": [
      "Si está el campo personalizado para la URL 'https://estudiar.universidadeuropea.com/master-universitario-direccion-empresas/'\n"
     ]
    },
    {
     "name": "stderr",
     "output_type": "stream",
     "text": [
      "C:\\Users\\9140\\AppData\\Local\\Temp\\ipykernel_12948\\3282100434.py:2: FutureWarning: The frame.append method is deprecated and will be removed from pandas in a future version. Use pandas.concat instead.\n",
      "  resultados=resultados.append(comprobador(a))\n"
     ]
    },
    {
     "name": "stdout",
     "output_type": "stream",
     "text": [
      "Si está el campo personalizado para la URL 'https://estudiar.universidadeuropea.com/master-direccion-entidades-deportivas/'\n"
     ]
    },
    {
     "name": "stderr",
     "output_type": "stream",
     "text": [
      "C:\\Users\\9140\\AppData\\Local\\Temp\\ipykernel_12948\\3282100434.py:2: FutureWarning: The frame.append method is deprecated and will be removed from pandas in a future version. Use pandas.concat instead.\n",
      "  resultados=resultados.append(comprobador(a))\n"
     ]
    },
    {
     "name": "stdout",
     "output_type": "stream",
     "text": [
      "Si está el campo personalizado para la URL 'https://estudiar.universidadeuropea.com/master-direccion-futbol-landingdual/'\n"
     ]
    },
    {
     "name": "stderr",
     "output_type": "stream",
     "text": [
      "C:\\Users\\9140\\AppData\\Local\\Temp\\ipykernel_12948\\3282100434.py:2: FutureWarning: The frame.append method is deprecated and will be removed from pandas in a future version. Use pandas.concat instead.\n",
      "  resultados=resultados.append(comprobador(a))\n"
     ]
    },
    {
     "name": "stdout",
     "output_type": "stream",
     "text": [
      "Si está el campo personalizado para la URL 'https://estudiar.universidadeuropea.com/master-direccion-recursos-humanos/'\n"
     ]
    },
    {
     "name": "stderr",
     "output_type": "stream",
     "text": [
      "C:\\Users\\9140\\AppData\\Local\\Temp\\ipykernel_12948\\3282100434.py:2: FutureWarning: The frame.append method is deprecated and will be removed from pandas in a future version. Use pandas.concat instead.\n",
      "  resultados=resultados.append(comprobador(a))\n"
     ]
    },
    {
     "name": "stdout",
     "output_type": "stream",
     "text": [
      "Si está el campo personalizado para la URL 'https://estudiar.universidadeuropea.com/master-doblaje-traduccion-subtitulacion/'\n"
     ]
    },
    {
     "name": "stderr",
     "output_type": "stream",
     "text": [
      "C:\\Users\\9140\\AppData\\Local\\Temp\\ipykernel_12948\\3282100434.py:2: FutureWarning: The frame.append method is deprecated and will be removed from pandas in a future version. Use pandas.concat instead.\n",
      "  resultados=resultados.append(comprobador(a))\n"
     ]
    },
    {
     "name": "stdout",
     "output_type": "stream",
     "text": [
      "Si está el campo personalizado para la URL 'https://estudiar.universidadeuropea.com/master-analitica-web/'\n"
     ]
    },
    {
     "name": "stderr",
     "output_type": "stream",
     "text": [
      "C:\\Users\\9140\\AppData\\Local\\Temp\\ipykernel_12948\\3282100434.py:2: FutureWarning: The frame.append method is deprecated and will be removed from pandas in a future version. Use pandas.concat instead.\n",
      "  resultados=resultados.append(comprobador(a))\n"
     ]
    },
    {
     "name": "stdout",
     "output_type": "stream",
     "text": [
      "Si está el campo personalizado para la URL 'https://estudiar.universidadeuropea.com/master-en-blockchain/'\n"
     ]
    },
    {
     "name": "stderr",
     "output_type": "stream",
     "text": [
      "C:\\Users\\9140\\AppData\\Local\\Temp\\ipykernel_12948\\3282100434.py:2: FutureWarning: The frame.append method is deprecated and will be removed from pandas in a future version. Use pandas.concat instead.\n",
      "  resultados=resultados.append(comprobador(a))\n"
     ]
    },
    {
     "name": "stdout",
     "output_type": "stream",
     "text": [
      "Si está el campo personalizado para la URL 'https://estudiar.universidadeuropea.com/master-data-science/'\n"
     ]
    },
    {
     "name": "stderr",
     "output_type": "stream",
     "text": [
      "C:\\Users\\9140\\AppData\\Local\\Temp\\ipykernel_12948\\3282100434.py:2: FutureWarning: The frame.append method is deprecated and will be removed from pandas in a future version. Use pandas.concat instead.\n",
      "  resultados=resultados.append(comprobador(a))\n"
     ]
    },
    {
     "name": "stdout",
     "output_type": "stream",
     "text": [
      "Si está el campo personalizado para la URL 'https://estudiar.universidadeuropea.com/master-endodoncia-odontologia-restauradora/'\n"
     ]
    },
    {
     "name": "stderr",
     "output_type": "stream",
     "text": [
      "C:\\Users\\9140\\AppData\\Local\\Temp\\ipykernel_12948\\3282100434.py:2: FutureWarning: The frame.append method is deprecated and will be removed from pandas in a future version. Use pandas.concat instead.\n",
      "  resultados=resultados.append(comprobador(a))\n"
     ]
    },
    {
     "name": "stdout",
     "output_type": "stream",
     "text": [
      "Si está el campo personalizado para la URL 'https://estudiar.universidadeuropea.com/master-fisioterapia-suelo-pelvico/'\n"
     ]
    },
    {
     "name": "stderr",
     "output_type": "stream",
     "text": [
      "C:\\Users\\9140\\AppData\\Local\\Temp\\ipykernel_12948\\3282100434.py:2: FutureWarning: The frame.append method is deprecated and will be removed from pandas in a future version. Use pandas.concat instead.\n",
      "  resultados=resultados.append(comprobador(a))\n"
     ]
    },
    {
     "name": "stdout",
     "output_type": "stream",
     "text": [
      "No está el campo personalizado para la URL 'https://estudiar.universidadeuropea.com/master-fisioterapia-neurologica/'\n"
     ]
    },
    {
     "name": "stderr",
     "output_type": "stream",
     "text": [
      "C:\\Users\\9140\\AppData\\Local\\Temp\\ipykernel_12948\\3282100434.py:2: FutureWarning: The frame.append method is deprecated and will be removed from pandas in a future version. Use pandas.concat instead.\n",
      "  resultados=resultados.append(comprobador(a))\n"
     ]
    },
    {
     "name": "stdout",
     "output_type": "stream",
     "text": [
      "Si está el campo personalizado para la URL 'https://estudiar.universidadeuropea.com/master-marketing-digital/'\n"
     ]
    },
    {
     "name": "stderr",
     "output_type": "stream",
     "text": [
      "C:\\Users\\9140\\AppData\\Local\\Temp\\ipykernel_12948\\3282100434.py:2: FutureWarning: The frame.append method is deprecated and will be removed from pandas in a future version. Use pandas.concat instead.\n",
      "  resultados=resultados.append(comprobador(a))\n"
     ]
    },
    {
     "name": "stdout",
     "output_type": "stream",
     "text": [
      "Si está el campo personalizado para la URL 'https://estudiar.universidadeuropea.com/master-en-project-management/'\n"
     ]
    },
    {
     "name": "stderr",
     "output_type": "stream",
     "text": [
      "C:\\Users\\9140\\AppData\\Local\\Temp\\ipykernel_12948\\3282100434.py:2: FutureWarning: The frame.append method is deprecated and will be removed from pandas in a future version. Use pandas.concat instead.\n",
      "  resultados=resultados.append(comprobador(a))\n"
     ]
    },
    {
     "name": "stdout",
     "output_type": "stream",
     "text": [
      "Si está el campo personalizado para la URL 'https://estudiar.universidadeuropea.com/master-entrenamiento-readaptacion-deportiva-canarias-semipresencial/'\n"
     ]
    },
    {
     "name": "stderr",
     "output_type": "stream",
     "text": [
      "C:\\Users\\9140\\AppData\\Local\\Temp\\ipykernel_12948\\3282100434.py:2: FutureWarning: The frame.append method is deprecated and will be removed from pandas in a future version. Use pandas.concat instead.\n",
      "  resultados=resultados.append(comprobador(a))\n"
     ]
    },
    {
     "name": "stdout",
     "output_type": "stream",
     "text": [
      "Si está el campo personalizado para la URL 'https://estudiar.universidadeuropea.com/master-entrenamiento-nutricion/'\n"
     ]
    },
    {
     "name": "stderr",
     "output_type": "stream",
     "text": [
      "C:\\Users\\9140\\AppData\\Local\\Temp\\ipykernel_12948\\3282100434.py:2: FutureWarning: The frame.append method is deprecated and will be removed from pandas in a future version. Use pandas.concat instead.\n",
      "  resultados=resultados.append(comprobador(a))\n"
     ]
    },
    {
     "name": "stdout",
     "output_type": "stream",
     "text": [
      "Si está el campo personalizado para la URL 'https://estudiar.universidadeuropea.com/master-en-ux/'\n"
     ]
    },
    {
     "name": "stderr",
     "output_type": "stream",
     "text": [
      "C:\\Users\\9140\\AppData\\Local\\Temp\\ipykernel_12948\\3282100434.py:2: FutureWarning: The frame.append method is deprecated and will be removed from pandas in a future version. Use pandas.concat instead.\n",
      "  resultados=resultados.append(comprobador(a))\n"
     ]
    },
    {
     "name": "stdout",
     "output_type": "stream",
     "text": [
      "Si está el campo personalizado para la URL 'https://estudiar.universidadeuropea.com/masters-cursos-odontologia-uev/'\n"
     ]
    },
    {
     "name": "stderr",
     "output_type": "stream",
     "text": [
      "C:\\Users\\9140\\AppData\\Local\\Temp\\ipykernel_12948\\3282100434.py:2: FutureWarning: The frame.append method is deprecated and will be removed from pandas in a future version. Use pandas.concat instead.\n",
      "  resultados=resultados.append(comprobador(a))\n"
     ]
    },
    {
     "name": "stdout",
     "output_type": "stream",
     "text": [
      "Si está el campo personalizado para la URL 'https://estudiar.universidadeuropea.com/masters-postgrados-arquitectura/'\n"
     ]
    },
    {
     "name": "stderr",
     "output_type": "stream",
     "text": [
      "C:\\Users\\9140\\AppData\\Local\\Temp\\ipykernel_12948\\3282100434.py:2: FutureWarning: The frame.append method is deprecated and will be removed from pandas in a future version. Use pandas.concat instead.\n",
      "  resultados=resultados.append(comprobador(a))\n"
     ]
    },
    {
     "name": "stdout",
     "output_type": "stream",
     "text": [
      "Si está el campo personalizado para la URL 'https://estudiar.universidadeuropea.com/masters-postgrados-comunicacion/'\n"
     ]
    },
    {
     "name": "stderr",
     "output_type": "stream",
     "text": [
      "C:\\Users\\9140\\AppData\\Local\\Temp\\ipykernel_12948\\3282100434.py:2: FutureWarning: The frame.append method is deprecated and will be removed from pandas in a future version. Use pandas.concat instead.\n",
      "  resultados=resultados.append(comprobador(a))\n"
     ]
    },
    {
     "name": "stdout",
     "output_type": "stream",
     "text": [
      "Si está el campo personalizado para la URL 'https://estudiar.universidadeuropea.com/masters-postgrados-empresa-tecnologia/'\n"
     ]
    },
    {
     "name": "stderr",
     "output_type": "stream",
     "text": [
      "C:\\Users\\9140\\AppData\\Local\\Temp\\ipykernel_12948\\3282100434.py:2: FutureWarning: The frame.append method is deprecated and will be removed from pandas in a future version. Use pandas.concat instead.\n",
      "  resultados=resultados.append(comprobador(a))\n"
     ]
    },
    {
     "name": "stdout",
     "output_type": "stream",
     "text": [
      "Si está el campo personalizado para la URL 'https://estudiar.universidadeuropea.com/masters-postgrados-fisioterapia/'\n"
     ]
    },
    {
     "name": "stderr",
     "output_type": "stream",
     "text": [
      "C:\\Users\\9140\\AppData\\Local\\Temp\\ipykernel_12948\\3282100434.py:2: FutureWarning: The frame.append method is deprecated and will be removed from pandas in a future version. Use pandas.concat instead.\n",
      "  resultados=resultados.append(comprobador(a))\n"
     ]
    },
    {
     "name": "stdout",
     "output_type": "stream",
     "text": [
      "No está el campo personalizado para la URL 'https://estudiar.universidadeuropea.com/masters-postgrados-marketing/'\n"
     ]
    },
    {
     "name": "stderr",
     "output_type": "stream",
     "text": [
      "C:\\Users\\9140\\AppData\\Local\\Temp\\ipykernel_12948\\3282100434.py:2: FutureWarning: The frame.append method is deprecated and will be removed from pandas in a future version. Use pandas.concat instead.\n",
      "  resultados=resultados.append(comprobador(a))\n"
     ]
    },
    {
     "name": "stdout",
     "output_type": "stream",
     "text": [
      "Si está el campo personalizado para la URL 'https://estudiar.universidadeuropea.com/master-estetica-dental/'\n"
     ]
    },
    {
     "name": "stderr",
     "output_type": "stream",
     "text": [
      "C:\\Users\\9140\\AppData\\Local\\Temp\\ipykernel_12948\\3282100434.py:2: FutureWarning: The frame.append method is deprecated and will be removed from pandas in a future version. Use pandas.concat instead.\n",
      "  resultados=resultados.append(comprobador(a))\n"
     ]
    },
    {
     "name": "stdout",
     "output_type": "stream",
     "text": [
      "Si está el campo personalizado para la URL 'https://estudiar.universidadeuropea.com/masters-postgrados/'\n"
     ]
    },
    {
     "name": "stderr",
     "output_type": "stream",
     "text": [
      "C:\\Users\\9140\\AppData\\Local\\Temp\\ipykernel_12948\\3282100434.py:2: FutureWarning: The frame.append method is deprecated and will be removed from pandas in a future version. Use pandas.concat instead.\n",
      "  resultados=resultados.append(comprobador(a))\n"
     ]
    },
    {
     "name": "stdout",
     "output_type": "stream",
     "text": [
      "Si está el campo personalizado para la URL 'https://estudiar.universidadeuropea.com/masters-postgrados-derecho/'\n"
     ]
    },
    {
     "name": "stderr",
     "output_type": "stream",
     "text": [
      "C:\\Users\\9140\\AppData\\Local\\Temp\\ipykernel_12948\\3282100434.py:2: FutureWarning: The frame.append method is deprecated and will be removed from pandas in a future version. Use pandas.concat instead.\n",
      "  resultados=resultados.append(comprobador(a))\n"
     ]
    },
    {
     "name": "stdout",
     "output_type": "stream",
     "text": [
      "Si está el campo personalizado para la URL 'https://estudiar.universidadeuropea.com/masters-postgrados-salud/'\n"
     ]
    },
    {
     "name": "stderr",
     "output_type": "stream",
     "text": [
      "C:\\Users\\9140\\AppData\\Local\\Temp\\ipykernel_12948\\3282100434.py:2: FutureWarning: The frame.append method is deprecated and will be removed from pandas in a future version. Use pandas.concat instead.\n",
      "  resultados=resultados.append(comprobador(a))\n"
     ]
    },
    {
     "name": "stdout",
     "output_type": "stream",
     "text": [
      "Si está el campo personalizado para la URL 'https://estudiar.universidadeuropea.com/master-fisioterapia-deportiva/'\n"
     ]
    },
    {
     "name": "stderr",
     "output_type": "stream",
     "text": [
      "C:\\Users\\9140\\AppData\\Local\\Temp\\ipykernel_12948\\3282100434.py:2: FutureWarning: The frame.append method is deprecated and will be removed from pandas in a future version. Use pandas.concat instead.\n",
      "  resultados=resultados.append(comprobador(a))\n"
     ]
    },
    {
     "name": "stdout",
     "output_type": "stream",
     "text": [
      "Si está el campo personalizado para la URL 'https://estudiar.universidadeuropea.com/master-fisioterapia-respiratoria/'\n"
     ]
    },
    {
     "name": "stderr",
     "output_type": "stream",
     "text": [
      "C:\\Users\\9140\\AppData\\Local\\Temp\\ipykernel_12948\\3282100434.py:2: FutureWarning: The frame.append method is deprecated and will be removed from pandas in a future version. Use pandas.concat instead.\n",
      "  resultados=resultados.append(comprobador(a))\n"
     ]
    },
    {
     "name": "stdout",
     "output_type": "stream",
     "text": [
      "Si está el campo personalizado para la URL 'https://estudiar.universidadeuropea.com/master-recursos-humanos-valencia/'\n"
     ]
    },
    {
     "name": "stderr",
     "output_type": "stream",
     "text": [
      "C:\\Users\\9140\\AppData\\Local\\Temp\\ipykernel_12948\\3282100434.py:2: FutureWarning: The frame.append method is deprecated and will be removed from pandas in a future version. Use pandas.concat instead.\n",
      "  resultados=resultados.append(comprobador(a))\n"
     ]
    },
    {
     "name": "stdout",
     "output_type": "stream",
     "text": [
      "Si está el campo personalizado para la URL 'https://estudiar.universidadeuropea.com/master-gestion-proyectos-bim-manager-landingdual/'\n"
     ]
    },
    {
     "name": "stderr",
     "output_type": "stream",
     "text": [
      "C:\\Users\\9140\\AppData\\Local\\Temp\\ipykernel_12948\\3282100434.py:2: FutureWarning: The frame.append method is deprecated and will be removed from pandas in a future version. Use pandas.concat instead.\n",
      "  resultados=resultados.append(comprobador(a))\n"
     ]
    },
    {
     "name": "stdout",
     "output_type": "stream",
     "text": [
      "Si está el campo personalizado para la URL 'https://estudiar.universidadeuropea.com/master-industria-transformacion-estrategia-digital-landingdual/'\n"
     ]
    },
    {
     "name": "stderr",
     "output_type": "stream",
     "text": [
      "C:\\Users\\9140\\AppData\\Local\\Temp\\ipykernel_12948\\3282100434.py:2: FutureWarning: The frame.append method is deprecated and will be removed from pandas in a future version. Use pandas.concat instead.\n",
      "  resultados=resultados.append(comprobador(a))\n"
     ]
    },
    {
     "name": "stdout",
     "output_type": "stream",
     "text": [
      "Si está el campo personalizado para la URL 'https://estudiar.universidadeuropea.com/master-international-leadership-negotiation-valencia/'\n"
     ]
    },
    {
     "name": "stderr",
     "output_type": "stream",
     "text": [
      "C:\\Users\\9140\\AppData\\Local\\Temp\\ipykernel_12948\\3282100434.py:2: FutureWarning: The frame.append method is deprecated and will be removed from pandas in a future version. Use pandas.concat instead.\n",
      "  resultados=resultados.append(comprobador(a))\n"
     ]
    },
    {
     "name": "stdout",
     "output_type": "stream",
     "text": [
      "Si está el campo personalizado para la URL 'https://estudiar.universidadeuropea.com/master-manejo-arritmias-cardiacas/'\n"
     ]
    },
    {
     "name": "stderr",
     "output_type": "stream",
     "text": [
      "C:\\Users\\9140\\AppData\\Local\\Temp\\ipykernel_12948\\3282100434.py:2: FutureWarning: The frame.append method is deprecated and will be removed from pandas in a future version. Use pandas.concat instead.\n",
      "  resultados=resultados.append(comprobador(a))\n"
     ]
    },
    {
     "name": "stdout",
     "output_type": "stream",
     "text": [
      "Si está el campo personalizado para la URL 'https://estudiar.universidadeuropea.com/master-marketing-digital-y-big-data/'\n"
     ]
    },
    {
     "name": "stderr",
     "output_type": "stream",
     "text": [
      "C:\\Users\\9140\\AppData\\Local\\Temp\\ipykernel_12948\\3282100434.py:2: FutureWarning: The frame.append method is deprecated and will be removed from pandas in a future version. Use pandas.concat instead.\n",
      "  resultados=resultados.append(comprobador(a))\n"
     ]
    },
    {
     "name": "stdout",
     "output_type": "stream",
     "text": [
      "Si está el campo personalizado para la URL 'https://estudiar.universidadeuropea.com/master-nutricion-deportiva/'\n"
     ]
    },
    {
     "name": "stderr",
     "output_type": "stream",
     "text": [
      "C:\\Users\\9140\\AppData\\Local\\Temp\\ipykernel_12948\\3282100434.py:2: FutureWarning: The frame.append method is deprecated and will be removed from pandas in a future version. Use pandas.concat instead.\n",
      "  resultados=resultados.append(comprobador(a))\n"
     ]
    },
    {
     "name": "stdout",
     "output_type": "stream",
     "text": [
      "Si está el campo personalizado para la URL 'https://estudiar.universidadeuropea.com/master-direccion-centros-docentes-valencia/'\n"
     ]
    },
    {
     "name": "stderr",
     "output_type": "stream",
     "text": [
      "C:\\Users\\9140\\AppData\\Local\\Temp\\ipykernel_12948\\3282100434.py:2: FutureWarning: The frame.append method is deprecated and will be removed from pandas in a future version. Use pandas.concat instead.\n",
      "  resultados=resultados.append(comprobador(a))\n"
     ]
    },
    {
     "name": "stdout",
     "output_type": "stream",
     "text": [
      "Si está el campo personalizado para la URL 'https://estudiar.universidadeuropea.com/master-psicologia-deportiva/'\n"
     ]
    },
    {
     "name": "stderr",
     "output_type": "stream",
     "text": [
      "C:\\Users\\9140\\AppData\\Local\\Temp\\ipykernel_12948\\3282100434.py:2: FutureWarning: The frame.append method is deprecated and will be removed from pandas in a future version. Use pandas.concat instead.\n",
      "  resultados=resultados.append(comprobador(a))\n"
     ]
    },
    {
     "name": "stdout",
     "output_type": "stream",
     "text": [
      "Si está el campo personalizado para la URL 'https://estudiar.universidadeuropea.com/master-psicologia-general-sanitaria/'\n"
     ]
    },
    {
     "name": "stderr",
     "output_type": "stream",
     "text": [
      "C:\\Users\\9140\\AppData\\Local\\Temp\\ipykernel_12948\\3282100434.py:2: FutureWarning: The frame.append method is deprecated and will be removed from pandas in a future version. Use pandas.concat instead.\n",
      "  resultados=resultados.append(comprobador(a))\n"
     ]
    },
    {
     "name": "stdout",
     "output_type": "stream",
     "text": [
      "Si está el campo personalizado para la URL 'https://estudiar.universidadeuropea.com/master-psicologia-general-sanitaria-valencia/'\n"
     ]
    },
    {
     "name": "stderr",
     "output_type": "stream",
     "text": [
      "C:\\Users\\9140\\AppData\\Local\\Temp\\ipykernel_12948\\3282100434.py:2: FutureWarning: The frame.append method is deprecated and will be removed from pandas in a future version. Use pandas.concat instead.\n",
      "  resultados=resultados.append(comprobador(a))\n"
     ]
    },
    {
     "name": "stdout",
     "output_type": "stream",
     "text": [
      "Si está el campo personalizado para la URL 'https://estudiar.universidadeuropea.com/master-responsabilidad-social-corporativa-sostenibilidad/'\n"
     ]
    },
    {
     "name": "stderr",
     "output_type": "stream",
     "text": [
      "C:\\Users\\9140\\AppData\\Local\\Temp\\ipykernel_12948\\3282100434.py:2: FutureWarning: The frame.append method is deprecated and will be removed from pandas in a future version. Use pandas.concat instead.\n",
      "  resultados=resultados.append(comprobador(a))\n"
     ]
    },
    {
     "name": "stdout",
     "output_type": "stream",
     "text": [
      "Si está el campo personalizado para la URL 'https://estudiar.universidadeuropea.com/en/masters-degree-in-sports-communications-and-journalism/'\n"
     ]
    },
    {
     "name": "stderr",
     "output_type": "stream",
     "text": [
      "C:\\Users\\9140\\AppData\\Local\\Temp\\ipykernel_12948\\3282100434.py:2: FutureWarning: The frame.append method is deprecated and will be removed from pandas in a future version. Use pandas.concat instead.\n",
      "  resultados=resultados.append(comprobador(a))\n"
     ]
    },
    {
     "name": "stdout",
     "output_type": "stream",
     "text": [
      "Si está el campo personalizado para la URL 'https://estudiar.universidadeuropea.com/en/master-degree-sports-marketing-landingdual/'\n"
     ]
    },
    {
     "name": "stderr",
     "output_type": "stream",
     "text": [
      "C:\\Users\\9140\\AppData\\Local\\Temp\\ipykernel_12948\\3282100434.py:2: FutureWarning: The frame.append method is deprecated and will be removed from pandas in a future version. Use pandas.concat instead.\n",
      "  resultados=resultados.append(comprobador(a))\n"
     ]
    },
    {
     "name": "stdout",
     "output_type": "stream",
     "text": [
      "Si está el campo personalizado para la URL 'https://estudiar.universidadeuropea.com/master-seguridad-tecnologias-informacion/'\n"
     ]
    },
    {
     "name": "stderr",
     "output_type": "stream",
     "text": [
      "C:\\Users\\9140\\AppData\\Local\\Temp\\ipykernel_12948\\3282100434.py:2: FutureWarning: The frame.append method is deprecated and will be removed from pandas in a future version. Use pandas.concat instead.\n",
      "  resultados=resultados.append(comprobador(a))\n"
     ]
    },
    {
     "name": "stdout",
     "output_type": "stream",
     "text": [
      "Si está el campo personalizado para la URL 'https://estudiar.universidadeuropea.com/en/master-sport-law/'\n"
     ]
    },
    {
     "name": "stderr",
     "output_type": "stream",
     "text": [
      "C:\\Users\\9140\\AppData\\Local\\Temp\\ipykernel_12948\\3282100434.py:2: FutureWarning: The frame.append method is deprecated and will be removed from pandas in a future version. Use pandas.concat instead.\n",
      "  resultados=resultados.append(comprobador(a))\n"
     ]
    },
    {
     "name": "stdout",
     "output_type": "stream",
     "text": [
      "Si está el campo personalizado para la URL 'https://estudiar.universidadeuropea.com/en/master-sports-physiotherapy/'\n"
     ]
    },
    {
     "name": "stderr",
     "output_type": "stream",
     "text": [
      "C:\\Users\\9140\\AppData\\Local\\Temp\\ipykernel_12948\\3282100434.py:2: FutureWarning: The frame.append method is deprecated and will be removed from pandas in a future version. Use pandas.concat instead.\n",
      "  resultados=resultados.append(comprobador(a))\n"
     ]
    },
    {
     "name": "stdout",
     "output_type": "stream",
     "text": [
      "Si está el campo personalizado para la URL 'https://estudiar.universidadeuropea.com/en/master-sports-technologies/'\n"
     ]
    },
    {
     "name": "stderr",
     "output_type": "stream",
     "text": [
      "C:\\Users\\9140\\AppData\\Local\\Temp\\ipykernel_12948\\3282100434.py:2: FutureWarning: The frame.append method is deprecated and will be removed from pandas in a future version. Use pandas.concat instead.\n",
      "  resultados=resultados.append(comprobador(a))\n"
     ]
    },
    {
     "name": "stdout",
     "output_type": "stream",
     "text": [
      "Si está el campo personalizado para la URL 'https://estudiar.universidadeuropea.com/master-terapia-manual-ortopedica/'\n"
     ]
    },
    {
     "name": "stderr",
     "output_type": "stream",
     "text": [
      "C:\\Users\\9140\\AppData\\Local\\Temp\\ipykernel_12948\\3282100434.py:2: FutureWarning: The frame.append method is deprecated and will be removed from pandas in a future version. Use pandas.concat instead.\n",
      "  resultados=resultados.append(comprobador(a))\n"
     ]
    },
    {
     "name": "stdout",
     "output_type": "stream",
     "text": [
      "Si está el campo personalizado para la URL 'https://estudiar.universidadeuropea.com/master-universitario-transicion-energetica-renovable/'\n"
     ]
    },
    {
     "name": "stderr",
     "output_type": "stream",
     "text": [
      "C:\\Users\\9140\\AppData\\Local\\Temp\\ipykernel_12948\\3282100434.py:2: FutureWarning: The frame.append method is deprecated and will be removed from pandas in a future version. Use pandas.concat instead.\n",
      "  resultados=resultados.append(comprobador(a))\n"
     ]
    },
    {
     "name": "stdout",
     "output_type": "stream",
     "text": [
      "Si está el campo personalizado para la URL 'https://estudiar.universidadeuropea.com/master-universitario-abogacia/'\n"
     ]
    },
    {
     "name": "stderr",
     "output_type": "stream",
     "text": [
      "C:\\Users\\9140\\AppData\\Local\\Temp\\ipykernel_12948\\3282100434.py:2: FutureWarning: The frame.append method is deprecated and will be removed from pandas in a future version. Use pandas.concat instead.\n",
      "  resultados=resultados.append(comprobador(a))\n"
     ]
    },
    {
     "name": "stdout",
     "output_type": "stream",
     "text": [
      "Si está el campo personalizado para la URL 'https://estudiar.universidadeuropea.com/master-universitario-abogacia-landingdual/'\n"
     ]
    },
    {
     "name": "stderr",
     "output_type": "stream",
     "text": [
      "C:\\Users\\9140\\AppData\\Local\\Temp\\ipykernel_12948\\3282100434.py:2: FutureWarning: The frame.append method is deprecated and will be removed from pandas in a future version. Use pandas.concat instead.\n",
      "  resultados=resultados.append(comprobador(a))\n"
     ]
    },
    {
     "name": "stdout",
     "output_type": "stream",
     "text": [
      "Si está el campo personalizado para la URL 'https://estudiar.universidadeuropea.com/master-universitario-aeronautica/'\n"
     ]
    },
    {
     "name": "stderr",
     "output_type": "stream",
     "text": [
      "C:\\Users\\9140\\AppData\\Local\\Temp\\ipykernel_12948\\3282100434.py:2: FutureWarning: The frame.append method is deprecated and will be removed from pandas in a future version. Use pandas.concat instead.\n",
      "  resultados=resultados.append(comprobador(a))\n"
     ]
    },
    {
     "name": "stdout",
     "output_type": "stream",
     "text": [
      "Si está el campo personalizado para la URL 'https://estudiar.universidadeuropea.com/master-universitario-arquitectura/'\n"
     ]
    },
    {
     "name": "stderr",
     "output_type": "stream",
     "text": [
      "C:\\Users\\9140\\AppData\\Local\\Temp\\ipykernel_12948\\3282100434.py:2: FutureWarning: The frame.append method is deprecated and will be removed from pandas in a future version. Use pandas.concat instead.\n",
      "  resultados=resultados.append(comprobador(a))\n"
     ]
    },
    {
     "name": "stdout",
     "output_type": "stream",
     "text": [
      "Si está el campo personalizado para la URL 'https://estudiar.universidadeuropea.com/master-universitario-big-data-analytics/'\n"
     ]
    },
    {
     "name": "stderr",
     "output_type": "stream",
     "text": [
      "C:\\Users\\9140\\AppData\\Local\\Temp\\ipykernel_12948\\3282100434.py:2: FutureWarning: The frame.append method is deprecated and will be removed from pandas in a future version. Use pandas.concat instead.\n",
      "  resultados=resultados.append(comprobador(a))\n"
     ]
    },
    {
     "name": "stdout",
     "output_type": "stream",
     "text": [
      "Si está el campo personalizado para la URL 'https://estudiar.universidadeuropea.com/master-universitario-caminos/'\n"
     ]
    },
    {
     "name": "stderr",
     "output_type": "stream",
     "text": [
      "C:\\Users\\9140\\AppData\\Local\\Temp\\ipykernel_12948\\3282100434.py:2: FutureWarning: The frame.append method is deprecated and will be removed from pandas in a future version. Use pandas.concat instead.\n",
      "  resultados=resultados.append(comprobador(a))\n"
     ]
    },
    {
     "name": "stdout",
     "output_type": "stream",
     "text": [
      "Si está el campo personalizado para la URL 'https://estudiar.universidadeuropea.com/master-universitario-cirugia-implantologia-bucal-avanzada/'\n"
     ]
    },
    {
     "name": "stderr",
     "output_type": "stream",
     "text": [
      "C:\\Users\\9140\\AppData\\Local\\Temp\\ipykernel_12948\\3282100434.py:2: FutureWarning: The frame.append method is deprecated and will be removed from pandas in a future version. Use pandas.concat instead.\n",
      "  resultados=resultados.append(comprobador(a))\n"
     ]
    },
    {
     "name": "stdout",
     "output_type": "stream",
     "text": [
      "Si está el campo personalizado para la URL 'https://estudiar.universidadeuropea.com/master-universitario-comercio-relaciones-internacionales/'\n"
     ]
    },
    {
     "name": "stderr",
     "output_type": "stream",
     "text": [
      "C:\\Users\\9140\\AppData\\Local\\Temp\\ipykernel_12948\\3282100434.py:2: FutureWarning: The frame.append method is deprecated and will be removed from pandas in a future version. Use pandas.concat instead.\n",
      "  resultados=resultados.append(comprobador(a))\n"
     ]
    },
    {
     "name": "stdout",
     "output_type": "stream",
     "text": [
      "Si está el campo personalizado para la URL 'https://estudiar.universidadeuropea.com/master-universitario-comunicacion-periodismo-deportivo/'\n"
     ]
    },
    {
     "name": "stderr",
     "output_type": "stream",
     "text": [
      "C:\\Users\\9140\\AppData\\Local\\Temp\\ipykernel_12948\\3282100434.py:2: FutureWarning: The frame.append method is deprecated and will be removed from pandas in a future version. Use pandas.concat instead.\n",
      "  resultados=resultados.append(comprobador(a))\n"
     ]
    },
    {
     "name": "stdout",
     "output_type": "stream",
     "text": [
      "Si está el campo personalizado para la URL 'https://estudiar.universidadeuropea.com/master-universitario-direccion-comunicacion-asuntos-publicos/'\n"
     ]
    },
    {
     "name": "stderr",
     "output_type": "stream",
     "text": [
      "C:\\Users\\9140\\AppData\\Local\\Temp\\ipykernel_12948\\3282100434.py:2: FutureWarning: The frame.append method is deprecated and will be removed from pandas in a future version. Use pandas.concat instead.\n",
      "  resultados=resultados.append(comprobador(a))\n"
     ]
    },
    {
     "name": "stdout",
     "output_type": "stream",
     "text": [
      "Si está el campo personalizado para la URL 'https://estudiar.universidadeuropea.com/master-universitario-direccion-empresas-mba/'\n"
     ]
    },
    {
     "name": "stderr",
     "output_type": "stream",
     "text": [
      "C:\\Users\\9140\\AppData\\Local\\Temp\\ipykernel_12948\\3282100434.py:2: FutureWarning: The frame.append method is deprecated and will be removed from pandas in a future version. Use pandas.concat instead.\n",
      "  resultados=resultados.append(comprobador(a))\n"
     ]
    },
    {
     "name": "stdout",
     "output_type": "stream",
     "text": [
      "Si está el campo personalizado para la URL 'https://estudiar.universidadeuropea.com/master-universitario-direccion-gestion-recursos-humanos-landingdual/'\n"
     ]
    },
    {
     "name": "stderr",
     "output_type": "stream",
     "text": [
      "C:\\Users\\9140\\AppData\\Local\\Temp\\ipykernel_12948\\3282100434.py:2: FutureWarning: The frame.append method is deprecated and will be removed from pandas in a future version. Use pandas.concat instead.\n",
      "  resultados=resultados.append(comprobador(a))\n"
     ]
    },
    {
     "name": "stdout",
     "output_type": "stream",
     "text": [
      "No está el campo personalizado para la URL 'https://estudiar.universidadeuropea.com/master-educacion-bilingue-madrid-semipresencial/\n",
      "\n",
      "'\n"
     ]
    },
    {
     "name": "stderr",
     "output_type": "stream",
     "text": [
      "C:\\Users\\9140\\AppData\\Local\\Temp\\ipykernel_12948\\3282100434.py:2: FutureWarning: The frame.append method is deprecated and will be removed from pandas in a future version. Use pandas.concat instead.\n",
      "  resultados=resultados.append(comprobador(a))\n"
     ]
    },
    {
     "name": "stdout",
     "output_type": "stream",
     "text": [
      "Si está el campo personalizado para la URL 'https://estudiar.universidadeuropea.com/master-universitario-en-direccion-de-empresas-landingdual/'\n"
     ]
    },
    {
     "name": "stderr",
     "output_type": "stream",
     "text": [
      "C:\\Users\\9140\\AppData\\Local\\Temp\\ipykernel_12948\\3282100434.py:2: FutureWarning: The frame.append method is deprecated and will be removed from pandas in a future version. Use pandas.concat instead.\n",
      "  resultados=resultados.append(comprobador(a))\n"
     ]
    },
    {
     "name": "stdout",
     "output_type": "stream",
     "text": [
      "Si está el campo personalizado para la URL 'https://estudiar.universidadeuropea.com/master-universitario-endodoncia-avanzada/'\n"
     ]
    },
    {
     "name": "stderr",
     "output_type": "stream",
     "text": [
      "C:\\Users\\9140\\AppData\\Local\\Temp\\ipykernel_12948\\3282100434.py:2: FutureWarning: The frame.append method is deprecated and will be removed from pandas in a future version. Use pandas.concat instead.\n",
      "  resultados=resultados.append(comprobador(a))\n"
     ]
    },
    {
     "name": "stdout",
     "output_type": "stream",
     "text": [
      "Si está el campo personalizado para la URL 'https://estudiar.universidadeuropea.com/master-enfermeria-oncologica-valencia/'\n"
     ]
    },
    {
     "name": "stderr",
     "output_type": "stream",
     "text": [
      "C:\\Users\\9140\\AppData\\Local\\Temp\\ipykernel_12948\\3282100434.py:2: FutureWarning: The frame.append method is deprecated and will be removed from pandas in a future version. Use pandas.concat instead.\n",
      "  resultados=resultados.append(comprobador(a))\n"
     ]
    },
    {
     "name": "stdout",
     "output_type": "stream",
     "text": [
      "Si está el campo personalizado para la URL 'https://estudiar.universidadeuropea.com/master-universitario-en-logistica-landingdual/'\n"
     ]
    },
    {
     "name": "stderr",
     "output_type": "stream",
     "text": [
      "C:\\Users\\9140\\AppData\\Local\\Temp\\ipykernel_12948\\3282100434.py:2: FutureWarning: The frame.append method is deprecated and will be removed from pandas in a future version. Use pandas.concat instead.\n",
      "  resultados=resultados.append(comprobador(a))\n"
     ]
    },
    {
     "name": "stdout",
     "output_type": "stream",
     "text": [
      "Si está el campo personalizado para la URL 'https://estudiar.universidadeuropea.com/master-universitario-marketing/'\n"
     ]
    },
    {
     "name": "stderr",
     "output_type": "stream",
     "text": [
      "C:\\Users\\9140\\AppData\\Local\\Temp\\ipykernel_12948\\3282100434.py:2: FutureWarning: The frame.append method is deprecated and will be removed from pandas in a future version. Use pandas.concat instead.\n",
      "  resultados=resultados.append(comprobador(a))\n"
     ]
    },
    {
     "name": "stdout",
     "output_type": "stream",
     "text": [
      "Si está el campo personalizado para la URL 'https://estudiar.universidadeuropea.com/master-universitario-fisioterapia-neurologica/'\n"
     ]
    },
    {
     "name": "stderr",
     "output_type": "stream",
     "text": [
      "C:\\Users\\9140\\AppData\\Local\\Temp\\ipykernel_12948\\3282100434.py:2: FutureWarning: The frame.append method is deprecated and will be removed from pandas in a future version. Use pandas.concat instead.\n",
      "  resultados=resultados.append(comprobador(a))\n"
     ]
    },
    {
     "name": "stdout",
     "output_type": "stream",
     "text": [
      "Si está el campo personalizado para la URL 'https://estudiar.universidadeuropea.com/master-universitario-gestion-internacional-edificacion-construccion-landingdual/'\n"
     ]
    },
    {
     "name": "stderr",
     "output_type": "stream",
     "text": [
      "C:\\Users\\9140\\AppData\\Local\\Temp\\ipykernel_12948\\3282100434.py:2: FutureWarning: The frame.append method is deprecated and will be removed from pandas in a future version. Use pandas.concat instead.\n",
      "  resultados=resultados.append(comprobador(a))\n"
     ]
    },
    {
     "name": "stdout",
     "output_type": "stream",
     "text": [
      "Si está el campo personalizado para la URL 'https://estudiar.universidadeuropea.com/master-universitario-gestion-internacional-edificacion-construccion-mba/'\n"
     ]
    },
    {
     "name": "stderr",
     "output_type": "stream",
     "text": [
      "C:\\Users\\9140\\AppData\\Local\\Temp\\ipykernel_12948\\3282100434.py:2: FutureWarning: The frame.append method is deprecated and will be removed from pandas in a future version. Use pandas.concat instead.\n",
      "  resultados=resultados.append(comprobador(a))\n"
     ]
    },
    {
     "name": "stdout",
     "output_type": "stream",
     "text": [
      "Si está el campo personalizado para la URL 'https://estudiar.universidadeuropea.com/master-negocio-derecho-maritimo-valencia/'\n"
     ]
    },
    {
     "name": "stderr",
     "output_type": "stream",
     "text": [
      "C:\\Users\\9140\\AppData\\Local\\Temp\\ipykernel_12948\\3282100434.py:2: FutureWarning: The frame.append method is deprecated and will be removed from pandas in a future version. Use pandas.concat instead.\n",
      "  resultados=resultados.append(comprobador(a))\n"
     ]
    },
    {
     "name": "stdout",
     "output_type": "stream",
     "text": [
      "Si está el campo personalizado para la URL 'https://estudiar.universidadeuropea.com/master-universitario-industria-40/'\n"
     ]
    },
    {
     "name": "stderr",
     "output_type": "stream",
     "text": [
      "C:\\Users\\9140\\AppData\\Local\\Temp\\ipykernel_12948\\3282100434.py:2: FutureWarning: The frame.append method is deprecated and will be removed from pandas in a future version. Use pandas.concat instead.\n",
      "  resultados=resultados.append(comprobador(a))\n"
     ]
    },
    {
     "name": "stdout",
     "output_type": "stream",
     "text": [
      "Si está el campo personalizado para la URL 'https://estudiar.universidadeuropea.com/master-universitario-ingenieria-automocion/'\n"
     ]
    },
    {
     "name": "stderr",
     "output_type": "stream",
     "text": [
      "C:\\Users\\9140\\AppData\\Local\\Temp\\ipykernel_12948\\3282100434.py:2: FutureWarning: The frame.append method is deprecated and will be removed from pandas in a future version. Use pandas.concat instead.\n",
      "  resultados=resultados.append(comprobador(a))\n"
     ]
    },
    {
     "name": "stdout",
     "output_type": "stream",
     "text": [
      "Si está el campo personalizado para la URL 'https://estudiar.universidadeuropea.com/master-universitario-ingenieria-industrial/'\n"
     ]
    },
    {
     "name": "stderr",
     "output_type": "stream",
     "text": [
      "C:\\Users\\9140\\AppData\\Local\\Temp\\ipykernel_12948\\3282100434.py:2: FutureWarning: The frame.append method is deprecated and will be removed from pandas in a future version. Use pandas.concat instead.\n",
      "  resultados=resultados.append(comprobador(a))\n"
     ]
    },
    {
     "name": "stdout",
     "output_type": "stream",
     "text": [
      "Si está el campo personalizado para la URL 'https://estudiar.universidadeuropea.com/master-universitario-ingenieria-organizacion/'\n"
     ]
    },
    {
     "name": "stderr",
     "output_type": "stream",
     "text": [
      "C:\\Users\\9140\\AppData\\Local\\Temp\\ipykernel_12948\\3282100434.py:2: FutureWarning: The frame.append method is deprecated and will be removed from pandas in a future version. Use pandas.concat instead.\n",
      "  resultados=resultados.append(comprobador(a))\n"
     ]
    },
    {
     "name": "stdout",
     "output_type": "stream",
     "text": [
      "Si está el campo personalizado para la URL 'https://estudiar.universidadeuropea.com/master-universitario-inteligencia-artificial-landingdual/'\n"
     ]
    },
    {
     "name": "stderr",
     "output_type": "stream",
     "text": [
      "C:\\Users\\9140\\AppData\\Local\\Temp\\ipykernel_12948\\3282100434.py:2: FutureWarning: The frame.append method is deprecated and will be removed from pandas in a future version. Use pandas.concat instead.\n",
      "  resultados=resultados.append(comprobador(a))\n"
     ]
    },
    {
     "name": "stdout",
     "output_type": "stream",
     "text": [
      "Si está el campo personalizado para la URL 'https://estudiar.universidadeuropea.com/master-universitario-logistica/'\n"
     ]
    },
    {
     "name": "stderr",
     "output_type": "stream",
     "text": [
      "C:\\Users\\9140\\AppData\\Local\\Temp\\ipykernel_12948\\3282100434.py:2: FutureWarning: The frame.append method is deprecated and will be removed from pandas in a future version. Use pandas.concat instead.\n",
      "  resultados=resultados.append(comprobador(a))\n"
     ]
    },
    {
     "name": "stdout",
     "output_type": "stream",
     "text": [
      "Si está el campo personalizado para la URL 'https://estudiar.universidadeuropea.com/master-universitario-marketing-deportivo/'\n"
     ]
    },
    {
     "name": "stderr",
     "output_type": "stream",
     "text": [
      "C:\\Users\\9140\\AppData\\Local\\Temp\\ipykernel_12948\\3282100434.py:2: FutureWarning: The frame.append method is deprecated and will be removed from pandas in a future version. Use pandas.concat instead.\n",
      "  resultados=resultados.append(comprobador(a))\n"
     ]
    },
    {
     "name": "stdout",
     "output_type": "stream",
     "text": [
      "Si está el campo personalizado para la URL 'https://estudiar.universidadeuropea.com/master-universitario-marketing-landingdual/'\n"
     ]
    },
    {
     "name": "stderr",
     "output_type": "stream",
     "text": [
      "C:\\Users\\9140\\AppData\\Local\\Temp\\ipykernel_12948\\3282100434.py:2: FutureWarning: The frame.append method is deprecated and will be removed from pandas in a future version. Use pandas.concat instead.\n",
      "  resultados=resultados.append(comprobador(a))\n"
     ]
    },
    {
     "name": "stdout",
     "output_type": "stream",
     "text": [
      "Si está el campo personalizado para la URL 'https://estudiar.universidadeuropea.com/master-nutricion-clinica-landingdual/'\n"
     ]
    },
    {
     "name": "stderr",
     "output_type": "stream",
     "text": [
      "C:\\Users\\9140\\AppData\\Local\\Temp\\ipykernel_12948\\3282100434.py:2: FutureWarning: The frame.append method is deprecated and will be removed from pandas in a future version. Use pandas.concat instead.\n",
      "  resultados=resultados.append(comprobador(a))\n"
     ]
    },
    {
     "name": "stdout",
     "output_type": "stream",
     "text": [
      "Si está el campo personalizado para la URL 'https://estudiar.universidadeuropea.com/master-universitario-ortodoncia-avanzada/'\n"
     ]
    },
    {
     "name": "stderr",
     "output_type": "stream",
     "text": [
      "C:\\Users\\9140\\AppData\\Local\\Temp\\ipykernel_12948\\3282100434.py:2: FutureWarning: The frame.append method is deprecated and will be removed from pandas in a future version. Use pandas.concat instead.\n",
      "  resultados=resultados.append(comprobador(a))\n"
     ]
    },
    {
     "name": "stdout",
     "output_type": "stream",
     "text": [
      "Si está el campo personalizado para la URL 'https://estudiar.universidadeuropea.com/master-universitario-psicologia-infantil-juvenil/'\n"
     ]
    },
    {
     "name": "stderr",
     "output_type": "stream",
     "text": [
      "C:\\Users\\9140\\AppData\\Local\\Temp\\ipykernel_12948\\3282100434.py:2: FutureWarning: The frame.append method is deprecated and will be removed from pandas in a future version. Use pandas.concat instead.\n",
      "  resultados=resultados.append(comprobador(a))\n"
     ]
    },
    {
     "name": "stdout",
     "output_type": "stream",
     "text": [
      "Si está el campo personalizado para la URL 'https://estudiar.universidadeuropea.com/master-universitario-seguridad-tecnologias-informacion-y-comunicaciones-landingdual/'\n"
     ]
    },
    {
     "name": "stderr",
     "output_type": "stream",
     "text": [
      "C:\\Users\\9140\\AppData\\Local\\Temp\\ipykernel_12948\\3282100434.py:2: FutureWarning: The frame.append method is deprecated and will be removed from pandas in a future version. Use pandas.concat instead.\n",
      "  resultados=resultados.append(comprobador(a))\n"
     ]
    },
    {
     "name": "stdout",
     "output_type": "stream",
     "text": [
      "Si está el campo personalizado para la URL 'https://estudiar.universidadeuropea.com/master-universitario-trastornos-comportamiento-alimentario-landingdual/'\n"
     ]
    },
    {
     "name": "stderr",
     "output_type": "stream",
     "text": [
      "C:\\Users\\9140\\AppData\\Local\\Temp\\ipykernel_12948\\3282100434.py:2: FutureWarning: The frame.append method is deprecated and will be removed from pandas in a future version. Use pandas.concat instead.\n",
      "  resultados=resultados.append(comprobador(a))\n"
     ]
    },
    {
     "name": "stdout",
     "output_type": "stream",
     "text": [
      "Si está el campo personalizado para la URL 'https://estudiar.universidadeuropea.com/master-universitario-trastornos-comportamiento-alimentario-obesidad/'\n"
     ]
    },
    {
     "name": "stderr",
     "output_type": "stream",
     "text": [
      "C:\\Users\\9140\\AppData\\Local\\Temp\\ipykernel_12948\\3282100434.py:2: FutureWarning: The frame.append method is deprecated and will be removed from pandas in a future version. Use pandas.concat instead.\n",
      "  resultados=resultados.append(comprobador(a))\n"
     ]
    },
    {
     "name": "stdout",
     "output_type": "stream",
     "text": [
      "Si está el campo personalizado para la URL 'https://estudiar.universidadeuropea.com/master-universitario-urgencias-emergencias-criticos-enfermeria/'\n"
     ]
    },
    {
     "name": "stderr",
     "output_type": "stream",
     "text": [
      "C:\\Users\\9140\\AppData\\Local\\Temp\\ipykernel_12948\\3282100434.py:2: FutureWarning: The frame.append method is deprecated and will be removed from pandas in a future version. Use pandas.concat instead.\n",
      "  resultados=resultados.append(comprobador(a))\n"
     ]
    },
    {
     "name": "stdout",
     "output_type": "stream",
     "text": [
      "Si está el campo personalizado para la URL 'https://estudiar.universidadeuropea.com/master-urgencias-emergencias-enfermeria-canarias-semipresencial/'\n"
     ]
    },
    {
     "name": "stderr",
     "output_type": "stream",
     "text": [
      "C:\\Users\\9140\\AppData\\Local\\Temp\\ipykernel_12948\\3282100434.py:2: FutureWarning: The frame.append method is deprecated and will be removed from pandas in a future version. Use pandas.concat instead.\n",
      "  resultados=resultados.append(comprobador(a))\n"
     ]
    },
    {
     "name": "stdout",
     "output_type": "stream",
     "text": [
      "Si está el campo personalizado para la URL 'https://estudiar.universidadeuropea.com/mba-direccion-entidades-deportivas-landingdual/'\n"
     ]
    },
    {
     "name": "stderr",
     "output_type": "stream",
     "text": [
      "C:\\Users\\9140\\AppData\\Local\\Temp\\ipykernel_12948\\3282100434.py:2: FutureWarning: The frame.append method is deprecated and will be removed from pandas in a future version. Use pandas.concat instead.\n",
      "  resultados=resultados.append(comprobador(a))\n"
     ]
    },
    {
     "name": "stdout",
     "output_type": "stream",
     "text": [
      "Si está el campo personalizado para la URL 'https://estudiar.universidadeuropea.com/en/mba-ingles/'\n"
     ]
    },
    {
     "name": "stderr",
     "output_type": "stream",
     "text": [
      "C:\\Users\\9140\\AppData\\Local\\Temp\\ipykernel_12948\\3282100434.py:2: FutureWarning: The frame.append method is deprecated and will be removed from pandas in a future version. Use pandas.concat instead.\n",
      "  resultados=resultados.append(comprobador(a))\n"
     ]
    },
    {
     "name": "stdout",
     "output_type": "stream",
     "text": [
      "Si está el campo personalizado para la URL 'https://estudiar.universidadeuropea.com/en/mba-sports-management/'\n"
     ]
    },
    {
     "name": "stderr",
     "output_type": "stream",
     "text": [
      "C:\\Users\\9140\\AppData\\Local\\Temp\\ipykernel_12948\\3282100434.py:2: FutureWarning: The frame.append method is deprecated and will be removed from pandas in a future version. Use pandas.concat instead.\n",
      "  resultados=resultados.append(comprobador(a))\n"
     ]
    },
    {
     "name": "stdout",
     "output_type": "stream",
     "text": [
      "Si está el campo personalizado para la URL 'https://estudiar.universidadeuropea.com/grados-medicina-salud/'\n"
     ]
    },
    {
     "name": "stderr",
     "output_type": "stream",
     "text": [
      "C:\\Users\\9140\\AppData\\Local\\Temp\\ipykernel_12948\\3282100434.py:2: FutureWarning: The frame.append method is deprecated and will be removed from pandas in a future version. Use pandas.concat instead.\n",
      "  resultados=resultados.append(comprobador(a))\n"
     ]
    },
    {
     "name": "stdout",
     "output_type": "stream",
     "text": [
      "Si está el campo personalizado para la URL 'https://estudiar.universidadeuropea.com/master-universitario-nutricion-clinica/'\n"
     ]
    },
    {
     "name": "stderr",
     "output_type": "stream",
     "text": [
      "C:\\Users\\9140\\AppData\\Local\\Temp\\ipykernel_12948\\3282100434.py:2: FutureWarning: The frame.append method is deprecated and will be removed from pandas in a future version. Use pandas.concat instead.\n",
      "  resultados=resultados.append(comprobador(a))\n"
     ]
    },
    {
     "name": "stdout",
     "output_type": "stream",
     "text": [
      "Si está el campo personalizado para la URL 'https://estudiar.universidadeuropea.com/odontologia-tecnologias/'\n"
     ]
    },
    {
     "name": "stderr",
     "output_type": "stream",
     "text": [
      "C:\\Users\\9140\\AppData\\Local\\Temp\\ipykernel_12948\\3282100434.py:2: FutureWarning: The frame.append method is deprecated and will be removed from pandas in a future version. Use pandas.concat instead.\n",
      "  resultados=resultados.append(comprobador(a))\n"
     ]
    },
    {
     "name": "stdout",
     "output_type": "stream",
     "text": [
      "Si está el campo personalizado para la URL 'https://estudiar.universidadeuropea.com/postgrados/'\n"
     ]
    },
    {
     "name": "stderr",
     "output_type": "stream",
     "text": [
      "C:\\Users\\9140\\AppData\\Local\\Temp\\ipykernel_12948\\3282100434.py:2: FutureWarning: The frame.append method is deprecated and will be removed from pandas in a future version. Use pandas.concat instead.\n",
      "  resultados=resultados.append(comprobador(a))\n"
     ]
    },
    {
     "name": "stdout",
     "output_type": "stream",
     "text": [
      "Si está el campo personalizado para la URL 'https://estudiar.universidadeuropea.com/postgrados-escuela-real-madrid/'\n"
     ]
    },
    {
     "name": "stderr",
     "output_type": "stream",
     "text": [
      "C:\\Users\\9140\\AppData\\Local\\Temp\\ipykernel_12948\\3282100434.py:2: FutureWarning: The frame.append method is deprecated and will be removed from pandas in a future version. Use pandas.concat instead.\n",
      "  resultados=resultados.append(comprobador(a))\n"
     ]
    },
    {
     "name": "stdout",
     "output_type": "stream",
     "text": [
      "Si está el campo personalizado para la URL 'https://estudiar.universidadeuropea.com/postgrado-de-experto-en-compliance/'\n"
     ]
    },
    {
     "name": "stderr",
     "output_type": "stream",
     "text": [
      "C:\\Users\\9140\\AppData\\Local\\Temp\\ipykernel_12948\\3282100434.py:2: FutureWarning: The frame.append method is deprecated and will be removed from pandas in a future version. Use pandas.concat instead.\n",
      "  resultados=resultados.append(comprobador(a))\n"
     ]
    },
    {
     "name": "stdout",
     "output_type": "stream",
     "text": [
      "Si está el campo personalizado para la URL 'https://estudiar.universidadeuropea.com/postgrado-experto-gestion-proyectos-BIM-manager-valencia/'\n"
     ]
    },
    {
     "name": "stderr",
     "output_type": "stream",
     "text": [
      "C:\\Users\\9140\\AppData\\Local\\Temp\\ipykernel_12948\\3282100434.py:2: FutureWarning: The frame.append method is deprecated and will be removed from pandas in a future version. Use pandas.concat instead.\n",
      "  resultados=resultados.append(comprobador(a))\n"
     ]
    },
    {
     "name": "stdout",
     "output_type": "stream",
     "text": [
      "Si está el campo personalizado para la URL 'https://estudiar.universidadeuropea.com/postgrados-area-comunicacion/'\n"
     ]
    },
    {
     "name": "stderr",
     "output_type": "stream",
     "text": [
      "C:\\Users\\9140\\AppData\\Local\\Temp\\ipykernel_12948\\3282100434.py:2: FutureWarning: The frame.append method is deprecated and will be removed from pandas in a future version. Use pandas.concat instead.\n",
      "  resultados=resultados.append(comprobador(a))\n"
     ]
    },
    {
     "name": "stdout",
     "output_type": "stream",
     "text": [
      "Si está el campo personalizado para la URL 'https://estudiar.universidadeuropea.com/postgrados-arquitectura-ingenieria-diseno/'\n"
     ]
    },
    {
     "name": "stderr",
     "output_type": "stream",
     "text": [
      "C:\\Users\\9140\\AppData\\Local\\Temp\\ipykernel_12948\\3282100434.py:2: FutureWarning: The frame.append method is deprecated and will be removed from pandas in a future version. Use pandas.concat instead.\n",
      "  resultados=resultados.append(comprobador(a))\n"
     ]
    },
    {
     "name": "stdout",
     "output_type": "stream",
     "text": [
      "Si está el campo personalizado para la URL 'https://estudiar.universidadeuropea.com/postgrados-ciencias-sociales-comunicacion/'\n"
     ]
    },
    {
     "name": "stderr",
     "output_type": "stream",
     "text": [
      "C:\\Users\\9140\\AppData\\Local\\Temp\\ipykernel_12948\\3282100434.py:2: FutureWarning: The frame.append method is deprecated and will be removed from pandas in a future version. Use pandas.concat instead.\n",
      "  resultados=resultados.append(comprobador(a))\n"
     ]
    },
    {
     "name": "stdout",
     "output_type": "stream",
     "text": [
      "Si está el campo personalizado para la URL 'https://estudiar.universidadeuropea.com/postgrados-fisioterapia/'\n"
     ]
    },
    {
     "name": "stderr",
     "output_type": "stream",
     "text": [
      "C:\\Users\\9140\\AppData\\Local\\Temp\\ipykernel_12948\\3282100434.py:2: FutureWarning: The frame.append method is deprecated and will be removed from pandas in a future version. Use pandas.concat instead.\n",
      "  resultados=resultados.append(comprobador(a))\n"
     ]
    },
    {
     "name": "stdout",
     "output_type": "stream",
     "text": [
      "Si está el campo personalizado para la URL 'https://estudiar.universidadeuropea.com/postgrados-salud/'\n"
     ]
    },
    {
     "name": "stderr",
     "output_type": "stream",
     "text": [
      "C:\\Users\\9140\\AppData\\Local\\Temp\\ipykernel_12948\\3282100434.py:2: FutureWarning: The frame.append method is deprecated and will be removed from pandas in a future version. Use pandas.concat instead.\n",
      "  resultados=resultados.append(comprobador(a))\n"
     ]
    },
    {
     "name": "stdout",
     "output_type": "stream",
     "text": [
      "Si está el campo personalizado para la URL 'https://estudiar.universidadeuropea.com/programa-doctorado-actividad-fisica-deporte/'\n"
     ]
    },
    {
     "name": "stderr",
     "output_type": "stream",
     "text": [
      "C:\\Users\\9140\\AppData\\Local\\Temp\\ipykernel_12948\\3282100434.py:2: FutureWarning: The frame.append method is deprecated and will be removed from pandas in a future version. Use pandas.concat instead.\n",
      "  resultados=resultados.append(comprobador(a))\n"
     ]
    },
    {
     "name": "stdout",
     "output_type": "stream",
     "text": [
      "Si está el campo personalizado para la URL 'https://estudiar.universidadeuropea.com/programa-doctorado-biomedicina-ciencias-salud/'\n"
     ]
    },
    {
     "name": "stderr",
     "output_type": "stream",
     "text": [
      "C:\\Users\\9140\\AppData\\Local\\Temp\\ipykernel_12948\\3282100434.py:2: FutureWarning: The frame.append method is deprecated and will be removed from pandas in a future version. Use pandas.concat instead.\n",
      "  resultados=resultados.append(comprobador(a))\n"
     ]
    },
    {
     "name": "stdout",
     "output_type": "stream",
     "text": [
      "Si está el campo personalizado para la URL 'https://estudiar.universidadeuropea.com/programas-internacionales/'\n"
     ]
    },
    {
     "name": "stderr",
     "output_type": "stream",
     "text": [
      "C:\\Users\\9140\\AppData\\Local\\Temp\\ipykernel_12948\\3282100434.py:2: FutureWarning: The frame.append method is deprecated and will be removed from pandas in a future version. Use pandas.concat instead.\n",
      "  resultados=resultados.append(comprobador(a))\n"
     ]
    },
    {
     "name": "stdout",
     "output_type": "stream",
     "text": [
      "Si está el campo personalizado para la URL 'https://estudiar.universidadeuropea.com/en/programmes-english/'\n"
     ]
    },
    {
     "name": "stderr",
     "output_type": "stream",
     "text": [
      "C:\\Users\\9140\\AppData\\Local\\Temp\\ipykernel_12948\\3282100434.py:2: FutureWarning: The frame.append method is deprecated and will be removed from pandas in a future version. Use pandas.concat instead.\n",
      "  resultados=resultados.append(comprobador(a))\n"
     ]
    },
    {
     "name": "stdout",
     "output_type": "stream",
     "text": [
      "Si está el campo personalizado para la URL 'https://estudiar.universidadeuropea.com/psicologia-general-sanitaria-landingdual/'\n"
     ]
    },
    {
     "name": "stderr",
     "output_type": "stream",
     "text": [
      "C:\\Users\\9140\\AppData\\Local\\Temp\\ipykernel_12948\\3282100434.py:2: FutureWarning: The frame.append method is deprecated and will be removed from pandas in a future version. Use pandas.concat instead.\n",
      "  resultados=resultados.append(comprobador(a))\n"
     ]
    },
    {
     "name": "stdout",
     "output_type": "stream",
     "text": [
      "Si está el campo personalizado para la URL 'https://online.universidadeuropea.com/en/real-madrid-graduated-school-universidad-europea/'\n"
     ]
    },
    {
     "name": "stderr",
     "output_type": "stream",
     "text": [
      "C:\\Users\\9140\\AppData\\Local\\Temp\\ipykernel_12948\\3282100434.py:2: FutureWarning: The frame.append method is deprecated and will be removed from pandas in a future version. Use pandas.concat instead.\n",
      "  resultados=resultados.append(comprobador(a))\n"
     ]
    },
    {
     "name": "stdout",
     "output_type": "stream",
     "text": [
      "Si está el campo personalizado para la URL 'https://estudiar.universidadeuropea.com/en/real-madrid-graduate-school-universidad-europea/'\n"
     ]
    },
    {
     "name": "stderr",
     "output_type": "stream",
     "text": [
      "C:\\Users\\9140\\AppData\\Local\\Temp\\ipykernel_12948\\3282100434.py:2: FutureWarning: The frame.append method is deprecated and will be removed from pandas in a future version. Use pandas.concat instead.\n",
      "  resultados=resultados.append(comprobador(a))\n"
     ]
    },
    {
     "name": "stdout",
     "output_type": "stream",
     "text": [
      "Si está el campo personalizado para la URL 'https://online.universidadeuropea.com/en/specialisation-course-real-madrid/'\n"
     ]
    },
    {
     "name": "stderr",
     "output_type": "stream",
     "text": [
      "C:\\Users\\9140\\AppData\\Local\\Temp\\ipykernel_12948\\3282100434.py:2: FutureWarning: The frame.append method is deprecated and will be removed from pandas in a future version. Use pandas.concat instead.\n",
      "  resultados=resultados.append(comprobador(a))\n"
     ]
    },
    {
     "name": "stdout",
     "output_type": "stream",
     "text": [
      "Si está el campo personalizado para la URL 'https://estudiar.universidadeuropea.com/tecnico-educacion-Infantil-landingdual/'\n"
     ]
    },
    {
     "name": "stderr",
     "output_type": "stream",
     "text": [
      "C:\\Users\\9140\\AppData\\Local\\Temp\\ipykernel_12948\\3282100434.py:2: FutureWarning: The frame.append method is deprecated and will be removed from pandas in a future version. Use pandas.concat instead.\n",
      "  resultados=resultados.append(comprobador(a))\n"
     ]
    },
    {
     "name": "stdout",
     "output_type": "stream",
     "text": [
      "Si está el campo personalizado para la URL 'https://estudiar.universidadeuropea.com/tecnico-superior-anatomia-patologica-citodiagnostico-madrid/'\n"
     ]
    },
    {
     "name": "stderr",
     "output_type": "stream",
     "text": [
      "C:\\Users\\9140\\AppData\\Local\\Temp\\ipykernel_12948\\3282100434.py:2: FutureWarning: The frame.append method is deprecated and will be removed from pandas in a future version. Use pandas.concat instead.\n",
      "  resultados=resultados.append(comprobador(a))\n"
     ]
    },
    {
     "name": "stdout",
     "output_type": "stream",
     "text": [
      "Si está el campo personalizado para la URL 'https://estudiar.universidadeuropea.com/tecnico-superior-animacion-3d-entornos-interactivos-madrid/'\n"
     ]
    },
    {
     "name": "stderr",
     "output_type": "stream",
     "text": [
      "C:\\Users\\9140\\AppData\\Local\\Temp\\ipykernel_12948\\3282100434.py:2: FutureWarning: The frame.append method is deprecated and will be removed from pandas in a future version. Use pandas.concat instead.\n",
      "  resultados=resultados.append(comprobador(a))\n"
     ]
    },
    {
     "name": "stdout",
     "output_type": "stream",
     "text": [
      "Si está el campo personalizado para la URL 'https://estudiar.universidadeuropea.com/tecnico-superior-audiologia-protesica-landingdual/'\n"
     ]
    },
    {
     "name": "stderr",
     "output_type": "stream",
     "text": [
      "C:\\Users\\9140\\AppData\\Local\\Temp\\ipykernel_12948\\3282100434.py:2: FutureWarning: The frame.append method is deprecated and will be removed from pandas in a future version. Use pandas.concat instead.\n",
      "  resultados=resultados.append(comprobador(a))\n"
     ]
    },
    {
     "name": "stdout",
     "output_type": "stream",
     "text": [
      "Si está el campo personalizado para la URL 'https://estudiar.universidadeuropea.com/tecnico-superior-comercio-internacional-landingdual/'\n"
     ]
    },
    {
     "name": "stderr",
     "output_type": "stream",
     "text": [
      "C:\\Users\\9140\\AppData\\Local\\Temp\\ipykernel_12948\\3282100434.py:2: FutureWarning: The frame.append method is deprecated and will be removed from pandas in a future version. Use pandas.concat instead.\n",
      "  resultados=resultados.append(comprobador(a))\n"
     ]
    },
    {
     "name": "stdout",
     "output_type": "stream",
     "text": [
      "Si está el campo personalizado para la URL 'https://estudiar.universidadeuropea.com/tecnico-superior-en-administracion-de-sistemas-informaticos-en-red-landingdual/'\n"
     ]
    },
    {
     "name": "stderr",
     "output_type": "stream",
     "text": [
      "C:\\Users\\9140\\AppData\\Local\\Temp\\ipykernel_12948\\3282100434.py:2: FutureWarning: The frame.append method is deprecated and will be removed from pandas in a future version. Use pandas.concat instead.\n",
      "  resultados=resultados.append(comprobador(a))\n"
     ]
    },
    {
     "name": "stdout",
     "output_type": "stream",
     "text": [
      "Si está el campo personalizado para la URL 'https://estudiar.universidadeuropea.com/tecnico-superior-en-administracion-finanzas-landingdual/'\n"
     ]
    },
    {
     "name": "stderr",
     "output_type": "stream",
     "text": [
      "C:\\Users\\9140\\AppData\\Local\\Temp\\ipykernel_12948\\3282100434.py:2: FutureWarning: The frame.append method is deprecated and will be removed from pandas in a future version. Use pandas.concat instead.\n",
      "  resultados=resultados.append(comprobador(a))\n"
     ]
    },
    {
     "name": "stdout",
     "output_type": "stream",
     "text": [
      "Si está el campo personalizado para la URL 'https://estudiar.universidadeuropea.com/tecnico-superior-audiologia-protesica-madrid/'\n"
     ]
    },
    {
     "name": "stderr",
     "output_type": "stream",
     "text": [
      "C:\\Users\\9140\\AppData\\Local\\Temp\\ipykernel_12948\\3282100434.py:2: FutureWarning: The frame.append method is deprecated and will be removed from pandas in a future version. Use pandas.concat instead.\n",
      "  resultados=resultados.append(comprobador(a))\n"
     ]
    },
    {
     "name": "stdout",
     "output_type": "stream",
     "text": [
      "Si está el campo personalizado para la URL 'https://estudiar.universidadeuropea.com/tecnico-superior-en-desarrollo-aplicaciones-multiplataforma-landingdual/'\n"
     ]
    },
    {
     "name": "stderr",
     "output_type": "stream",
     "text": [
      "C:\\Users\\9140\\AppData\\Local\\Temp\\ipykernel_12948\\3282100434.py:2: FutureWarning: The frame.append method is deprecated and will be removed from pandas in a future version. Use pandas.concat instead.\n",
      "  resultados=resultados.append(comprobador(a))\n"
     ]
    },
    {
     "name": "stdout",
     "output_type": "stream",
     "text": [
      "Si está el campo personalizado para la URL 'https://estudiar.universidadeuropea.com/grado-superior-desarrollo-aplicaciones-multiplataforma-landingdual/'\n"
     ]
    },
    {
     "name": "stderr",
     "output_type": "stream",
     "text": [
      "C:\\Users\\9140\\AppData\\Local\\Temp\\ipykernel_12948\\3282100434.py:2: FutureWarning: The frame.append method is deprecated and will be removed from pandas in a future version. Use pandas.concat instead.\n",
      "  resultados=resultados.append(comprobador(a))\n"
     ]
    },
    {
     "name": "stdout",
     "output_type": "stream",
     "text": [
      "Si está el campo personalizado para la URL 'https://estudiar.universidadeuropea.com/tecnico-superior-higiene-bucodental-madrid/'\n"
     ]
    },
    {
     "name": "stderr",
     "output_type": "stream",
     "text": [
      "C:\\Users\\9140\\AppData\\Local\\Temp\\ipykernel_12948\\3282100434.py:2: FutureWarning: The frame.append method is deprecated and will be removed from pandas in a future version. Use pandas.concat instead.\n",
      "  resultados=resultados.append(comprobador(a))\n"
     ]
    },
    {
     "name": "stdout",
     "output_type": "stream",
     "text": [
      "Si está el campo personalizado para la URL 'https://estudiar.universidadeuropea.com/tecnico-superior-en-marketing-y-publicidad-landingdual/'\n"
     ]
    },
    {
     "name": "stderr",
     "output_type": "stream",
     "text": [
      "C:\\Users\\9140\\AppData\\Local\\Temp\\ipykernel_12948\\3282100434.py:2: FutureWarning: The frame.append method is deprecated and will be removed from pandas in a future version. Use pandas.concat instead.\n",
      "  resultados=resultados.append(comprobador(a))\n"
     ]
    },
    {
     "name": "stdout",
     "output_type": "stream",
     "text": [
      "Si está el campo personalizado para la URL 'https://estudiar.universidadeuropea.com/tecnico-superior-ensenanza-animacion-sociodeportiva-landingdual/'\n"
     ]
    },
    {
     "name": "stderr",
     "output_type": "stream",
     "text": [
      "C:\\Users\\9140\\AppData\\Local\\Temp\\ipykernel_12948\\3282100434.py:2: FutureWarning: The frame.append method is deprecated and will be removed from pandas in a future version. Use pandas.concat instead.\n",
      "  resultados=resultados.append(comprobador(a))\n"
     ]
    },
    {
     "name": "stdout",
     "output_type": "stream",
     "text": [
      "Si está el campo personalizado para la URL 'https://estudiar.universidadeuropea.com/fp-tecnico-superior-higiene-bucodental-landingdual/'\n"
     ]
    },
    {
     "name": "stderr",
     "output_type": "stream",
     "text": [
      "C:\\Users\\9140\\AppData\\Local\\Temp\\ipykernel_12948\\3282100434.py:2: FutureWarning: The frame.append method is deprecated and will be removed from pandas in a future version. Use pandas.concat instead.\n",
      "  resultados=resultados.append(comprobador(a))\n"
     ]
    },
    {
     "name": "stdout",
     "output_type": "stream",
     "text": [
      "Si está el campo personalizado para la URL 'https://estudiar.universidadeuropea.com/tecnico-superior-imagen-diagnostico-medicina-nuclear-madrid/'\n"
     ]
    },
    {
     "name": "stderr",
     "output_type": "stream",
     "text": [
      "C:\\Users\\9140\\AppData\\Local\\Temp\\ipykernel_12948\\3282100434.py:2: FutureWarning: The frame.append method is deprecated and will be removed from pandas in a future version. Use pandas.concat instead.\n",
      "  resultados=resultados.append(comprobador(a))\n"
     ]
    },
    {
     "name": "stdout",
     "output_type": "stream",
     "text": [
      "Si está el campo personalizado para la URL 'https://estudiar.universidadeuropea.com/tecnico-superior-laboratorio-clinico-biomedico/'\n"
     ]
    },
    {
     "name": "stderr",
     "output_type": "stream",
     "text": [
      "C:\\Users\\9140\\AppData\\Local\\Temp\\ipykernel_12948\\3282100434.py:2: FutureWarning: The frame.append method is deprecated and will be removed from pandas in a future version. Use pandas.concat instead.\n",
      "  resultados=resultados.append(comprobador(a))\n"
     ]
    },
    {
     "name": "stdout",
     "output_type": "stream",
     "text": [
      "Si está el campo personalizado para la URL 'https://estudiar.universidadeuropea.com/tecnico-superior-realizacion-audiovisual-madrid/'\n"
     ]
    },
    {
     "name": "stderr",
     "output_type": "stream",
     "text": [
      "C:\\Users\\9140\\AppData\\Local\\Temp\\ipykernel_12948\\3282100434.py:2: FutureWarning: The frame.append method is deprecated and will be removed from pandas in a future version. Use pandas.concat instead.\n",
      "  resultados=resultados.append(comprobador(a))\n"
     ]
    },
    {
     "name": "stdout",
     "output_type": "stream",
     "text": [
      "Si está el campo personalizado para la URL 'https://estudiar.universidadeuropea.com/analisis-web/'\n"
     ]
    },
    {
     "name": "stderr",
     "output_type": "stream",
     "text": [
      "C:\\Users\\9140\\AppData\\Local\\Temp\\ipykernel_12948\\3282100434.py:2: FutureWarning: The frame.append method is deprecated and will be removed from pandas in a future version. Use pandas.concat instead.\n",
      "  resultados=resultados.append(comprobador(a))\n"
     ]
    },
    {
     "name": "stdout",
     "output_type": "stream",
     "text": [
      "Si está el campo personalizado para la URL 'https://estudiar.universidadeuropea.com/blockchain/'\n"
     ]
    },
    {
     "name": "stderr",
     "output_type": "stream",
     "text": [
      "C:\\Users\\9140\\AppData\\Local\\Temp\\ipykernel_12948\\3282100434.py:2: FutureWarning: The frame.append method is deprecated and will be removed from pandas in a future version. Use pandas.concat instead.\n",
      "  resultados=resultados.append(comprobador(a))\n"
     ]
    },
    {
     "name": "stdout",
     "output_type": "stream",
     "text": [
      "Si está el campo personalizado para la URL 'https://estudiar.universidadeuropea.com/sobre-desarrollo-web-fullstack/'\n"
     ]
    },
    {
     "name": "stderr",
     "output_type": "stream",
     "text": [
      "C:\\Users\\9140\\AppData\\Local\\Temp\\ipykernel_12948\\3282100434.py:2: FutureWarning: The frame.append method is deprecated and will be removed from pandas in a future version. Use pandas.concat instead.\n",
      "  resultados=resultados.append(comprobador(a))\n"
     ]
    },
    {
     "name": "stdout",
     "output_type": "stream",
     "text": [
      "Si está el campo personalizado para la URL 'https://estudiar.universidadeuropea.com/growth-hacking/'\n"
     ]
    },
    {
     "name": "stderr",
     "output_type": "stream",
     "text": [
      "C:\\Users\\9140\\AppData\\Local\\Temp\\ipykernel_12948\\3282100434.py:2: FutureWarning: The frame.append method is deprecated and will be removed from pandas in a future version. Use pandas.concat instead.\n",
      "  resultados=resultados.append(comprobador(a))\n"
     ]
    },
    {
     "name": "stdout",
     "output_type": "stream",
     "text": [
      "Si está el campo personalizado para la URL 'https://estudiar.universidadeuropea.com/project-management/'\n"
     ]
    },
    {
     "name": "stderr",
     "output_type": "stream",
     "text": [
      "C:\\Users\\9140\\AppData\\Local\\Temp\\ipykernel_12948\\3282100434.py:2: FutureWarning: The frame.append method is deprecated and will be removed from pandas in a future version. Use pandas.concat instead.\n",
      "  resultados=resultados.append(comprobador(a))\n"
     ]
    },
    {
     "name": "stdout",
     "output_type": "stream",
     "text": [
      "Si está el campo personalizado para la URL 'https://estudiar.universidadeuropea.com/valencia/'\n"
     ]
    },
    {
     "name": "stderr",
     "output_type": "stream",
     "text": [
      "C:\\Users\\9140\\AppData\\Local\\Temp\\ipykernel_12948\\3282100434.py:2: FutureWarning: The frame.append method is deprecated and will be removed from pandas in a future version. Use pandas.concat instead.\n",
      "  resultados=resultados.append(comprobador(a))\n"
     ]
    },
    {
     "name": "stdout",
     "output_type": "stream",
     "text": [
      "Si está el campo personalizado para la URL 'https://estudiar.universidadeuropea.com/en/real-madrid-graduate-school-universidad-europea/'\n"
     ]
    },
    {
     "name": "stderr",
     "output_type": "stream",
     "text": [
      "C:\\Users\\9140\\AppData\\Local\\Temp\\ipykernel_12948\\3282100434.py:2: FutureWarning: The frame.append method is deprecated and will be removed from pandas in a future version. Use pandas.concat instead.\n",
      "  resultados=resultados.append(comprobador(a))\n"
     ]
    },
    {
     "name": "stdout",
     "output_type": "stream",
     "text": [
      "Si está el campo personalizado para la URL 'https://online.universidadeuropea.com/en/course-a1-spanish-online/'\n"
     ]
    },
    {
     "name": "stderr",
     "output_type": "stream",
     "text": [
      "C:\\Users\\9140\\AppData\\Local\\Temp\\ipykernel_12948\\3282100434.py:2: FutureWarning: The frame.append method is deprecated and will be removed from pandas in a future version. Use pandas.concat instead.\n",
      "  resultados=resultados.append(comprobador(a))\n"
     ]
    },
    {
     "name": "stdout",
     "output_type": "stream",
     "text": [
      "Si está el campo personalizado para la URL 'https://online.universidadeuropea.com/en/course-b1-spanish-online/'\n"
     ]
    },
    {
     "name": "stderr",
     "output_type": "stream",
     "text": [
      "C:\\Users\\9140\\AppData\\Local\\Temp\\ipykernel_12948\\3282100434.py:2: FutureWarning: The frame.append method is deprecated and will be removed from pandas in a future version. Use pandas.concat instead.\n",
      "  resultados=resultados.append(comprobador(a))\n"
     ]
    },
    {
     "name": "stdout",
     "output_type": "stream",
     "text": [
      "Si está el campo personalizado para la URL 'https://online.universidadeuropea.com/en/course-b2-spanish-online/'\n"
     ]
    },
    {
     "name": "stderr",
     "output_type": "stream",
     "text": [
      "C:\\Users\\9140\\AppData\\Local\\Temp\\ipykernel_12948\\3282100434.py:2: FutureWarning: The frame.append method is deprecated and will be removed from pandas in a future version. Use pandas.concat instead.\n",
      "  resultados=resultados.append(comprobador(a))\n"
     ]
    },
    {
     "name": "stdout",
     "output_type": "stream",
     "text": [
      "Si está el campo personalizado para la URL 'https://estudiar.universidadeuropea.com/en/bachelors-degree-in-business-administration/'\n"
     ]
    },
    {
     "name": "stderr",
     "output_type": "stream",
     "text": [
      "C:\\Users\\9140\\AppData\\Local\\Temp\\ipykernel_12948\\3282100434.py:2: FutureWarning: The frame.append method is deprecated and will be removed from pandas in a future version. Use pandas.concat instead.\n",
      "  resultados=resultados.append(comprobador(a))\n"
     ]
    },
    {
     "name": "stdout",
     "output_type": "stream",
     "text": [
      "Si está el campo personalizado para la URL 'https://estudiar.universidadeuropea.com/becas-santander-talento-ayuda-impulsa/'\n"
     ]
    },
    {
     "name": "stderr",
     "output_type": "stream",
     "text": [
      "C:\\Users\\9140\\AppData\\Local\\Temp\\ipykernel_12948\\3282100434.py:2: FutureWarning: The frame.append method is deprecated and will be removed from pandas in a future version. Use pandas.concat instead.\n",
      "  resultados=resultados.append(comprobador(a))\n"
     ]
    },
    {
     "name": "stdout",
     "output_type": "stream",
     "text": [
      "Si está el campo personalizado para la URL 'https://online.universidadeuropea.com/campus-santa-cruz-de-tenerife/'\n"
     ]
    },
    {
     "name": "stderr",
     "output_type": "stream",
     "text": [
      "C:\\Users\\9140\\AppData\\Local\\Temp\\ipykernel_12948\\3282100434.py:2: FutureWarning: The frame.append method is deprecated and will be removed from pandas in a future version. Use pandas.concat instead.\n",
      "  resultados=resultados.append(comprobador(a))\n"
     ]
    },
    {
     "name": "stdout",
     "output_type": "stream",
     "text": [
      "Si está el campo personalizado para la URL 'https://online.universidadeuropea.com/grado-ciencias-actividad-fisica-deporte-madrid-semipresencial/'\n"
     ]
    },
    {
     "name": "stderr",
     "output_type": "stream",
     "text": [
      "C:\\Users\\9140\\AppData\\Local\\Temp\\ipykernel_12948\\3282100434.py:2: FutureWarning: The frame.append method is deprecated and will be removed from pandas in a future version. Use pandas.concat instead.\n",
      "  resultados=resultados.append(comprobador(a))\n"
     ]
    },
    {
     "name": "stdout",
     "output_type": "stream",
     "text": [
      "No está el campo personalizado para la URL 'https://clinicas.universidadeuropea.com/lp-clinicas/'\n"
     ]
    },
    {
     "name": "stderr",
     "output_type": "stream",
     "text": [
      "C:\\Users\\9140\\AppData\\Local\\Temp\\ipykernel_12948\\3282100434.py:2: FutureWarning: The frame.append method is deprecated and will be removed from pandas in a future version. Use pandas.concat instead.\n",
      "  resultados=resultados.append(comprobador(a))\n"
     ]
    },
    {
     "name": "stdout",
     "output_type": "stream",
     "text": [
      "Si está el campo personalizado para la URL 'https://online.universidadeuropea.com/colectivos-steam/'\n"
     ]
    },
    {
     "name": "stderr",
     "output_type": "stream",
     "text": [
      "C:\\Users\\9140\\AppData\\Local\\Temp\\ipykernel_12948\\3282100434.py:2: FutureWarning: The frame.append method is deprecated and will be removed from pandas in a future version. Use pandas.concat instead.\n",
      "  resultados=resultados.append(comprobador(a))\n"
     ]
    },
    {
     "name": "stdout",
     "output_type": "stream",
     "text": [
      "Si está el campo personalizado para la URL 'https://online.universidadeuropea.com/programas-para-colectivos-online/'\n"
     ]
    },
    {
     "name": "stderr",
     "output_type": "stream",
     "text": [
      "C:\\Users\\9140\\AppData\\Local\\Temp\\ipykernel_12948\\3282100434.py:2: FutureWarning: The frame.append method is deprecated and will be removed from pandas in a future version. Use pandas.concat instead.\n",
      "  resultados=resultados.append(comprobador(a))\n"
     ]
    },
    {
     "name": "stdout",
     "output_type": "stream",
     "text": [
      "Si está el campo personalizado para la URL 'https://online.universidadeuropea.com/curso-ingles-A1/'\n"
     ]
    },
    {
     "name": "stderr",
     "output_type": "stream",
     "text": [
      "C:\\Users\\9140\\AppData\\Local\\Temp\\ipykernel_12948\\3282100434.py:2: FutureWarning: The frame.append method is deprecated and will be removed from pandas in a future version. Use pandas.concat instead.\n",
      "  resultados=resultados.append(comprobador(a))\n"
     ]
    },
    {
     "name": "stdout",
     "output_type": "stream",
     "text": [
      "Si está el campo personalizado para la URL 'https://online.universidadeuropea.com/curso-ingles-A2/'\n"
     ]
    },
    {
     "name": "stderr",
     "output_type": "stream",
     "text": [
      "C:\\Users\\9140\\AppData\\Local\\Temp\\ipykernel_12948\\3282100434.py:2: FutureWarning: The frame.append method is deprecated and will be removed from pandas in a future version. Use pandas.concat instead.\n",
      "  resultados=resultados.append(comprobador(a))\n"
     ]
    },
    {
     "name": "stdout",
     "output_type": "stream",
     "text": [
      "Si está el campo personalizado para la URL 'https://online.universidadeuropea.com/curso-ingles-B1/'\n"
     ]
    },
    {
     "name": "stderr",
     "output_type": "stream",
     "text": [
      "C:\\Users\\9140\\AppData\\Local\\Temp\\ipykernel_12948\\3282100434.py:2: FutureWarning: The frame.append method is deprecated and will be removed from pandas in a future version. Use pandas.concat instead.\n",
      "  resultados=resultados.append(comprobador(a))\n"
     ]
    },
    {
     "name": "stdout",
     "output_type": "stream",
     "text": [
      "Si está el campo personalizado para la URL 'https://online.universidadeuropea.com/curso-ingles-B2/'\n"
     ]
    },
    {
     "name": "stderr",
     "output_type": "stream",
     "text": [
      "C:\\Users\\9140\\AppData\\Local\\Temp\\ipykernel_12948\\3282100434.py:2: FutureWarning: The frame.append method is deprecated and will be removed from pandas in a future version. Use pandas.concat instead.\n",
      "  resultados=resultados.append(comprobador(a))\n"
     ]
    },
    {
     "name": "stdout",
     "output_type": "stream",
     "text": [
      "Si está el campo personalizado para la URL 'https://online.universidadeuropea.com/curso-universitario-en-compliance-online/'\n"
     ]
    },
    {
     "name": "stderr",
     "output_type": "stream",
     "text": [
      "C:\\Users\\9140\\AppData\\Local\\Temp\\ipykernel_12948\\3282100434.py:2: FutureWarning: The frame.append method is deprecated and will be removed from pandas in a future version. Use pandas.concat instead.\n",
      "  resultados=resultados.append(comprobador(a))\n"
     ]
    },
    {
     "name": "stdout",
     "output_type": "stream",
     "text": [
      "Si está el campo personalizado para la URL 'https://online.universidadeuropea.com/curso-universitario-en-diseno-grafico-publicitario-online/'\n"
     ]
    },
    {
     "name": "stderr",
     "output_type": "stream",
     "text": [
      "C:\\Users\\9140\\AppData\\Local\\Temp\\ipykernel_12948\\3282100434.py:2: FutureWarning: The frame.append method is deprecated and will be removed from pandas in a future version. Use pandas.concat instead.\n",
      "  resultados=resultados.append(comprobador(a))\n"
     ]
    },
    {
     "name": "stdout",
     "output_type": "stream",
     "text": [
      "No está el campo personalizado para la URL 'https://online.universidadeuropea.com/curso-experto-enfermedades-neuromusculares-pediatricas-online/'\n"
     ]
    },
    {
     "name": "stderr",
     "output_type": "stream",
     "text": [
      "C:\\Users\\9140\\AppData\\Local\\Temp\\ipykernel_12948\\3282100434.py:2: FutureWarning: The frame.append method is deprecated and will be removed from pandas in a future version. Use pandas.concat instead.\n",
      "  resultados=resultados.append(comprobador(a))\n"
     ]
    },
    {
     "name": "stdout",
     "output_type": "stream",
     "text": [
      "Si está el campo personalizado para la URL 'https://online.universidadeuropea.com/cursos-marketing-online/'\n"
     ]
    },
    {
     "name": "stderr",
     "output_type": "stream",
     "text": [
      "C:\\Users\\9140\\AppData\\Local\\Temp\\ipykernel_12948\\3282100434.py:2: FutureWarning: The frame.append method is deprecated and will be removed from pandas in a future version. Use pandas.concat instead.\n",
      "  resultados=resultados.append(comprobador(a))\n"
     ]
    },
    {
     "name": "stdout",
     "output_type": "stream",
     "text": [
      "Si está el campo personalizado para la URL 'https://online.universidadeuropea.com/cursos-espanol/'\n"
     ]
    },
    {
     "name": "stderr",
     "output_type": "stream",
     "text": [
      "C:\\Users\\9140\\AppData\\Local\\Temp\\ipykernel_12948\\3282100434.py:2: FutureWarning: The frame.append method is deprecated and will be removed from pandas in a future version. Use pandas.concat instead.\n",
      "  resultados=resultados.append(comprobador(a))\n"
     ]
    },
    {
     "name": "stdout",
     "output_type": "stream",
     "text": [
      "Si está el campo personalizado para la URL 'https://online.universidadeuropea.com/cursos-ingles/'\n"
     ]
    },
    {
     "name": "stderr",
     "output_type": "stream",
     "text": [
      "C:\\Users\\9140\\AppData\\Local\\Temp\\ipykernel_12948\\3282100434.py:2: FutureWarning: The frame.append method is deprecated and will be removed from pandas in a future version. Use pandas.concat instead.\n",
      "  resultados=resultados.append(comprobador(a))\n"
     ]
    },
    {
     "name": "stdout",
     "output_type": "stream",
     "text": [
      "Si está el campo personalizado para la URL 'https://online.universidadeuropea.com/cursos-intensivos-ingles-online/'\n"
     ]
    },
    {
     "name": "stderr",
     "output_type": "stream",
     "text": [
      "C:\\Users\\9140\\AppData\\Local\\Temp\\ipykernel_12948\\3282100434.py:2: FutureWarning: The frame.append method is deprecated and will be removed from pandas in a future version. Use pandas.concat instead.\n",
      "  resultados=resultados.append(comprobador(a))\n"
     ]
    },
    {
     "name": "stdout",
     "output_type": "stream",
     "text": [
      "Si está el campo personalizado para la URL 'https://online.universidadeuropea.com/cursos-de-marketing-digital/'\n"
     ]
    },
    {
     "name": "stderr",
     "output_type": "stream",
     "text": [
      "C:\\Users\\9140\\AppData\\Local\\Temp\\ipykernel_12948\\3282100434.py:2: FutureWarning: The frame.append method is deprecated and will be removed from pandas in a future version. Use pandas.concat instead.\n",
      "  resultados=resultados.append(comprobador(a))\n"
     ]
    },
    {
     "name": "stdout",
     "output_type": "stream",
     "text": [
      "Si está el campo personalizado para la URL 'https://online.universidadeuropea.com/cursos-project-management-online/'\n"
     ]
    },
    {
     "name": "stderr",
     "output_type": "stream",
     "text": [
      "C:\\Users\\9140\\AppData\\Local\\Temp\\ipykernel_12948\\3282100434.py:2: FutureWarning: The frame.append method is deprecated and will be removed from pandas in a future version. Use pandas.concat instead.\n",
      "  resultados=resultados.append(comprobador(a))\n"
     ]
    },
    {
     "name": "stdout",
     "output_type": "stream",
     "text": [
      "Si está el campo personalizado para la URL 'https://online.universidadeuropea.com/cursos-universitarios-data-science/'\n"
     ]
    },
    {
     "name": "stderr",
     "output_type": "stream",
     "text": [
      "C:\\Users\\9140\\AppData\\Local\\Temp\\ipykernel_12948\\3282100434.py:2: FutureWarning: The frame.append method is deprecated and will be removed from pandas in a future version. Use pandas.concat instead.\n",
      "  resultados=resultados.append(comprobador(a))\n"
     ]
    },
    {
     "name": "stdout",
     "output_type": "stream",
     "text": [
      "Si está el campo personalizado para la URL 'https://online.universidadeuropea.com/cursos-expertos-big-data/'\n"
     ]
    },
    {
     "name": "stderr",
     "output_type": "stream",
     "text": [
      "C:\\Users\\9140\\AppData\\Local\\Temp\\ipykernel_12948\\3282100434.py:2: FutureWarning: The frame.append method is deprecated and will be removed from pandas in a future version. Use pandas.concat instead.\n",
      "  resultados=resultados.append(comprobador(a))\n"
     ]
    },
    {
     "name": "stdout",
     "output_type": "stream",
     "text": [
      "Si está el campo personalizado para la URL 'https://online.universidadeuropea.com/curso-universitario-en-agile-y-scrum-online/'\n"
     ]
    },
    {
     "name": "stderr",
     "output_type": "stream",
     "text": [
      "C:\\Users\\9140\\AppData\\Local\\Temp\\ipykernel_12948\\3282100434.py:2: FutureWarning: The frame.append method is deprecated and will be removed from pandas in a future version. Use pandas.concat instead.\n",
      "  resultados=resultados.append(comprobador(a))\n"
     ]
    },
    {
     "name": "stdout",
     "output_type": "stream",
     "text": [
      "Si está el campo personalizado para la URL 'https://online.universidadeuropea.com/curso-universitario-en-finanzas-para-no-financieros-online/'\n"
     ]
    },
    {
     "name": "stderr",
     "output_type": "stream",
     "text": [
      "C:\\Users\\9140\\AppData\\Local\\Temp\\ipykernel_12948\\3282100434.py:2: FutureWarning: The frame.append method is deprecated and will be removed from pandas in a future version. Use pandas.concat instead.\n",
      "  resultados=resultados.append(comprobador(a))\n"
     ]
    },
    {
     "name": "stdout",
     "output_type": "stream",
     "text": [
      "Si está el campo personalizado para la URL 'https://online.universidadeuropea.com/curso-fotografia-dental-online/'\n"
     ]
    },
    {
     "name": "stderr",
     "output_type": "stream",
     "text": [
      "C:\\Users\\9140\\AppData\\Local\\Temp\\ipykernel_12948\\3282100434.py:2: FutureWarning: The frame.append method is deprecated and will be removed from pandas in a future version. Use pandas.concat instead.\n",
      "  resultados=resultados.append(comprobador(a))\n"
     ]
    },
    {
     "name": "stdout",
     "output_type": "stream",
     "text": [
      "Si está el campo personalizado para la URL 'https://online.universidadeuropea.com/curso-universitario-en-gestion-cartera-proyectos-online/'\n"
     ]
    },
    {
     "name": "stderr",
     "output_type": "stream",
     "text": [
      "C:\\Users\\9140\\AppData\\Local\\Temp\\ipykernel_12948\\3282100434.py:2: FutureWarning: The frame.append method is deprecated and will be removed from pandas in a future version. Use pandas.concat instead.\n",
      "  resultados=resultados.append(comprobador(a))\n"
     ]
    },
    {
     "name": "stdout",
     "output_type": "stream",
     "text": [
      "Si está el campo personalizado para la URL 'https://online.universidadeuropea.com/curso-universitario-en-python-online/'\n"
     ]
    },
    {
     "name": "stderr",
     "output_type": "stream",
     "text": [
      "C:\\Users\\9140\\AppData\\Local\\Temp\\ipykernel_12948\\3282100434.py:2: FutureWarning: The frame.append method is deprecated and will be removed from pandas in a future version. Use pandas.concat instead.\n",
      "  resultados=resultados.append(comprobador(a))\n"
     ]
    },
    {
     "name": "stdout",
     "output_type": "stream",
     "text": [
      "Si está el campo personalizado para la URL 'https://online.universidadeuropea.com/curso-universitario-en-SQL-online/'\n"
     ]
    },
    {
     "name": "stderr",
     "output_type": "stream",
     "text": [
      "C:\\Users\\9140\\AppData\\Local\\Temp\\ipykernel_12948\\3282100434.py:2: FutureWarning: The frame.append method is deprecated and will be removed from pandas in a future version. Use pandas.concat instead.\n",
      "  resultados=resultados.append(comprobador(a))\n"
     ]
    },
    {
     "name": "stdout",
     "output_type": "stream",
     "text": [
      "Si está el campo personalizado para la URL 'https://estudiar.universidadeuropea.com/derecho-criminologia-relaciones-internacionales/'\n"
     ]
    },
    {
     "name": "stderr",
     "output_type": "stream",
     "text": [
      "C:\\Users\\9140\\AppData\\Local\\Temp\\ipykernel_12948\\3282100434.py:2: FutureWarning: The frame.append method is deprecated and will be removed from pandas in a future version. Use pandas.concat instead.\n",
      "  resultados=resultados.append(comprobador(a))\n"
     ]
    },
    {
     "name": "stdout",
     "output_type": "stream",
     "text": [
      "Si está el campo personalizado para la URL 'https://online.universidadeuropea.com/descubre-nuestros-ciclos-online/'\n"
     ]
    },
    {
     "name": "stderr",
     "output_type": "stream",
     "text": [
      "C:\\Users\\9140\\AppData\\Local\\Temp\\ipykernel_12948\\3282100434.py:2: FutureWarning: The frame.append method is deprecated and will be removed from pandas in a future version. Use pandas.concat instead.\n",
      "  resultados=resultados.append(comprobador(a))\n"
     ]
    },
    {
     "name": "stdout",
     "output_type": "stream",
     "text": [
      "Si está el campo personalizado para la URL 'https://online.universidadeuropea.com/descubre-nuestros-grados-online/'\n"
     ]
    },
    {
     "name": "stderr",
     "output_type": "stream",
     "text": [
      "C:\\Users\\9140\\AppData\\Local\\Temp\\ipykernel_12948\\3282100434.py:2: FutureWarning: The frame.append method is deprecated and will be removed from pandas in a future version. Use pandas.concat instead.\n",
      "  resultados=resultados.append(comprobador(a))\n"
     ]
    },
    {
     "name": "stdout",
     "output_type": "stream",
     "text": [
      "Si está el campo personalizado para la URL 'https://online.universidadeuropea.com/diplomados/'\n"
     ]
    },
    {
     "name": "stderr",
     "output_type": "stream",
     "text": [
      "C:\\Users\\9140\\AppData\\Local\\Temp\\ipykernel_12948\\3282100434.py:2: FutureWarning: The frame.append method is deprecated and will be removed from pandas in a future version. Use pandas.concat instead.\n",
      "  resultados=resultados.append(comprobador(a))\n"
     ]
    },
    {
     "name": "stdout",
     "output_type": "stream",
     "text": [
      "Si está el campo personalizado para la URL 'https://online.universidadeuropea.com/diplomados-marketing-mexico/'\n"
     ]
    },
    {
     "name": "stderr",
     "output_type": "stream",
     "text": [
      "C:\\Users\\9140\\AppData\\Local\\Temp\\ipykernel_12948\\3282100434.py:2: FutureWarning: The frame.append method is deprecated and will be removed from pandas in a future version. Use pandas.concat instead.\n",
      "  resultados=resultados.append(comprobador(a))\n"
     ]
    },
    {
     "name": "stdout",
     "output_type": "stream",
     "text": [
      "Si está el campo personalizado para la URL 'https://online.universidadeuropea.com/diplomados-marketing-mexico-sp/'\n"
     ]
    },
    {
     "name": "stderr",
     "output_type": "stream",
     "text": [
      "C:\\Users\\9140\\AppData\\Local\\Temp\\ipykernel_12948\\3282100434.py:2: FutureWarning: The frame.append method is deprecated and will be removed from pandas in a future version. Use pandas.concat instead.\n",
      "  resultados=resultados.append(comprobador(a))\n"
     ]
    },
    {
     "name": "stdout",
     "output_type": "stream",
     "text": [
      "Si está el campo personalizado para la URL 'https://online.universidadeuropea.com/diplomados-mexico/'\n"
     ]
    },
    {
     "name": "stderr",
     "output_type": "stream",
     "text": [
      "C:\\Users\\9140\\AppData\\Local\\Temp\\ipykernel_12948\\3282100434.py:2: FutureWarning: The frame.append method is deprecated and will be removed from pandas in a future version. Use pandas.concat instead.\n",
      "  resultados=resultados.append(comprobador(a))\n"
     ]
    },
    {
     "name": "stdout",
     "output_type": "stream",
     "text": [
      "Si está el campo personalizado para la URL 'https://online.universidadeuropea.com/diplomados-mexico-cp/'\n"
     ]
    },
    {
     "name": "stderr",
     "output_type": "stream",
     "text": [
      "C:\\Users\\9140\\AppData\\Local\\Temp\\ipykernel_12948\\3282100434.py:2: FutureWarning: The frame.append method is deprecated and will be removed from pandas in a future version. Use pandas.concat instead.\n",
      "  resultados=resultados.append(comprobador(a))\n"
     ]
    },
    {
     "name": "stdout",
     "output_type": "stream",
     "text": [
      "Si está el campo personalizado para la URL 'https://online.universidadeuropea.com/diplomados-negocios-mexico/'\n"
     ]
    },
    {
     "name": "stderr",
     "output_type": "stream",
     "text": [
      "C:\\Users\\9140\\AppData\\Local\\Temp\\ipykernel_12948\\3282100434.py:2: FutureWarning: The frame.append method is deprecated and will be removed from pandas in a future version. Use pandas.concat instead.\n",
      "  resultados=resultados.append(comprobador(a))\n"
     ]
    },
    {
     "name": "stdout",
     "output_type": "stream",
     "text": [
      "Si está el campo personalizado para la URL 'https://online.universidadeuropea.com/diplomados-negocios-mexico-sp/'\n"
     ]
    },
    {
     "name": "stderr",
     "output_type": "stream",
     "text": [
      "C:\\Users\\9140\\AppData\\Local\\Temp\\ipykernel_12948\\3282100434.py:2: FutureWarning: The frame.append method is deprecated and will be removed from pandas in a future version. Use pandas.concat instead.\n",
      "  resultados=resultados.append(comprobador(a))\n"
     ]
    },
    {
     "name": "stdout",
     "output_type": "stream",
     "text": [
      "Si está el campo personalizado para la URL 'https://online.universidadeuropea.com/diplomados-tecnologias-mexico/'\n"
     ]
    },
    {
     "name": "stderr",
     "output_type": "stream",
     "text": [
      "C:\\Users\\9140\\AppData\\Local\\Temp\\ipykernel_12948\\3282100434.py:2: FutureWarning: The frame.append method is deprecated and will be removed from pandas in a future version. Use pandas.concat instead.\n",
      "  resultados=resultados.append(comprobador(a))\n"
     ]
    },
    {
     "name": "stdout",
     "output_type": "stream",
     "text": [
      "Si está el campo personalizado para la URL 'https://online.universidadeuropea.com/diplomados-tecnologias-mexico-sp/'\n"
     ]
    },
    {
     "name": "stderr",
     "output_type": "stream",
     "text": [
      "C:\\Users\\9140\\AppData\\Local\\Temp\\ipykernel_12948\\3282100434.py:2: FutureWarning: The frame.append method is deprecated and will be removed from pandas in a future version. Use pandas.concat instead.\n",
      "  resultados=resultados.append(comprobador(a))\n"
     ]
    },
    {
     "name": "stdout",
     "output_type": "stream",
     "text": [
      "Si está el campo personalizado para la URL 'https://online.universidadeuropea.com/master-diseno-grafico-online/'\n"
     ]
    },
    {
     "name": "stderr",
     "output_type": "stream",
     "text": [
      "C:\\Users\\9140\\AppData\\Local\\Temp\\ipykernel_12948\\3282100434.py:2: FutureWarning: The frame.append method is deprecated and will be removed from pandas in a future version. Use pandas.concat instead.\n",
      "  resultados=resultados.append(comprobador(a))\n"
     ]
    },
    {
     "name": "stdout",
     "output_type": "stream",
     "text": [
      "Si está el campo personalizado para la URL 'https://online.universidadeuropea.com/colectivos-educacion-online/'\n"
     ]
    },
    {
     "name": "stderr",
     "output_type": "stream",
     "text": [
      "C:\\Users\\9140\\AppData\\Local\\Temp\\ipykernel_12948\\3282100434.py:2: FutureWarning: The frame.append method is deprecated and will be removed from pandas in a future version. Use pandas.concat instead.\n",
      "  resultados=resultados.append(comprobador(a))\n"
     ]
    },
    {
     "name": "stdout",
     "output_type": "stream",
     "text": [
      "Si está el campo personalizado para la URL 'https://online.universidadeuropea.com/titulaciones-tecnologias-informacion-online/'\n"
     ]
    },
    {
     "name": "stderr",
     "output_type": "stream",
     "text": [
      "C:\\Users\\9140\\AppData\\Local\\Temp\\ipykernel_12948\\3282100434.py:2: FutureWarning: The frame.append method is deprecated and will be removed from pandas in a future version. Use pandas.concat instead.\n",
      "  resultados=resultados.append(comprobador(a))\n"
     ]
    },
    {
     "name": "stdout",
     "output_type": "stream",
     "text": [
      "Si está el campo personalizado para la URL 'https://online.universidadeuropea.com/ferias-latam/'\n"
     ]
    },
    {
     "name": "stderr",
     "output_type": "stream",
     "text": [
      "C:\\Users\\9140\\AppData\\Local\\Temp\\ipykernel_12948\\3282100434.py:2: FutureWarning: The frame.append method is deprecated and will be removed from pandas in a future version. Use pandas.concat instead.\n",
      "  resultados=resultados.append(comprobador(a))\n"
     ]
    },
    {
     "name": "stdout",
     "output_type": "stream",
     "text": [
      "No está el campo personalizado para la URL 'https://online.universidadeuropea.com/curso-experto-biomarcadores-enfermedades-inmunomediadas-online/'\n"
     ]
    },
    {
     "name": "stderr",
     "output_type": "stream",
     "text": [
      "C:\\Users\\9140\\AppData\\Local\\Temp\\ipykernel_12948\\3282100434.py:2: FutureWarning: The frame.append method is deprecated and will be removed from pandas in a future version. Use pandas.concat instead.\n",
      "  resultados=resultados.append(comprobador(a))\n"
     ]
    },
    {
     "name": "stdout",
     "output_type": "stream",
     "text": [
      "Si está el campo personalizado para la URL 'https://online.universidadeuropea.com/postgrado-experto-seguridad-vial-online/'\n"
     ]
    },
    {
     "name": "stderr",
     "output_type": "stream",
     "text": [
      "C:\\Users\\9140\\AppData\\Local\\Temp\\ipykernel_12948\\3282100434.py:2: FutureWarning: The frame.append method is deprecated and will be removed from pandas in a future version. Use pandas.concat instead.\n",
      "  resultados=resultados.append(comprobador(a))\n"
     ]
    },
    {
     "name": "stdout",
     "output_type": "stream",
     "text": [
      "Si está el campo personalizado para la URL 'https://online.universidadeuropea.com/curso-robotica-programacion-impresion3d-docentes-online/'\n"
     ]
    },
    {
     "name": "stderr",
     "output_type": "stream",
     "text": [
      "C:\\Users\\9140\\AppData\\Local\\Temp\\ipykernel_12948\\3282100434.py:2: FutureWarning: The frame.append method is deprecated and will be removed from pandas in a future version. Use pandas.concat instead.\n",
      "  resultados=resultados.append(comprobador(a))\n"
     ]
    },
    {
     "name": "stdout",
     "output_type": "stream",
     "text": [
      "Si está el campo personalizado para la URL 'https://online.universidadeuropea.com/experto-universitario-analitica-web-online/'\n"
     ]
    },
    {
     "name": "stderr",
     "output_type": "stream",
     "text": [
      "C:\\Users\\9140\\AppData\\Local\\Temp\\ipykernel_12948\\3282100434.py:2: FutureWarning: The frame.append method is deprecated and will be removed from pandas in a future version. Use pandas.concat instead.\n",
      "  resultados=resultados.append(comprobador(a))\n"
     ]
    },
    {
     "name": "stdout",
     "output_type": "stream",
     "text": [
      "Si está el campo personalizado para la URL 'https://online.universidadeuropea.com/experto-universitario-big-data-fundamentals-online/'\n"
     ]
    },
    {
     "name": "stderr",
     "output_type": "stream",
     "text": [
      "C:\\Users\\9140\\AppData\\Local\\Temp\\ipykernel_12948\\3282100434.py:2: FutureWarning: The frame.append method is deprecated and will be removed from pandas in a future version. Use pandas.concat instead.\n",
      "  resultados=resultados.append(comprobador(a))\n"
     ]
    },
    {
     "name": "stdout",
     "output_type": "stream",
     "text": [
      "Si está el campo personalizado para la URL 'https://online.universidadeuropea.com/curso-blockchain-online/'\n"
     ]
    },
    {
     "name": "stderr",
     "output_type": "stream",
     "text": [
      "C:\\Users\\9140\\AppData\\Local\\Temp\\ipykernel_12948\\3282100434.py:2: FutureWarning: The frame.append method is deprecated and will be removed from pandas in a future version. Use pandas.concat instead.\n",
      "  resultados=resultados.append(comprobador(a))\n"
     ]
    },
    {
     "name": "stdout",
     "output_type": "stream",
     "text": [
      "Si está el campo personalizado para la URL 'https://online.universidadeuropea.com/curso-comportamiento-consumidor-online/'\n"
     ]
    },
    {
     "name": "stderr",
     "output_type": "stream",
     "text": [
      "C:\\Users\\9140\\AppData\\Local\\Temp\\ipykernel_12948\\3282100434.py:2: FutureWarning: The frame.append method is deprecated and will be removed from pandas in a future version. Use pandas.concat instead.\n",
      "  resultados=resultados.append(comprobador(a))\n"
     ]
    },
    {
     "name": "stdout",
     "output_type": "stream",
     "text": [
      "Si está el campo personalizado para la URL 'https://online.universidadeuropea.com/experto-universitario-comunicacion-paciente-situaciones-dificiles-e-inteligencia-emocional/'\n"
     ]
    },
    {
     "name": "stderr",
     "output_type": "stream",
     "text": [
      "C:\\Users\\9140\\AppData\\Local\\Temp\\ipykernel_12948\\3282100434.py:2: FutureWarning: The frame.append method is deprecated and will be removed from pandas in a future version. Use pandas.concat instead.\n",
      "  resultados=resultados.append(comprobador(a))\n"
     ]
    },
    {
     "name": "stdout",
     "output_type": "stream",
     "text": [
      "Si está el campo personalizado para la URL 'https://online.universidadeuropea.com/curso-data-science-online/'\n"
     ]
    },
    {
     "name": "stderr",
     "output_type": "stream",
     "text": [
      "C:\\Users\\9140\\AppData\\Local\\Temp\\ipykernel_12948\\3282100434.py:2: FutureWarning: The frame.append method is deprecated and will be removed from pandas in a future version. Use pandas.concat instead.\n",
      "  resultados=resultados.append(comprobador(a))\n"
     ]
    },
    {
     "name": "stdout",
     "output_type": "stream",
     "text": [
      "Si está el campo personalizado para la URL 'https://online.universidadeuropea.com/experto-universitario-ecommerce-online/'\n"
     ]
    },
    {
     "name": "stderr",
     "output_type": "stream",
     "text": [
      "C:\\Users\\9140\\AppData\\Local\\Temp\\ipykernel_12948\\3282100434.py:2: FutureWarning: The frame.append method is deprecated and will be removed from pandas in a future version. Use pandas.concat instead.\n",
      "  resultados=resultados.append(comprobador(a))\n"
     ]
    },
    {
     "name": "stdout",
     "output_type": "stream",
     "text": [
      "Si está el campo personalizado para la URL 'https://online.universidadeuropea.com/experto-universitario-en-business-intelligence-decision-making-online/'\n"
     ]
    },
    {
     "name": "stderr",
     "output_type": "stream",
     "text": [
      "C:\\Users\\9140\\AppData\\Local\\Temp\\ipykernel_12948\\3282100434.py:2: FutureWarning: The frame.append method is deprecated and will be removed from pandas in a future version. Use pandas.concat instead.\n",
      "  resultados=resultados.append(comprobador(a))\n"
     ]
    },
    {
     "name": "stdout",
     "output_type": "stream",
     "text": [
      "Si está el campo personalizado para la URL 'https://online.universidadeuropea.com/experto-universitario-en-gestion-global-talento-online/'\n"
     ]
    },
    {
     "name": "stderr",
     "output_type": "stream",
     "text": [
      "C:\\Users\\9140\\AppData\\Local\\Temp\\ipykernel_12948\\3282100434.py:2: FutureWarning: The frame.append method is deprecated and will be removed from pandas in a future version. Use pandas.concat instead.\n",
      "  resultados=resultados.append(comprobador(a))\n"
     ]
    },
    {
     "name": "stdout",
     "output_type": "stream",
     "text": [
      "Si está el campo personalizado para la URL 'https://online.universidadeuropea.com/experto-universitario-en-gestion-de-proyectos-y-metodologias-agile-online/'\n"
     ]
    },
    {
     "name": "stderr",
     "output_type": "stream",
     "text": [
      "C:\\Users\\9140\\AppData\\Local\\Temp\\ipykernel_12948\\3282100434.py:2: FutureWarning: The frame.append method is deprecated and will be removed from pandas in a future version. Use pandas.concat instead.\n",
      "  resultados=resultados.append(comprobador(a))\n"
     ]
    },
    {
     "name": "stdout",
     "output_type": "stream",
     "text": [
      "Si está el campo personalizado para la URL 'https://online.universidadeuropea.com/curso-venta-atencion-telefonica-online/'\n"
     ]
    },
    {
     "name": "stderr",
     "output_type": "stream",
     "text": [
      "C:\\Users\\9140\\AppData\\Local\\Temp\\ipykernel_12948\\3282100434.py:2: FutureWarning: The frame.append method is deprecated and will be removed from pandas in a future version. Use pandas.concat instead.\n",
      "  resultados=resultados.append(comprobador(a))\n"
     ]
    },
    {
     "name": "stdout",
     "output_type": "stream",
     "text": [
      "Si está el campo personalizado para la URL 'https://online.universidadeuropea.com/experto-universitario-en-international-marketing-management-online/'\n"
     ]
    },
    {
     "name": "stderr",
     "output_type": "stream",
     "text": [
      "C:\\Users\\9140\\AppData\\Local\\Temp\\ipykernel_12948\\3282100434.py:2: FutureWarning: The frame.append method is deprecated and will be removed from pandas in a future version. Use pandas.concat instead.\n",
      "  resultados=resultados.append(comprobador(a))\n"
     ]
    },
    {
     "name": "stdout",
     "output_type": "stream",
     "text": [
      "Si está el campo personalizado para la URL 'https://online.universidadeuropea.com/curso-marketing-sanitario-online/'\n"
     ]
    },
    {
     "name": "stderr",
     "output_type": "stream",
     "text": [
      "C:\\Users\\9140\\AppData\\Local\\Temp\\ipykernel_12948\\3282100434.py:2: FutureWarning: The frame.append method is deprecated and will be removed from pandas in a future version. Use pandas.concat instead.\n",
      "  resultados=resultados.append(comprobador(a))\n"
     ]
    },
    {
     "name": "stdout",
     "output_type": "stream",
     "text": [
      "Si está el campo personalizado para la URL 'https://online.universidadeuropea.com/experto-universitario-peritaje-informatico-informatica-forense-online/'\n"
     ]
    },
    {
     "name": "stderr",
     "output_type": "stream",
     "text": [
      "C:\\Users\\9140\\AppData\\Local\\Temp\\ipykernel_12948\\3282100434.py:2: FutureWarning: The frame.append method is deprecated and will be removed from pandas in a future version. Use pandas.concat instead.\n",
      "  resultados=resultados.append(comprobador(a))\n"
     ]
    },
    {
     "name": "stdout",
     "output_type": "stream",
     "text": [
      "Si está el campo personalizado para la URL 'https://online.universidadeuropea.com/experto-universitario-seo-sem-online/'\n"
     ]
    },
    {
     "name": "stderr",
     "output_type": "stream",
     "text": [
      "C:\\Users\\9140\\AppData\\Local\\Temp\\ipykernel_12948\\3282100434.py:2: FutureWarning: The frame.append method is deprecated and will be removed from pandas in a future version. Use pandas.concat instead.\n",
      "  resultados=resultados.append(comprobador(a))\n"
     ]
    },
    {
     "name": "stdout",
     "output_type": "stream",
     "text": [
      "Si está el campo personalizado para la URL 'https://online.universidadeuropea.com/experto-universitario-terapias-virtuales-psicologia/'\n"
     ]
    },
    {
     "name": "stderr",
     "output_type": "stream",
     "text": [
      "C:\\Users\\9140\\AppData\\Local\\Temp\\ipykernel_12948\\3282100434.py:2: FutureWarning: The frame.append method is deprecated and will be removed from pandas in a future version. Use pandas.concat instead.\n",
      "  resultados=resultados.append(comprobador(a))\n"
     ]
    },
    {
     "name": "stdout",
     "output_type": "stream",
     "text": [
      "Si está el campo personalizado para la URL 'https://online.universidadeuropea.com/curso-universitario-en-finanzas-aplicadas-al-marketing-online/'\n"
     ]
    },
    {
     "name": "stderr",
     "output_type": "stream",
     "text": [
      "C:\\Users\\9140\\AppData\\Local\\Temp\\ipykernel_12948\\3282100434.py:2: FutureWarning: The frame.append method is deprecated and will be removed from pandas in a future version. Use pandas.concat instead.\n",
      "  resultados=resultados.append(comprobador(a))\n"
     ]
    },
    {
     "name": "stdout",
     "output_type": "stream",
     "text": [
      "No está el campo personalizado para la URL 'https://online.universidadeuropea.com/formacion-online/'\n"
     ]
    },
    {
     "name": "stderr",
     "output_type": "stream",
     "text": [
      "C:\\Users\\9140\\AppData\\Local\\Temp\\ipykernel_12948\\3282100434.py:2: FutureWarning: The frame.append method is deprecated and will be removed from pandas in a future version. Use pandas.concat instead.\n",
      "  resultados=resultados.append(comprobador(a))\n"
     ]
    },
    {
     "name": "stdout",
     "output_type": "stream",
     "text": [
      "Si está el campo personalizado para la URL 'https://online.universidadeuropea.com/formacion-permanente-online/'\n"
     ]
    },
    {
     "name": "stderr",
     "output_type": "stream",
     "text": [
      "C:\\Users\\9140\\AppData\\Local\\Temp\\ipykernel_12948\\3282100434.py:2: FutureWarning: The frame.append method is deprecated and will be removed from pandas in a future version. Use pandas.concat instead.\n",
      "  resultados=resultados.append(comprobador(a))\n"
     ]
    },
    {
     "name": "stdout",
     "output_type": "stream",
     "text": [
      "Si está el campo personalizado para la URL 'https://online.universidadeuropea.com/grados-superiores-empresa-tecnologia-marketing/'\n"
     ]
    },
    {
     "name": "stderr",
     "output_type": "stream",
     "text": [
      "C:\\Users\\9140\\AppData\\Local\\Temp\\ipykernel_12948\\3282100434.py:2: FutureWarning: The frame.append method is deprecated and will be removed from pandas in a future version. Use pandas.concat instead.\n",
      "  resultados=resultados.append(comprobador(a))\n"
     ]
    },
    {
     "name": "stdout",
     "output_type": "stream",
     "text": [
      "Si está el campo personalizado para la URL 'https://online.universidadeuropea.com/fuerzas-y-cuerpos-de-seguridad/'\n"
     ]
    },
    {
     "name": "stderr",
     "output_type": "stream",
     "text": [
      "C:\\Users\\9140\\AppData\\Local\\Temp\\ipykernel_12948\\3282100434.py:2: FutureWarning: The frame.append method is deprecated and will be removed from pandas in a future version. Use pandas.concat instead.\n",
      "  resultados=resultados.append(comprobador(a))\n"
     ]
    },
    {
     "name": "stdout",
     "output_type": "stream",
     "text": [
      "Si está el campo personalizado para la URL 'https://estudiar.universidadeuropea.com/gestion-y-planificacion-sanitaria-landingdual/'\n"
     ]
    },
    {
     "name": "stderr",
     "output_type": "stream",
     "text": [
      "C:\\Users\\9140\\AppData\\Local\\Temp\\ipykernel_12948\\3282100434.py:2: FutureWarning: The frame.append method is deprecated and will be removed from pandas in a future version. Use pandas.concat instead.\n",
      "  resultados=resultados.append(comprobador(a))\n"
     ]
    },
    {
     "name": "stdout",
     "output_type": "stream",
     "text": [
      "Si está el campo personalizado para la URL 'https://online.universidadeuropea.com/grado-administracion-direccion-empresas-online/'\n"
     ]
    },
    {
     "name": "stderr",
     "output_type": "stream",
     "text": [
      "C:\\Users\\9140\\AppData\\Local\\Temp\\ipykernel_12948\\3282100434.py:2: FutureWarning: The frame.append method is deprecated and will be removed from pandas in a future version. Use pandas.concat instead.\n",
      "  resultados=resultados.append(comprobador(a))\n"
     ]
    },
    {
     "name": "stdout",
     "output_type": "stream",
     "text": [
      "Si está el campo personalizado para la URL 'https://online.universidadeuropea.com/grado-diseno-grafico-online/'\n"
     ]
    },
    {
     "name": "stderr",
     "output_type": "stream",
     "text": [
      "C:\\Users\\9140\\AppData\\Local\\Temp\\ipykernel_12948\\3282100434.py:2: FutureWarning: The frame.append method is deprecated and will be removed from pandas in a future version. Use pandas.concat instead.\n",
      "  resultados=resultados.append(comprobador(a))\n"
     ]
    },
    {
     "name": "stdout",
     "output_type": "stream",
     "text": [
      "Si está el campo personalizado para la URL 'https://online.universidadeuropea.com/grado-en-criminologia-online/'\n"
     ]
    },
    {
     "name": "stderr",
     "output_type": "stream",
     "text": [
      "C:\\Users\\9140\\AppData\\Local\\Temp\\ipykernel_12948\\3282100434.py:2: FutureWarning: The frame.append method is deprecated and will be removed from pandas in a future version. Use pandas.concat instead.\n",
      "  resultados=resultados.append(comprobador(a))\n"
     ]
    },
    {
     "name": "stdout",
     "output_type": "stream",
     "text": [
      "Si está el campo personalizado para la URL 'https://online.universidadeuropea.com/grado-farmacia-madrid-semipresencial/'\n"
     ]
    },
    {
     "name": "stderr",
     "output_type": "stream",
     "text": [
      "C:\\Users\\9140\\AppData\\Local\\Temp\\ipykernel_12948\\3282100434.py:2: FutureWarning: The frame.append method is deprecated and will be removed from pandas in a future version. Use pandas.concat instead.\n",
      "  resultados=resultados.append(comprobador(a))\n"
     ]
    },
    {
     "name": "stdout",
     "output_type": "stream",
     "text": [
      "Si está el campo personalizado para la URL 'https://online.universidadeuropea.com/grado-ingenieria-informatica-online/'\n"
     ]
    },
    {
     "name": "stderr",
     "output_type": "stream",
     "text": [
      "C:\\Users\\9140\\AppData\\Local\\Temp\\ipykernel_12948\\3282100434.py:2: FutureWarning: The frame.append method is deprecated and will be removed from pandas in a future version. Use pandas.concat instead.\n",
      "  resultados=resultados.append(comprobador(a))\n"
     ]
    },
    {
     "name": "stdout",
     "output_type": "stream",
     "text": [
      "Si está el campo personalizado para la URL 'https://online.universidadeuropea.com/grado-logopedia-semipresencial/'\n"
     ]
    },
    {
     "name": "stderr",
     "output_type": "stream",
     "text": [
      "C:\\Users\\9140\\AppData\\Local\\Temp\\ipykernel_12948\\3282100434.py:2: FutureWarning: The frame.append method is deprecated and will be removed from pandas in a future version. Use pandas.concat instead.\n",
      "  resultados=resultados.append(comprobador(a))\n"
     ]
    },
    {
     "name": "stdout",
     "output_type": "stream",
     "text": [
      "Si está el campo personalizado para la URL 'https://online.universidadeuropea.com/grado-musicologia-online/'\n"
     ]
    },
    {
     "name": "stderr",
     "output_type": "stream",
     "text": [
      "C:\\Users\\9140\\AppData\\Local\\Temp\\ipykernel_12948\\3282100434.py:2: FutureWarning: The frame.append method is deprecated and will be removed from pandas in a future version. Use pandas.concat instead.\n",
      "  resultados=resultados.append(comprobador(a))\n"
     ]
    },
    {
     "name": "stdout",
     "output_type": "stream",
     "text": [
      "Si está el campo personalizado para la URL 'https://online.universidadeuropea.com/grado-nutricion-semipresencial/'\n"
     ]
    },
    {
     "name": "stderr",
     "output_type": "stream",
     "text": [
      "C:\\Users\\9140\\AppData\\Local\\Temp\\ipykernel_12948\\3282100434.py:2: FutureWarning: The frame.append method is deprecated and will be removed from pandas in a future version. Use pandas.concat instead.\n",
      "  resultados=resultados.append(comprobador(a))\n"
     ]
    },
    {
     "name": "stdout",
     "output_type": "stream",
     "text": [
      "Si está el campo personalizado para la URL 'https://online.universidadeuropea.com/grado-educacion-infantil-online/'\n"
     ]
    },
    {
     "name": "stderr",
     "output_type": "stream",
     "text": [
      "C:\\Users\\9140\\AppData\\Local\\Temp\\ipykernel_12948\\3282100434.py:2: FutureWarning: The frame.append method is deprecated and will be removed from pandas in a future version. Use pandas.concat instead.\n",
      "  resultados=resultados.append(comprobador(a))\n"
     ]
    },
    {
     "name": "stdout",
     "output_type": "stream",
     "text": [
      "Si está el campo personalizado para la URL 'https://online.universidadeuropea.com/grado-marketing/'\n"
     ]
    },
    {
     "name": "stderr",
     "output_type": "stream",
     "text": [
      "C:\\Users\\9140\\AppData\\Local\\Temp\\ipykernel_12948\\3282100434.py:2: FutureWarning: The frame.append method is deprecated and will be removed from pandas in a future version. Use pandas.concat instead.\n",
      "  resultados=resultados.append(comprobador(a))\n"
     ]
    },
    {
     "name": "stdout",
     "output_type": "stream",
     "text": [
      "Si está el campo personalizado para la URL 'https://online.universidadeuropea.com/grado-online-en-derecho/'\n"
     ]
    },
    {
     "name": "stderr",
     "output_type": "stream",
     "text": [
      "C:\\Users\\9140\\AppData\\Local\\Temp\\ipykernel_12948\\3282100434.py:2: FutureWarning: The frame.append method is deprecated and will be removed from pandas in a future version. Use pandas.concat instead.\n",
      "  resultados=resultados.append(comprobador(a))\n"
     ]
    },
    {
     "name": "stdout",
     "output_type": "stream",
     "text": [
      "Si está el campo personalizado para la URL 'https://online.universidadeuropea.com/grado-gestion-deportiva-online/'\n"
     ]
    },
    {
     "name": "stderr",
     "output_type": "stream",
     "text": [
      "C:\\Users\\9140\\AppData\\Local\\Temp\\ipykernel_12948\\3282100434.py:2: FutureWarning: The frame.append method is deprecated and will be removed from pandas in a future version. Use pandas.concat instead.\n",
      "  resultados=resultados.append(comprobador(a))\n"
     ]
    },
    {
     "name": "stdout",
     "output_type": "stream",
     "text": [
      "Si está el campo personalizado para la URL 'https://online.universidadeuropea.com/grado-psicologia-online/'\n"
     ]
    },
    {
     "name": "stderr",
     "output_type": "stream",
     "text": [
      "C:\\Users\\9140\\AppData\\Local\\Temp\\ipykernel_12948\\3282100434.py:2: FutureWarning: The frame.append method is deprecated and will be removed from pandas in a future version. Use pandas.concat instead.\n",
      "  resultados=resultados.append(comprobador(a))\n"
     ]
    },
    {
     "name": "stdout",
     "output_type": "stream",
     "text": [
      "Si está el campo personalizado para la URL 'https://online.universidadeuropea.com/grado-relaciones-laborales-recursos-humanos-online/'\n"
     ]
    },
    {
     "name": "stderr",
     "output_type": "stream",
     "text": [
      "C:\\Users\\9140\\AppData\\Local\\Temp\\ipykernel_12948\\3282100434.py:2: FutureWarning: The frame.append method is deprecated and will be removed from pandas in a future version. Use pandas.concat instead.\n",
      "  resultados=resultados.append(comprobador(a))\n"
     ]
    },
    {
     "name": "stdout",
     "output_type": "stream",
     "text": [
      "Si está el campo personalizado para la URL 'https://online.universidadeuropea.com/grados-area-musica/'\n"
     ]
    },
    {
     "name": "stderr",
     "output_type": "stream",
     "text": [
      "C:\\Users\\9140\\AppData\\Local\\Temp\\ipykernel_12948\\3282100434.py:2: FutureWarning: The frame.append method is deprecated and will be removed from pandas in a future version. Use pandas.concat instead.\n",
      "  resultados=resultados.append(comprobador(a))\n"
     ]
    },
    {
     "name": "stdout",
     "output_type": "stream",
     "text": [
      "Si está el campo personalizado para la URL 'https://online.universidadeuropea.com/area-educacion/'\n"
     ]
    },
    {
     "name": "stderr",
     "output_type": "stream",
     "text": [
      "C:\\Users\\9140\\AppData\\Local\\Temp\\ipykernel_12948\\3282100434.py:2: FutureWarning: The frame.append method is deprecated and will be removed from pandas in a future version. Use pandas.concat instead.\n",
      "  resultados=resultados.append(comprobador(a))\n"
     ]
    },
    {
     "name": "stdout",
     "output_type": "stream",
     "text": [
      "Si está el campo personalizado para la URL 'https://online.universidadeuropea.com/grados-master-area-deportes/'\n"
     ]
    },
    {
     "name": "stderr",
     "output_type": "stream",
     "text": [
      "C:\\Users\\9140\\AppData\\Local\\Temp\\ipykernel_12948\\3282100434.py:2: FutureWarning: The frame.append method is deprecated and will be removed from pandas in a future version. Use pandas.concat instead.\n",
      "  resultados=resultados.append(comprobador(a))\n"
     ]
    },
    {
     "name": "stdout",
     "output_type": "stream",
     "text": [
      "Si está el campo personalizado para la URL 'https://online.universidadeuropea.com/grados-master-area-psicologia/'\n"
     ]
    },
    {
     "name": "stderr",
     "output_type": "stream",
     "text": [
      "C:\\Users\\9140\\AppData\\Local\\Temp\\ipykernel_12948\\3282100434.py:2: FutureWarning: The frame.append method is deprecated and will be removed from pandas in a future version. Use pandas.concat instead.\n",
      "  resultados=resultados.append(comprobador(a))\n"
     ]
    },
    {
     "name": "stdout",
     "output_type": "stream",
     "text": [
      "Si está el campo personalizado para la URL 'https://online.universidadeuropea.com/grados-online-biomedicas-salud/'\n"
     ]
    },
    {
     "name": "stderr",
     "output_type": "stream",
     "text": [
      "C:\\Users\\9140\\AppData\\Local\\Temp\\ipykernel_12948\\3282100434.py:2: FutureWarning: The frame.append method is deprecated and will be removed from pandas in a future version. Use pandas.concat instead.\n",
      "  resultados=resultados.append(comprobador(a))\n"
     ]
    },
    {
     "name": "stdout",
     "output_type": "stream",
     "text": [
      "Si está el campo personalizado para la URL 'https://online.universidadeuropea.com/grado-terapia-ocupacional-semipresencial/'\n"
     ]
    },
    {
     "name": "stderr",
     "output_type": "stream",
     "text": [
      "C:\\Users\\9140\\AppData\\Local\\Temp\\ipykernel_12948\\3282100434.py:2: FutureWarning: The frame.append method is deprecated and will be removed from pandas in a future version. Use pandas.concat instead.\n",
      "  resultados=resultados.append(comprobador(a))\n"
     ]
    },
    {
     "name": "stdout",
     "output_type": "stream",
     "text": [
      "Si está el campo personalizado para la URL 'https://online.universidadeuropea.com/grado-traduccion-e-interpretacion-online/'\n"
     ]
    },
    {
     "name": "stderr",
     "output_type": "stream",
     "text": [
      "C:\\Users\\9140\\AppData\\Local\\Temp\\ipykernel_12948\\3282100434.py:2: FutureWarning: The frame.append method is deprecated and will be removed from pandas in a future version. Use pandas.concat instead.\n",
      "  resultados=resultados.append(comprobador(a))\n"
     ]
    },
    {
     "name": "stdout",
     "output_type": "stream",
     "text": [
      "No está el campo personalizado para la URL 'https://online.universidadeuropea.com/guia-educacion/'\n"
     ]
    },
    {
     "name": "stderr",
     "output_type": "stream",
     "text": [
      "C:\\Users\\9140\\AppData\\Local\\Temp\\ipykernel_12948\\3282100434.py:2: FutureWarning: The frame.append method is deprecated and will be removed from pandas in a future version. Use pandas.concat instead.\n",
      "  resultados=resultados.append(comprobador(a))\n"
     ]
    },
    {
     "name": "stdout",
     "output_type": "stream",
     "text": [
      "Si está el campo personalizado para la URL 'https://online.universidadeuropea.com/maestrias-oficiales-educacion-peru/'\n"
     ]
    },
    {
     "name": "stderr",
     "output_type": "stream",
     "text": [
      "C:\\Users\\9140\\AppData\\Local\\Temp\\ipykernel_12948\\3282100434.py:2: FutureWarning: The frame.append method is deprecated and will be removed from pandas in a future version. Use pandas.concat instead.\n",
      "  resultados=resultados.append(comprobador(a))\n"
     ]
    },
    {
     "name": "stdout",
     "output_type": "stream",
     "text": [
      "Si está el campo personalizado para la URL 'https://online.universidadeuropea.com/master-innovacion-educativa-online/'\n"
     ]
    },
    {
     "name": "stderr",
     "output_type": "stream",
     "text": [
      "C:\\Users\\9140\\AppData\\Local\\Temp\\ipykernel_12948\\3282100434.py:2: FutureWarning: The frame.append method is deprecated and will be removed from pandas in a future version. Use pandas.concat instead.\n",
      "  resultados=resultados.append(comprobador(a))\n"
     ]
    },
    {
     "name": "stdout",
     "output_type": "stream",
     "text": [
      "Si está el campo personalizado para la URL 'https://online.universidadeuropea.com/master-inteligencia-artificial-data-sciencie-online/'\n"
     ]
    },
    {
     "name": "stderr",
     "output_type": "stream",
     "text": [
      "C:\\Users\\9140\\AppData\\Local\\Temp\\ipykernel_12948\\3282100434.py:2: FutureWarning: The frame.append method is deprecated and will be removed from pandas in a future version. Use pandas.concat instead.\n",
      "  resultados=resultados.append(comprobador(a))\n"
     ]
    },
    {
     "name": "stdout",
     "output_type": "stream",
     "text": [
      "Si está el campo personalizado para la URL 'https://online.universidadeuropea.com/intensive-spanish-courses-online/'\n"
     ]
    },
    {
     "name": "stderr",
     "output_type": "stream",
     "text": [
      "C:\\Users\\9140\\AppData\\Local\\Temp\\ipykernel_12948\\3282100434.py:2: FutureWarning: The frame.append method is deprecated and will be removed from pandas in a future version. Use pandas.concat instead.\n",
      "  resultados=resultados.append(comprobador(a))\n"
     ]
    },
    {
     "name": "stdout",
     "output_type": "stream",
     "text": [
      "Si está el campo personalizado para la URL 'https://estudiar.universidadeuropea.com/jornadas-puertas-abierta-postgrado-hyflex/'\n"
     ]
    },
    {
     "name": "stderr",
     "output_type": "stream",
     "text": [
      "C:\\Users\\9140\\AppData\\Local\\Temp\\ipykernel_12948\\3282100434.py:2: FutureWarning: The frame.append method is deprecated and will be removed from pandas in a future version. Use pandas.concat instead.\n",
      "  resultados=resultados.append(comprobador(a))\n"
     ]
    },
    {
     "name": "stdout",
     "output_type": "stream",
     "text": [
      "Si está el campo personalizado para la URL 'https://online.universidadeuropea.com/maestria-oficial-enfermeria-latam/'\n"
     ]
    },
    {
     "name": "stderr",
     "output_type": "stream",
     "text": [
      "C:\\Users\\9140\\AppData\\Local\\Temp\\ipykernel_12948\\3282100434.py:2: FutureWarning: The frame.append method is deprecated and will be removed from pandas in a future version. Use pandas.concat instead.\n",
      "  resultados=resultados.append(comprobador(a))\n"
     ]
    },
    {
     "name": "stdout",
     "output_type": "stream",
     "text": [
      "Si está el campo personalizado para la URL 'https://online.universidadeuropea.com/maestria-energias-renovables-latam/'\n"
     ]
    },
    {
     "name": "stderr",
     "output_type": "stream",
     "text": [
      "C:\\Users\\9140\\AppData\\Local\\Temp\\ipykernel_12948\\3282100434.py:2: FutureWarning: The frame.append method is deprecated and will be removed from pandas in a future version. Use pandas.concat instead.\n",
      "  resultados=resultados.append(comprobador(a))\n"
     ]
    },
    {
     "name": "stdout",
     "output_type": "stream",
     "text": [
      "Si está el campo personalizado para la URL 'https://online.universidadeuropea.com/maestria-oficial-direccion-empresas-mba-latam/'\n"
     ]
    },
    {
     "name": "stderr",
     "output_type": "stream",
     "text": [
      "C:\\Users\\9140\\AppData\\Local\\Temp\\ipykernel_12948\\3282100434.py:2: FutureWarning: The frame.append method is deprecated and will be removed from pandas in a future version. Use pandas.concat instead.\n",
      "  resultados=resultados.append(comprobador(a))\n"
     ]
    },
    {
     "name": "stdout",
     "output_type": "stream",
     "text": [
      "Si está el campo personalizado para la URL 'https://online.universidadeuropea.com/maestria-oficial-docencia-universitaria-peru/'\n"
     ]
    },
    {
     "name": "stderr",
     "output_type": "stream",
     "text": [
      "C:\\Users\\9140\\AppData\\Local\\Temp\\ipykernel_12948\\3282100434.py:2: FutureWarning: The frame.append method is deprecated and will be removed from pandas in a future version. Use pandas.concat instead.\n",
      "  resultados=resultados.append(comprobador(a))\n"
     ]
    },
    {
     "name": "stdout",
     "output_type": "stream",
     "text": [
      "Si está el campo personalizado para la URL 'https://online.universidadeuropea.com/maestria-oficial-gestion-negocios-internacionales-latam/'\n"
     ]
    },
    {
     "name": "stderr",
     "output_type": "stream",
     "text": [
      "C:\\Users\\9140\\AppData\\Local\\Temp\\ipykernel_12948\\3282100434.py:2: FutureWarning: The frame.append method is deprecated and will be removed from pandas in a future version. Use pandas.concat instead.\n",
      "  resultados=resultados.append(comprobador(a))\n"
     ]
    },
    {
     "name": "stdout",
     "output_type": "stream",
     "text": [
      "Si está el campo personalizado para la URL 'https://online.universidadeuropea.com/maestria-oficial-seguridad-salud-ocupacional-latam/'\n"
     ]
    },
    {
     "name": "stderr",
     "output_type": "stream",
     "text": [
      "C:\\Users\\9140\\AppData\\Local\\Temp\\ipykernel_12948\\3282100434.py:2: FutureWarning: The frame.append method is deprecated and will be removed from pandas in a future version. Use pandas.concat instead.\n",
      "  resultados=resultados.append(comprobador(a))\n"
     ]
    },
    {
     "name": "stdout",
     "output_type": "stream",
     "text": [
      "Si está el campo personalizado para la URL 'https://online.universidadeuropea.com/maestrias-area-biomedicas/'\n"
     ]
    },
    {
     "name": "stderr",
     "output_type": "stream",
     "text": [
      "C:\\Users\\9140\\AppData\\Local\\Temp\\ipykernel_12948\\3282100434.py:2: FutureWarning: The frame.append method is deprecated and will be removed from pandas in a future version. Use pandas.concat instead.\n",
      "  resultados=resultados.append(comprobador(a))\n"
     ]
    },
    {
     "name": "stdout",
     "output_type": "stream",
     "text": [
      "Si está el campo personalizado para la URL 'https://online.universidadeuropea.com/maestrias-en-linea-peru/'\n"
     ]
    },
    {
     "name": "stderr",
     "output_type": "stream",
     "text": [
      "C:\\Users\\9140\\AppData\\Local\\Temp\\ipykernel_12948\\3282100434.py:2: FutureWarning: The frame.append method is deprecated and will be removed from pandas in a future version. Use pandas.concat instead.\n",
      "  resultados=resultados.append(comprobador(a))\n"
     ]
    },
    {
     "name": "stdout",
     "output_type": "stream",
     "text": [
      "Si está el campo personalizado para la URL 'https://online.universidadeuropea.com/maestrias-biomedicas-peru/'\n"
     ]
    },
    {
     "name": "stderr",
     "output_type": "stream",
     "text": [
      "C:\\Users\\9140\\AppData\\Local\\Temp\\ipykernel_12948\\3282100434.py:2: FutureWarning: The frame.append method is deprecated and will be removed from pandas in a future version. Use pandas.concat instead.\n",
      "  resultados=resultados.append(comprobador(a))\n"
     ]
    },
    {
     "name": "stdout",
     "output_type": "stream",
     "text": [
      "Si está el campo personalizado para la URL 'https://online.universidadeuropea.com/maestrias-oficiales-juridicas/'\n"
     ]
    },
    {
     "name": "stderr",
     "output_type": "stream",
     "text": [
      "C:\\Users\\9140\\AppData\\Local\\Temp\\ipykernel_12948\\3282100434.py:2: FutureWarning: The frame.append method is deprecated and will be removed from pandas in a future version. Use pandas.concat instead.\n",
      "  resultados=resultados.append(comprobador(a))\n"
     ]
    },
    {
     "name": "stdout",
     "output_type": "stream",
     "text": [
      "Si está el campo personalizado para la URL 'https://online.universidadeuropea.com/maestrias-biomedicas/'\n"
     ]
    },
    {
     "name": "stderr",
     "output_type": "stream",
     "text": [
      "C:\\Users\\9140\\AppData\\Local\\Temp\\ipykernel_12948\\3282100434.py:2: FutureWarning: The frame.append method is deprecated and will be removed from pandas in a future version. Use pandas.concat instead.\n",
      "  resultados=resultados.append(comprobador(a))\n"
     ]
    },
    {
     "name": "stdout",
     "output_type": "stream",
     "text": [
      "Si está el campo personalizado para la URL 'https://online.universidadeuropea.com/maestrias-oficiales-juridicas-peru/'\n"
     ]
    },
    {
     "name": "stderr",
     "output_type": "stream",
     "text": [
      "C:\\Users\\9140\\AppData\\Local\\Temp\\ipykernel_12948\\3282100434.py:2: FutureWarning: The frame.append method is deprecated and will be removed from pandas in a future version. Use pandas.concat instead.\n",
      "  resultados=resultados.append(comprobador(a))\n"
     ]
    },
    {
     "name": "stdout",
     "output_type": "stream",
     "text": [
      "Si está el campo personalizado para la URL 'https://online.universidadeuropea.com/maestrias-oficiales-empresa/'\n"
     ]
    },
    {
     "name": "stderr",
     "output_type": "stream",
     "text": [
      "C:\\Users\\9140\\AppData\\Local\\Temp\\ipykernel_12948\\3282100434.py:2: FutureWarning: The frame.append method is deprecated and will be removed from pandas in a future version. Use pandas.concat instead.\n",
      "  resultados=resultados.append(comprobador(a))\n"
     ]
    },
    {
     "name": "stdout",
     "output_type": "stream",
     "text": [
      "Si está el campo personalizado para la URL 'https://online.universidadeuropea.com/maestrias-oficiales-educacion/'\n"
     ]
    },
    {
     "name": "stderr",
     "output_type": "stream",
     "text": [
      "C:\\Users\\9140\\AppData\\Local\\Temp\\ipykernel_12948\\3282100434.py:2: FutureWarning: The frame.append method is deprecated and will be removed from pandas in a future version. Use pandas.concat instead.\n",
      "  resultados=resultados.append(comprobador(a))\n"
     ]
    },
    {
     "name": "stdout",
     "output_type": "stream",
     "text": [
      "Si está el campo personalizado para la URL 'https://online.universidadeuropea.com/maestrias-oficiales-empresa-peru/'\n"
     ]
    },
    {
     "name": "stderr",
     "output_type": "stream",
     "text": [
      "C:\\Users\\9140\\AppData\\Local\\Temp\\ipykernel_12948\\3282100434.py:2: FutureWarning: The frame.append method is deprecated and will be removed from pandas in a future version. Use pandas.concat instead.\n",
      "  resultados=resultados.append(comprobador(a))\n"
     ]
    },
    {
     "name": "stdout",
     "output_type": "stream",
     "text": [
      "Si está el campo personalizado para la URL 'https://online.universidadeuropea.com/maestrias-oficiales-peru/'\n"
     ]
    },
    {
     "name": "stderr",
     "output_type": "stream",
     "text": [
      "C:\\Users\\9140\\AppData\\Local\\Temp\\ipykernel_12948\\3282100434.py:2: FutureWarning: The frame.append method is deprecated and will be removed from pandas in a future version. Use pandas.concat instead.\n",
      "  resultados=resultados.append(comprobador(a))\n"
     ]
    },
    {
     "name": "stdout",
     "output_type": "stream",
     "text": [
      "Si está el campo personalizado para la URL 'https://online.universidadeuropea.com/maestro-educacion-infantil-primaria-online/'\n"
     ]
    },
    {
     "name": "stderr",
     "output_type": "stream",
     "text": [
      "C:\\Users\\9140\\AppData\\Local\\Temp\\ipykernel_12948\\3282100434.py:2: FutureWarning: The frame.append method is deprecated and will be removed from pandas in a future version. Use pandas.concat instead.\n",
      "  resultados=resultados.append(comprobador(a))\n"
     ]
    },
    {
     "name": "stdout",
     "output_type": "stream",
     "text": [
      "Si está el campo personalizado para la URL 'https://online.universidadeuropea.com/grado-educacion-primaria-online/'\n"
     ]
    },
    {
     "name": "stderr",
     "output_type": "stream",
     "text": [
      "C:\\Users\\9140\\AppData\\Local\\Temp\\ipykernel_12948\\3282100434.py:2: FutureWarning: The frame.append method is deprecated and will be removed from pandas in a future version. Use pandas.concat instead.\n",
      "  resultados=resultados.append(comprobador(a))\n"
     ]
    },
    {
     "name": "stdout",
     "output_type": "stream",
     "text": [
      "Si está el campo personalizado para la URL 'https://online.universidadeuropea.com/master-alto-rendimiento-deportivo-real-madrid-online/'\n"
     ]
    },
    {
     "name": "stderr",
     "output_type": "stream",
     "text": [
      "C:\\Users\\9140\\AppData\\Local\\Temp\\ipykernel_12948\\3282100434.py:2: FutureWarning: The frame.append method is deprecated and will be removed from pandas in a future version. Use pandas.concat instead.\n",
      "  resultados=resultados.append(comprobador(a))\n"
     ]
    },
    {
     "name": "stdout",
     "output_type": "stream",
     "text": [
      "Si está el campo personalizado para la URL 'https://online.universidadeuropea.com/master-arquitectura-sostenible-bioconstruccion-online/'\n"
     ]
    },
    {
     "name": "stderr",
     "output_type": "stream",
     "text": [
      "C:\\Users\\9140\\AppData\\Local\\Temp\\ipykernel_12948\\3282100434.py:2: FutureWarning: The frame.append method is deprecated and will be removed from pandas in a future version. Use pandas.concat instead.\n",
      "  resultados=resultados.append(comprobador(a))\n"
     ]
    },
    {
     "name": "stdout",
     "output_type": "stream",
     "text": [
      "Si está el campo personalizado para la URL 'https://online.universidadeuropea.com/master-bim-management-online/'\n"
     ]
    },
    {
     "name": "stderr",
     "output_type": "stream",
     "text": [
      "C:\\Users\\9140\\AppData\\Local\\Temp\\ipykernel_12948\\3282100434.py:2: FutureWarning: The frame.append method is deprecated and will be removed from pandas in a future version. Use pandas.concat instead.\n",
      "  resultados=resultados.append(comprobador(a))\n"
     ]
    },
    {
     "name": "stdout",
     "output_type": "stream",
     "text": [
      "Si está el campo personalizado para la URL 'https://online.universidadeuropea.com/master-business-analytics-online/'\n"
     ]
    },
    {
     "name": "stderr",
     "output_type": "stream",
     "text": [
      "C:\\Users\\9140\\AppData\\Local\\Temp\\ipykernel_12948\\3282100434.py:2: FutureWarning: The frame.append method is deprecated and will be removed from pandas in a future version. Use pandas.concat instead.\n",
      "  resultados=resultados.append(comprobador(a))\n"
     ]
    },
    {
     "name": "stdout",
     "output_type": "stream",
     "text": [
      "No está el campo personalizado para la URL 'https://online.universidadeuropea.com/masterclasses-educacion/'\n"
     ]
    },
    {
     "name": "stderr",
     "output_type": "stream",
     "text": [
      "C:\\Users\\9140\\AppData\\Local\\Temp\\ipykernel_12948\\3282100434.py:2: FutureWarning: The frame.append method is deprecated and will be removed from pandas in a future version. Use pandas.concat instead.\n",
      "  resultados=resultados.append(comprobador(a))\n"
     ]
    },
    {
     "name": "stdout",
     "output_type": "stream",
     "text": [
      "No está el campo personalizado para la URL 'https://online.universidadeuropea.com/masterclasses-mundo-empresarial/'\n"
     ]
    },
    {
     "name": "stderr",
     "output_type": "stream",
     "text": [
      "C:\\Users\\9140\\AppData\\Local\\Temp\\ipykernel_12948\\3282100434.py:2: FutureWarning: The frame.append method is deprecated and will be removed from pandas in a future version. Use pandas.concat instead.\n",
      "  resultados=resultados.append(comprobador(a))\n"
     ]
    },
    {
     "name": "stdout",
     "output_type": "stream",
     "text": [
      "No está el campo personalizado para la URL 'https://online.universidadeuropea.com/masterclasses-innovacion-educativa/'\n"
     ]
    },
    {
     "name": "stderr",
     "output_type": "stream",
     "text": [
      "C:\\Users\\9140\\AppData\\Local\\Temp\\ipykernel_12948\\3282100434.py:2: FutureWarning: The frame.append method is deprecated and will be removed from pandas in a future version. Use pandas.concat instead.\n",
      "  resultados=resultados.append(comprobador(a))\n"
     ]
    },
    {
     "name": "stdout",
     "output_type": "stream",
     "text": [
      "Si está el campo personalizado para la URL 'https://online.universidadeuropea.com/master-universitario-gestion-negocio-maritimo-derecho-maritimo-online/'\n"
     ]
    },
    {
     "name": "stderr",
     "output_type": "stream",
     "text": [
      "C:\\Users\\9140\\AppData\\Local\\Temp\\ipykernel_12948\\3282100434.py:2: FutureWarning: The frame.append method is deprecated and will be removed from pandas in a future version. Use pandas.concat instead.\n",
      "  resultados=resultados.append(comprobador(a))\n"
     ]
    },
    {
     "name": "stdout",
     "output_type": "stream",
     "text": [
      "Si está el campo personalizado para la URL 'https://online.universidadeuropea.com/master-direccion-futbol-metodologias-juego-online/'\n"
     ]
    },
    {
     "name": "stderr",
     "output_type": "stream",
     "text": [
      "C:\\Users\\9140\\AppData\\Local\\Temp\\ipykernel_12948\\3282100434.py:2: FutureWarning: The frame.append method is deprecated and will be removed from pandas in a future version. Use pandas.concat instead.\n",
      "  resultados=resultados.append(comprobador(a))\n"
     ]
    },
    {
     "name": "stdout",
     "output_type": "stream",
     "text": [
      "Si está el campo personalizado para la URL 'https://online.universidadeuropea.com/master-universitario-direccion-protocolo-organizacion-eventos-online/'\n"
     ]
    },
    {
     "name": "stderr",
     "output_type": "stream",
     "text": [
      "C:\\Users\\9140\\AppData\\Local\\Temp\\ipykernel_12948\\3282100434.py:2: FutureWarning: The frame.append method is deprecated and will be removed from pandas in a future version. Use pandas.concat instead.\n",
      "  resultados=resultados.append(comprobador(a))\n"
     ]
    },
    {
     "name": "stdout",
     "output_type": "stream",
     "text": [
      "Si está el campo personalizado para la URL 'https://online.universidadeuropea.com/master-diseno-producto-online/'\n"
     ]
    },
    {
     "name": "stderr",
     "output_type": "stream",
     "text": [
      "C:\\Users\\9140\\AppData\\Local\\Temp\\ipykernel_12948\\3282100434.py:2: FutureWarning: The frame.append method is deprecated and will be removed from pandas in a future version. Use pandas.concat instead.\n",
      "  resultados=resultados.append(comprobador(a))\n"
     ]
    },
    {
     "name": "stdout",
     "output_type": "stream",
     "text": [
      "Si está el campo personalizado para la URL 'https://online.universidadeuropea.com/master-educacion-universitaria-online/'\n"
     ]
    },
    {
     "name": "stderr",
     "output_type": "stream",
     "text": [
      "C:\\Users\\9140\\AppData\\Local\\Temp\\ipykernel_12948\\3282100434.py:2: FutureWarning: The frame.append method is deprecated and will be removed from pandas in a future version. Use pandas.concat instead.\n",
      "  resultados=resultados.append(comprobador(a))\n"
     ]
    },
    {
     "name": "stdout",
     "output_type": "stream",
     "text": [
      "No está el campo personalizado para la URL 'https://online.universidadeuropea.com/master-direccion-gestion-enfermeria-ande/'\n"
     ]
    },
    {
     "name": "stderr",
     "output_type": "stream",
     "text": [
      "C:\\Users\\9140\\AppData\\Local\\Temp\\ipykernel_12948\\3282100434.py:2: FutureWarning: The frame.append method is deprecated and will be removed from pandas in a future version. Use pandas.concat instead.\n",
      "  resultados=resultados.append(comprobador(a))\n"
     ]
    },
    {
     "name": "stdout",
     "output_type": "stream",
     "text": [
      "Si está el campo personalizado para la URL 'https://online.universidadeuropea.com/master-en-marketing-online/'\n"
     ]
    },
    {
     "name": "stderr",
     "output_type": "stream",
     "text": [
      "C:\\Users\\9140\\AppData\\Local\\Temp\\ipykernel_12948\\3282100434.py:2: FutureWarning: The frame.append method is deprecated and will be removed from pandas in a future version. Use pandas.concat instead.\n",
      "  resultados=resultados.append(comprobador(a))\n"
     ]
    },
    {
     "name": "stdout",
     "output_type": "stream",
     "text": [
      "Si está el campo personalizado para la URL 'https://online.universidadeuropea.com/master-en-neuropsicologia-clinica/'\n"
     ]
    },
    {
     "name": "stderr",
     "output_type": "stream",
     "text": [
      "C:\\Users\\9140\\AppData\\Local\\Temp\\ipykernel_12948\\3282100434.py:2: FutureWarning: The frame.append method is deprecated and will be removed from pandas in a future version. Use pandas.concat instead.\n",
      "  resultados=resultados.append(comprobador(a))\n"
     ]
    },
    {
     "name": "stdout",
     "output_type": "stream",
     "text": [
      "Si está el campo personalizado para la URL 'https://online.universidadeuropea.com/masters-ingenieria-prl-tecnologia-construccion-diseno/'\n"
     ]
    },
    {
     "name": "stderr",
     "output_type": "stream",
     "text": [
      "C:\\Users\\9140\\AppData\\Local\\Temp\\ipykernel_12948\\3282100434.py:2: FutureWarning: The frame.append method is deprecated and will be removed from pandas in a future version. Use pandas.concat instead.\n",
      "  resultados=resultados.append(comprobador(a))\n"
     ]
    },
    {
     "name": "stdout",
     "output_type": "stream",
     "text": [
      "Si está el campo personalizado para la URL 'https://online.universidadeuropea.com/formacion-steam-titulos-oficiales-online/'\n"
     ]
    },
    {
     "name": "stderr",
     "output_type": "stream",
     "text": [
      "C:\\Users\\9140\\AppData\\Local\\Temp\\ipykernel_12948\\3282100434.py:2: FutureWarning: The frame.append method is deprecated and will be removed from pandas in a future version. Use pandas.concat instead.\n",
      "  resultados=resultados.append(comprobador(a))\n"
     ]
    },
    {
     "name": "stdout",
     "output_type": "stream",
     "text": [
      "Si está el campo personalizado para la URL 'https://online.universidadeuropea.com/generica-masters-online/'\n"
     ]
    },
    {
     "name": "stderr",
     "output_type": "stream",
     "text": [
      "C:\\Users\\9140\\AppData\\Local\\Temp\\ipykernel_12948\\3282100434.py:2: FutureWarning: The frame.append method is deprecated and will be removed from pandas in a future version. Use pandas.concat instead.\n",
      "  resultados=resultados.append(comprobador(a))\n"
     ]
    },
    {
     "name": "stdout",
     "output_type": "stream",
     "text": [
      "Si está el campo personalizado para la URL 'https://online.universidadeuropea.com/generica-masters-empresa/'\n"
     ]
    },
    {
     "name": "stderr",
     "output_type": "stream",
     "text": [
      "C:\\Users\\9140\\AppData\\Local\\Temp\\ipykernel_12948\\3282100434.py:2: FutureWarning: The frame.append method is deprecated and will be removed from pandas in a future version. Use pandas.concat instead.\n",
      "  resultados=resultados.append(comprobador(a))\n"
     ]
    },
    {
     "name": "stdout",
     "output_type": "stream",
     "text": [
      "Si está el campo personalizado para la URL 'https://online.universidadeuropea.com/masters-online-educacion/'\n"
     ]
    },
    {
     "name": "stderr",
     "output_type": "stream",
     "text": [
      "C:\\Users\\9140\\AppData\\Local\\Temp\\ipykernel_12948\\3282100434.py:2: FutureWarning: The frame.append method is deprecated and will be removed from pandas in a future version. Use pandas.concat instead.\n",
      "  resultados=resultados.append(comprobador(a))\n"
     ]
    },
    {
     "name": "stdout",
     "output_type": "stream",
     "text": [
      "Si está el campo personalizado para la URL 'https://estudiar.universidadeuropea.com/masters-profesionales-futbol/'\n"
     ]
    },
    {
     "name": "stderr",
     "output_type": "stream",
     "text": [
      "C:\\Users\\9140\\AppData\\Local\\Temp\\ipykernel_12948\\3282100434.py:2: FutureWarning: The frame.append method is deprecated and will be removed from pandas in a future version. Use pandas.concat instead.\n",
      "  resultados=resultados.append(comprobador(a))\n"
     ]
    },
    {
     "name": "stdout",
     "output_type": "stream",
     "text": [
      "Si está el campo personalizado para la URL 'https://online.universidadeuropea.com/masters-titulos-especializacion-steam-online/'\n"
     ]
    },
    {
     "name": "stderr",
     "output_type": "stream",
     "text": [
      "C:\\Users\\9140\\AppData\\Local\\Temp\\ipykernel_12948\\3282100434.py:2: FutureWarning: The frame.append method is deprecated and will be removed from pandas in a future version. Use pandas.concat instead.\n",
      "  resultados=resultados.append(comprobador(a))\n"
     ]
    },
    {
     "name": "stdout",
     "output_type": "stream",
     "text": [
      "Si está el campo personalizado para la URL 'https://online.universidadeuropea.com/master-online-fintech-blockchain/'\n"
     ]
    },
    {
     "name": "stderr",
     "output_type": "stream",
     "text": [
      "C:\\Users\\9140\\AppData\\Local\\Temp\\ipykernel_12948\\3282100434.py:2: FutureWarning: The frame.append method is deprecated and will be removed from pandas in a future version. Use pandas.concat instead.\n",
      "  resultados=resultados.append(comprobador(a))\n"
     ]
    },
    {
     "name": "stdout",
     "output_type": "stream",
     "text": [
      "Si está el campo personalizado para la URL 'https://online.universidadeuropea.com/master-universitario-gestion-proyectos-project-management-online/'\n"
     ]
    },
    {
     "name": "stderr",
     "output_type": "stream",
     "text": [
      "C:\\Users\\9140\\AppData\\Local\\Temp\\ipykernel_12948\\3282100434.py:2: FutureWarning: The frame.append method is deprecated and will be removed from pandas in a future version. Use pandas.concat instead.\n",
      "  resultados=resultados.append(comprobador(a))\n"
     ]
    },
    {
     "name": "stdout",
     "output_type": "stream",
     "text": [
      "Si está el campo personalizado para la URL 'https://online.universidadeuropea.com/en/master-football-coaching-sport-direction-real-madrid-online/'\n"
     ]
    },
    {
     "name": "stderr",
     "output_type": "stream",
     "text": [
      "C:\\Users\\9140\\AppData\\Local\\Temp\\ipykernel_12948\\3282100434.py:2: FutureWarning: The frame.append method is deprecated and will be removed from pandas in a future version. Use pandas.concat instead.\n",
      "  resultados=resultados.append(comprobador(a))\n"
     ]
    },
    {
     "name": "stdout",
     "output_type": "stream",
     "text": [
      "Si está el campo personalizado para la URL 'https://online.universidadeuropea.com/master-ingenieria-sistemas-online/'\n"
     ]
    },
    {
     "name": "stderr",
     "output_type": "stream",
     "text": [
      "C:\\Users\\9140\\AppData\\Local\\Temp\\ipykernel_12948\\3282100434.py:2: FutureWarning: The frame.append method is deprecated and will be removed from pandas in a future version. Use pandas.concat instead.\n",
      "  resultados=resultados.append(comprobador(a))\n"
     ]
    },
    {
     "name": "stdout",
     "output_type": "stream",
     "text": [
      "Si está el campo personalizado para la URL 'https://online.universidadeuropea.com/en/master-sports-nutrition-real-madrid-online/'\n"
     ]
    },
    {
     "name": "stderr",
     "output_type": "stream",
     "text": [
      "C:\\Users\\9140\\AppData\\Local\\Temp\\ipykernel_12948\\3282100434.py:2: FutureWarning: The frame.append method is deprecated and will be removed from pandas in a future version. Use pandas.concat instead.\n",
      "  resultados=resultados.append(comprobador(a))\n"
     ]
    },
    {
     "name": "stdout",
     "output_type": "stream",
     "text": [
      "No está el campo personalizado para la URL 'https://online.universidadeuropea.com/master-instrumentacion-electronica-monitorizacion-online/'\n"
     ]
    },
    {
     "name": "stderr",
     "output_type": "stream",
     "text": [
      "C:\\Users\\9140\\AppData\\Local\\Temp\\ipykernel_12948\\3282100434.py:2: FutureWarning: The frame.append method is deprecated and will be removed from pandas in a future version. Use pandas.concat instead.\n",
      "  resultados=resultados.append(comprobador(a))\n"
     ]
    },
    {
     "name": "stdout",
     "output_type": "stream",
     "text": [
      "Si está el campo personalizado para la URL 'https://online.universidadeuropea.com/master-investigacion-musical-online/'\n"
     ]
    },
    {
     "name": "stderr",
     "output_type": "stream",
     "text": [
      "C:\\Users\\9140\\AppData\\Local\\Temp\\ipykernel_12948\\3282100434.py:2: FutureWarning: The frame.append method is deprecated and will be removed from pandas in a future version. Use pandas.concat instead.\n",
      "  resultados=resultados.append(comprobador(a))\n"
     ]
    },
    {
     "name": "stdout",
     "output_type": "stream",
     "text": [
      "Si está el campo personalizado para la URL 'https://online.universidadeuropea.com/en/master-sports-marketing-esport-management-real-madrid-online/'\n"
     ]
    },
    {
     "name": "stderr",
     "output_type": "stream",
     "text": [
      "C:\\Users\\9140\\AppData\\Local\\Temp\\ipykernel_12948\\3282100434.py:2: FutureWarning: The frame.append method is deprecated and will be removed from pandas in a future version. Use pandas.concat instead.\n",
      "  resultados=resultados.append(comprobador(a))\n"
     ]
    },
    {
     "name": "stdout",
     "output_type": "stream",
     "text": [
      "No está el campo personalizado para la URL 'https://online.universidadeuropea.com/master-medicina-injerto-capilar/'\n"
     ]
    },
    {
     "name": "stderr",
     "output_type": "stream",
     "text": [
      "C:\\Users\\9140\\AppData\\Local\\Temp\\ipykernel_12948\\3282100434.py:2: FutureWarning: The frame.append method is deprecated and will be removed from pandas in a future version. Use pandas.concat instead.\n",
      "  resultados=resultados.append(comprobador(a))\n"
     ]
    },
    {
     "name": "stdout",
     "output_type": "stream",
     "text": [
      "Si está el campo personalizado para la URL 'https://online.universidadeuropea.com/master-microbiota-probioticos-prebioticos-online/'\n"
     ]
    },
    {
     "name": "stderr",
     "output_type": "stream",
     "text": [
      "C:\\Users\\9140\\AppData\\Local\\Temp\\ipykernel_12948\\3282100434.py:2: FutureWarning: The frame.append method is deprecated and will be removed from pandas in a future version. Use pandas.concat instead.\n",
      "  resultados=resultados.append(comprobador(a))\n"
     ]
    },
    {
     "name": "stdout",
     "output_type": "stream",
     "text": [
      "Si está el campo personalizado para la URL 'https://online.universidadeuropea.com/master-negocios-internacionales/'\n"
     ]
    },
    {
     "name": "stderr",
     "output_type": "stream",
     "text": [
      "C:\\Users\\9140\\AppData\\Local\\Temp\\ipykernel_12948\\3282100434.py:2: FutureWarning: The frame.append method is deprecated and will be removed from pandas in a future version. Use pandas.concat instead.\n",
      "  resultados=resultados.append(comprobador(a))\n"
     ]
    },
    {
     "name": "stdout",
     "output_type": "stream",
     "text": [
      "Si está el campo personalizado para la URL 'https://online.universidadeuropea.com/master-atencion-temprana-online/'\n"
     ]
    },
    {
     "name": "stderr",
     "output_type": "stream",
     "text": [
      "C:\\Users\\9140\\AppData\\Local\\Temp\\ipykernel_12948\\3282100434.py:2: FutureWarning: The frame.append method is deprecated and will be removed from pandas in a future version. Use pandas.concat instead.\n",
      "  resultados=resultados.append(comprobador(a))\n"
     ]
    },
    {
     "name": "stdout",
     "output_type": "stream",
     "text": [
      "Si está el campo personalizado para la URL 'https://online.universidadeuropea.com/master-oficial-energias-renovables/'\n"
     ]
    },
    {
     "name": "stderr",
     "output_type": "stream",
     "text": [
      "C:\\Users\\9140\\AppData\\Local\\Temp\\ipykernel_12948\\3282100434.py:2: FutureWarning: The frame.append method is deprecated and will be removed from pandas in a future version. Use pandas.concat instead.\n",
      "  resultados=resultados.append(comprobador(a))\n"
     ]
    },
    {
     "name": "stdout",
     "output_type": "stream",
     "text": [
      "Si está el campo personalizado para la URL 'https://online.universidadeuropea.com/master-construccion-edificacion-online/'\n"
     ]
    },
    {
     "name": "stderr",
     "output_type": "stream",
     "text": [
      "C:\\Users\\9140\\AppData\\Local\\Temp\\ipykernel_12948\\3282100434.py:2: FutureWarning: The frame.append method is deprecated and will be removed from pandas in a future version. Use pandas.concat instead.\n",
      "  resultados=resultados.append(comprobador(a))\n"
     ]
    },
    {
     "name": "stdout",
     "output_type": "stream",
     "text": [
      "Si está el campo personalizado para la URL 'https://online.universidadeuropea.com/master-prevencion-riesgos-laborales-online/'\n"
     ]
    },
    {
     "name": "stderr",
     "output_type": "stream",
     "text": [
      "C:\\Users\\9140\\AppData\\Local\\Temp\\ipykernel_12948\\3282100434.py:2: FutureWarning: The frame.append method is deprecated and will be removed from pandas in a future version. Use pandas.concat instead.\n",
      "  resultados=resultados.append(comprobador(a))\n"
     ]
    },
    {
     "name": "stdout",
     "output_type": "stream",
     "text": [
      "Si está el campo personalizado para la URL 'https://online.universidadeuropea.com/master-online-en-diseno-ux/'\n"
     ]
    },
    {
     "name": "stderr",
     "output_type": "stream",
     "text": [
      "C:\\Users\\9140\\AppData\\Local\\Temp\\ipykernel_12948\\3282100434.py:2: FutureWarning: The frame.append method is deprecated and will be removed from pandas in a future version. Use pandas.concat instead.\n",
      "  resultados=resultados.append(comprobador(a))\n"
     ]
    },
    {
     "name": "stdout",
     "output_type": "stream",
     "text": [
      "Si está el campo personalizado para la URL 'https://online.universidadeuropea.com/master-organizacion-direccion-de-centros-docentes/'\n"
     ]
    },
    {
     "name": "stderr",
     "output_type": "stream",
     "text": [
      "C:\\Users\\9140\\AppData\\Local\\Temp\\ipykernel_12948\\3282100434.py:2: FutureWarning: The frame.append method is deprecated and will be removed from pandas in a future version. Use pandas.concat instead.\n",
      "  resultados=resultados.append(comprobador(a))\n"
     ]
    },
    {
     "name": "stdout",
     "output_type": "stream",
     "text": [
      "Si está el campo personalizado para la URL 'https://online.universidadeuropea.com/master-propiedad-intelectual-derecho-tecnologico/'\n"
     ]
    },
    {
     "name": "stderr",
     "output_type": "stream",
     "text": [
      "C:\\Users\\9140\\AppData\\Local\\Temp\\ipykernel_12948\\3282100434.py:2: FutureWarning: The frame.append method is deprecated and will be removed from pandas in a future version. Use pandas.concat instead.\n",
      "  resultados=resultados.append(comprobador(a))\n"
     ]
    },
    {
     "name": "stdout",
     "output_type": "stream",
     "text": [
      "Si está el campo personalizado para la URL 'https://online.universidadeuropea.com/master-psicopedagogia-online/'\n"
     ]
    },
    {
     "name": "stderr",
     "output_type": "stream",
     "text": [
      "C:\\Users\\9140\\AppData\\Local\\Temp\\ipykernel_12948\\3282100434.py:2: FutureWarning: The frame.append method is deprecated and will be removed from pandas in a future version. Use pandas.concat instead.\n",
      "  resultados=resultados.append(comprobador(a))\n"
     ]
    },
    {
     "name": "stdout",
     "output_type": "stream",
     "text": [
      "Si está el campo personalizado para la URL 'https://online.universidadeuropea.com/master-transformacion-digital/'\n"
     ]
    },
    {
     "name": "stderr",
     "output_type": "stream",
     "text": [
      "C:\\Users\\9140\\AppData\\Local\\Temp\\ipykernel_12948\\3282100434.py:2: FutureWarning: The frame.append method is deprecated and will be removed from pandas in a future version. Use pandas.concat instead.\n",
      "  resultados=resultados.append(comprobador(a))\n"
     ]
    },
    {
     "name": "stdout",
     "output_type": "stream",
     "text": [
      "Si está el campo personalizado para la URL 'https://online.universidadeuropea.com/master-big-data-online/'\n"
     ]
    },
    {
     "name": "stderr",
     "output_type": "stream",
     "text": [
      "C:\\Users\\9140\\AppData\\Local\\Temp\\ipykernel_12948\\3282100434.py:2: FutureWarning: The frame.append method is deprecated and will be removed from pandas in a future version. Use pandas.concat instead.\n",
      "  resultados=resultados.append(comprobador(a))\n"
     ]
    },
    {
     "name": "stdout",
     "output_type": "stream",
     "text": [
      "Si está el campo personalizado para la URL 'https://online.universidadeuropea.com/master-universitario-bioinformatica-online/'\n"
     ]
    },
    {
     "name": "stderr",
     "output_type": "stream",
     "text": [
      "C:\\Users\\9140\\AppData\\Local\\Temp\\ipykernel_12948\\3282100434.py:2: FutureWarning: The frame.append method is deprecated and will be removed from pandas in a future version. Use pandas.concat instead.\n",
      "  resultados=resultados.append(comprobador(a))\n"
     ]
    },
    {
     "name": "stdout",
     "output_type": "stream",
     "text": [
      "Si está el campo personalizado para la URL 'https://estudiar.universidadeuropea.com/master-universitario-comunicacion-emprendimiento-digital/'\n"
     ]
    },
    {
     "name": "stderr",
     "output_type": "stream",
     "text": [
      "C:\\Users\\9140\\AppData\\Local\\Temp\\ipykernel_12948\\3282100434.py:2: FutureWarning: The frame.append method is deprecated and will be removed from pandas in a future version. Use pandas.concat instead.\n",
      "  resultados=resultados.append(comprobador(a))\n"
     ]
    },
    {
     "name": "stdout",
     "output_type": "stream",
     "text": [
      "Si está el campo personalizado para la URL 'https://online.universidadeuropea.com/master-universitario-derechos-humanos-online/'\n"
     ]
    },
    {
     "name": "stderr",
     "output_type": "stream",
     "text": [
      "C:\\Users\\9140\\AppData\\Local\\Temp\\ipykernel_12948\\3282100434.py:2: FutureWarning: The frame.append method is deprecated and will be removed from pandas in a future version. Use pandas.concat instead.\n",
      "  resultados=resultados.append(comprobador(a))\n"
     ]
    },
    {
     "name": "stdout",
     "output_type": "stream",
     "text": [
      "Si está el campo personalizado para la URL 'https://online.universidadeuropea.com/master-direccion-comercial-ventas-online/'\n"
     ]
    },
    {
     "name": "stderr",
     "output_type": "stream",
     "text": [
      "C:\\Users\\9140\\AppData\\Local\\Temp\\ipykernel_12948\\3282100434.py:2: FutureWarning: The frame.append method is deprecated and will be removed from pandas in a future version. Use pandas.concat instead.\n",
      "  resultados=resultados.append(comprobador(a))\n"
     ]
    },
    {
     "name": "stdout",
     "output_type": "stream",
     "text": [
      "Si está el campo personalizado para la URL 'https://online.universidadeuropea.com/master-universitario-direccion-empresas-mba-online/'\n"
     ]
    },
    {
     "name": "stderr",
     "output_type": "stream",
     "text": [
      "C:\\Users\\9140\\AppData\\Local\\Temp\\ipykernel_12948\\3282100434.py:2: FutureWarning: The frame.append method is deprecated and will be removed from pandas in a future version. Use pandas.concat instead.\n",
      "  resultados=resultados.append(comprobador(a))\n"
     ]
    },
    {
     "name": "stdout",
     "output_type": "stream",
     "text": [
      "Si está el campo personalizado para la URL 'https://online.universidadeuropea.com/master-universitario-direccion-gestion-financiera-online/'\n"
     ]
    },
    {
     "name": "stderr",
     "output_type": "stream",
     "text": [
      "C:\\Users\\9140\\AppData\\Local\\Temp\\ipykernel_12948\\3282100434.py:2: FutureWarning: The frame.append method is deprecated and will be removed from pandas in a future version. Use pandas.concat instead.\n",
      "  resultados=resultados.append(comprobador(a))\n"
     ]
    },
    {
     "name": "stdout",
     "output_type": "stream",
     "text": [
      "Si está el campo personalizado para la URL 'https://online.universidadeuropea.com/master-universitario-direccion-gestion-hotelera/'\n"
     ]
    },
    {
     "name": "stderr",
     "output_type": "stream",
     "text": [
      "C:\\Users\\9140\\AppData\\Local\\Temp\\ipykernel_12948\\3282100434.py:2: FutureWarning: The frame.append method is deprecated and will be removed from pandas in a future version. Use pandas.concat instead.\n",
      "  resultados=resultados.append(comprobador(a))\n"
     ]
    },
    {
     "name": "stdout",
     "output_type": "stream",
     "text": [
      "Si está el campo personalizado para la URL 'https://online.universidadeuropea.com/master-universitario-direccion-gestion-recursos-humanos/'\n"
     ]
    },
    {
     "name": "stderr",
     "output_type": "stream",
     "text": [
      "C:\\Users\\9140\\AppData\\Local\\Temp\\ipykernel_12948\\3282100434.py:2: FutureWarning: The frame.append method is deprecated and will be removed from pandas in a future version. Use pandas.concat instead.\n",
      "  resultados=resultados.append(comprobador(a))\n"
     ]
    },
    {
     "name": "stdout",
     "output_type": "stream",
     "text": [
      "Si está el campo personalizado para la URL 'https://online.universidadeuropea.com/master-universitario-educacion-especial-online/'\n"
     ]
    },
    {
     "name": "stderr",
     "output_type": "stream",
     "text": [
      "C:\\Users\\9140\\AppData\\Local\\Temp\\ipykernel_12948\\3282100434.py:2: FutureWarning: The frame.append method is deprecated and will be removed from pandas in a future version. Use pandas.concat instead.\n",
      "  resultados=resultados.append(comprobador(a))\n"
     ]
    },
    {
     "name": "stdout",
     "output_type": "stream",
     "text": [
      "Si está el campo personalizado para la URL 'https://online.universidadeuropea.com/master-universitario-abogacia-online/'\n"
     ]
    },
    {
     "name": "stderr",
     "output_type": "stream",
     "text": [
      "C:\\Users\\9140\\AppData\\Local\\Temp\\ipykernel_12948\\3282100434.py:2: FutureWarning: The frame.append method is deprecated and will be removed from pandas in a future version. Use pandas.concat instead.\n",
      "  resultados=resultados.append(comprobador(a))\n"
     ]
    },
    {
     "name": "stdout",
     "output_type": "stream",
     "text": [
      "Si está el campo personalizado para la URL 'https://online.universidadeuropea.com/master-en-direccion-gestion-enfermeria/'\n"
     ]
    },
    {
     "name": "stderr",
     "output_type": "stream",
     "text": [
      "C:\\Users\\9140\\AppData\\Local\\Temp\\ipykernel_12948\\3282100434.py:2: FutureWarning: The frame.append method is deprecated and will be removed from pandas in a future version. Use pandas.concat instead.\n",
      "  resultados=resultados.append(comprobador(a))\n"
     ]
    },
    {
     "name": "stdout",
     "output_type": "stream",
     "text": [
      "Si está el campo personalizado para la URL 'https://online.universidadeuropea.com/master-formacion-profesorado-madrid-semipresencial/'\n"
     ]
    },
    {
     "name": "stderr",
     "output_type": "stream",
     "text": [
      "C:\\Users\\9140\\AppData\\Local\\Temp\\ipykernel_12948\\3282100434.py:2: FutureWarning: The frame.append method is deprecated and will be removed from pandas in a future version. Use pandas.concat instead.\n",
      "  resultados=resultados.append(comprobador(a))\n"
     ]
    },
    {
     "name": "stdout",
     "output_type": "stream",
     "text": [
      "Si está el campo personalizado para la URL 'https://online.universidadeuropea.com/master-universitario-logistica-online/'\n"
     ]
    },
    {
     "name": "stderr",
     "output_type": "stream",
     "text": [
      "C:\\Users\\9140\\AppData\\Local\\Temp\\ipykernel_12948\\3282100434.py:2: FutureWarning: The frame.append method is deprecated and will be removed from pandas in a future version. Use pandas.concat instead.\n",
      "  resultados=resultados.append(comprobador(a))\n"
     ]
    },
    {
     "name": "stdout",
     "output_type": "stream",
     "text": [
      "Si está el campo personalizado para la URL 'https://online.universidadeuropea.com/master-universitario-salud-publica-online/'\n"
     ]
    },
    {
     "name": "stderr",
     "output_type": "stream",
     "text": [
      "C:\\Users\\9140\\AppData\\Local\\Temp\\ipykernel_12948\\3282100434.py:2: FutureWarning: The frame.append method is deprecated and will be removed from pandas in a future version. Use pandas.concat instead.\n",
      "  resultados=resultados.append(comprobador(a))\n"
     ]
    },
    {
     "name": "stdout",
     "output_type": "stream",
     "text": [
      "Si está el campo personalizado para la URL 'https://online.universidadeuropea.com/master-ciberseguridad-online/'\n"
     ]
    },
    {
     "name": "stderr",
     "output_type": "stream",
     "text": [
      "C:\\Users\\9140\\AppData\\Local\\Temp\\ipykernel_12948\\3282100434.py:2: FutureWarning: The frame.append method is deprecated and will be removed from pandas in a future version. Use pandas.concat instead.\n",
      "  resultados=resultados.append(comprobador(a))\n"
     ]
    },
    {
     "name": "stdout",
     "output_type": "stream",
     "text": [
      "Si está el campo personalizado para la URL 'https://online.universidadeuropea.com/master-ele-online/'\n"
     ]
    },
    {
     "name": "stderr",
     "output_type": "stream",
     "text": [
      "C:\\Users\\9140\\AppData\\Local\\Temp\\ipykernel_12948\\3282100434.py:2: FutureWarning: The frame.append method is deprecated and will be removed from pandas in a future version. Use pandas.concat instead.\n",
      "  resultados=resultados.append(comprobador(a))\n"
     ]
    },
    {
     "name": "stdout",
     "output_type": "stream",
     "text": [
      "Si está el campo personalizado para la URL 'https://online.universidadeuropea.com/landing-master-universitario-fisioterapia-deportiva-semipresencial/'\n"
     ]
    },
    {
     "name": "stderr",
     "output_type": "stream",
     "text": [
      "C:\\Users\\9140\\AppData\\Local\\Temp\\ipykernel_12948\\3282100434.py:2: FutureWarning: The frame.append method is deprecated and will be removed from pandas in a future version. Use pandas.concat instead.\n",
      "  resultados=resultados.append(comprobador(a))\n"
     ]
    },
    {
     "name": "stdout",
     "output_type": "stream",
     "text": [
      "Si está el campo personalizado para la URL 'https://online.universidadeuropea.com/master-universitario-gestion-administrativa/'\n"
     ]
    },
    {
     "name": "stderr",
     "output_type": "stream",
     "text": [
      "C:\\Users\\9140\\AppData\\Local\\Temp\\ipykernel_12948\\3282100434.py:2: FutureWarning: The frame.append method is deprecated and will be removed from pandas in a future version. Use pandas.concat instead.\n",
      "  resultados=resultados.append(comprobador(a))\n"
     ]
    },
    {
     "name": "stdout",
     "output_type": "stream",
     "text": [
      "Si está el campo personalizado para la URL 'https://online.universidadeuropea.com/master-universitario-industria-40/'\n"
     ]
    },
    {
     "name": "stderr",
     "output_type": "stream",
     "text": [
      "C:\\Users\\9140\\AppData\\Local\\Temp\\ipykernel_12948\\3282100434.py:2: FutureWarning: The frame.append method is deprecated and will be removed from pandas in a future version. Use pandas.concat instead.\n",
      "  resultados=resultados.append(comprobador(a))\n"
     ]
    },
    {
     "name": "stdout",
     "output_type": "stream",
     "text": [
      "Si está el campo personalizado para la URL 'https://online.universidadeuropea.com/master-universitario-ingenieria-de-organizacion-proyectos/'\n"
     ]
    },
    {
     "name": "stderr",
     "output_type": "stream",
     "text": [
      "C:\\Users\\9140\\AppData\\Local\\Temp\\ipykernel_12948\\3282100434.py:2: FutureWarning: The frame.append method is deprecated and will be removed from pandas in a future version. Use pandas.concat instead.\n",
      "  resultados=resultados.append(comprobador(a))\n"
     ]
    },
    {
     "name": "stdout",
     "output_type": "stream",
     "text": [
      "Si está el campo personalizado para la URL 'https://online.universidadeuropea.com/master-mediacion-online/'\n"
     ]
    },
    {
     "name": "stderr",
     "output_type": "stream",
     "text": [
      "C:\\Users\\9140\\AppData\\Local\\Temp\\ipykernel_12948\\3282100434.py:2: FutureWarning: The frame.append method is deprecated and will be removed from pandas in a future version. Use pandas.concat instead.\n",
      "  resultados=resultados.append(comprobador(a))\n"
     ]
    },
    {
     "name": "stdout",
     "output_type": "stream",
     "text": [
      "Si está el campo personalizado para la URL 'https://online.universidadeuropea.com/master-universitario-nutricion-clinica-online/'\n"
     ]
    },
    {
     "name": "stderr",
     "output_type": "stream",
     "text": [
      "C:\\Users\\9140\\AppData\\Local\\Temp\\ipykernel_12948\\3282100434.py:2: FutureWarning: The frame.append method is deprecated and will be removed from pandas in a future version. Use pandas.concat instead.\n",
      "  resultados=resultados.append(comprobador(a))\n"
     ]
    },
    {
     "name": "stdout",
     "output_type": "stream",
     "text": [
      "Si está el campo personalizado para la URL 'https://estudiar.universidadeuropea.com/master-universitario-protesis-implantoprotesis-estetica-dental/'\n"
     ]
    },
    {
     "name": "stderr",
     "output_type": "stream",
     "text": [
      "C:\\Users\\9140\\AppData\\Local\\Temp\\ipykernel_12948\\3282100434.py:2: FutureWarning: The frame.append method is deprecated and will be removed from pandas in a future version. Use pandas.concat instead.\n",
      "  resultados=resultados.append(comprobador(a))\n"
     ]
    },
    {
     "name": "stdout",
     "output_type": "stream",
     "text": [
      "Si está el campo personalizado para la URL 'https://online.universidadeuropea.com/master-universitario-sistemas-integrados-gestion/'\n"
     ]
    },
    {
     "name": "stderr",
     "output_type": "stream",
     "text": [
      "C:\\Users\\9140\\AppData\\Local\\Temp\\ipykernel_12948\\3282100434.py:2: FutureWarning: The frame.append method is deprecated and will be removed from pandas in a future version. Use pandas.concat instead.\n",
      "  resultados=resultados.append(comprobador(a))\n"
     ]
    },
    {
     "name": "stdout",
     "output_type": "stream",
     "text": [
      "Si está el campo personalizado para la URL 'https://online.universidadeuropea.com/master-tecnologia-educativa-online/'\n"
     ]
    },
    {
     "name": "stderr",
     "output_type": "stream",
     "text": [
      "C:\\Users\\9140\\AppData\\Local\\Temp\\ipykernel_12948\\3282100434.py:2: FutureWarning: The frame.append method is deprecated and will be removed from pandas in a future version. Use pandas.concat instead.\n",
      "  resultados=resultados.append(comprobador(a))\n"
     ]
    },
    {
     "name": "stdout",
     "output_type": "stream",
     "text": [
      "Si está el campo personalizado para la URL ' https://online-ecuador.universidadeuropea.com/mba-en-tecnologias-informacion-online/'\n"
     ]
    },
    {
     "name": "stderr",
     "output_type": "stream",
     "text": [
      "C:\\Users\\9140\\AppData\\Local\\Temp\\ipykernel_12948\\3282100434.py:2: FutureWarning: The frame.append method is deprecated and will be removed from pandas in a future version. Use pandas.concat instead.\n",
      "  resultados=resultados.append(comprobador(a))\n"
     ]
    },
    {
     "name": "stdout",
     "output_type": "stream",
     "text": [
      "Si está el campo personalizado para la URL 'https://online.universidadeuropea.com/en/mba-masters-degree-in-sports-management/'\n"
     ]
    },
    {
     "name": "stderr",
     "output_type": "stream",
     "text": [
      "C:\\Users\\9140\\AppData\\Local\\Temp\\ipykernel_12948\\3282100434.py:2: FutureWarning: The frame.append method is deprecated and will be removed from pandas in a future version. Use pandas.concat instead.\n",
      "  resultados=resultados.append(comprobador(a))\n"
     ]
    },
    {
     "name": "stdout",
     "output_type": "stream",
     "text": [
      "Si está el campo personalizado para la URL 'https://online.universidadeuropea.com/mba-oficial-direccion-entidades-deportivas/'\n"
     ]
    },
    {
     "name": "stderr",
     "output_type": "stream",
     "text": [
      "C:\\Users\\9140\\AppData\\Local\\Temp\\ipykernel_12948\\3282100434.py:2: FutureWarning: The frame.append method is deprecated and will be removed from pandas in a future version. Use pandas.concat instead.\n",
      "  resultados=resultados.append(comprobador(a))\n"
     ]
    },
    {
     "name": "stdout",
     "output_type": "stream",
     "text": [
      "Si está el campo personalizado para la URL 'https://online.universidadeuropea.com/mba-tecnologias-informacion-online/'\n"
     ]
    },
    {
     "name": "stderr",
     "output_type": "stream",
     "text": [
      "C:\\Users\\9140\\AppData\\Local\\Temp\\ipykernel_12948\\3282100434.py:2: FutureWarning: The frame.append method is deprecated and will be removed from pandas in a future version. Use pandas.concat instead.\n",
      "  resultados=resultados.append(comprobador(a))\n"
     ]
    },
    {
     "name": "stdout",
     "output_type": "stream",
     "text": [
      "Si está el campo personalizado para la URL 'https://online.universidadeuropea.com/menciones-grado-maestro-educacion-primaria-online/'\n"
     ]
    },
    {
     "name": "stderr",
     "output_type": "stream",
     "text": [
      "C:\\Users\\9140\\AppData\\Local\\Temp\\ipykernel_12948\\3282100434.py:2: FutureWarning: The frame.append method is deprecated and will be removed from pandas in a future version. Use pandas.concat instead.\n",
      "  resultados=resultados.append(comprobador(a))\n"
     ]
    },
    {
     "name": "stdout",
     "output_type": "stream",
     "text": [
      "Si está el campo personalizado para la URL 'https://online.universidadeuropea.com/escuela-universitaria-real-madrid-universidad-europea-mexico-cp/'\n"
     ]
    },
    {
     "name": "stderr",
     "output_type": "stream",
     "text": [
      "C:\\Users\\9140\\AppData\\Local\\Temp\\ipykernel_12948\\3282100434.py:2: FutureWarning: The frame.append method is deprecated and will be removed from pandas in a future version. Use pandas.concat instead.\n",
      "  resultados=resultados.append(comprobador(a))\n"
     ]
    },
    {
     "name": "stdout",
     "output_type": "stream",
     "text": [
      "Si está el campo personalizado para la URL 'https://online.universidadeuropea.com/curso-universitario-en-neuromarketing-online/'\n"
     ]
    },
    {
     "name": "stderr",
     "output_type": "stream",
     "text": [
      "C:\\Users\\9140\\AppData\\Local\\Temp\\ipykernel_12948\\3282100434.py:2: FutureWarning: The frame.append method is deprecated and will be removed from pandas in a future version. Use pandas.concat instead.\n",
      "  resultados=resultados.append(comprobador(a))\n"
     ]
    },
    {
     "name": "stdout",
     "output_type": "stream",
     "text": [
      "No está el campo personalizado para la URL 'https://estudiar.universidadeuropea.com/postgrados-area-juridico/'\n"
     ]
    },
    {
     "name": "stderr",
     "output_type": "stream",
     "text": [
      "C:\\Users\\9140\\AppData\\Local\\Temp\\ipykernel_12948\\3282100434.py:2: FutureWarning: The frame.append method is deprecated and will be removed from pandas in a future version. Use pandas.concat instead.\n",
      "  resultados=resultados.append(comprobador(a))\n"
     ]
    },
    {
     "name": "stdout",
     "output_type": "stream",
     "text": [
      "No está el campo personalizado para la URL 'https://estudiar.universidadeuropea.com/postgrados-universitarios-universidad-europea-canarias/'\n"
     ]
    },
    {
     "name": "stderr",
     "output_type": "stream",
     "text": [
      "C:\\Users\\9140\\AppData\\Local\\Temp\\ipykernel_12948\\3282100434.py:2: FutureWarning: The frame.append method is deprecated and will be removed from pandas in a future version. Use pandas.concat instead.\n",
      "  resultados=resultados.append(comprobador(a))\n"
     ]
    },
    {
     "name": "stdout",
     "output_type": "stream",
     "text": [
      "Si está el campo personalizado para la URL 'https://online.universidadeuropea.com/curso-universitario-en-psicosociologia-del-consumidor-online/'\n"
     ]
    },
    {
     "name": "stderr",
     "output_type": "stream",
     "text": [
      "C:\\Users\\9140\\AppData\\Local\\Temp\\ipykernel_12948\\3282100434.py:2: FutureWarning: The frame.append method is deprecated and will be removed from pandas in a future version. Use pandas.concat instead.\n",
      "  resultados=resultados.append(comprobador(a))\n"
     ]
    },
    {
     "name": "stdout",
     "output_type": "stream",
     "text": [
      "Si está el campo personalizado para la URL 'https://online.universidadeuropea.com/en/real-madrid-graduate-school-online/'\n"
     ]
    },
    {
     "name": "stderr",
     "output_type": "stream",
     "text": [
      "C:\\Users\\9140\\AppData\\Local\\Temp\\ipykernel_12948\\3282100434.py:2: FutureWarning: The frame.append method is deprecated and will be removed from pandas in a future version. Use pandas.concat instead.\n",
      "  resultados=resultados.append(comprobador(a))\n"
     ]
    },
    {
     "name": "stdout",
     "output_type": "stream",
     "text": [
      "No está el campo personalizado para la URL 'https://online.universidadeuropea.com/recursos-educativos/'\n"
     ]
    },
    {
     "name": "stderr",
     "output_type": "stream",
     "text": [
      "C:\\Users\\9140\\AppData\\Local\\Temp\\ipykernel_12948\\3282100434.py:2: FutureWarning: The frame.append method is deprecated and will be removed from pandas in a future version. Use pandas.concat instead.\n",
      "  resultados=resultados.append(comprobador(a))\n"
     ]
    },
    {
     "name": "stdout",
     "output_type": "stream",
     "text": [
      "Si está el campo personalizado para la URL 'https://online.universidadeuropea.com/titulaciones-arquitectura-diseno-online/'\n"
     ]
    },
    {
     "name": "stderr",
     "output_type": "stream",
     "text": [
      "C:\\Users\\9140\\AppData\\Local\\Temp\\ipykernel_12948\\3282100434.py:2: FutureWarning: The frame.append method is deprecated and will be removed from pandas in a future version. Use pandas.concat instead.\n",
      "  resultados=resultados.append(comprobador(a))\n"
     ]
    },
    {
     "name": "stdout",
     "output_type": "stream",
     "text": [
      "Si está el campo personalizado para la URL 'https://online.universidadeuropea.com/titulaciones-ingenieria-online/'\n"
     ]
    },
    {
     "name": "stderr",
     "output_type": "stream",
     "text": [
      "C:\\Users\\9140\\AppData\\Local\\Temp\\ipykernel_12948\\3282100434.py:2: FutureWarning: The frame.append method is deprecated and will be removed from pandas in a future version. Use pandas.concat instead.\n",
      "  resultados=resultados.append(comprobador(a))\n"
     ]
    },
    {
     "name": "stdout",
     "output_type": "stream",
     "text": [
      "Si está el campo personalizado para la URL 'https://online.universidadeuropea.com/maestrias-cursos-steam-mexico/'\n"
     ]
    },
    {
     "name": "stderr",
     "output_type": "stream",
     "text": [
      "C:\\Users\\9140\\AppData\\Local\\Temp\\ipykernel_12948\\3282100434.py:2: FutureWarning: The frame.append method is deprecated and will be removed from pandas in a future version. Use pandas.concat instead.\n",
      "  resultados=resultados.append(comprobador(a))\n"
     ]
    },
    {
     "name": "stdout",
     "output_type": "stream",
     "text": [
      "Si está el campo personalizado para la URL 'https://online.universidadeuropea.com/maestrias-cursos-steam/'\n"
     ]
    },
    {
     "name": "stderr",
     "output_type": "stream",
     "text": [
      "C:\\Users\\9140\\AppData\\Local\\Temp\\ipykernel_12948\\3282100434.py:2: FutureWarning: The frame.append method is deprecated and will be removed from pandas in a future version. Use pandas.concat instead.\n",
      "  resultados=resultados.append(comprobador(a))\n"
     ]
    },
    {
     "name": "stdout",
     "output_type": "stream",
     "text": [
      "Si está el campo personalizado para la URL 'https://online.universidadeuropea.com/maestrias-cursos-steam-peru/'\n"
     ]
    },
    {
     "name": "stderr",
     "output_type": "stream",
     "text": [
      "C:\\Users\\9140\\AppData\\Local\\Temp\\ipykernel_12948\\3282100434.py:2: FutureWarning: The frame.append method is deprecated and will be removed from pandas in a future version. Use pandas.concat instead.\n",
      "  resultados=resultados.append(comprobador(a))\n"
     ]
    },
    {
     "name": "stdout",
     "output_type": "stream",
     "text": [
      "Si está el campo personalizado para la URL 'https://online.universidadeuropea.com/maestrias-enlinea/'\n"
     ]
    },
    {
     "name": "stderr",
     "output_type": "stream",
     "text": [
      "C:\\Users\\9140\\AppData\\Local\\Temp\\ipykernel_12948\\3282100434.py:2: FutureWarning: The frame.append method is deprecated and will be removed from pandas in a future version. Use pandas.concat instead.\n",
      "  resultados=resultados.append(comprobador(a))\n"
     ]
    },
    {
     "name": "stdout",
     "output_type": "stream",
     "text": [
      "Si está el campo personalizado para la URL 'https://online.universidadeuropea.com/tecnico-superior-desarrollo-aplicaciones-multiplataforma/'\n"
     ]
    },
    {
     "name": "stderr",
     "output_type": "stream",
     "text": [
      "C:\\Users\\9140\\AppData\\Local\\Temp\\ipykernel_12948\\3282100434.py:2: FutureWarning: The frame.append method is deprecated and will be removed from pandas in a future version. Use pandas.concat instead.\n",
      "  resultados=resultados.append(comprobador(a))\n"
     ]
    },
    {
     "name": "stdout",
     "output_type": "stream",
     "text": [
      "Si está el campo personalizado para la URL 'https://online.universidadeuropea.com/tecnico-superior-en-educacion-infantil/'\n"
     ]
    },
    {
     "name": "stderr",
     "output_type": "stream",
     "text": [
      "C:\\Users\\9140\\AppData\\Local\\Temp\\ipykernel_12948\\3282100434.py:2: FutureWarning: The frame.append method is deprecated and will be removed from pandas in a future version. Use pandas.concat instead.\n",
      "  resultados=resultados.append(comprobador(a))\n"
     ]
    },
    {
     "name": "stdout",
     "output_type": "stream",
     "text": [
      "Si está el campo personalizado para la URL 'https://online.universidadeuropea.com/tecnico-superior-higiene-bucodental-online/'\n"
     ]
    },
    {
     "name": "stderr",
     "output_type": "stream",
     "text": [
      "C:\\Users\\9140\\AppData\\Local\\Temp\\ipykernel_12948\\3282100434.py:2: FutureWarning: The frame.append method is deprecated and will be removed from pandas in a future version. Use pandas.concat instead.\n",
      "  resultados=resultados.append(comprobador(a))\n"
     ]
    },
    {
     "name": "stdout",
     "output_type": "stream",
     "text": [
      "Si está el campo personalizado para la URL 'https://online.universidadeuropea.com/tecnico-superior-transporte-logistica-online/'\n"
     ]
    },
    {
     "name": "stderr",
     "output_type": "stream",
     "text": [
      "C:\\Users\\9140\\AppData\\Local\\Temp\\ipykernel_12948\\3282100434.py:2: FutureWarning: The frame.append method is deprecated and will be removed from pandas in a future version. Use pandas.concat instead.\n",
      "  resultados=resultados.append(comprobador(a))\n"
     ]
    },
    {
     "name": "stdout",
     "output_type": "stream",
     "text": [
      "Si está el campo personalizado para la URL 'https://online.universidadeuropea.com/titulaciones-colectivos-profesionales-entidades-colaboradoras/'\n"
     ]
    },
    {
     "name": "stderr",
     "output_type": "stream",
     "text": [
      "C:\\Users\\9140\\AppData\\Local\\Temp\\ipykernel_12948\\3282100434.py:2: FutureWarning: The frame.append method is deprecated and will be removed from pandas in a future version. Use pandas.concat instead.\n",
      "  resultados=resultados.append(comprobador(a))\n"
     ]
    },
    {
     "name": "stdout",
     "output_type": "stream",
     "text": [
      "Si está el campo personalizado para la URL 'https://estudiar.universidadeuropea.com/data-science/'\n"
     ]
    },
    {
     "name": "stderr",
     "output_type": "stream",
     "text": [
      "C:\\Users\\9140\\AppData\\Local\\Temp\\ipykernel_12948\\3282100434.py:2: FutureWarning: The frame.append method is deprecated and will be removed from pandas in a future version. Use pandas.concat instead.\n",
      "  resultados=resultados.append(comprobador(a))\n"
     ]
    },
    {
     "name": "stdout",
     "output_type": "stream",
     "text": [
      "Si está el campo personalizado para la URL 'https://estudiar.universidadeuropea.com/ux/'\n"
     ]
    },
    {
     "name": "stderr",
     "output_type": "stream",
     "text": [
      "C:\\Users\\9140\\AppData\\Local\\Temp\\ipykernel_12948\\3282100434.py:2: FutureWarning: The frame.append method is deprecated and will be removed from pandas in a future version. Use pandas.concat instead.\n",
      "  resultados=resultados.append(comprobador(a))\n"
     ]
    },
    {
     "name": "stdout",
     "output_type": "stream",
     "text": [
      "Si está el campo personalizado para la URL 'https://online.universidadeuropea.com/universidad-europea-online/'\n"
     ]
    },
    {
     "name": "stderr",
     "output_type": "stream",
     "text": [
      "C:\\Users\\9140\\AppData\\Local\\Temp\\ipykernel_12948\\3282100434.py:2: FutureWarning: The frame.append method is deprecated and will be removed from pandas in a future version. Use pandas.concat instead.\n",
      "  resultados=resultados.append(comprobador(a))\n"
     ]
    },
    {
     "name": "stdout",
     "output_type": "stream",
     "text": [
      "Si está el campo personalizado para la URL 'https://online.universidadeuropea.com/maestrias-en-linea/'\n"
     ]
    },
    {
     "name": "stderr",
     "output_type": "stream",
     "text": [
      "C:\\Users\\9140\\AppData\\Local\\Temp\\ipykernel_12948\\3282100434.py:2: FutureWarning: The frame.append method is deprecated and will be removed from pandas in a future version. Use pandas.concat instead.\n",
      "  resultados=resultados.append(comprobador(a))\n"
     ]
    },
    {
     "name": "stdout",
     "output_type": "stream",
     "text": [
      "Si está el campo personalizado para la URL 'https://online-colombia.universidadeuropea.com/maestria-innovacion-educativa-online/'\n"
     ]
    },
    {
     "name": "stderr",
     "output_type": "stream",
     "text": [
      "C:\\Users\\9140\\AppData\\Local\\Temp\\ipykernel_12948\\3282100434.py:2: FutureWarning: The frame.append method is deprecated and will be removed from pandas in a future version. Use pandas.concat instead.\n",
      "  resultados=resultados.append(comprobador(a))\n"
     ]
    },
    {
     "name": "stdout",
     "output_type": "stream",
     "text": [
      "Si está el campo personalizado para la URL 'https://online-colombia.universidadeuropea.com/maestria-direccion-empresas-online/'\n"
     ]
    },
    {
     "name": "stderr",
     "output_type": "stream",
     "text": [
      "C:\\Users\\9140\\AppData\\Local\\Temp\\ipykernel_12948\\3282100434.py:2: FutureWarning: The frame.append method is deprecated and will be removed from pandas in a future version. Use pandas.concat instead.\n",
      "  resultados=resultados.append(comprobador(a))\n"
     ]
    },
    {
     "name": "stdout",
     "output_type": "stream",
     "text": [
      "Si está el campo personalizado para la URL 'https://online-colombia.universidadeuropea.com/maestria-administracion-hotelera/'\n"
     ]
    },
    {
     "name": "stderr",
     "output_type": "stream",
     "text": [
      "C:\\Users\\9140\\AppData\\Local\\Temp\\ipykernel_12948\\3282100434.py:2: FutureWarning: The frame.append method is deprecated and will be removed from pandas in a future version. Use pandas.concat instead.\n",
      "  resultados=resultados.append(comprobador(a))\n"
     ]
    },
    {
     "name": "stdout",
     "output_type": "stream",
     "text": [
      "Si está el campo personalizado para la URL 'https://online-colombia.universidadeuropea.com/maestria-oficial-en-direccion-comercial-ventas/'\n"
     ]
    },
    {
     "name": "stderr",
     "output_type": "stream",
     "text": [
      "C:\\Users\\9140\\AppData\\Local\\Temp\\ipykernel_12948\\3282100434.py:2: FutureWarning: The frame.append method is deprecated and will be removed from pandas in a future version. Use pandas.concat instead.\n",
      "  resultados=resultados.append(comprobador(a))\n"
     ]
    },
    {
     "name": "stdout",
     "output_type": "stream",
     "text": [
      "Si está el campo personalizado para la URL 'https://online-colombia.universidadeuropea.com/maestria-oficial-enfermeria-colombia/'\n"
     ]
    },
    {
     "name": "stderr",
     "output_type": "stream",
     "text": [
      "C:\\Users\\9140\\AppData\\Local\\Temp\\ipykernel_12948\\3282100434.py:2: FutureWarning: The frame.append method is deprecated and will be removed from pandas in a future version. Use pandas.concat instead.\n",
      "  resultados=resultados.append(comprobador(a))\n"
     ]
    },
    {
     "name": "stdout",
     "output_type": "stream",
     "text": [
      "Si está el campo personalizado para la URL 'https://online-colombia.universidadeuropea.com/maestria-docencia-universitaria-virtual/'\n"
     ]
    },
    {
     "name": "stderr",
     "output_type": "stream",
     "text": [
      "C:\\Users\\9140\\AppData\\Local\\Temp\\ipykernel_12948\\3282100434.py:2: FutureWarning: The frame.append method is deprecated and will be removed from pandas in a future version. Use pandas.concat instead.\n",
      "  resultados=resultados.append(comprobador(a))\n"
     ]
    },
    {
     "name": "stdout",
     "output_type": "stream",
     "text": [
      "Si está el campo personalizado para la URL 'https://online-colombia.universidadeuropea.com/maestria-oficial-gestion-negocio-maritimo-derecho-maritimo/'\n"
     ]
    },
    {
     "name": "stderr",
     "output_type": "stream",
     "text": [
      "C:\\Users\\9140\\AppData\\Local\\Temp\\ipykernel_12948\\3282100434.py:2: FutureWarning: The frame.append method is deprecated and will be removed from pandas in a future version. Use pandas.concat instead.\n",
      "  resultados=resultados.append(comprobador(a))\n"
     ]
    },
    {
     "name": "stdout",
     "output_type": "stream",
     "text": [
      "Si está el campo personalizado para la URL 'https://online-colombia.universidadeuropea.com/maestria-direccion-futbol-metodologias-juegos/'\n"
     ]
    },
    {
     "name": "stderr",
     "output_type": "stream",
     "text": [
      "C:\\Users\\9140\\AppData\\Local\\Temp\\ipykernel_12948\\3282100434.py:2: FutureWarning: The frame.append method is deprecated and will be removed from pandas in a future version. Use pandas.concat instead.\n",
      "  resultados=resultados.append(comprobador(a))\n"
     ]
    },
    {
     "name": "stdout",
     "output_type": "stream",
     "text": [
      "Si está el campo personalizado para la URL 'https://online-colombia.universidadeuropea.com/maestria-oficial-organizacion-direccion-centros-docentes/'\n"
     ]
    },
    {
     "name": "stderr",
     "output_type": "stream",
     "text": [
      "C:\\Users\\9140\\AppData\\Local\\Temp\\ipykernel_12948\\3282100434.py:2: FutureWarning: The frame.append method is deprecated and will be removed from pandas in a future version. Use pandas.concat instead.\n",
      "  resultados=resultados.append(comprobador(a))\n"
     ]
    },
    {
     "name": "stdout",
     "output_type": "stream",
     "text": [
      "Si está el campo personalizado para la URL 'https://online-colombia.universidadeuropea.com/maestria-investigacion-musical-virtual/'\n"
     ]
    },
    {
     "name": "stderr",
     "output_type": "stream",
     "text": [
      "C:\\Users\\9140\\AppData\\Local\\Temp\\ipykernel_12948\\3282100434.py:2: FutureWarning: The frame.append method is deprecated and will be removed from pandas in a future version. Use pandas.concat instead.\n",
      "  resultados=resultados.append(comprobador(a))\n"
     ]
    },
    {
     "name": "stdout",
     "output_type": "stream",
     "text": [
      "Si está el campo personalizado para la URL 'https://online-colombia.universidadeuropea.com/maestria-oficial-gestion-deportiva/'\n"
     ]
    },
    {
     "name": "stderr",
     "output_type": "stream",
     "text": [
      "C:\\Users\\9140\\AppData\\Local\\Temp\\ipykernel_12948\\3282100434.py:2: FutureWarning: The frame.append method is deprecated and will be removed from pandas in a future version. Use pandas.concat instead.\n",
      "  resultados=resultados.append(comprobador(a))\n"
     ]
    },
    {
     "name": "stdout",
     "output_type": "stream",
     "text": [
      "Si está el campo personalizado para la URL 'https://online-colombia.universidadeuropea.com/maestria-oficial-direccion-recursos-humanos/'\n"
     ]
    },
    {
     "name": "stderr",
     "output_type": "stream",
     "text": [
      "C:\\Users\\9140\\AppData\\Local\\Temp\\ipykernel_12948\\3282100434.py:2: FutureWarning: The frame.append method is deprecated and will be removed from pandas in a future version. Use pandas.concat instead.\n",
      "  resultados=resultados.append(comprobador(a))\n"
     ]
    },
    {
     "name": "stdout",
     "output_type": "stream",
     "text": [
      "Si está el campo personalizado para la URL 'https://online-colombia.universidadeuropea.com/maestria-oficial-derechos-humanos/'\n"
     ]
    },
    {
     "name": "stderr",
     "output_type": "stream",
     "text": [
      "C:\\Users\\9140\\AppData\\Local\\Temp\\ipykernel_12948\\3282100434.py:2: FutureWarning: The frame.append method is deprecated and will be removed from pandas in a future version. Use pandas.concat instead.\n",
      "  resultados=resultados.append(comprobador(a))\n"
     ]
    },
    {
     "name": "stdout",
     "output_type": "stream",
     "text": [
      "Si está el campo personalizado para la URL 'https://online-colombia.universidadeuropea.com/maestria-oficial-desarrollo-infantil-atencion-temprana/'\n"
     ]
    },
    {
     "name": "stderr",
     "output_type": "stream",
     "text": [
      "C:\\Users\\9140\\AppData\\Local\\Temp\\ipykernel_12948\\3282100434.py:2: FutureWarning: The frame.append method is deprecated and will be removed from pandas in a future version. Use pandas.concat instead.\n",
      "  resultados=resultados.append(comprobador(a))\n"
     ]
    },
    {
     "name": "stdout",
     "output_type": "stream",
     "text": [
      "Si está el campo personalizado para la URL 'https://online-colombia.universidadeuropea.com/maestria-oficial-bioinformatica/'\n"
     ]
    },
    {
     "name": "stderr",
     "output_type": "stream",
     "text": [
      "C:\\Users\\9140\\AppData\\Local\\Temp\\ipykernel_12948\\3282100434.py:2: FutureWarning: The frame.append method is deprecated and will be removed from pandas in a future version. Use pandas.concat instead.\n",
      "  resultados=resultados.append(comprobador(a))\n"
     ]
    },
    {
     "name": "stdout",
     "output_type": "stream",
     "text": [
      "Si está el campo personalizado para la URL 'https://online-colombia.universidadeuropea.com/maestria-oficial-en-direccion-gestion-financiera/'\n"
     ]
    },
    {
     "name": "stderr",
     "output_type": "stream",
     "text": [
      "C:\\Users\\9140\\AppData\\Local\\Temp\\ipykernel_12948\\3282100434.py:2: FutureWarning: The frame.append method is deprecated and will be removed from pandas in a future version. Use pandas.concat instead.\n",
      "  resultados=resultados.append(comprobador(a))\n"
     ]
    },
    {
     "name": "stdout",
     "output_type": "stream",
     "text": [
      "Si está el campo personalizado para la URL 'https://online-colombia.universidadeuropea.com/maestria-oficial-en-linea-en-educacion-especial/'\n"
     ]
    },
    {
     "name": "stderr",
     "output_type": "stream",
     "text": [
      "C:\\Users\\9140\\AppData\\Local\\Temp\\ipykernel_12948\\3282100434.py:2: FutureWarning: The frame.append method is deprecated and will be removed from pandas in a future version. Use pandas.concat instead.\n",
      "  resultados=resultados.append(comprobador(a))\n"
     ]
    },
    {
     "name": "stdout",
     "output_type": "stream",
     "text": [
      "Si está el campo personalizado para la URL 'https://online-colombia.universidadeuropea.com/online-colombia-maestria-psicopedagogia/'\n"
     ]
    },
    {
     "name": "stderr",
     "output_type": "stream",
     "text": [
      "C:\\Users\\9140\\AppData\\Local\\Temp\\ipykernel_12948\\3282100434.py:2: FutureWarning: The frame.append method is deprecated and will be removed from pandas in a future version. Use pandas.concat instead.\n",
      "  resultados=resultados.append(comprobador(a))\n"
     ]
    },
    {
     "name": "stdout",
     "output_type": "stream",
     "text": [
      "Si está el campo personalizado para la URL 'https://online-colombia.universidadeuropea.com/maestria-seguridad-tecnologias-informacion-en-linea/'\n"
     ]
    },
    {
     "name": "stderr",
     "output_type": "stream",
     "text": [
      "C:\\Users\\9140\\AppData\\Local\\Temp\\ipykernel_12948\\3282100434.py:2: FutureWarning: The frame.append method is deprecated and will be removed from pandas in a future version. Use pandas.concat instead.\n",
      "  resultados=resultados.append(comprobador(a))\n"
     ]
    },
    {
     "name": "stdout",
     "output_type": "stream",
     "text": [
      "Si está el campo personalizado para la URL 'https://online-colombia.universidadeuropea.com/maestria-oficial-ensenanza-espanol-lengua-extranjera/'\n"
     ]
    },
    {
     "name": "stderr",
     "output_type": "stream",
     "text": [
      "C:\\Users\\9140\\AppData\\Local\\Temp\\ipykernel_12948\\3282100434.py:2: FutureWarning: The frame.append method is deprecated and will be removed from pandas in a future version. Use pandas.concat instead.\n",
      "  resultados=resultados.append(comprobador(a))\n"
     ]
    },
    {
     "name": "stdout",
     "output_type": "stream",
     "text": [
      "Si está el campo personalizado para la URL 'https://online-colombia.universidadeuropea.com/maestria-gestion-proyectos-online/'\n"
     ]
    },
    {
     "name": "stderr",
     "output_type": "stream",
     "text": [
      "C:\\Users\\9140\\AppData\\Local\\Temp\\ipykernel_12948\\3282100434.py:2: FutureWarning: The frame.append method is deprecated and will be removed from pandas in a future version. Use pandas.concat instead.\n",
      "  resultados=resultados.append(comprobador(a))\n"
     ]
    },
    {
     "name": "stdout",
     "output_type": "stream",
     "text": [
      "Si está el campo personalizado para la URL 'https://online-colombia.universidadeuropea.com/maestria-mediacion-online/'\n"
     ]
    },
    {
     "name": "stderr",
     "output_type": "stream",
     "text": [
      "C:\\Users\\9140\\AppData\\Local\\Temp\\ipykernel_12948\\3282100434.py:2: FutureWarning: The frame.append method is deprecated and will be removed from pandas in a future version. Use pandas.concat instead.\n",
      "  resultados=resultados.append(comprobador(a))\n"
     ]
    },
    {
     "name": "stdout",
     "output_type": "stream",
     "text": [
      "Si está el campo personalizado para la URL 'https://online-colombia.universidadeuropea.com/maestria-oficial-gestion-negocios-internacionales/'\n"
     ]
    },
    {
     "name": "stderr",
     "output_type": "stream",
     "text": [
      "C:\\Users\\9140\\AppData\\Local\\Temp\\ipykernel_12948\\3282100434.py:2: FutureWarning: The frame.append method is deprecated and will be removed from pandas in a future version. Use pandas.concat instead.\n",
      "  resultados=resultados.append(comprobador(a))\n"
     ]
    },
    {
     "name": "stdout",
     "output_type": "stream",
     "text": [
      "Si está el campo personalizado para la URL 'https://online-colombia.universidadeuropea.com/maestria-oficial-seguridad-salud-ocupacional/'\n"
     ]
    },
    {
     "name": "stderr",
     "output_type": "stream",
     "text": [
      "C:\\Users\\9140\\AppData\\Local\\Temp\\ipykernel_12948\\3282100434.py:2: FutureWarning: The frame.append method is deprecated and will be removed from pandas in a future version. Use pandas.concat instead.\n",
      "  resultados=resultados.append(comprobador(a))\n"
     ]
    },
    {
     "name": "stdout",
     "output_type": "stream",
     "text": [
      "Si está el campo personalizado para la URL 'https://online-colombia.universidadeuropea.com/maestrias-biomedicas/'\n"
     ]
    },
    {
     "name": "stderr",
     "output_type": "stream",
     "text": [
      "C:\\Users\\9140\\AppData\\Local\\Temp\\ipykernel_12948\\3282100434.py:2: FutureWarning: The frame.append method is deprecated and will be removed from pandas in a future version. Use pandas.concat instead.\n",
      "  resultados=resultados.append(comprobador(a))\n"
     ]
    },
    {
     "name": "stdout",
     "output_type": "stream",
     "text": [
      "Si está el campo personalizado para la URL 'https://online-colombia.universidadeuropea.com/maestrias-steam/'\n"
     ]
    },
    {
     "name": "stderr",
     "output_type": "stream",
     "text": [
      "C:\\Users\\9140\\AppData\\Local\\Temp\\ipykernel_12948\\3282100434.py:2: FutureWarning: The frame.append method is deprecated and will be removed from pandas in a future version. Use pandas.concat instead.\n",
      "  resultados=resultados.append(comprobador(a))\n"
     ]
    },
    {
     "name": "stdout",
     "output_type": "stream",
     "text": [
      "Si está el campo personalizado para la URL 'https://online-colombia.universidadeuropea.com/maestrias-online/'\n"
     ]
    },
    {
     "name": "stderr",
     "output_type": "stream",
     "text": [
      "C:\\Users\\9140\\AppData\\Local\\Temp\\ipykernel_12948\\3282100434.py:2: FutureWarning: The frame.append method is deprecated and will be removed from pandas in a future version. Use pandas.concat instead.\n",
      "  resultados=resultados.append(comprobador(a))\n"
     ]
    },
    {
     "name": "stdout",
     "output_type": "stream",
     "text": [
      "Si está el campo personalizado para la URL 'https://online-colombia.universidadeuropea.com/maestria-energias-renovables-virtual/'\n"
     ]
    },
    {
     "name": "stderr",
     "output_type": "stream",
     "text": [
      "C:\\Users\\9140\\AppData\\Local\\Temp\\ipykernel_12948\\3282100434.py:2: FutureWarning: The frame.append method is deprecated and will be removed from pandas in a future version. Use pandas.concat instead.\n",
      "  resultados=resultados.append(comprobador(a))\n"
     ]
    },
    {
     "name": "stdout",
     "output_type": "stream",
     "text": [
      "Si está el campo personalizado para la URL 'https://online-colombia.universidadeuropea.com/maestria-tecnologia-educativa-online/'\n"
     ]
    },
    {
     "name": "stderr",
     "output_type": "stream",
     "text": [
      "C:\\Users\\9140\\AppData\\Local\\Temp\\ipykernel_12948\\3282100434.py:2: FutureWarning: The frame.append method is deprecated and will be removed from pandas in a future version. Use pandas.concat instead.\n",
      "  resultados=resultados.append(comprobador(a))\n"
     ]
    },
    {
     "name": "stdout",
     "output_type": "stream",
     "text": [
      "Si está el campo personalizado para la URL 'https://online-colombia.universidadeuropea.com/maestria-oficial-marketing/'\n"
     ]
    },
    {
     "name": "stderr",
     "output_type": "stream",
     "text": [
      "C:\\Users\\9140\\AppData\\Local\\Temp\\ipykernel_12948\\3282100434.py:2: FutureWarning: The frame.append method is deprecated and will be removed from pandas in a future version. Use pandas.concat instead.\n",
      "  resultados=resultados.append(comprobador(a))\n"
     ]
    },
    {
     "name": "stdout",
     "output_type": "stream",
     "text": [
      "Si está el campo personalizado para la URL 'https://online-colombia.universidadeuropea.com/maestrias-empresa/'\n"
     ]
    },
    {
     "name": "stderr",
     "output_type": "stream",
     "text": [
      "C:\\Users\\9140\\AppData\\Local\\Temp\\ipykernel_12948\\3282100434.py:2: FutureWarning: The frame.append method is deprecated and will be removed from pandas in a future version. Use pandas.concat instead.\n",
      "  resultados=resultados.append(comprobador(a))\n"
     ]
    },
    {
     "name": "stdout",
     "output_type": "stream",
     "text": [
      "Si está el campo personalizado para la URL 'https://online-colombia.universidadeuropea.com/maestrias-educacion/'\n"
     ]
    },
    {
     "name": "stderr",
     "output_type": "stream",
     "text": [
      "C:\\Users\\9140\\AppData\\Local\\Temp\\ipykernel_12948\\3282100434.py:2: FutureWarning: The frame.append method is deprecated and will be removed from pandas in a future version. Use pandas.concat instead.\n",
      "  resultados=resultados.append(comprobador(a))\n"
     ]
    },
    {
     "name": "stdout",
     "output_type": "stream",
     "text": [
      "Si está el campo personalizado para la URL 'https://online-ecuador.universidadeuropea.com/maestrias-biomedicas/'\n"
     ]
    },
    {
     "name": "stderr",
     "output_type": "stream",
     "text": [
      "C:\\Users\\9140\\AppData\\Local\\Temp\\ipykernel_12948\\3282100434.py:2: FutureWarning: The frame.append method is deprecated and will be removed from pandas in a future version. Use pandas.concat instead.\n",
      "  resultados=resultados.append(comprobador(a))\n"
     ]
    },
    {
     "name": "stdout",
     "output_type": "stream",
     "text": [
      "Si está el campo personalizado para la URL ' https://online-ecuador.universidadeuropea.com/maestria-innovacion-educativa-virtual/'\n"
     ]
    },
    {
     "name": "stderr",
     "output_type": "stream",
     "text": [
      "C:\\Users\\9140\\AppData\\Local\\Temp\\ipykernel_12948\\3282100434.py:2: FutureWarning: The frame.append method is deprecated and will be removed from pandas in a future version. Use pandas.concat instead.\n",
      "  resultados=resultados.append(comprobador(a))\n"
     ]
    },
    {
     "name": "stdout",
     "output_type": "stream",
     "text": [
      "Si está el campo personalizado para la URL ' https://online-ecuador.universidadeuropea.com/maestria-administracion-empresas-mba/'\n"
     ]
    },
    {
     "name": "stderr",
     "output_type": "stream",
     "text": [
      "C:\\Users\\9140\\AppData\\Local\\Temp\\ipykernel_12948\\3282100434.py:2: FutureWarning: The frame.append method is deprecated and will be removed from pandas in a future version. Use pandas.concat instead.\n",
      "  resultados=resultados.append(comprobador(a))\n"
     ]
    },
    {
     "name": "stdout",
     "output_type": "stream",
     "text": [
      "Si está el campo personalizado para la URL ' https://online-ecuador.universidadeuropea.com/maestria-arquitectura-sostenible-bioconstruccion/'\n"
     ]
    },
    {
     "name": "stderr",
     "output_type": "stream",
     "text": [
      "C:\\Users\\9140\\AppData\\Local\\Temp\\ipykernel_12948\\3282100434.py:2: FutureWarning: The frame.append method is deprecated and will be removed from pandas in a future version. Use pandas.concat instead.\n",
      "  resultados=resultados.append(comprobador(a))\n"
     ]
    },
    {
     "name": "stdout",
     "output_type": "stream",
     "text": [
      "Si está el campo personalizado para la URL ' https://online-ecuador.universidadeuropea.com/maestria-gestion-negocio-maritimo-derecho-maritimo-en-linea/'\n"
     ]
    },
    {
     "name": "stderr",
     "output_type": "stream",
     "text": [
      "C:\\Users\\9140\\AppData\\Local\\Temp\\ipykernel_12948\\3282100434.py:2: FutureWarning: The frame.append method is deprecated and will be removed from pandas in a future version. Use pandas.concat instead.\n",
      "  resultados=resultados.append(comprobador(a))\n"
     ]
    },
    {
     "name": "stdout",
     "output_type": "stream",
     "text": [
      "Si está el campo personalizado para la URL ' https://online-ecuador.universidadeuropea.com/maestria-oficial-organizacion-direccion-centros-docentes/'\n"
     ]
    },
    {
     "name": "stderr",
     "output_type": "stream",
     "text": [
      "C:\\Users\\9140\\AppData\\Local\\Temp\\ipykernel_12948\\3282100434.py:2: FutureWarning: The frame.append method is deprecated and will be removed from pandas in a future version. Use pandas.concat instead.\n",
      "  resultados=resultados.append(comprobador(a))\n"
     ]
    },
    {
     "name": "stdout",
     "output_type": "stream",
     "text": [
      "Si está el campo personalizado para la URL ' https://online-ecuador.universidadeuropea.com/maestria-futbol-real-madrid-virtual/'\n"
     ]
    },
    {
     "name": "stderr",
     "output_type": "stream",
     "text": [
      "C:\\Users\\9140\\AppData\\Local\\Temp\\ipykernel_12948\\3282100434.py:2: FutureWarning: The frame.append method is deprecated and will be removed from pandas in a future version. Use pandas.concat instead.\n",
      "  resultados=resultados.append(comprobador(a))\n"
     ]
    },
    {
     "name": "stdout",
     "output_type": "stream",
     "text": [
      "Si está el campo personalizado para la URL ' https://online-ecuador.universidadeuropea.com/maestria-en-docencia-universitaria/'\n"
     ]
    },
    {
     "name": "stderr",
     "output_type": "stream",
     "text": [
      "C:\\Users\\9140\\AppData\\Local\\Temp\\ipykernel_12948\\3282100434.py:2: FutureWarning: The frame.append method is deprecated and will be removed from pandas in a future version. Use pandas.concat instead.\n",
      "  resultados=resultados.append(comprobador(a))\n"
     ]
    },
    {
     "name": "stdout",
     "output_type": "stream",
     "text": [
      "Si está el campo personalizado para la URL ' https://online-ecuador.universidadeuropea.com/maestria-en-energias-renovables/'\n"
     ]
    },
    {
     "name": "stderr",
     "output_type": "stream",
     "text": [
      "C:\\Users\\9140\\AppData\\Local\\Temp\\ipykernel_12948\\3282100434.py:2: FutureWarning: The frame.append method is deprecated and will be removed from pandas in a future version. Use pandas.concat instead.\n",
      "  resultados=resultados.append(comprobador(a))\n"
     ]
    },
    {
     "name": "stdout",
     "output_type": "stream",
     "text": [
      "Si está el campo personalizado para la URL ' https://online-ecuador.universidadeuropea.com/maestria-gestion-deportiva-real-madrid-virtual/'\n"
     ]
    },
    {
     "name": "stderr",
     "output_type": "stream",
     "text": [
      "C:\\Users\\9140\\AppData\\Local\\Temp\\ipykernel_12948\\3282100434.py:2: FutureWarning: The frame.append method is deprecated and will be removed from pandas in a future version. Use pandas.concat instead.\n",
      "  resultados=resultados.append(comprobador(a))\n"
     ]
    },
    {
     "name": "stdout",
     "output_type": "stream",
     "text": [
      "Si está el campo personalizado para la URL ' https://online-ecuador.universidadeuropea.com/maestria-en-linea-en-diseno-ux/'\n"
     ]
    },
    {
     "name": "stderr",
     "output_type": "stream",
     "text": [
      "C:\\Users\\9140\\AppData\\Local\\Temp\\ipykernel_12948\\3282100434.py:2: FutureWarning: The frame.append method is deprecated and will be removed from pandas in a future version. Use pandas.concat instead.\n",
      "  resultados=resultados.append(comprobador(a))\n"
     ]
    },
    {
     "name": "stdout",
     "output_type": "stream",
     "text": [
      "Si está el campo personalizado para la URL ' https://online-ecuador.universidadeuropea.com/maestria-gestion-proyectos-virtual/'\n"
     ]
    },
    {
     "name": "stderr",
     "output_type": "stream",
     "text": [
      "C:\\Users\\9140\\AppData\\Local\\Temp\\ipykernel_12948\\3282100434.py:2: FutureWarning: The frame.append method is deprecated and will be removed from pandas in a future version. Use pandas.concat instead.\n",
      "  resultados=resultados.append(comprobador(a))\n"
     ]
    },
    {
     "name": "stdout",
     "output_type": "stream",
     "text": [
      "Si está el campo personalizado para la URL ' https://online-ecuador.universidadeuropea.com/maestria-marketing/'\n"
     ]
    },
    {
     "name": "stderr",
     "output_type": "stream",
     "text": [
      "C:\\Users\\9140\\AppData\\Local\\Temp\\ipykernel_12948\\3282100434.py:2: FutureWarning: The frame.append method is deprecated and will be removed from pandas in a future version. Use pandas.concat instead.\n",
      "  resultados=resultados.append(comprobador(a))\n"
     ]
    },
    {
     "name": "stdout",
     "output_type": "stream",
     "text": [
      "Si está el campo personalizado para la URL 'https://online-ecuador.universidadeuropea.com/maestria-negocios-internacionales-virtual/'\n"
     ]
    },
    {
     "name": "stderr",
     "output_type": "stream",
     "text": [
      "C:\\Users\\9140\\AppData\\Local\\Temp\\ipykernel_12948\\3282100434.py:2: FutureWarning: The frame.append method is deprecated and will be removed from pandas in a future version. Use pandas.concat instead.\n",
      "  resultados=resultados.append(comprobador(a))\n"
     ]
    },
    {
     "name": "stdout",
     "output_type": "stream",
     "text": [
      "Si está el campo personalizado para la URL ' https://online-ecuador.universidadeuropea.com/maestria-big-data-virtual/'\n"
     ]
    },
    {
     "name": "stderr",
     "output_type": "stream",
     "text": [
      "C:\\Users\\9140\\AppData\\Local\\Temp\\ipykernel_12948\\3282100434.py:2: FutureWarning: The frame.append method is deprecated and will be removed from pandas in a future version. Use pandas.concat instead.\n",
      "  resultados=resultados.append(comprobador(a))\n"
     ]
    },
    {
     "name": "stdout",
     "output_type": "stream",
     "text": [
      "Si está el campo personalizado para la URL 'https://online-ecuador.universidadeuropea.com/maestria-oficial-bioinformatica/'\n"
     ]
    },
    {
     "name": "stderr",
     "output_type": "stream",
     "text": [
      "C:\\Users\\9140\\AppData\\Local\\Temp\\ipykernel_12948\\3282100434.py:2: FutureWarning: The frame.append method is deprecated and will be removed from pandas in a future version. Use pandas.concat instead.\n",
      "  resultados=resultados.append(comprobador(a))\n"
     ]
    },
    {
     "name": "stdout",
     "output_type": "stream",
     "text": [
      "Si está el campo personalizado para la URL ' https://online-ecuador.universidadeuropea.com/maestria-oficial-direccion-gestion-financiera/'\n"
     ]
    },
    {
     "name": "stderr",
     "output_type": "stream",
     "text": [
      "C:\\Users\\9140\\AppData\\Local\\Temp\\ipykernel_12948\\3282100434.py:2: FutureWarning: The frame.append method is deprecated and will be removed from pandas in a future version. Use pandas.concat instead.\n",
      "  resultados=resultados.append(comprobador(a))\n"
     ]
    },
    {
     "name": "stdout",
     "output_type": "stream",
     "text": [
      "Si está el campo personalizado para la URL ' https://online-ecuador.universidadeuropea.com/maestria-diseno-grafico-virtual/'\n"
     ]
    },
    {
     "name": "stderr",
     "output_type": "stream",
     "text": [
      "C:\\Users\\9140\\AppData\\Local\\Temp\\ipykernel_12948\\3282100434.py:2: FutureWarning: The frame.append method is deprecated and will be removed from pandas in a future version. Use pandas.concat instead.\n",
      "  resultados=resultados.append(comprobador(a))\n"
     ]
    },
    {
     "name": "stdout",
     "output_type": "stream",
     "text": [
      "Si está el campo personalizado para la URL ' https://online-ecuador.universidadeuropea.com/maestria-oficial-en-ciberseguridad-online/'\n"
     ]
    },
    {
     "name": "stderr",
     "output_type": "stream",
     "text": [
      "C:\\Users\\9140\\AppData\\Local\\Temp\\ipykernel_12948\\3282100434.py:2: FutureWarning: The frame.append method is deprecated and will be removed from pandas in a future version. Use pandas.concat instead.\n",
      "  resultados=resultados.append(comprobador(a))\n"
     ]
    },
    {
     "name": "stdout",
     "output_type": "stream",
     "text": [
      "Si está el campo personalizado para la URL ' https://online-ecuador.universidadeuropea.com/maestria-atencion-temprana-online/'\n"
     ]
    },
    {
     "name": "stderr",
     "output_type": "stream",
     "text": [
      "C:\\Users\\9140\\AppData\\Local\\Temp\\ipykernel_12948\\3282100434.py:2: FutureWarning: The frame.append method is deprecated and will be removed from pandas in a future version. Use pandas.concat instead.\n",
      "  resultados=resultados.append(comprobador(a))\n"
     ]
    },
    {
     "name": "stdout",
     "output_type": "stream",
     "text": [
      "Si está el campo personalizado para la URL ' https://online-ecuador.universidadeuropea.com/maestria-oficial-en-linea-en-educacion-especial/'\n"
     ]
    },
    {
     "name": "stderr",
     "output_type": "stream",
     "text": [
      "C:\\Users\\9140\\AppData\\Local\\Temp\\ipykernel_12948\\3282100434.py:2: FutureWarning: The frame.append method is deprecated and will be removed from pandas in a future version. Use pandas.concat instead.\n",
      "  resultados=resultados.append(comprobador(a))\n"
     ]
    },
    {
     "name": "stdout",
     "output_type": "stream",
     "text": [
      "Si está el campo personalizado para la URL ' https://online-ecuador.universidadeuropea.com/maestria-oficial-derechos-humanos-en-linea/'\n"
     ]
    },
    {
     "name": "stderr",
     "output_type": "stream",
     "text": [
      "C:\\Users\\9140\\AppData\\Local\\Temp\\ipykernel_12948\\3282100434.py:2: FutureWarning: The frame.append method is deprecated and will be removed from pandas in a future version. Use pandas.concat instead.\n",
      "  resultados=resultados.append(comprobador(a))\n"
     ]
    },
    {
     "name": "stdout",
     "output_type": "stream",
     "text": [
      "Si está el campo personalizado para la URL ' https://online-ecuador.universidadeuropea.com/maestria-construccion-virtual/'\n"
     ]
    },
    {
     "name": "stderr",
     "output_type": "stream",
     "text": [
      "C:\\Users\\9140\\AppData\\Local\\Temp\\ipykernel_12948\\3282100434.py:2: FutureWarning: The frame.append method is deprecated and will be removed from pandas in a future version. Use pandas.concat instead.\n",
      "  resultados=resultados.append(comprobador(a))\n"
     ]
    },
    {
     "name": "stdout",
     "output_type": "stream",
     "text": [
      "Si está el campo personalizado para la URL ' https://online-ecuador.universidadeuropea.com/maestria-investigacion-musical-virtual/'\n"
     ]
    },
    {
     "name": "stderr",
     "output_type": "stream",
     "text": [
      "C:\\Users\\9140\\AppData\\Local\\Temp\\ipykernel_12948\\3282100434.py:2: FutureWarning: The frame.append method is deprecated and will be removed from pandas in a future version. Use pandas.concat instead.\n",
      "  resultados=resultados.append(comprobador(a))\n"
     ]
    },
    {
     "name": "stdout",
     "output_type": "stream",
     "text": [
      "Si está el campo personalizado para la URL ' https://online-ecuador.universidadeuropea.com/maestria-oficial-ensenanza-espanol-lengua-extranjera/'\n"
     ]
    },
    {
     "name": "stderr",
     "output_type": "stream",
     "text": [
      "C:\\Users\\9140\\AppData\\Local\\Temp\\ipykernel_12948\\3282100434.py:2: FutureWarning: The frame.append method is deprecated and will be removed from pandas in a future version. Use pandas.concat instead.\n",
      "  resultados=resultados.append(comprobador(a))\n"
     ]
    },
    {
     "name": "stdout",
     "output_type": "stream",
     "text": [
      "Si está el campo personalizado para la URL 'https://online-ecuador.universidadeuropea.com/maestria-oficial-salud-publica/'\n"
     ]
    },
    {
     "name": "stderr",
     "output_type": "stream",
     "text": [
      "C:\\Users\\9140\\AppData\\Local\\Temp\\ipykernel_12948\\3282100434.py:2: FutureWarning: The frame.append method is deprecated and will be removed from pandas in a future version. Use pandas.concat instead.\n",
      "  resultados=resultados.append(comprobador(a))\n"
     ]
    },
    {
     "name": "stdout",
     "output_type": "stream",
     "text": [
      "Si está el campo personalizado para la URL ' https://online-ecuador.universidadeuropea.com/maestria-oficial-industria-40-en-linea/'\n"
     ]
    },
    {
     "name": "stderr",
     "output_type": "stream",
     "text": [
      "C:\\Users\\9140\\AppData\\Local\\Temp\\ipykernel_12948\\3282100434.py:2: FutureWarning: The frame.append method is deprecated and will be removed from pandas in a future version. Use pandas.concat instead.\n",
      "  resultados=resultados.append(comprobador(a))\n"
     ]
    },
    {
     "name": "stdout",
     "output_type": "stream",
     "text": [
      "Si está el campo personalizado para la URL ' https://online-ecuador.universidadeuropea.com/maestria-oficial-ingenieria-organizacion-direccion-proyectos-empresas-online/'\n"
     ]
    },
    {
     "name": "stderr",
     "output_type": "stream",
     "text": [
      "C:\\Users\\9140\\AppData\\Local\\Temp\\ipykernel_12948\\3282100434.py:2: FutureWarning: The frame.append method is deprecated and will be removed from pandas in a future version. Use pandas.concat instead.\n",
      "  resultados=resultados.append(comprobador(a))\n"
     ]
    },
    {
     "name": "stdout",
     "output_type": "stream",
     "text": [
      "Si está el campo personalizado para la URL ' https://online-ecuador.universidadeuropea.com/maestria-oficial-mediacion-resolucion-conflictos/'\n"
     ]
    },
    {
     "name": "stderr",
     "output_type": "stream",
     "text": [
      "C:\\Users\\9140\\AppData\\Local\\Temp\\ipykernel_12948\\3282100434.py:2: FutureWarning: The frame.append method is deprecated and will be removed from pandas in a future version. Use pandas.concat instead.\n",
      "  resultados=resultados.append(comprobador(a))\n"
     ]
    },
    {
     "name": "stdout",
     "output_type": "stream",
     "text": [
      "Si está el campo personalizado para la URL ' https://online-ecuador.universidadeuropea.com/online-ecuador-maestria-psicopedagogia/'\n"
     ]
    },
    {
     "name": "stderr",
     "output_type": "stream",
     "text": [
      "C:\\Users\\9140\\AppData\\Local\\Temp\\ipykernel_12948\\3282100434.py:2: FutureWarning: The frame.append method is deprecated and will be removed from pandas in a future version. Use pandas.concat instead.\n",
      "  resultados=resultados.append(comprobador(a))\n"
     ]
    },
    {
     "name": "stdout",
     "output_type": "stream",
     "text": [
      "Si está el campo personalizado para la URL 'https://online-ecuador.universidadeuropea.com/maestria-oficial-en-seguridad-y-salud-ocupacional-prl-en-linea/'\n"
     ]
    },
    {
     "name": "stderr",
     "output_type": "stream",
     "text": [
      "C:\\Users\\9140\\AppData\\Local\\Temp\\ipykernel_12948\\3282100434.py:2: FutureWarning: The frame.append method is deprecated and will be removed from pandas in a future version. Use pandas.concat instead.\n",
      "  resultados=resultados.append(comprobador(a))\n"
     ]
    },
    {
     "name": "stdout",
     "output_type": "stream",
     "text": [
      "Si está el campo personalizado para la URL ' https://online-ecuador.universidadeuropea.com/maestria-oficial-sistemas-integrados-gestion-en-linea/'\n"
     ]
    },
    {
     "name": "stderr",
     "output_type": "stream",
     "text": [
      "C:\\Users\\9140\\AppData\\Local\\Temp\\ipykernel_12948\\3282100434.py:2: FutureWarning: The frame.append method is deprecated and will be removed from pandas in a future version. Use pandas.concat instead.\n",
      "  resultados=resultados.append(comprobador(a))\n"
     ]
    },
    {
     "name": "stdout",
     "output_type": "stream",
     "text": [
      "Si está el campo personalizado para la URL ' https://online-ecuador.universidadeuropea.com/maestria-oficial-gestion-talento-humano/'\n"
     ]
    },
    {
     "name": "stderr",
     "output_type": "stream",
     "text": [
      "C:\\Users\\9140\\AppData\\Local\\Temp\\ipykernel_12948\\3282100434.py:2: FutureWarning: The frame.append method is deprecated and will be removed from pandas in a future version. Use pandas.concat instead.\n",
      "  resultados=resultados.append(comprobador(a))\n"
     ]
    },
    {
     "name": "stdout",
     "output_type": "stream",
     "text": [
      "Si está el campo personalizado para la URL 'https://online-ecuador.universidadeuropea.com/maestrias-energias-renovables-prl-tecnologia-construccion-diseno/'\n"
     ]
    },
    {
     "name": "stderr",
     "output_type": "stream",
     "text": [
      "C:\\Users\\9140\\AppData\\Local\\Temp\\ipykernel_12948\\3282100434.py:2: FutureWarning: The frame.append method is deprecated and will be removed from pandas in a future version. Use pandas.concat instead.\n",
      "  resultados=resultados.append(comprobador(a))\n"
     ]
    },
    {
     "name": "stdout",
     "output_type": "stream",
     "text": [
      "Si está el campo personalizado para la URL 'https://online-ecuador.universidadeuropea.com/maestrias-educacion/'\n"
     ]
    },
    {
     "name": "stderr",
     "output_type": "stream",
     "text": [
      "C:\\Users\\9140\\AppData\\Local\\Temp\\ipykernel_12948\\3282100434.py:2: FutureWarning: The frame.append method is deprecated and will be removed from pandas in a future version. Use pandas.concat instead.\n",
      "  resultados=resultados.append(comprobador(a))\n"
     ]
    },
    {
     "name": "stdout",
     "output_type": "stream",
     "text": [
      "Si está el campo personalizado para la URL 'https://online-ecuador.universidadeuropea.com/maestrias-steam-science-technology-engineering-arts-and-maths/'\n"
     ]
    },
    {
     "name": "stderr",
     "output_type": "stream",
     "text": [
      "C:\\Users\\9140\\AppData\\Local\\Temp\\ipykernel_12948\\3282100434.py:2: FutureWarning: The frame.append method is deprecated and will be removed from pandas in a future version. Use pandas.concat instead.\n",
      "  resultados=resultados.append(comprobador(a))\n"
     ]
    },
    {
     "name": "stdout",
     "output_type": "stream",
     "text": [
      "Si está el campo personalizado para la URL ' https://online-ecuador.universidadeuropea.com/maestria-universitaria-direccion-gestion-hotelera/'\n"
     ]
    },
    {
     "name": "stderr",
     "output_type": "stream",
     "text": [
      "C:\\Users\\9140\\AppData\\Local\\Temp\\ipykernel_12948\\3282100434.py:2: FutureWarning: The frame.append method is deprecated and will be removed from pandas in a future version. Use pandas.concat instead.\n",
      "  resultados=resultados.append(comprobador(a))\n"
     ]
    },
    {
     "name": "stdout",
     "output_type": "stream",
     "text": [
      "Si está el campo personalizado para la URL ' https://online-ecuador.universidadeuropea.com/maestria-universitaria-logistica-en-linea/'\n"
     ]
    },
    {
     "name": "stderr",
     "output_type": "stream",
     "text": [
      "C:\\Users\\9140\\AppData\\Local\\Temp\\ipykernel_12948\\3282100434.py:2: FutureWarning: The frame.append method is deprecated and will be removed from pandas in a future version. Use pandas.concat instead.\n",
      "  resultados=resultados.append(comprobador(a))\n"
     ]
    },
    {
     "name": "stdout",
     "output_type": "stream",
     "text": [
      "Si está el campo personalizado para la URL 'https://online-ecuador.universidadeuropea.com/maestria-tecnologia-educativa-online/'\n"
     ]
    },
    {
     "name": "stderr",
     "output_type": "stream",
     "text": [
      "C:\\Users\\9140\\AppData\\Local\\Temp\\ipykernel_12948\\3282100434.py:2: FutureWarning: The frame.append method is deprecated and will be removed from pandas in a future version. Use pandas.concat instead.\n",
      "  resultados=resultados.append(comprobador(a))\n"
     ]
    },
    {
     "name": "stdout",
     "output_type": "stream",
     "text": [
      "Si está el campo personalizado para la URL 'https://online-ecuador.universidadeuropea.com/maestrias-empresa/'\n"
     ]
    },
    {
     "name": "stderr",
     "output_type": "stream",
     "text": [
      "C:\\Users\\9140\\AppData\\Local\\Temp\\ipykernel_12948\\3282100434.py:2: FutureWarning: The frame.append method is deprecated and will be removed from pandas in a future version. Use pandas.concat instead.\n",
      "  resultados=resultados.append(comprobador(a))\n"
     ]
    },
    {
     "name": "stdout",
     "output_type": "stream",
     "text": [
      "Si está el campo personalizado para la URL 'https://online-ecuador.universidadeuropea.com/maestrias-online/'\n"
     ]
    },
    {
     "name": "stderr",
     "output_type": "stream",
     "text": [
      "C:\\Users\\9140\\AppData\\Local\\Temp\\ipykernel_12948\\3282100434.py:2: FutureWarning: The frame.append method is deprecated and will be removed from pandas in a future version. Use pandas.concat instead.\n",
      "  resultados=resultados.append(comprobador(a))\n"
     ]
    },
    {
     "name": "stdout",
     "output_type": "stream",
     "text": [
      "Si está el campo personalizado para la URL 'https://online-ecuador.universidadeuropea.com/ayudas-profesionales/'\n"
     ]
    },
    {
     "name": "stderr",
     "output_type": "stream",
     "text": [
      "C:\\Users\\9140\\AppData\\Local\\Temp\\ipykernel_12948\\3282100434.py:2: FutureWarning: The frame.append method is deprecated and will be removed from pandas in a future version. Use pandas.concat instead.\n",
      "  resultados=resultados.append(comprobador(a))\n"
     ]
    },
    {
     "name": "stdout",
     "output_type": "stream",
     "text": [
      "Si está el campo personalizado para la URL 'https://online-ecuador.universidadeuropea.com/reconocimiento-titulos/'\n"
     ]
    },
    {
     "name": "stderr",
     "output_type": "stream",
     "text": [
      "C:\\Users\\9140\\AppData\\Local\\Temp\\ipykernel_12948\\3282100434.py:2: FutureWarning: The frame.append method is deprecated and will be removed from pandas in a future version. Use pandas.concat instead.\n",
      "  resultados=resultados.append(comprobador(a))\n"
     ]
    },
    {
     "name": "stdout",
     "output_type": "stream",
     "text": [
      "Si está el campo personalizado para la URL 'https://online.universidadeuropea.com/grado-telecomunicaciones-semipresencial/'\n"
     ]
    },
    {
     "name": "stderr",
     "output_type": "stream",
     "text": [
      "C:\\Users\\9140\\AppData\\Local\\Temp\\ipykernel_12948\\3282100434.py:2: FutureWarning: The frame.append method is deprecated and will be removed from pandas in a future version. Use pandas.concat instead.\n",
      "  resultados=resultados.append(comprobador(a))\n"
     ]
    },
    {
     "name": "stdout",
     "output_type": "stream",
     "text": [
      "Si está el campo personalizado para la URL 'https://online.universidadeuropea.com/grado-ingenieria-organizacion-industrial/'\n"
     ]
    },
    {
     "name": "stderr",
     "output_type": "stream",
     "text": [
      "C:\\Users\\9140\\AppData\\Local\\Temp\\ipykernel_12948\\3282100434.py:2: FutureWarning: The frame.append method is deprecated and will be removed from pandas in a future version. Use pandas.concat instead.\n",
      "  resultados=resultados.append(comprobador(a))\n"
     ]
    },
    {
     "name": "stdout",
     "output_type": "stream",
     "text": [
      "Si está el campo personalizado para la URL 'https://estudiar.universidadeuropea.com/grado-diseno/'\n"
     ]
    },
    {
     "name": "stderr",
     "output_type": "stream",
     "text": [
      "C:\\Users\\9140\\AppData\\Local\\Temp\\ipykernel_12948\\3282100434.py:2: FutureWarning: The frame.append method is deprecated and will be removed from pandas in a future version. Use pandas.concat instead.\n",
      "  resultados=resultados.append(comprobador(a))\n"
     ]
    },
    {
     "name": "stdout",
     "output_type": "stream",
     "text": [
      "Si está el campo personalizado para la URL 'https://online.universidadeuropea.com/grado-diseno-videojuegos-online/'\n"
     ]
    },
    {
     "name": "stderr",
     "output_type": "stream",
     "text": [
      "C:\\Users\\9140\\AppData\\Local\\Temp\\ipykernel_12948\\3282100434.py:2: FutureWarning: The frame.append method is deprecated and will be removed from pandas in a future version. Use pandas.concat instead.\n",
      "  resultados=resultados.append(comprobador(a))\n"
     ]
    },
    {
     "name": "stdout",
     "output_type": "stream",
     "text": [
      "Si está el campo personalizado para la URL 'https://estudiar.universidadeuropea.com/doble-grado-ingenieria-organizacion-industrial-administracion-direccion-empresas/'\n"
     ]
    },
    {
     "name": "stderr",
     "output_type": "stream",
     "text": [
      "C:\\Users\\9140\\AppData\\Local\\Temp\\ipykernel_12948\\3282100434.py:2: FutureWarning: The frame.append method is deprecated and will be removed from pandas in a future version. Use pandas.concat instead.\n",
      "  resultados=resultados.append(comprobador(a))\n"
     ]
    },
    {
     "name": "stdout",
     "output_type": "stream",
     "text": [
      "Si está el campo personalizado para la URL 'https://estudiar.universidadeuropea.com/grado-administracion-direccion-empresas-valencia/'\n"
     ]
    },
    {
     "name": "stderr",
     "output_type": "stream",
     "text": [
      "C:\\Users\\9140\\AppData\\Local\\Temp\\ipykernel_12948\\3282100434.py:2: FutureWarning: The frame.append method is deprecated and will be removed from pandas in a future version. Use pandas.concat instead.\n",
      "  resultados=resultados.append(comprobador(a))\n"
     ]
    },
    {
     "name": "stdout",
     "output_type": "stream",
     "text": [
      "Si está el campo personalizado para la URL 'https://estudiar.universidadeuropea.com/titulaciones-universidad-europea/'\n"
     ]
    },
    {
     "name": "stderr",
     "output_type": "stream",
     "text": [
      "C:\\Users\\9140\\AppData\\Local\\Temp\\ipykernel_12948\\3282100434.py:2: FutureWarning: The frame.append method is deprecated and will be removed from pandas in a future version. Use pandas.concat instead.\n",
      "  resultados=resultados.append(comprobador(a))\n"
     ]
    },
    {
     "name": "stdout",
     "output_type": "stream",
     "text": [
      "Si está el campo personalizado para la URL 'https://online.universidadeuropea.com/master-psicologia-coaching-online/'\n"
     ]
    },
    {
     "name": "stderr",
     "output_type": "stream",
     "text": [
      "C:\\Users\\9140\\AppData\\Local\\Temp\\ipykernel_12948\\3282100434.py:2: FutureWarning: The frame.append method is deprecated and will be removed from pandas in a future version. Use pandas.concat instead.\n",
      "  resultados=resultados.append(comprobador(a))\n"
     ]
    },
    {
     "name": "stdout",
     "output_type": "stream",
     "text": [
      "Si está el campo personalizado para la URL 'https://estudiar.universidadeuropea.com/en/global-bachelor-business-management-entrepreneurship-valencia/'\n"
     ]
    },
    {
     "name": "stderr",
     "output_type": "stream",
     "text": [
      "C:\\Users\\9140\\AppData\\Local\\Temp\\ipykernel_12948\\3282100434.py:2: FutureWarning: The frame.append method is deprecated and will be removed from pandas in a future version. Use pandas.concat instead.\n",
      "  resultados=resultados.append(comprobador(a))\n"
     ]
    },
    {
     "name": "stdout",
     "output_type": "stream",
     "text": [
      "Si está el campo personalizado para la URL 'https://estudiar.universidadeuropea.com/doble-grado-criminologia-psicologia-valencia/'\n"
     ]
    },
    {
     "name": "stderr",
     "output_type": "stream",
     "text": [
      "C:\\Users\\9140\\AppData\\Local\\Temp\\ipykernel_12948\\3282100434.py:2: FutureWarning: The frame.append method is deprecated and will be removed from pandas in a future version. Use pandas.concat instead.\n",
      "  resultados=resultados.append(comprobador(a))\n"
     ]
    },
    {
     "name": "stdout",
     "output_type": "stream",
     "text": [
      "Si está el campo personalizado para la URL 'https://estudiar.universidadeuropea.com/grado-ingenieria-sistemas-industriales-mencion-mecanica/'\n"
     ]
    },
    {
     "name": "stderr",
     "output_type": "stream",
     "text": [
      "C:\\Users\\9140\\AppData\\Local\\Temp\\ipykernel_12948\\3282100434.py:2: FutureWarning: The frame.append method is deprecated and will be removed from pandas in a future version. Use pandas.concat instead.\n",
      "  resultados=resultados.append(comprobador(a))\n"
     ]
    },
    {
     "name": "stdout",
     "output_type": "stream",
     "text": [
      "Si está el campo personalizado para la URL 'https://estudiar.universidadeuropea.com/grado-marketing-valencia/'\n"
     ]
    },
    {
     "name": "stderr",
     "output_type": "stream",
     "text": [
      "C:\\Users\\9140\\AppData\\Local\\Temp\\ipykernel_12948\\3282100434.py:2: FutureWarning: The frame.append method is deprecated and will be removed from pandas in a future version. Use pandas.concat instead.\n",
      "  resultados=resultados.append(comprobador(a))\n"
     ]
    },
    {
     "name": "stdout",
     "output_type": "stream",
     "text": [
      "Si está el campo personalizado para la URL 'https://estudiar.universidadeuropea.com/grados-unidream/'\n"
     ]
    },
    {
     "name": "stderr",
     "output_type": "stream",
     "text": [
      "C:\\Users\\9140\\AppData\\Local\\Temp\\ipykernel_12948\\3282100434.py:2: FutureWarning: The frame.append method is deprecated and will be removed from pandas in a future version. Use pandas.concat instead.\n",
      "  resultados=resultados.append(comprobador(a))\n"
     ]
    },
    {
     "name": "stdout",
     "output_type": "stream",
     "text": [
      "Si está el campo personalizado para la URL 'https://estudiar.universidadeuropea.com/en/degree-in-industrial-systems-engineering-specialty-in-mechanic/'\n"
     ]
    },
    {
     "name": "stderr",
     "output_type": "stream",
     "text": [
      "C:\\Users\\9140\\AppData\\Local\\Temp\\ipykernel_12948\\3282100434.py:2: FutureWarning: The frame.append method is deprecated and will be removed from pandas in a future version. Use pandas.concat instead.\n",
      "  resultados=resultados.append(comprobador(a))\n"
     ]
    },
    {
     "name": "stdout",
     "output_type": "stream",
     "text": [
      "Si está el campo personalizado para la URL 'https://online.universidadeuropea.com/especializaciones-comportamiento-consumidor-online/'\n"
     ]
    },
    {
     "name": "stderr",
     "output_type": "stream",
     "text": [
      "C:\\Users\\9140\\AppData\\Local\\Temp\\ipykernel_12948\\3282100434.py:2: FutureWarning: The frame.append method is deprecated and will be removed from pandas in a future version. Use pandas.concat instead.\n",
      "  resultados=resultados.append(comprobador(a))\n"
     ]
    },
    {
     "name": "stdout",
     "output_type": "stream",
     "text": [
      "Si está el campo personalizado para la URL 'https://estudiar.universidadeuropea.com/fr/licence-en-kinesitherapie/'\n"
     ]
    },
    {
     "name": "stderr",
     "output_type": "stream",
     "text": [
      "C:\\Users\\9140\\AppData\\Local\\Temp\\ipykernel_12948\\3282100434.py:2: FutureWarning: The frame.append method is deprecated and will be removed from pandas in a future version. Use pandas.concat instead.\n",
      "  resultados=resultados.append(comprobador(a))\n"
     ]
    },
    {
     "name": "stdout",
     "output_type": "stream",
     "text": [
      "Si está el campo personalizado para la URL 'https://online.universidadeuropea.com/formacion-permanente-business-tech-online/'\n"
     ]
    },
    {
     "name": "stderr",
     "output_type": "stream",
     "text": [
      "C:\\Users\\9140\\AppData\\Local\\Temp\\ipykernel_12948\\3282100434.py:2: FutureWarning: The frame.append method is deprecated and will be removed from pandas in a future version. Use pandas.concat instead.\n",
      "  resultados=resultados.append(comprobador(a))\n"
     ]
    },
    {
     "name": "stdout",
     "output_type": "stream",
     "text": [
      "No está el campo personalizado para la URL 'https://online.universidadeuropea.com/whitepaper-big-data/'\n"
     ]
    },
    {
     "name": "stderr",
     "output_type": "stream",
     "text": [
      "C:\\Users\\9140\\AppData\\Local\\Temp\\ipykernel_12948\\3282100434.py:2: FutureWarning: The frame.append method is deprecated and will be removed from pandas in a future version. Use pandas.concat instead.\n",
      "  resultados=resultados.append(comprobador(a))\n"
     ]
    },
    {
     "name": "stdout",
     "output_type": "stream",
     "text": [
      "No está el campo personalizado para la URL 'https://online.universidadeuropea.com/masterclasses-business-tech/'\n"
     ]
    },
    {
     "name": "stderr",
     "output_type": "stream",
     "text": [
      "C:\\Users\\9140\\AppData\\Local\\Temp\\ipykernel_12948\\3282100434.py:2: FutureWarning: The frame.append method is deprecated and will be removed from pandas in a future version. Use pandas.concat instead.\n",
      "  resultados=resultados.append(comprobador(a))\n"
     ]
    },
    {
     "name": "stdout",
     "output_type": "stream",
     "text": [
      "Si está el campo personalizado para la URL 'https://online-colombia.universidadeuropea.com/becas-icetex/'\n"
     ]
    },
    {
     "name": "stderr",
     "output_type": "stream",
     "text": [
      "C:\\Users\\9140\\AppData\\Local\\Temp\\ipykernel_12948\\3282100434.py:2: FutureWarning: The frame.append method is deprecated and will be removed from pandas in a future version. Use pandas.concat instead.\n",
      "  resultados=resultados.append(comprobador(a))\n"
     ]
    },
    {
     "name": "stdout",
     "output_type": "stream",
     "text": [
      "Si está el campo personalizado para la URL 'https://online.universidadeuropea.com/masters-online-area-juridica/'\n"
     ]
    },
    {
     "name": "stderr",
     "output_type": "stream",
     "text": [
      "C:\\Users\\9140\\AppData\\Local\\Temp\\ipykernel_12948\\3282100434.py:2: FutureWarning: The frame.append method is deprecated and will be removed from pandas in a future version. Use pandas.concat instead.\n",
      "  resultados=resultados.append(comprobador(a))\n"
     ]
    },
    {
     "name": "stdout",
     "output_type": "stream",
     "text": [
      "Si está el campo personalizado para la URL 'https://estudiar.universidadeuropea.com/master-fisioterapia-deportiva-landingdual/'\n"
     ]
    },
    {
     "name": "stderr",
     "output_type": "stream",
     "text": [
      "C:\\Users\\9140\\AppData\\Local\\Temp\\ipykernel_12948\\3282100434.py:2: FutureWarning: The frame.append method is deprecated and will be removed from pandas in a future version. Use pandas.concat instead.\n",
      "  resultados=resultados.append(comprobador(a))\n"
     ]
    },
    {
     "name": "stdout",
     "output_type": "stream",
     "text": [
      "No está el campo personalizado para la URL 'https://estudiar.universidadeuropea.com/master-internacional-direccion-empresas-mba/'\n"
     ]
    },
    {
     "name": "stderr",
     "output_type": "stream",
     "text": [
      "C:\\Users\\9140\\AppData\\Local\\Temp\\ipykernel_12948\\3282100434.py:2: FutureWarning: The frame.append method is deprecated and will be removed from pandas in a future version. Use pandas.concat instead.\n",
      "  resultados=resultados.append(comprobador(a))\n"
     ]
    },
    {
     "name": "stdout",
     "output_type": "stream",
     "text": [
      "Si está el campo personalizado para la URL 'https://estudiar.universidadeuropea.com/doble-grado-administracion-direccion-empresas-marketing-valencia/'\n"
     ]
    },
    {
     "name": "stderr",
     "output_type": "stream",
     "text": [
      "C:\\Users\\9140\\AppData\\Local\\Temp\\ipykernel_12948\\3282100434.py:2: FutureWarning: The frame.append method is deprecated and will be removed from pandas in a future version. Use pandas.concat instead.\n",
      "  resultados=resultados.append(comprobador(a))\n"
     ]
    },
    {
     "name": "stdout",
     "output_type": "stream",
     "text": [
      "Si está el campo personalizado para la URL 'https://online.universidadeuropea.com/master-inteligencia-emocional-educativa-online/'\n"
     ]
    },
    {
     "name": "stderr",
     "output_type": "stream",
     "text": [
      "C:\\Users\\9140\\AppData\\Local\\Temp\\ipykernel_12948\\3282100434.py:2: FutureWarning: The frame.append method is deprecated and will be removed from pandas in a future version. Use pandas.concat instead.\n",
      "  resultados=resultados.append(comprobador(a))\n"
     ]
    },
    {
     "name": "stdout",
     "output_type": "stream",
     "text": [
      "Si está el campo personalizado para la URL 'https://online-ecuador.universidadeuropea.com/maestria-oficial-inteligencia-emocional-educativa-en-linea/'\n"
     ]
    },
    {
     "name": "stderr",
     "output_type": "stream",
     "text": [
      "C:\\Users\\9140\\AppData\\Local\\Temp\\ipykernel_12948\\3282100434.py:2: FutureWarning: The frame.append method is deprecated and will be removed from pandas in a future version. Use pandas.concat instead.\n",
      "  resultados=resultados.append(comprobador(a))\n"
     ]
    },
    {
     "name": "stdout",
     "output_type": "stream",
     "text": [
      "Si está el campo personalizado para la URL 'https://online-colombia.universidadeuropea.com/maestria-oficial-inteligencia-emocional-educativa-en-linea/'\n"
     ]
    },
    {
     "name": "stderr",
     "output_type": "stream",
     "text": [
      "C:\\Users\\9140\\AppData\\Local\\Temp\\ipykernel_12948\\3282100434.py:2: FutureWarning: The frame.append method is deprecated and will be removed from pandas in a future version. Use pandas.concat instead.\n",
      "  resultados=resultados.append(comprobador(a))\n"
     ]
    },
    {
     "name": "stdout",
     "output_type": "stream",
     "text": [
      "Si está el campo personalizado para la URL 'https://online.universidadeuropea.com/grados-online-area-juridica/'\n"
     ]
    },
    {
     "name": "stderr",
     "output_type": "stream",
     "text": [
      "C:\\Users\\9140\\AppData\\Local\\Temp\\ipykernel_12948\\3282100434.py:2: FutureWarning: The frame.append method is deprecated and will be removed from pandas in a future version. Use pandas.concat instead.\n",
      "  resultados=resultados.append(comprobador(a))\n"
     ]
    },
    {
     "name": "stdout",
     "output_type": "stream",
     "text": [
      "Si está el campo personalizado para la URL 'https://estudiar.universidadeuropea.com/en/bachelors-degrees-universidad-europea/'\n"
     ]
    },
    {
     "name": "stderr",
     "output_type": "stream",
     "text": [
      "C:\\Users\\9140\\AppData\\Local\\Temp\\ipykernel_12948\\3282100434.py:2: FutureWarning: The frame.append method is deprecated and will be removed from pandas in a future version. Use pandas.concat instead.\n",
      "  resultados=resultados.append(comprobador(a))\n"
     ]
    },
    {
     "name": "stdout",
     "output_type": "stream",
     "text": [
      "Si está el campo personalizado para la URL 'https://estudiar.universidadeuropea.com/becas-oea-ecuador/'\n"
     ]
    },
    {
     "name": "stderr",
     "output_type": "stream",
     "text": [
      "C:\\Users\\9140\\AppData\\Local\\Temp\\ipykernel_12948\\3282100434.py:2: FutureWarning: The frame.append method is deprecated and will be removed from pandas in a future version. Use pandas.concat instead.\n",
      "  resultados=resultados.append(comprobador(a))\n"
     ]
    },
    {
     "name": "stdout",
     "output_type": "stream",
     "text": [
      "Si está el campo personalizado para la URL 'https://estudiar.universidadeuropea.com/becas-oea-colombia/'\n"
     ]
    },
    {
     "name": "stderr",
     "output_type": "stream",
     "text": [
      "C:\\Users\\9140\\AppData\\Local\\Temp\\ipykernel_12948\\3282100434.py:2: FutureWarning: The frame.append method is deprecated and will be removed from pandas in a future version. Use pandas.concat instead.\n",
      "  resultados=resultados.append(comprobador(a))\n"
     ]
    },
    {
     "name": "stdout",
     "output_type": "stream",
     "text": [
      "Si está el campo personalizado para la URL 'https://estudiar.universidadeuropea.com/becas-oea-peru/'\n"
     ]
    },
    {
     "name": "stderr",
     "output_type": "stream",
     "text": [
      "C:\\Users\\9140\\AppData\\Local\\Temp\\ipykernel_12948\\3282100434.py:2: FutureWarning: The frame.append method is deprecated and will be removed from pandas in a future version. Use pandas.concat instead.\n",
      "  resultados=resultados.append(comprobador(a))\n"
     ]
    },
    {
     "name": "stdout",
     "output_type": "stream",
     "text": [
      "Si está el campo personalizado para la URL 'https://estudiar.universidadeuropea.com/becas-oea-latinoamerica/'\n"
     ]
    },
    {
     "name": "stderr",
     "output_type": "stream",
     "text": [
      "C:\\Users\\9140\\AppData\\Local\\Temp\\ipykernel_12948\\3282100434.py:2: FutureWarning: The frame.append method is deprecated and will be removed from pandas in a future version. Use pandas.concat instead.\n",
      "  resultados=resultados.append(comprobador(a))\n"
     ]
    },
    {
     "name": "stdout",
     "output_type": "stream",
     "text": [
      "Si está el campo personalizado para la URL 'https://estudiar.universidadeuropea.com/fr/technicien-superieur-en-audiologie-et-protheses-landingdual/'\n"
     ]
    },
    {
     "name": "stderr",
     "output_type": "stream",
     "text": [
      "C:\\Users\\9140\\AppData\\Local\\Temp\\ipykernel_12948\\3282100434.py:2: FutureWarning: The frame.append method is deprecated and will be removed from pandas in a future version. Use pandas.concat instead.\n",
      "  resultados=resultados.append(comprobador(a))\n"
     ]
    },
    {
     "name": "stdout",
     "output_type": "stream",
     "text": [
      "No está el campo personalizado para la URL 'https://online.universidadeuropea.com/charla-big-data/'\n"
     ]
    },
    {
     "name": "stderr",
     "output_type": "stream",
     "text": [
      "C:\\Users\\9140\\AppData\\Local\\Temp\\ipykernel_12948\\3282100434.py:2: FutureWarning: The frame.append method is deprecated and will be removed from pandas in a future version. Use pandas.concat instead.\n",
      "  resultados=resultados.append(comprobador(a))\n"
     ]
    },
    {
     "name": "stdout",
     "output_type": "stream",
     "text": [
      "No está el campo personalizado para la URL 'https://online.universidadeuropea.com/charla-educar-paz/'\n"
     ]
    },
    {
     "name": "stderr",
     "output_type": "stream",
     "text": [
      "C:\\Users\\9140\\AppData\\Local\\Temp\\ipykernel_12948\\3282100434.py:2: FutureWarning: The frame.append method is deprecated and will be removed from pandas in a future version. Use pandas.concat instead.\n",
      "  resultados=resultados.append(comprobador(a))\n"
     ]
    },
    {
     "name": "stdout",
     "output_type": "stream",
     "text": [
      "Si está el campo personalizado para la URL 'https://estudiar.universidadeuropea.com/master-universitario-diseno-videojuegos/'\n"
     ]
    },
    {
     "name": "stderr",
     "output_type": "stream",
     "text": [
      "C:\\Users\\9140\\AppData\\Local\\Temp\\ipykernel_12948\\3282100434.py:2: FutureWarning: The frame.append method is deprecated and will be removed from pandas in a future version. Use pandas.concat instead.\n",
      "  resultados=resultados.append(comprobador(a))\n"
     ]
    },
    {
     "name": "stdout",
     "output_type": "stream",
     "text": [
      "Si está el campo personalizado para la URL 'https://online.universidadeuropea.com/master-universitario-criminologia-aplicada-online/'\n"
     ]
    },
    {
     "name": "stderr",
     "output_type": "stream",
     "text": [
      "C:\\Users\\9140\\AppData\\Local\\Temp\\ipykernel_12948\\3282100434.py:2: FutureWarning: The frame.append method is deprecated and will be removed from pandas in a future version. Use pandas.concat instead.\n",
      "  resultados=resultados.append(comprobador(a))\n"
     ]
    },
    {
     "name": "stdout",
     "output_type": "stream",
     "text": [
      "Si está el campo personalizado para la URL 'https://online.universidadeuropea.com/master-universitario-derecho-ambiental-online/'\n"
     ]
    },
    {
     "name": "stderr",
     "output_type": "stream",
     "text": [
      "C:\\Users\\9140\\AppData\\Local\\Temp\\ipykernel_12948\\3282100434.py:2: FutureWarning: The frame.append method is deprecated and will be removed from pandas in a future version. Use pandas.concat instead.\n",
      "  resultados=resultados.append(comprobador(a))\n"
     ]
    },
    {
     "name": "stdout",
     "output_type": "stream",
     "text": [
      "Si está el campo personalizado para la URL 'https://online.universidadeuropea.com/master-universitario-derecho-laboral-seguridad-social-online/'\n"
     ]
    },
    {
     "name": "stderr",
     "output_type": "stream",
     "text": [
      "C:\\Users\\9140\\AppData\\Local\\Temp\\ipykernel_12948\\3282100434.py:2: FutureWarning: The frame.append method is deprecated and will be removed from pandas in a future version. Use pandas.concat instead.\n",
      "  resultados=resultados.append(comprobador(a))\n"
     ]
    },
    {
     "name": "stdout",
     "output_type": "stream",
     "text": [
      "Si está el campo personalizado para la URL 'https://online.universidadeuropea.com/master-derecho-penal-economico-online/'\n"
     ]
    },
    {
     "name": "stderr",
     "output_type": "stream",
     "text": [
      "C:\\Users\\9140\\AppData\\Local\\Temp\\ipykernel_12948\\3282100434.py:2: FutureWarning: The frame.append method is deprecated and will be removed from pandas in a future version. Use pandas.concat instead.\n",
      "  resultados=resultados.append(comprobador(a))\n"
     ]
    },
    {
     "name": "stdout",
     "output_type": "stream",
     "text": [
      "Si está el campo personalizado para la URL 'https://online.universidadeuropea.com/master-proteccion-datos-online/'\n"
     ]
    },
    {
     "name": "stderr",
     "output_type": "stream",
     "text": [
      "C:\\Users\\9140\\AppData\\Local\\Temp\\ipykernel_12948\\3282100434.py:2: FutureWarning: The frame.append method is deprecated and will be removed from pandas in a future version. Use pandas.concat instead.\n",
      "  resultados=resultados.append(comprobador(a))\n"
     ]
    },
    {
     "name": "stdout",
     "output_type": "stream",
     "text": [
      "Si está el campo personalizado para la URL 'https://estudiar.universidadeuropea.com/masters-postgrados-fisioterapia-valencia/'\n"
     ]
    },
    {
     "name": "stderr",
     "output_type": "stream",
     "text": [
      "C:\\Users\\9140\\AppData\\Local\\Temp\\ipykernel_12948\\3282100434.py:2: FutureWarning: The frame.append method is deprecated and will be removed from pandas in a future version. Use pandas.concat instead.\n",
      "  resultados=resultados.append(comprobador(a))\n"
     ]
    },
    {
     "name": "stdout",
     "output_type": "stream",
     "text": [
      "Si está el campo personalizado para la URL 'https://estudiar.universidadeuropea.com/masters-postgrados-enfermeria-valencia/'\n"
     ]
    },
    {
     "name": "stderr",
     "output_type": "stream",
     "text": [
      "C:\\Users\\9140\\AppData\\Local\\Temp\\ipykernel_12948\\3282100434.py:2: FutureWarning: The frame.append method is deprecated and will be removed from pandas in a future version. Use pandas.concat instead.\n",
      "  resultados=resultados.append(comprobador(a))\n"
     ]
    },
    {
     "name": "stdout",
     "output_type": "stream",
     "text": [
      "Si está el campo personalizado para la URL 'https://estudiar.universidadeuropea.com/en/degree-dentistry-madrid/'\n"
     ]
    },
    {
     "name": "stderr",
     "output_type": "stream",
     "text": [
      "C:\\Users\\9140\\AppData\\Local\\Temp\\ipykernel_12948\\3282100434.py:2: FutureWarning: The frame.append method is deprecated and will be removed from pandas in a future version. Use pandas.concat instead.\n",
      "  resultados=resultados.append(comprobador(a))\n"
     ]
    },
    {
     "name": "stdout",
     "output_type": "stream",
     "text": [
      "Si está el campo personalizado para la URL 'https://estudiar.universidadeuropea.com/experto-area-enfermeria/'\n"
     ]
    },
    {
     "name": "stderr",
     "output_type": "stream",
     "text": [
      "C:\\Users\\9140\\AppData\\Local\\Temp\\ipykernel_12948\\3282100434.py:2: FutureWarning: The frame.append method is deprecated and will be removed from pandas in a future version. Use pandas.concat instead.\n",
      "  resultados=resultados.append(comprobador(a))\n"
     ]
    },
    {
     "name": "stdout",
     "output_type": "stream",
     "text": [
      "Si está el campo personalizado para la URL 'https://estudiar.universidadeuropea.com/postgrados-bootcamps-valencia/'\n"
     ]
    },
    {
     "name": "stderr",
     "output_type": "stream",
     "text": [
      "C:\\Users\\9140\\AppData\\Local\\Temp\\ipykernel_12948\\3282100434.py:2: FutureWarning: The frame.append method is deprecated and will be removed from pandas in a future version. Use pandas.concat instead.\n",
      "  resultados=resultados.append(comprobador(a))\n"
     ]
    },
    {
     "name": "stdout",
     "output_type": "stream",
     "text": [
      "Si está el campo personalizado para la URL 'https://online-ecuador.universidadeuropea.com/maestria-oficial-enfermeria/'\n"
     ]
    },
    {
     "name": "stderr",
     "output_type": "stream",
     "text": [
      "C:\\Users\\9140\\AppData\\Local\\Temp\\ipykernel_12948\\3282100434.py:2: FutureWarning: The frame.append method is deprecated and will be removed from pandas in a future version. Use pandas.concat instead.\n",
      "  resultados=resultados.append(comprobador(a))\n"
     ]
    },
    {
     "name": "stdout",
     "output_type": "stream",
     "text": [
      "Si está el campo personalizado para la URL 'https://online.universidadeuropea.com/maestria-direccion-empresas-online-peru/'\n"
     ]
    },
    {
     "name": "stderr",
     "output_type": "stream",
     "text": [
      "C:\\Users\\9140\\AppData\\Local\\Temp\\ipykernel_12948\\3282100434.py:2: FutureWarning: The frame.append method is deprecated and will be removed from pandas in a future version. Use pandas.concat instead.\n",
      "  resultados=resultados.append(comprobador(a))\n"
     ]
    },
    {
     "name": "stdout",
     "output_type": "stream",
     "text": [
      "Si está el campo personalizado para la URL 'https://online.universidadeuropea.com/maestria-oficial-direccion-recursos-humanos-peru/'\n"
     ]
    },
    {
     "name": "stderr",
     "output_type": "stream",
     "text": [
      "C:\\Users\\9140\\AppData\\Local\\Temp\\ipykernel_12948\\3282100434.py:2: FutureWarning: The frame.append method is deprecated and will be removed from pandas in a future version. Use pandas.concat instead.\n",
      "  resultados=resultados.append(comprobador(a))\n"
     ]
    },
    {
     "name": "stdout",
     "output_type": "stream",
     "text": [
      "Si está el campo personalizado para la URL 'https://online.universidadeuropea.com/maestria-oficial-gestion-negocios-internacionales-peru/'\n"
     ]
    },
    {
     "name": "stderr",
     "output_type": "stream",
     "text": [
      "C:\\Users\\9140\\AppData\\Local\\Temp\\ipykernel_12948\\3282100434.py:2: FutureWarning: The frame.append method is deprecated and will be removed from pandas in a future version. Use pandas.concat instead.\n",
      "  resultados=resultados.append(comprobador(a))\n"
     ]
    },
    {
     "name": "stdout",
     "output_type": "stream",
     "text": [
      "No está el campo personalizado para la URL 'https://estudiar.universidadeuropea.com/career-week-universidad-europea/'\n"
     ]
    },
    {
     "name": "stderr",
     "output_type": "stream",
     "text": [
      "C:\\Users\\9140\\AppData\\Local\\Temp\\ipykernel_12948\\3282100434.py:2: FutureWarning: The frame.append method is deprecated and will be removed from pandas in a future version. Use pandas.concat instead.\n",
      "  resultados=resultados.append(comprobador(a))\n"
     ]
    },
    {
     "name": "stdout",
     "output_type": "stream",
     "text": [
      "Si está el campo personalizado para la URL 'https://estudiar.universidadeuropea.com/postgrados-area-empresa-tecnologia/'\n"
     ]
    },
    {
     "name": "stderr",
     "output_type": "stream",
     "text": [
      "C:\\Users\\9140\\AppData\\Local\\Temp\\ipykernel_12948\\3282100434.py:2: FutureWarning: The frame.append method is deprecated and will be removed from pandas in a future version. Use pandas.concat instead.\n",
      "  resultados=resultados.append(comprobador(a))\n"
     ]
    },
    {
     "name": "stdout",
     "output_type": "stream",
     "text": [
      "Si está el campo personalizado para la URL 'https://online.universidadeuropea.com/maestria-direccion-empresas-online-mejico/'\n"
     ]
    },
    {
     "name": "stderr",
     "output_type": "stream",
     "text": [
      "C:\\Users\\9140\\AppData\\Local\\Temp\\ipykernel_12948\\3282100434.py:2: FutureWarning: The frame.append method is deprecated and will be removed from pandas in a future version. Use pandas.concat instead.\n",
      "  resultados=resultados.append(comprobador(a))\n"
     ]
    },
    {
     "name": "stdout",
     "output_type": "stream",
     "text": [
      "Si está el campo personalizado para la URL 'https://online.universidadeuropea.com/maestria-oficial-direccion-recursos-humanos-mejico/'\n"
     ]
    },
    {
     "name": "stderr",
     "output_type": "stream",
     "text": [
      "C:\\Users\\9140\\AppData\\Local\\Temp\\ipykernel_12948\\3282100434.py:2: FutureWarning: The frame.append method is deprecated and will be removed from pandas in a future version. Use pandas.concat instead.\n",
      "  resultados=resultados.append(comprobador(a))\n"
     ]
    },
    {
     "name": "stdout",
     "output_type": "stream",
     "text": [
      "Si está el campo personalizado para la URL 'https://online.universidadeuropea.com/maestria-oficial-gestion-negocios-internacionales-mejico/'\n"
     ]
    },
    {
     "name": "stderr",
     "output_type": "stream",
     "text": [
      "C:\\Users\\9140\\AppData\\Local\\Temp\\ipykernel_12948\\3282100434.py:2: FutureWarning: The frame.append method is deprecated and will be removed from pandas in a future version. Use pandas.concat instead.\n",
      "  resultados=resultados.append(comprobador(a))\n"
     ]
    },
    {
     "name": "stdout",
     "output_type": "stream",
     "text": [
      "Si está el campo personalizado para la URL 'https://estudiar.universidadeuropea.com/master-universitario-negocios-digitales/'\n"
     ]
    },
    {
     "name": "stderr",
     "output_type": "stream",
     "text": [
      "C:\\Users\\9140\\AppData\\Local\\Temp\\ipykernel_12948\\3282100434.py:2: FutureWarning: The frame.append method is deprecated and will be removed from pandas in a future version. Use pandas.concat instead.\n",
      "  resultados=resultados.append(comprobador(a))\n"
     ]
    },
    {
     "name": "stdout",
     "output_type": "stream",
     "text": [
      "Si está el campo personalizado para la URL 'https://online.universidadeuropea.com/master-universitario-terrorismo-seguridad-defensa-online/'\n"
     ]
    },
    {
     "name": "stderr",
     "output_type": "stream",
     "text": [
      "C:\\Users\\9140\\AppData\\Local\\Temp\\ipykernel_12948\\3282100434.py:2: FutureWarning: The frame.append method is deprecated and will be removed from pandas in a future version. Use pandas.concat instead.\n",
      "  resultados=resultados.append(comprobador(a))\n"
     ]
    },
    {
     "name": "stdout",
     "output_type": "stream",
     "text": [
      "No está el campo personalizado para la URL 'https://estudiar.universidadeuropea.com/evento-jornada-cafyd/'\n"
     ]
    },
    {
     "name": "stderr",
     "output_type": "stream",
     "text": [
      "C:\\Users\\9140\\AppData\\Local\\Temp\\ipykernel_12948\\3282100434.py:2: FutureWarning: The frame.append method is deprecated and will be removed from pandas in a future version. Use pandas.concat instead.\n",
      "  resultados=resultados.append(comprobador(a))\n"
     ]
    },
    {
     "name": "stdout",
     "output_type": "stream",
     "text": [
      "Si está el campo personalizado para la URL 'https://online.universidadeuropea.com/maestria-oficial-seguridad-salud-ocupacional-virtual-peru/'\n"
     ]
    },
    {
     "name": "stderr",
     "output_type": "stream",
     "text": [
      "C:\\Users\\9140\\AppData\\Local\\Temp\\ipykernel_12948\\3282100434.py:2: FutureWarning: The frame.append method is deprecated and will be removed from pandas in a future version. Use pandas.concat instead.\n",
      "  resultados=resultados.append(comprobador(a))\n"
     ]
    },
    {
     "name": "stdout",
     "output_type": "stream",
     "text": [
      "Si está el campo personalizado para la URL 'https://online.universidadeuropea.com/maestria-oficial-seguridad-salud-ocupacional-virtual-argentina/'\n"
     ]
    },
    {
     "name": "stderr",
     "output_type": "stream",
     "text": [
      "C:\\Users\\9140\\AppData\\Local\\Temp\\ipykernel_12948\\3282100434.py:2: FutureWarning: The frame.append method is deprecated and will be removed from pandas in a future version. Use pandas.concat instead.\n",
      "  resultados=resultados.append(comprobador(a))\n"
     ]
    },
    {
     "name": "stdout",
     "output_type": "stream",
     "text": [
      "Si está el campo personalizado para la URL 'https://online.universidadeuropea.com/master-energias-renovables-peru/'\n"
     ]
    },
    {
     "name": "stderr",
     "output_type": "stream",
     "text": [
      "C:\\Users\\9140\\AppData\\Local\\Temp\\ipykernel_12948\\3282100434.py:2: FutureWarning: The frame.append method is deprecated and will be removed from pandas in a future version. Use pandas.concat instead.\n",
      "  resultados=resultados.append(comprobador(a))\n"
     ]
    },
    {
     "name": "stdout",
     "output_type": "stream",
     "text": [
      "Si está el campo personalizado para la URL 'https://online.universidadeuropea.com/master-universitario-neuroeducacion-dificultades-aprendizaje/'\n"
     ]
    },
    {
     "name": "stderr",
     "output_type": "stream",
     "text": [
      "C:\\Users\\9140\\AppData\\Local\\Temp\\ipykernel_12948\\3282100434.py:2: FutureWarning: The frame.append method is deprecated and will be removed from pandas in a future version. Use pandas.concat instead.\n",
      "  resultados=resultados.append(comprobador(a))\n"
     ]
    },
    {
     "name": "stdout",
     "output_type": "stream",
     "text": [
      "Si está el campo personalizado para la URL 'https://online-ecuador.universidadeuropea.com/maestria-oficial-neuroeducacion-dificultades-aprendizaje/'\n"
     ]
    },
    {
     "name": "stderr",
     "output_type": "stream",
     "text": [
      "C:\\Users\\9140\\AppData\\Local\\Temp\\ipykernel_12948\\3282100434.py:2: FutureWarning: The frame.append method is deprecated and will be removed from pandas in a future version. Use pandas.concat instead.\n",
      "  resultados=resultados.append(comprobador(a))\n"
     ]
    },
    {
     "name": "stdout",
     "output_type": "stream",
     "text": [
      "Si está el campo personalizado para la URL 'https://online-colombia.universidadeuropea.com/maestria-oficial-neuroeducacion-dificultades-aprendizaje/'\n"
     ]
    },
    {
     "name": "stderr",
     "output_type": "stream",
     "text": [
      "C:\\Users\\9140\\AppData\\Local\\Temp\\ipykernel_12948\\3282100434.py:2: FutureWarning: The frame.append method is deprecated and will be removed from pandas in a future version. Use pandas.concat instead.\n",
      "  resultados=resultados.append(comprobador(a))\n"
     ]
    },
    {
     "name": "stdout",
     "output_type": "stream",
     "text": [
      "Si está el campo personalizado para la URL 'https://online-colombia.universidadeuropea.com/maestria-construccion-virtual/'\n"
     ]
    },
    {
     "name": "stderr",
     "output_type": "stream",
     "text": [
      "C:\\Users\\9140\\AppData\\Local\\Temp\\ipykernel_12948\\3282100434.py:2: FutureWarning: The frame.append method is deprecated and will be removed from pandas in a future version. Use pandas.concat instead.\n",
      "  resultados=resultados.append(comprobador(a))\n"
     ]
    },
    {
     "name": "stdout",
     "output_type": "stream",
     "text": [
      "Si está el campo personalizado para la URL 'https://online.universidadeuropea.com/maestria-construccion-virtual/'\n"
     ]
    },
    {
     "name": "stderr",
     "output_type": "stream",
     "text": [
      "C:\\Users\\9140\\AppData\\Local\\Temp\\ipykernel_12948\\3282100434.py:2: FutureWarning: The frame.append method is deprecated and will be removed from pandas in a future version. Use pandas.concat instead.\n",
      "  resultados=resultados.append(comprobador(a))\n"
     ]
    },
    {
     "name": "stdout",
     "output_type": "stream",
     "text": [
      "Si está el campo personalizado para la URL 'https://estudiar.universidadeuropea.com/master-medicina-urgencias-emergencias-catastrofes/'\n"
     ]
    },
    {
     "name": "stderr",
     "output_type": "stream",
     "text": [
      "C:\\Users\\9140\\AppData\\Local\\Temp\\ipykernel_12948\\3282100434.py:2: FutureWarning: The frame.append method is deprecated and will be removed from pandas in a future version. Use pandas.concat instead.\n",
      "  resultados=resultados.append(comprobador(a))\n"
     ]
    },
    {
     "name": "stdout",
     "output_type": "stream",
     "text": [
      "Si está el campo personalizado para la URL 'https://online-ecuador.universidadeuropea.com/maestria-oficial-gestion-deportiva-landingdual/'\n"
     ]
    },
    {
     "name": "stderr",
     "output_type": "stream",
     "text": [
      "C:\\Users\\9140\\AppData\\Local\\Temp\\ipykernel_12948\\3282100434.py:2: FutureWarning: The frame.append method is deprecated and will be removed from pandas in a future version. Use pandas.concat instead.\n",
      "  resultados=resultados.append(comprobador(a))\n"
     ]
    },
    {
     "name": "stdout",
     "output_type": "stream",
     "text": [
      "Si está el campo personalizado para la URL 'https://estudiar.universidadeuropea.com/mba-direccion-entidades-deportivas-latam-landingdual/'\n"
     ]
    },
    {
     "name": "stderr",
     "output_type": "stream",
     "text": [
      "C:\\Users\\9140\\AppData\\Local\\Temp\\ipykernel_12948\\3282100434.py:2: FutureWarning: The frame.append method is deprecated and will be removed from pandas in a future version. Use pandas.concat instead.\n",
      "  resultados=resultados.append(comprobador(a))\n"
     ]
    },
    {
     "name": "stdout",
     "output_type": "stream",
     "text": [
      "Si está el campo personalizado para la URL 'https://estudiar.universidadeuropea.com/fr/technicien-superieur-en-audiologie-et-protheses/'\n"
     ]
    },
    {
     "name": "stderr",
     "output_type": "stream",
     "text": [
      "C:\\Users\\9140\\AppData\\Local\\Temp\\ipykernel_12948\\3282100434.py:2: FutureWarning: The frame.append method is deprecated and will be removed from pandas in a future version. Use pandas.concat instead.\n",
      "  resultados=resultados.append(comprobador(a))\n"
     ]
    },
    {
     "name": "stdout",
     "output_type": "stream",
     "text": [
      "Si está el campo personalizado para la URL 'https://estudiar.universidadeuropea.com/masters-cursos-experto-fisioterapia-canarias/'\n"
     ]
    },
    {
     "name": "stderr",
     "output_type": "stream",
     "text": [
      "C:\\Users\\9140\\AppData\\Local\\Temp\\ipykernel_12948\\3282100434.py:2: FutureWarning: The frame.append method is deprecated and will be removed from pandas in a future version. Use pandas.concat instead.\n",
      "  resultados=resultados.append(comprobador(a))\n"
     ]
    },
    {
     "name": "stdout",
     "output_type": "stream",
     "text": [
      "Si está el campo personalizado para la URL 'https://online.universidadeuropea.com/masteres-oficiales-prevencion-riesgos-laborales-sistemas-integrados-gestion/'\n"
     ]
    },
    {
     "name": "stderr",
     "output_type": "stream",
     "text": [
      "C:\\Users\\9140\\AppData\\Local\\Temp\\ipykernel_12948\\3282100434.py:2: FutureWarning: The frame.append method is deprecated and will be removed from pandas in a future version. Use pandas.concat instead.\n",
      "  resultados=resultados.append(comprobador(a))\n"
     ]
    },
    {
     "name": "stdout",
     "output_type": "stream",
     "text": [
      "Si está el campo personalizado para la URL 'https://online.universidadeuropea.com/master-universitario-psicologia-infantil-y-juvenil-online/'\n"
     ]
    },
    {
     "name": "stderr",
     "output_type": "stream",
     "text": [
      "C:\\Users\\9140\\AppData\\Local\\Temp\\ipykernel_12948\\3282100434.py:2: FutureWarning: The frame.append method is deprecated and will be removed from pandas in a future version. Use pandas.concat instead.\n",
      "  resultados=resultados.append(comprobador(a))\n"
     ]
    },
    {
     "name": "stdout",
     "output_type": "stream",
     "text": [
      "Si está el campo personalizado para la URL 'https://estudiar.universidadeuropea.com/en/degree-tourism-at-canary-islands/'\n"
     ]
    },
    {
     "name": "stderr",
     "output_type": "stream",
     "text": [
      "C:\\Users\\9140\\AppData\\Local\\Temp\\ipykernel_12948\\3282100434.py:2: FutureWarning: The frame.append method is deprecated and will be removed from pandas in a future version. Use pandas.concat instead.\n",
      "  resultados=resultados.append(comprobador(a))\n"
     ]
    },
    {
     "name": "stdout",
     "output_type": "stream",
     "text": [
      "Si está el campo personalizado para la URL 'https://online-ecuador.universidadeuropea.com/experto-universitario-comunicacion-paciente-situaciones-dificiles-e-inteligencia-emocional/'\n"
     ]
    },
    {
     "name": "stderr",
     "output_type": "stream",
     "text": [
      "C:\\Users\\9140\\AppData\\Local\\Temp\\ipykernel_12948\\3282100434.py:2: FutureWarning: The frame.append method is deprecated and will be removed from pandas in a future version. Use pandas.concat instead.\n",
      "  resultados=resultados.append(comprobador(a))\n"
     ]
    },
    {
     "name": "stdout",
     "output_type": "stream",
     "text": [
      "Si está el campo personalizado para la URL 'https://online-colombia.universidadeuropea.com/experto-universitario-comunicacion-paciente-situaciones-dificiles-e-inteligencia-emocional/'\n"
     ]
    },
    {
     "name": "stderr",
     "output_type": "stream",
     "text": [
      "C:\\Users\\9140\\AppData\\Local\\Temp\\ipykernel_12948\\3282100434.py:2: FutureWarning: The frame.append method is deprecated and will be removed from pandas in a future version. Use pandas.concat instead.\n",
      "  resultados=resultados.append(comprobador(a))\n"
     ]
    },
    {
     "name": "stdout",
     "output_type": "stream",
     "text": [
      "Si está el campo personalizado para la URL 'https://online-ecuador.universidadeuropea.com/master-en-neuropsicologia-clinica/'\n"
     ]
    },
    {
     "name": "stderr",
     "output_type": "stream",
     "text": [
      "C:\\Users\\9140\\AppData\\Local\\Temp\\ipykernel_12948\\3282100434.py:2: FutureWarning: The frame.append method is deprecated and will be removed from pandas in a future version. Use pandas.concat instead.\n",
      "  resultados=resultados.append(comprobador(a))\n"
     ]
    },
    {
     "name": "stdout",
     "output_type": "stream",
     "text": [
      "Si está el campo personalizado para la URL 'https://online-colombia.universidadeuropea.com/master-en-neuropsicologia-clinica/'\n"
     ]
    },
    {
     "name": "stderr",
     "output_type": "stream",
     "text": [
      "C:\\Users\\9140\\AppData\\Local\\Temp\\ipykernel_12948\\3282100434.py:2: FutureWarning: The frame.append method is deprecated and will be removed from pandas in a future version. Use pandas.concat instead.\n",
      "  resultados=resultados.append(comprobador(a))\n"
     ]
    },
    {
     "name": "stdout",
     "output_type": "stream",
     "text": [
      "Si está el campo personalizado para la URL 'https://online-ecuador.universidadeuropea.com/experto-universitario-terapias-virtuales-psicologia/'\n"
     ]
    },
    {
     "name": "stderr",
     "output_type": "stream",
     "text": [
      "C:\\Users\\9140\\AppData\\Local\\Temp\\ipykernel_12948\\3282100434.py:2: FutureWarning: The frame.append method is deprecated and will be removed from pandas in a future version. Use pandas.concat instead.\n",
      "  resultados=resultados.append(comprobador(a))\n"
     ]
    },
    {
     "name": "stdout",
     "output_type": "stream",
     "text": [
      "Si está el campo personalizado para la URL 'https://online-colombia.universidadeuropea.com/experto-universitario-terapias-virtuales-psicologia/'\n"
     ]
    },
    {
     "name": "stderr",
     "output_type": "stream",
     "text": [
      "C:\\Users\\9140\\AppData\\Local\\Temp\\ipykernel_12948\\3282100434.py:2: FutureWarning: The frame.append method is deprecated and will be removed from pandas in a future version. Use pandas.concat instead.\n",
      "  resultados=resultados.append(comprobador(a))\n"
     ]
    },
    {
     "name": "stdout",
     "output_type": "stream",
     "text": [
      "Si está el campo personalizado para la URL 'https://online-ecuador.universidadeuropea.com/master-psicologia-coaching-online/'\n"
     ]
    },
    {
     "name": "stderr",
     "output_type": "stream",
     "text": [
      "C:\\Users\\9140\\AppData\\Local\\Temp\\ipykernel_12948\\3282100434.py:2: FutureWarning: The frame.append method is deprecated and will be removed from pandas in a future version. Use pandas.concat instead.\n",
      "  resultados=resultados.append(comprobador(a))\n"
     ]
    },
    {
     "name": "stdout",
     "output_type": "stream",
     "text": [
      "Si está el campo personalizado para la URL 'https://online-colombia.universidadeuropea.com/master-psicologia-coaching-online/'\n"
     ]
    },
    {
     "name": "stderr",
     "output_type": "stream",
     "text": [
      "C:\\Users\\9140\\AppData\\Local\\Temp\\ipykernel_12948\\3282100434.py:2: FutureWarning: The frame.append method is deprecated and will be removed from pandas in a future version. Use pandas.concat instead.\n",
      "  resultados=resultados.append(comprobador(a))\n"
     ]
    },
    {
     "name": "stdout",
     "output_type": "stream",
     "text": [
      "Si está el campo personalizado para la URL 'https://online-ecuador.universidadeuropea.com/master-universitario-trastornos-comportamiento-alimentario-obesidad-online/'\n"
     ]
    },
    {
     "name": "stderr",
     "output_type": "stream",
     "text": [
      "C:\\Users\\9140\\AppData\\Local\\Temp\\ipykernel_12948\\3282100434.py:2: FutureWarning: The frame.append method is deprecated and will be removed from pandas in a future version. Use pandas.concat instead.\n",
      "  resultados=resultados.append(comprobador(a))\n"
     ]
    },
    {
     "name": "stdout",
     "output_type": "stream",
     "text": [
      "Si está el campo personalizado para la URL 'https://online-colombia.universidadeuropea.com/master-universitario-trastornos-comportamiento-alimentario-obesidad-online/'\n"
     ]
    },
    {
     "name": "stderr",
     "output_type": "stream",
     "text": [
      "C:\\Users\\9140\\AppData\\Local\\Temp\\ipykernel_12948\\3282100434.py:2: FutureWarning: The frame.append method is deprecated and will be removed from pandas in a future version. Use pandas.concat instead.\n",
      "  resultados=resultados.append(comprobador(a))\n"
     ]
    },
    {
     "name": "stdout",
     "output_type": "stream",
     "text": [
      "Si está el campo personalizado para la URL 'https://estudiar.universidadeuropea.com/curso-experto-fisioterapia-neurologica-pediatrica/'\n"
     ]
    },
    {
     "name": "stderr",
     "output_type": "stream",
     "text": [
      "C:\\Users\\9140\\AppData\\Local\\Temp\\ipykernel_12948\\3282100434.py:2: FutureWarning: The frame.append method is deprecated and will be removed from pandas in a future version. Use pandas.concat instead.\n",
      "  resultados=resultados.append(comprobador(a))\n"
     ]
    },
    {
     "name": "stdout",
     "output_type": "stream",
     "text": [
      "Si está el campo personalizado para la URL 'https://estudiar.universidadeuropea.com/curso-experto-trastornos-cervicocraneomandibulares-dolor-ororfacial/'\n"
     ]
    },
    {
     "name": "stderr",
     "output_type": "stream",
     "text": [
      "C:\\Users\\9140\\AppData\\Local\\Temp\\ipykernel_12948\\3282100434.py:2: FutureWarning: The frame.append method is deprecated and will be removed from pandas in a future version. Use pandas.concat instead.\n",
      "  resultados=resultados.append(comprobador(a))\n"
     ]
    },
    {
     "name": "stdout",
     "output_type": "stream",
     "text": [
      "Si está el campo personalizado para la URL 'https://estudiar.universidadeuropea.com/curso-experto-terapia-manual-pediatrica-dolor-infantil/'\n"
     ]
    },
    {
     "name": "stderr",
     "output_type": "stream",
     "text": [
      "C:\\Users\\9140\\AppData\\Local\\Temp\\ipykernel_12948\\3282100434.py:2: FutureWarning: The frame.append method is deprecated and will be removed from pandas in a future version. Use pandas.concat instead.\n",
      "  resultados=resultados.append(comprobador(a))\n"
     ]
    },
    {
     "name": "stdout",
     "output_type": "stream",
     "text": [
      "Si está el campo personalizado para la URL 'https://online.universidadeuropea.com/master-universitario-didactica-lengua-online/'\n"
     ]
    },
    {
     "name": "stderr",
     "output_type": "stream",
     "text": [
      "C:\\Users\\9140\\AppData\\Local\\Temp\\ipykernel_12948\\3282100434.py:2: FutureWarning: The frame.append method is deprecated and will be removed from pandas in a future version. Use pandas.concat instead.\n",
      "  resultados=resultados.append(comprobador(a))\n"
     ]
    },
    {
     "name": "stdout",
     "output_type": "stream",
     "text": [
      "Si está el campo personalizado para la URL 'https://online-ecuador.universidadeuropea.com/maestria-oficial-didactica-lengua/'\n"
     ]
    },
    {
     "name": "stderr",
     "output_type": "stream",
     "text": [
      "C:\\Users\\9140\\AppData\\Local\\Temp\\ipykernel_12948\\3282100434.py:2: FutureWarning: The frame.append method is deprecated and will be removed from pandas in a future version. Use pandas.concat instead.\n",
      "  resultados=resultados.append(comprobador(a))\n"
     ]
    },
    {
     "name": "stdout",
     "output_type": "stream",
     "text": [
      "Si está el campo personalizado para la URL 'https://online-colombia.universidadeuropea.com/maestria-oficial-didactica-lengua/'\n"
     ]
    },
    {
     "name": "stderr",
     "output_type": "stream",
     "text": [
      "C:\\Users\\9140\\AppData\\Local\\Temp\\ipykernel_12948\\3282100434.py:2: FutureWarning: The frame.append method is deprecated and will be removed from pandas in a future version. Use pandas.concat instead.\n",
      "  resultados=resultados.append(comprobador(a))\n"
     ]
    },
    {
     "name": "stdout",
     "output_type": "stream",
     "text": [
      "Si está el campo personalizado para la URL 'https://online.universidadeuropea.com/area-diseno-online/'\n"
     ]
    },
    {
     "name": "stderr",
     "output_type": "stream",
     "text": [
      "C:\\Users\\9140\\AppData\\Local\\Temp\\ipykernel_12948\\3282100434.py:2: FutureWarning: The frame.append method is deprecated and will be removed from pandas in a future version. Use pandas.concat instead.\n",
      "  resultados=resultados.append(comprobador(a))\n"
     ]
    },
    {
     "name": "stdout",
     "output_type": "stream",
     "text": [
      "Si está el campo personalizado para la URL 'https://estudiar.universidadeuropea.com/en/bachelors-degrees-at-universidad-europea/'\n"
     ]
    },
    {
     "name": "stderr",
     "output_type": "stream",
     "text": [
      "C:\\Users\\9140\\AppData\\Local\\Temp\\ipykernel_12948\\3282100434.py:2: FutureWarning: The frame.append method is deprecated and will be removed from pandas in a future version. Use pandas.concat instead.\n",
      "  resultados=resultados.append(comprobador(a))\n"
     ]
    },
    {
     "name": "stdout",
     "output_type": "stream",
     "text": [
      "Si está el campo personalizado para la URL 'https://estudiar.universidadeuropea.com/en/bachelors-degree-physiotherapy/'\n"
     ]
    },
    {
     "name": "stderr",
     "output_type": "stream",
     "text": [
      "C:\\Users\\9140\\AppData\\Local\\Temp\\ipykernel_12948\\3282100434.py:2: FutureWarning: The frame.append method is deprecated and will be removed from pandas in a future version. Use pandas.concat instead.\n",
      "  resultados=resultados.append(comprobador(a))\n"
     ]
    },
    {
     "name": "stdout",
     "output_type": "stream",
     "text": [
      "Si está el campo personalizado para la URL 'https://online-ecuador.universidadeuropea.com/maestria-oficial-psicologia-infantil-y-juvenil-en-linea/'\n"
     ]
    },
    {
     "name": "stderr",
     "output_type": "stream",
     "text": [
      "C:\\Users\\9140\\AppData\\Local\\Temp\\ipykernel_12948\\3282100434.py:2: FutureWarning: The frame.append method is deprecated and will be removed from pandas in a future version. Use pandas.concat instead.\n",
      "  resultados=resultados.append(comprobador(a))\n"
     ]
    },
    {
     "name": "stdout",
     "output_type": "stream",
     "text": [
      "Si está el campo personalizado para la URL 'https://online-colombia.universidadeuropea.com/maestria-oficial-psicologia-infantil-y-juvenil-en-linea/'\n"
     ]
    },
    {
     "name": "stderr",
     "output_type": "stream",
     "text": [
      "C:\\Users\\9140\\AppData\\Local\\Temp\\ipykernel_12948\\3282100434.py:2: FutureWarning: The frame.append method is deprecated and will be removed from pandas in a future version. Use pandas.concat instead.\n",
      "  resultados=resultados.append(comprobador(a))\n"
     ]
    },
    {
     "name": "stdout",
     "output_type": "stream",
     "text": [
      "Si está el campo personalizado para la URL 'https://online.universidadeuropea.com/master-universitario-psicologia-juridica-y-forense-online/'\n"
     ]
    },
    {
     "name": "stderr",
     "output_type": "stream",
     "text": [
      "C:\\Users\\9140\\AppData\\Local\\Temp\\ipykernel_12948\\3282100434.py:2: FutureWarning: The frame.append method is deprecated and will be removed from pandas in a future version. Use pandas.concat instead.\n",
      "  resultados=resultados.append(comprobador(a))\n"
     ]
    },
    {
     "name": "stdout",
     "output_type": "stream",
     "text": [
      "Si está el campo personalizado para la URL 'https://online-ecuador.universidadeuropea.com/maestria-psicologia-juridica-y-forense-en-linea/'\n"
     ]
    },
    {
     "name": "stderr",
     "output_type": "stream",
     "text": [
      "C:\\Users\\9140\\AppData\\Local\\Temp\\ipykernel_12948\\3282100434.py:2: FutureWarning: The frame.append method is deprecated and will be removed from pandas in a future version. Use pandas.concat instead.\n",
      "  resultados=resultados.append(comprobador(a))\n"
     ]
    },
    {
     "name": "stdout",
     "output_type": "stream",
     "text": [
      "Si está el campo personalizado para la URL 'https://online-colombia.universidadeuropea.com/maestria-psicologia-juridica-y-forense-en-linea/'\n"
     ]
    },
    {
     "name": "stderr",
     "output_type": "stream",
     "text": [
      "C:\\Users\\9140\\AppData\\Local\\Temp\\ipykernel_12948\\3282100434.py:2: FutureWarning: The frame.append method is deprecated and will be removed from pandas in a future version. Use pandas.concat instead.\n",
      "  resultados=resultados.append(comprobador(a))\n"
     ]
    },
    {
     "name": "stdout",
     "output_type": "stream",
     "text": [
      "Si está el campo personalizado para la URL 'https://online.universidadeuropea.com/area-ingenieria-online/'\n"
     ]
    },
    {
     "name": "stderr",
     "output_type": "stream",
     "text": [
      "C:\\Users\\9140\\AppData\\Local\\Temp\\ipykernel_12948\\3282100434.py:2: FutureWarning: The frame.append method is deprecated and will be removed from pandas in a future version. Use pandas.concat instead.\n",
      "  resultados=resultados.append(comprobador(a))\n"
     ]
    },
    {
     "name": "stdout",
     "output_type": "stream",
     "text": [
      "Si está el campo personalizado para la URL 'https://online.universidadeuropea.com/area-arquitectura-online-latam/'\n"
     ]
    },
    {
     "name": "stderr",
     "output_type": "stream",
     "text": [
      "C:\\Users\\9140\\AppData\\Local\\Temp\\ipykernel_12948\\3282100434.py:2: FutureWarning: The frame.append method is deprecated and will be removed from pandas in a future version. Use pandas.concat instead.\n",
      "  resultados=resultados.append(comprobador(a))\n"
     ]
    },
    {
     "name": "stdout",
     "output_type": "stream",
     "text": [
      "Si está el campo personalizado para la URL 'https://estudiar.universidadeuropea.com/tecnico-superior-dietetica/'\n"
     ]
    },
    {
     "name": "stderr",
     "output_type": "stream",
     "text": [
      "C:\\Users\\9140\\AppData\\Local\\Temp\\ipykernel_12948\\3282100434.py:2: FutureWarning: The frame.append method is deprecated and will be removed from pandas in a future version. Use pandas.concat instead.\n",
      "  resultados=resultados.append(comprobador(a))\n"
     ]
    },
    {
     "name": "stdout",
     "output_type": "stream",
     "text": [
      "Si está el campo personalizado para la URL 'https://estudiar.universidadeuropea.com/tecnico-superior-desarrollo-aplicaciones-web/'\n"
     ]
    },
    {
     "name": "stderr",
     "output_type": "stream",
     "text": [
      "C:\\Users\\9140\\AppData\\Local\\Temp\\ipykernel_12948\\3282100434.py:2: FutureWarning: The frame.append method is deprecated and will be removed from pandas in a future version. Use pandas.concat instead.\n",
      "  resultados=resultados.append(comprobador(a))\n"
     ]
    },
    {
     "name": "stdout",
     "output_type": "stream",
     "text": [
      "Si está el campo personalizado para la URL 'https://estudiar.universidadeuropea.com/master-customer-experience/'\n"
     ]
    },
    {
     "name": "stderr",
     "output_type": "stream",
     "text": [
      "C:\\Users\\9140\\AppData\\Local\\Temp\\ipykernel_12948\\3282100434.py:2: FutureWarning: The frame.append method is deprecated and will be removed from pandas in a future version. Use pandas.concat instead.\n",
      "  resultados=resultados.append(comprobador(a))\n"
     ]
    },
    {
     "name": "stdout",
     "output_type": "stream",
     "text": [
      "No está el campo personalizado para la URL 'https://estudiar.universidadeuropea.com/future-sports-leaders/'\n"
     ]
    },
    {
     "name": "stderr",
     "output_type": "stream",
     "text": [
      "C:\\Users\\9140\\AppData\\Local\\Temp\\ipykernel_12948\\3282100434.py:2: FutureWarning: The frame.append method is deprecated and will be removed from pandas in a future version. Use pandas.concat instead.\n",
      "  resultados=resultados.append(comprobador(a))\n"
     ]
    },
    {
     "name": "stdout",
     "output_type": "stream",
     "text": [
      "Si está el campo personalizado para la URL 'https://estudiar.universidadeuropea.com/en/masters-degree-sports-training-and-nutrition-landingdual/'\n"
     ]
    },
    {
     "name": "stderr",
     "output_type": "stream",
     "text": [
      "C:\\Users\\9140\\AppData\\Local\\Temp\\ipykernel_12948\\3282100434.py:2: FutureWarning: The frame.append method is deprecated and will be removed from pandas in a future version. Use pandas.concat instead.\n",
      "  resultados=resultados.append(comprobador(a))\n"
     ]
    },
    {
     "name": "stdout",
     "output_type": "stream",
     "text": [
      "Si está el campo personalizado para la URL 'https://estudiar.universidadeuropea.com/master-universitario-entrenamiento-nutricion-deportiva-landingdual/'\n"
     ]
    },
    {
     "name": "stderr",
     "output_type": "stream",
     "text": [
      "C:\\Users\\9140\\AppData\\Local\\Temp\\ipykernel_12948\\3282100434.py:2: FutureWarning: The frame.append method is deprecated and will be removed from pandas in a future version. Use pandas.concat instead.\n",
      "  resultados=resultados.append(comprobador(a))\n"
     ]
    },
    {
     "name": "stdout",
     "output_type": "stream",
     "text": [
      "Si está el campo personalizado para la URL 'https://estudiar.universidadeuropea.com/jornadas-devtalks/'\n"
     ]
    },
    {
     "name": "stderr",
     "output_type": "stream",
     "text": [
      "C:\\Users\\9140\\AppData\\Local\\Temp\\ipykernel_12948\\3282100434.py:2: FutureWarning: The frame.append method is deprecated and will be removed from pandas in a future version. Use pandas.concat instead.\n",
      "  resultados=resultados.append(comprobador(a))\n"
     ]
    },
    {
     "name": "stdout",
     "output_type": "stream",
     "text": [
      "Si está el campo personalizado para la URL 'https://online-ecuador.universidadeuropea.com/maestria-oficial-derecho-ambiental-en-linea/'\n"
     ]
    },
    {
     "name": "stderr",
     "output_type": "stream",
     "text": [
      "C:\\Users\\9140\\AppData\\Local\\Temp\\ipykernel_12948\\3282100434.py:2: FutureWarning: The frame.append method is deprecated and will be removed from pandas in a future version. Use pandas.concat instead.\n",
      "  resultados=resultados.append(comprobador(a))\n"
     ]
    },
    {
     "name": "stdout",
     "output_type": "stream",
     "text": [
      "Si está el campo personalizado para la URL 'https://online-colombia.universidadeuropea.com/maestria-oficial-derecho-ambiental-en-linea/'\n"
     ]
    },
    {
     "name": "stderr",
     "output_type": "stream",
     "text": [
      "C:\\Users\\9140\\AppData\\Local\\Temp\\ipykernel_12948\\3282100434.py:2: FutureWarning: The frame.append method is deprecated and will be removed from pandas in a future version. Use pandas.concat instead.\n",
      "  resultados=resultados.append(comprobador(a))\n"
     ]
    },
    {
     "name": "stdout",
     "output_type": "stream",
     "text": [
      "Si está el campo personalizado para la URL 'https://online-ecuador.universidadeuropea.com/maestria-oficial-criminologia-aplicada-en-linea/'\n"
     ]
    },
    {
     "name": "stderr",
     "output_type": "stream",
     "text": [
      "C:\\Users\\9140\\AppData\\Local\\Temp\\ipykernel_12948\\3282100434.py:2: FutureWarning: The frame.append method is deprecated and will be removed from pandas in a future version. Use pandas.concat instead.\n",
      "  resultados=resultados.append(comprobador(a))\n"
     ]
    },
    {
     "name": "stdout",
     "output_type": "stream",
     "text": [
      "Si está el campo personalizado para la URL 'https://online-colombia.universidadeuropea.com/maestria-oficial-criminologia-aplicada-en-linea/'\n"
     ]
    },
    {
     "name": "stderr",
     "output_type": "stream",
     "text": [
      "C:\\Users\\9140\\AppData\\Local\\Temp\\ipykernel_12948\\3282100434.py:2: FutureWarning: The frame.append method is deprecated and will be removed from pandas in a future version. Use pandas.concat instead.\n",
      "  resultados=resultados.append(comprobador(a))\n"
     ]
    },
    {
     "name": "stdout",
     "output_type": "stream",
     "text": [
      "Si está el campo personalizado para la URL 'https://online-ecuador.universidadeuropea.com/maestria-oficial-seguridad-defensa-en-linea/'\n"
     ]
    },
    {
     "name": "stderr",
     "output_type": "stream",
     "text": [
      "C:\\Users\\9140\\AppData\\Local\\Temp\\ipykernel_12948\\3282100434.py:2: FutureWarning: The frame.append method is deprecated and will be removed from pandas in a future version. Use pandas.concat instead.\n",
      "  resultados=resultados.append(comprobador(a))\n"
     ]
    },
    {
     "name": "stdout",
     "output_type": "stream",
     "text": [
      "Si está el campo personalizado para la URL 'https://online-colombia.universidadeuropea.com/maestria-oficial-seguridad-defensa-en-linea/'\n"
     ]
    },
    {
     "name": "stderr",
     "output_type": "stream",
     "text": [
      "C:\\Users\\9140\\AppData\\Local\\Temp\\ipykernel_12948\\3282100434.py:2: FutureWarning: The frame.append method is deprecated and will be removed from pandas in a future version. Use pandas.concat instead.\n",
      "  resultados=resultados.append(comprobador(a))\n"
     ]
    },
    {
     "name": "stdout",
     "output_type": "stream",
     "text": [
      "Si está el campo personalizado para la URL 'https://online.universidadeuropea.com/grado-psicologia-online-canarias/'\n"
     ]
    },
    {
     "name": "stderr",
     "output_type": "stream",
     "text": [
      "C:\\Users\\9140\\AppData\\Local\\Temp\\ipykernel_12948\\3282100434.py:2: FutureWarning: The frame.append method is deprecated and will be removed from pandas in a future version. Use pandas.concat instead.\n",
      "  resultados=resultados.append(comprobador(a))\n"
     ]
    },
    {
     "name": "stdout",
     "output_type": "stream",
     "text": [
      "Si está el campo personalizado para la URL 'https://online.universidadeuropea.com/maestria-arquitectura-sostenible-bioconstruccion-latam/'\n"
     ]
    },
    {
     "name": "stderr",
     "output_type": "stream",
     "text": [
      "C:\\Users\\9140\\AppData\\Local\\Temp\\ipykernel_12948\\3282100434.py:2: FutureWarning: The frame.append method is deprecated and will be removed from pandas in a future version. Use pandas.concat instead.\n",
      "  resultados=resultados.append(comprobador(a))\n"
     ]
    },
    {
     "name": "stdout",
     "output_type": "stream",
     "text": [
      "Si está el campo personalizado para la URL 'https://online.universidadeuropea.com/master-controller-financiero-online/'\n"
     ]
    },
    {
     "name": "stderr",
     "output_type": "stream",
     "text": [
      "C:\\Users\\9140\\AppData\\Local\\Temp\\ipykernel_12948\\3282100434.py:2: FutureWarning: The frame.append method is deprecated and will be removed from pandas in a future version. Use pandas.concat instead.\n",
      "  resultados=resultados.append(comprobador(a))\n"
     ]
    },
    {
     "name": "stdout",
     "output_type": "stream",
     "text": [
      "Si está el campo personalizado para la URL 'https://estudiar.universidadeuropea.com/master-universitario-negocios-digitales-landingdual/'\n"
     ]
    },
    {
     "name": "stderr",
     "output_type": "stream",
     "text": [
      "C:\\Users\\9140\\AppData\\Local\\Temp\\ipykernel_12948\\3282100434.py:2: FutureWarning: The frame.append method is deprecated and will be removed from pandas in a future version. Use pandas.concat instead.\n",
      "  resultados=resultados.append(comprobador(a))\n"
     ]
    },
    {
     "name": "stdout",
     "output_type": "stream",
     "text": [
      "Si está el campo personalizado para la URL 'https://estudiar.universidadeuropea.com/master-customer-experience-landingdual/'\n"
     ]
    },
    {
     "name": "stderr",
     "output_type": "stream",
     "text": [
      "C:\\Users\\9140\\AppData\\Local\\Temp\\ipykernel_12948\\3282100434.py:2: FutureWarning: The frame.append method is deprecated and will be removed from pandas in a future version. Use pandas.concat instead.\n",
      "  resultados=resultados.append(comprobador(a))\n"
     ]
    },
    {
     "name": "stdout",
     "output_type": "stream",
     "text": [
      "Si está el campo personalizado para la URL 'https://online.universidadeuropea.com/master-universitario-psicologia-deporte-online/'\n"
     ]
    },
    {
     "name": "stderr",
     "output_type": "stream",
     "text": [
      "C:\\Users\\9140\\AppData\\Local\\Temp\\ipykernel_12948\\3282100434.py:2: FutureWarning: The frame.append method is deprecated and will be removed from pandas in a future version. Use pandas.concat instead.\n",
      "  resultados=resultados.append(comprobador(a))\n"
     ]
    },
    {
     "name": "stdout",
     "output_type": "stream",
     "text": [
      "Si está el campo personalizado para la URL 'https://online-ecuador.universidadeuropea.com/maestria-psicologia-deporte-en-linea/'\n"
     ]
    },
    {
     "name": "stderr",
     "output_type": "stream",
     "text": [
      "C:\\Users\\9140\\AppData\\Local\\Temp\\ipykernel_12948\\3282100434.py:2: FutureWarning: The frame.append method is deprecated and will be removed from pandas in a future version. Use pandas.concat instead.\n",
      "  resultados=resultados.append(comprobador(a))\n"
     ]
    },
    {
     "name": "stdout",
     "output_type": "stream",
     "text": [
      "Si está el campo personalizado para la URL 'https://online.universidadeuropea.com/master-psicologia-cuidados-paliativos-online/'\n"
     ]
    },
    {
     "name": "stderr",
     "output_type": "stream",
     "text": [
      "C:\\Users\\9140\\AppData\\Local\\Temp\\ipykernel_12948\\3282100434.py:2: FutureWarning: The frame.append method is deprecated and will be removed from pandas in a future version. Use pandas.concat instead.\n",
      "  resultados=resultados.append(comprobador(a))\n"
     ]
    },
    {
     "name": "stdout",
     "output_type": "stream",
     "text": [
      "Si está el campo personalizado para la URL 'https://online-ecuador.universidadeuropea.com/maestria-psicologia-cuidados-paliativos-en-linea/'\n"
     ]
    },
    {
     "name": "stderr",
     "output_type": "stream",
     "text": [
      "C:\\Users\\9140\\AppData\\Local\\Temp\\ipykernel_12948\\3282100434.py:2: FutureWarning: The frame.append method is deprecated and will be removed from pandas in a future version. Use pandas.concat instead.\n",
      "  resultados=resultados.append(comprobador(a))\n"
     ]
    },
    {
     "name": "stdout",
     "output_type": "stream",
     "text": [
      "Si está el campo personalizado para la URL 'https://online-colombia.universidadeuropea.com/maestria-psicologia-cuidados-paliativos-en-linea/'\n"
     ]
    },
    {
     "name": "stderr",
     "output_type": "stream",
     "text": [
      "C:\\Users\\9140\\AppData\\Local\\Temp\\ipykernel_12948\\3282100434.py:2: FutureWarning: The frame.append method is deprecated and will be removed from pandas in a future version. Use pandas.concat instead.\n",
      "  resultados=resultados.append(comprobador(a))\n"
     ]
    },
    {
     "name": "stdout",
     "output_type": "stream",
     "text": [
      "Si está el campo personalizado para la URL 'https://online-ecuador.universidadeuropea.com/maestrias-area-juridica-en-linea/'\n"
     ]
    },
    {
     "name": "stderr",
     "output_type": "stream",
     "text": [
      "C:\\Users\\9140\\AppData\\Local\\Temp\\ipykernel_12948\\3282100434.py:2: FutureWarning: The frame.append method is deprecated and will be removed from pandas in a future version. Use pandas.concat instead.\n",
      "  resultados=resultados.append(comprobador(a))\n"
     ]
    },
    {
     "name": "stdout",
     "output_type": "stream",
     "text": [
      "Si está el campo personalizado para la URL 'https://online-colombia.universidadeuropea.com/maestrias-area-juridica-en-linea/'\n"
     ]
    },
    {
     "name": "stderr",
     "output_type": "stream",
     "text": [
      "C:\\Users\\9140\\AppData\\Local\\Temp\\ipykernel_12948\\3282100434.py:2: FutureWarning: The frame.append method is deprecated and will be removed from pandas in a future version. Use pandas.concat instead.\n",
      "  resultados=resultados.append(comprobador(a))\n"
     ]
    },
    {
     "name": "stdout",
     "output_type": "stream",
     "text": [
      "Si está el campo personalizado para la URL 'https://online.universidadeuropea.com/master-universitario-ensenanza-ingles-lengua-extranjera-online/'\n"
     ]
    },
    {
     "name": "stderr",
     "output_type": "stream",
     "text": [
      "C:\\Users\\9140\\AppData\\Local\\Temp\\ipykernel_12948\\3282100434.py:2: FutureWarning: The frame.append method is deprecated and will be removed from pandas in a future version. Use pandas.concat instead.\n",
      "  resultados=resultados.append(comprobador(a))\n"
     ]
    },
    {
     "name": "stdout",
     "output_type": "stream",
     "text": [
      "Si está el campo personalizado para la URL 'https://online-ecuador.universidadeuropea.com/maestria-oficial-ensenanza-ingles-lengua-extranjera-en-linea/'\n"
     ]
    },
    {
     "name": "stderr",
     "output_type": "stream",
     "text": [
      "C:\\Users\\9140\\AppData\\Local\\Temp\\ipykernel_12948\\3282100434.py:2: FutureWarning: The frame.append method is deprecated and will be removed from pandas in a future version. Use pandas.concat instead.\n",
      "  resultados=resultados.append(comprobador(a))\n"
     ]
    },
    {
     "name": "stdout",
     "output_type": "stream",
     "text": [
      "Si está el campo personalizado para la URL 'https://online-colombia.universidadeuropea.com/maestria-oficial-ensenanza-ingles-lengua-extranjera-en-linea/'\n"
     ]
    },
    {
     "name": "stderr",
     "output_type": "stream",
     "text": [
      "C:\\Users\\9140\\AppData\\Local\\Temp\\ipykernel_12948\\3282100434.py:2: FutureWarning: The frame.append method is deprecated and will be removed from pandas in a future version. Use pandas.concat instead.\n",
      "  resultados=resultados.append(comprobador(a))\n"
     ]
    },
    {
     "name": "stdout",
     "output_type": "stream",
     "text": [
      "Si está el campo personalizado para la URL 'https://online.universidadeuropea.com/master-product-management-estrategia-negocio-online/'\n"
     ]
    },
    {
     "name": "stderr",
     "output_type": "stream",
     "text": [
      "C:\\Users\\9140\\AppData\\Local\\Temp\\ipykernel_12948\\3282100434.py:2: FutureWarning: The frame.append method is deprecated and will be removed from pandas in a future version. Use pandas.concat instead.\n",
      "  resultados=resultados.append(comprobador(a))\n"
     ]
    },
    {
     "name": "stdout",
     "output_type": "stream",
     "text": [
      "Si está el campo personalizado para la URL 'https://online.universidadeuropea.com/master-fiscalidad-internacional-online/'\n"
     ]
    },
    {
     "name": "stderr",
     "output_type": "stream",
     "text": [
      "C:\\Users\\9140\\AppData\\Local\\Temp\\ipykernel_12948\\3282100434.py:2: FutureWarning: The frame.append method is deprecated and will be removed from pandas in a future version. Use pandas.concat instead.\n",
      "  resultados=resultados.append(comprobador(a))\n"
     ]
    },
    {
     "name": "stdout",
     "output_type": "stream",
     "text": [
      "Si está el campo personalizado para la URL 'https://online.universidadeuropea.com/master-asesoria-juridica-empresa-online/'\n"
     ]
    },
    {
     "name": "stderr",
     "output_type": "stream",
     "text": [
      "C:\\Users\\9140\\AppData\\Local\\Temp\\ipykernel_12948\\3282100434.py:2: FutureWarning: The frame.append method is deprecated and will be removed from pandas in a future version. Use pandas.concat instead.\n",
      "  resultados=resultados.append(comprobador(a))\n"
     ]
    },
    {
     "name": "stdout",
     "output_type": "stream",
     "text": [
      "Si está el campo personalizado para la URL 'https://online.universidadeuropea.com/master-psicologia-envejecimiento-online/'\n"
     ]
    },
    {
     "name": "stderr",
     "output_type": "stream",
     "text": [
      "C:\\Users\\9140\\AppData\\Local\\Temp\\ipykernel_12948\\3282100434.py:2: FutureWarning: The frame.append method is deprecated and will be removed from pandas in a future version. Use pandas.concat instead.\n",
      "  resultados=resultados.append(comprobador(a))\n"
     ]
    },
    {
     "name": "stdout",
     "output_type": "stream",
     "text": [
      "Si está el campo personalizado para la URL 'https://online-ecuador.universidadeuropea.com/maestria-psicologia-envejecimiento-en-linea/'\n"
     ]
    },
    {
     "name": "stderr",
     "output_type": "stream",
     "text": [
      "C:\\Users\\9140\\AppData\\Local\\Temp\\ipykernel_12948\\3282100434.py:2: FutureWarning: The frame.append method is deprecated and will be removed from pandas in a future version. Use pandas.concat instead.\n",
      "  resultados=resultados.append(comprobador(a))\n"
     ]
    },
    {
     "name": "stdout",
     "output_type": "stream",
     "text": [
      "Si está el campo personalizado para la URL 'https://online-colombia.universidadeuropea.com/maestria-psicologia-envejecimiento-en-linea/'\n"
     ]
    },
    {
     "name": "stderr",
     "output_type": "stream",
     "text": [
      "C:\\Users\\9140\\AppData\\Local\\Temp\\ipykernel_12948\\3282100434.py:2: FutureWarning: The frame.append method is deprecated and will be removed from pandas in a future version. Use pandas.concat instead.\n",
      "  resultados=resultados.append(comprobador(a))\n"
     ]
    },
    {
     "name": "stdout",
     "output_type": "stream",
     "text": [
      "No está el campo personalizado para la URL 'https://estudiar.universidadeuropea.com/en/career-week-universidad-europea/'\n"
     ]
    },
    {
     "name": "stderr",
     "output_type": "stream",
     "text": [
      "C:\\Users\\9140\\AppData\\Local\\Temp\\ipykernel_12948\\3282100434.py:2: FutureWarning: The frame.append method is deprecated and will be removed from pandas in a future version. Use pandas.concat instead.\n",
      "  resultados=resultados.append(comprobador(a))\n"
     ]
    },
    {
     "name": "stdout",
     "output_type": "stream",
     "text": [
      "Si está el campo personalizado para la URL 'https://online-ecuador.universidadeuropea.com/maestria-product-manager-estrategia-negocio-en-linea/'\n"
     ]
    },
    {
     "name": "stderr",
     "output_type": "stream",
     "text": [
      "C:\\Users\\9140\\AppData\\Local\\Temp\\ipykernel_12948\\3282100434.py:2: FutureWarning: The frame.append method is deprecated and will be removed from pandas in a future version. Use pandas.concat instead.\n",
      "  resultados=resultados.append(comprobador(a))\n"
     ]
    },
    {
     "name": "stdout",
     "output_type": "stream",
     "text": [
      "Si está el campo personalizado para la URL 'https://online-colombia.universidadeuropea.com/maestria-product-manager-estrategia-negocio-en-linea/'\n"
     ]
    },
    {
     "name": "stderr",
     "output_type": "stream",
     "text": [
      "C:\\Users\\9140\\AppData\\Local\\Temp\\ipykernel_12948\\3282100434.py:2: FutureWarning: The frame.append method is deprecated and will be removed from pandas in a future version. Use pandas.concat instead.\n",
      "  resultados=resultados.append(comprobador(a))\n"
     ]
    },
    {
     "name": "stdout",
     "output_type": "stream",
     "text": [
      "Si está el campo personalizado para la URL 'https://online.universidadeuropea.com/masters-online-area-criminologia/'\n"
     ]
    },
    {
     "name": "stderr",
     "output_type": "stream",
     "text": [
      "C:\\Users\\9140\\AppData\\Local\\Temp\\ipykernel_12948\\3282100434.py:2: FutureWarning: The frame.append method is deprecated and will be removed from pandas in a future version. Use pandas.concat instead.\n",
      "  resultados=resultados.append(comprobador(a))\n"
     ]
    },
    {
     "name": "stdout",
     "output_type": "stream",
     "text": [
      "Si está el campo personalizado para la URL 'https://online-ecuador.universidadeuropea.com/maestrias-area-criminologia-en-linea/'\n"
     ]
    },
    {
     "name": "stderr",
     "output_type": "stream",
     "text": [
      "C:\\Users\\9140\\AppData\\Local\\Temp\\ipykernel_12948\\3282100434.py:2: FutureWarning: The frame.append method is deprecated and will be removed from pandas in a future version. Use pandas.concat instead.\n",
      "  resultados=resultados.append(comprobador(a))\n"
     ]
    },
    {
     "name": "stdout",
     "output_type": "stream",
     "text": [
      "Si está el campo personalizado para la URL 'https://online-colombia.universidadeuropea.com/maestrias-area-criminologia-en-linea/'\n"
     ]
    },
    {
     "name": "stderr",
     "output_type": "stream",
     "text": [
      "C:\\Users\\9140\\AppData\\Local\\Temp\\ipykernel_12948\\3282100434.py:2: FutureWarning: The frame.append method is deprecated and will be removed from pandas in a future version. Use pandas.concat instead.\n",
      "  resultados=resultados.append(comprobador(a))\n"
     ]
    },
    {
     "name": "stdout",
     "output_type": "stream",
     "text": [
      "Si está el campo personalizado para la URL 'https://estudiar.universidadeuropea.com/ciclos-formativos-landingdual/'\n"
     ]
    },
    {
     "name": "stderr",
     "output_type": "stream",
     "text": [
      "C:\\Users\\9140\\AppData\\Local\\Temp\\ipykernel_12948\\3282100434.py:2: FutureWarning: The frame.append method is deprecated and will be removed from pandas in a future version. Use pandas.concat instead.\n",
      "  resultados=resultados.append(comprobador(a))\n"
     ]
    },
    {
     "name": "stdout",
     "output_type": "stream",
     "text": [
      "Si está el campo personalizado para la URL 'https://online.universidadeuropea.com/grado-pedagogia-online/'\n"
     ]
    },
    {
     "name": "stderr",
     "output_type": "stream",
     "text": [
      "C:\\Users\\9140\\AppData\\Local\\Temp\\ipykernel_12948\\3282100434.py:2: FutureWarning: The frame.append method is deprecated and will be removed from pandas in a future version. Use pandas.concat instead.\n",
      "  resultados=resultados.append(comprobador(a))\n"
     ]
    },
    {
     "name": "stdout",
     "output_type": "stream",
     "text": [
      "Si está el campo personalizado para la URL 'https://online.universidadeuropea.com/master-universitario-terapias-contextuales-online/'\n"
     ]
    },
    {
     "name": "stderr",
     "output_type": "stream",
     "text": [
      "C:\\Users\\9140\\AppData\\Local\\Temp\\ipykernel_12948\\3282100434.py:2: FutureWarning: The frame.append method is deprecated and will be removed from pandas in a future version. Use pandas.concat instead.\n",
      "  resultados=resultados.append(comprobador(a))\n"
     ]
    },
    {
     "name": "stdout",
     "output_type": "stream",
     "text": [
      "Si está el campo personalizado para la URL 'https://online-ecuador.universidadeuropea.com/maestria-terapias-contextuales-en-linea/'\n"
     ]
    },
    {
     "name": "stderr",
     "output_type": "stream",
     "text": [
      "C:\\Users\\9140\\AppData\\Local\\Temp\\ipykernel_12948\\3282100434.py:2: FutureWarning: The frame.append method is deprecated and will be removed from pandas in a future version. Use pandas.concat instead.\n",
      "  resultados=resultados.append(comprobador(a))\n"
     ]
    },
    {
     "name": "stdout",
     "output_type": "stream",
     "text": [
      "Si está el campo personalizado para la URL 'https://online-colombia.universidadeuropea.com/maestria-terapias-contextuales-en-linea/'\n"
     ]
    },
    {
     "name": "stderr",
     "output_type": "stream",
     "text": [
      "C:\\Users\\9140\\AppData\\Local\\Temp\\ipykernel_12948\\3282100434.py:2: FutureWarning: The frame.append method is deprecated and will be removed from pandas in a future version. Use pandas.concat instead.\n",
      "  resultados=resultados.append(comprobador(a))\n"
     ]
    },
    {
     "name": "stdout",
     "output_type": "stream",
     "text": [
      "Si está el campo personalizado para la URL 'https://online-colombia.universidadeuropea.com/maestria-controller-financiero-virtual/'\n"
     ]
    },
    {
     "name": "stderr",
     "output_type": "stream",
     "text": [
      "C:\\Users\\9140\\AppData\\Local\\Temp\\ipykernel_12948\\3282100434.py:2: FutureWarning: The frame.append method is deprecated and will be removed from pandas in a future version. Use pandas.concat instead.\n",
      "  resultados=resultados.append(comprobador(a))\n"
     ]
    },
    {
     "name": "stdout",
     "output_type": "stream",
     "text": [
      "Si está el campo personalizado para la URL 'https://online-ecuador.universidadeuropea.com/maestria-controller-financiero-virtual/'\n"
     ]
    },
    {
     "name": "stderr",
     "output_type": "stream",
     "text": [
      "C:\\Users\\9140\\AppData\\Local\\Temp\\ipykernel_12948\\3282100434.py:2: FutureWarning: The frame.append method is deprecated and will be removed from pandas in a future version. Use pandas.concat instead.\n",
      "  resultados=resultados.append(comprobador(a))\n"
     ]
    },
    {
     "name": "stdout",
     "output_type": "stream",
     "text": [
      "Si está el campo personalizado para la URL 'https://online.universidadeuropea.com/maestria-controller-financiero-virtual/'\n"
     ]
    },
    {
     "name": "stderr",
     "output_type": "stream",
     "text": [
      "C:\\Users\\9140\\AppData\\Local\\Temp\\ipykernel_12948\\3282100434.py:2: FutureWarning: The frame.append method is deprecated and will be removed from pandas in a future version. Use pandas.concat instead.\n",
      "  resultados=resultados.append(comprobador(a))\n"
     ]
    },
    {
     "name": "stdout",
     "output_type": "stream",
     "text": [
      "Si está el campo personalizado para la URL 'https://estudiar.universidadeuropea.com/area-veterinaria/'\n"
     ]
    },
    {
     "name": "stderr",
     "output_type": "stream",
     "text": [
      "C:\\Users\\9140\\AppData\\Local\\Temp\\ipykernel_12948\\3282100434.py:2: FutureWarning: The frame.append method is deprecated and will be removed from pandas in a future version. Use pandas.concat instead.\n",
      "  resultados=resultados.append(comprobador(a))\n"
     ]
    },
    {
     "name": "stdout",
     "output_type": "stream",
     "text": [
      "Si está el campo personalizado para la URL 'https://estudiar.universidadeuropea.com/master-universitario-prevencion-tratamiento-psicologico-adicciones-landingdual/'\n"
     ]
    },
    {
     "name": "stderr",
     "output_type": "stream",
     "text": [
      "C:\\Users\\9140\\AppData\\Local\\Temp\\ipykernel_12948\\3282100434.py:2: FutureWarning: The frame.append method is deprecated and will be removed from pandas in a future version. Use pandas.concat instead.\n",
      "  resultados=resultados.append(comprobador(a))\n"
     ]
    },
    {
     "name": "stdout",
     "output_type": "stream",
     "text": [
      "Si está el campo personalizado para la URL 'https://estudiar.universidadeuropea.com/master-intervencion-psicologica-situaciones-crisis-catastrofes-emergencias-landingdual/'\n"
     ]
    },
    {
     "name": "stderr",
     "output_type": "stream",
     "text": [
      "C:\\Users\\9140\\AppData\\Local\\Temp\\ipykernel_12948\\3282100434.py:2: FutureWarning: The frame.append method is deprecated and will be removed from pandas in a future version. Use pandas.concat instead.\n",
      "  resultados=resultados.append(comprobador(a))\n"
     ]
    },
    {
     "name": "stdout",
     "output_type": "stream",
     "text": [
      "Si está el campo personalizado para la URL 'https://online-colombia.universidadeuropea.com/maestria-customer-experience/'\n"
     ]
    },
    {
     "name": "stderr",
     "output_type": "stream",
     "text": [
      "C:\\Users\\9140\\AppData\\Local\\Temp\\ipykernel_12948\\3282100434.py:2: FutureWarning: The frame.append method is deprecated and will be removed from pandas in a future version. Use pandas.concat instead.\n",
      "  resultados=resultados.append(comprobador(a))\n"
     ]
    },
    {
     "name": "stdout",
     "output_type": "stream",
     "text": [
      "Si está el campo personalizado para la URL 'https://online-ecuador.universidadeuropea.com/maestria-customer-experience/'\n"
     ]
    },
    {
     "name": "stderr",
     "output_type": "stream",
     "text": [
      "C:\\Users\\9140\\AppData\\Local\\Temp\\ipykernel_12948\\3282100434.py:2: FutureWarning: The frame.append method is deprecated and will be removed from pandas in a future version. Use pandas.concat instead.\n",
      "  resultados=resultados.append(comprobador(a))\n"
     ]
    },
    {
     "name": "stdout",
     "output_type": "stream",
     "text": [
      "Si está el campo personalizado para la URL 'https://online.universidadeuropea.com/maestria-customer-experience/'\n"
     ]
    },
    {
     "name": "stderr",
     "output_type": "stream",
     "text": [
      "C:\\Users\\9140\\AppData\\Local\\Temp\\ipykernel_12948\\3282100434.py:2: FutureWarning: The frame.append method is deprecated and will be removed from pandas in a future version. Use pandas.concat instead.\n",
      "  resultados=resultados.append(comprobador(a))\n"
     ]
    },
    {
     "name": "stdout",
     "output_type": "stream",
     "text": [
      "Si está el campo personalizado para la URL 'https://online.universidadeuropea.com/master-universitario-investigacion-ciencias-actividad-fisica-deporte-online/'\n"
     ]
    },
    {
     "name": "stderr",
     "output_type": "stream",
     "text": [
      "C:\\Users\\9140\\AppData\\Local\\Temp\\ipykernel_12948\\3282100434.py:2: FutureWarning: The frame.append method is deprecated and will be removed from pandas in a future version. Use pandas.concat instead.\n",
      "  resultados=resultados.append(comprobador(a))\n"
     ]
    },
    {
     "name": "stdout",
     "output_type": "stream",
     "text": [
      "Si está el campo personalizado para la URL 'https://online-ecuador.universidadeuropea.com/maestria-oficial-investigacion-ciencias-actividad-fisica-y-deporte-en-linea/'\n"
     ]
    },
    {
     "name": "stderr",
     "output_type": "stream",
     "text": [
      "C:\\Users\\9140\\AppData\\Local\\Temp\\ipykernel_12948\\3282100434.py:2: FutureWarning: The frame.append method is deprecated and will be removed from pandas in a future version. Use pandas.concat instead.\n",
      "  resultados=resultados.append(comprobador(a))\n"
     ]
    },
    {
     "name": "stdout",
     "output_type": "stream",
     "text": [
      "Si está el campo personalizado para la URL 'https://online-colombia.universidadeuropea.com/master-oficial-energias-renovables-eventos/'\n"
     ]
    },
    {
     "name": "stderr",
     "output_type": "stream",
     "text": [
      "C:\\Users\\9140\\AppData\\Local\\Temp\\ipykernel_12948\\3282100434.py:2: FutureWarning: The frame.append method is deprecated and will be removed from pandas in a future version. Use pandas.concat instead.\n",
      "  resultados=resultados.append(comprobador(a))\n"
     ]
    },
    {
     "name": "stdout",
     "output_type": "stream",
     "text": [
      "Si está el campo personalizado para la URL 'https://online.universidadeuropea.com/master-asesoria-juridica-empresas-online/'\n"
     ]
    },
    {
     "name": "stderr",
     "output_type": "stream",
     "text": [
      "C:\\Users\\9140\\AppData\\Local\\Temp\\ipykernel_12948\\3282100434.py:2: FutureWarning: The frame.append method is deprecated and will be removed from pandas in a future version. Use pandas.concat instead.\n",
      "  resultados=resultados.append(comprobador(a))\n"
     ]
    },
    {
     "name": "stdout",
     "output_type": "stream",
     "text": [
      "Si está el campo personalizado para la URL 'https://online-ecuador.universidadeuropea.com/maestria-asesoria-juridica-empresas-en-linea/'\n"
     ]
    },
    {
     "name": "stderr",
     "output_type": "stream",
     "text": [
      "C:\\Users\\9140\\AppData\\Local\\Temp\\ipykernel_12948\\3282100434.py:2: FutureWarning: The frame.append method is deprecated and will be removed from pandas in a future version. Use pandas.concat instead.\n",
      "  resultados=resultados.append(comprobador(a))\n"
     ]
    },
    {
     "name": "stdout",
     "output_type": "stream",
     "text": [
      "Si está el campo personalizado para la URL 'https://online-colombia.universidadeuropea.com/maestria-asesoria-juridica-empresas-en-linea/'\n"
     ]
    },
    {
     "name": "stderr",
     "output_type": "stream",
     "text": [
      "C:\\Users\\9140\\AppData\\Local\\Temp\\ipykernel_12948\\3282100434.py:2: FutureWarning: The frame.append method is deprecated and will be removed from pandas in a future version. Use pandas.concat instead.\n",
      "  resultados=resultados.append(comprobador(a))\n"
     ]
    },
    {
     "name": "stdout",
     "output_type": "stream",
     "text": [
      "Si está el campo personalizado para la URL 'https://online.universidadeuropea.com/master-gestion-investigacion-clinica-online/'\n"
     ]
    },
    {
     "name": "stderr",
     "output_type": "stream",
     "text": [
      "C:\\Users\\9140\\AppData\\Local\\Temp\\ipykernel_12948\\3282100434.py:2: FutureWarning: The frame.append method is deprecated and will be removed from pandas in a future version. Use pandas.concat instead.\n",
      "  resultados=resultados.append(comprobador(a))\n"
     ]
    },
    {
     "name": "stdout",
     "output_type": "stream",
     "text": [
      "No está el campo personalizado para la URL 'https://estudiar.universidadeuropea.com/business-data-challenge-2022/'\n"
     ]
    },
    {
     "name": "stderr",
     "output_type": "stream",
     "text": [
      "C:\\Users\\9140\\AppData\\Local\\Temp\\ipykernel_12948\\3282100434.py:2: FutureWarning: The frame.append method is deprecated and will be removed from pandas in a future version. Use pandas.concat instead.\n",
      "  resultados=resultados.append(comprobador(a))\n"
     ]
    },
    {
     "name": "stdout",
     "output_type": "stream",
     "text": [
      "Si está el campo personalizado para la URL 'https://online.universidadeuropea.com/curso-java-online/'\n"
     ]
    },
    {
     "name": "stderr",
     "output_type": "stream",
     "text": [
      "C:\\Users\\9140\\AppData\\Local\\Temp\\ipykernel_12948\\3282100434.py:2: FutureWarning: The frame.append method is deprecated and will be removed from pandas in a future version. Use pandas.concat instead.\n",
      "  resultados=resultados.append(comprobador(a))\n"
     ]
    },
    {
     "name": "stdout",
     "output_type": "stream",
     "text": [
      "Si está el campo personalizado para la URL 'https://online.universidadeuropea.com/master-universitario-negocios-digitales-online/'\n"
     ]
    },
    {
     "name": "stderr",
     "output_type": "stream",
     "text": [
      "C:\\Users\\9140\\AppData\\Local\\Temp\\ipykernel_12948\\3282100434.py:2: FutureWarning: The frame.append method is deprecated and will be removed from pandas in a future version. Use pandas.concat instead.\n",
      "  resultados=resultados.append(comprobador(a))\n"
     ]
    },
    {
     "name": "stdout",
     "output_type": "stream",
     "text": [
      "Si está el campo personalizado para la URL 'https://online-ecuador.universidadeuropea.com/maestria-oficial-negocios-digitales-en-linea/'\n"
     ]
    },
    {
     "name": "stderr",
     "output_type": "stream",
     "text": [
      "C:\\Users\\9140\\AppData\\Local\\Temp\\ipykernel_12948\\3282100434.py:2: FutureWarning: The frame.append method is deprecated and will be removed from pandas in a future version. Use pandas.concat instead.\n",
      "  resultados=resultados.append(comprobador(a))\n"
     ]
    },
    {
     "name": "stdout",
     "output_type": "stream",
     "text": [
      "Si está el campo personalizado para la URL 'https://online-colombia.universidadeuropea.com/maestria-oficial-negocios-digitales-en-linea/'\n"
     ]
    },
    {
     "name": "stderr",
     "output_type": "stream",
     "text": [
      "C:\\Users\\9140\\AppData\\Local\\Temp\\ipykernel_12948\\3282100434.py:2: FutureWarning: The frame.append method is deprecated and will be removed from pandas in a future version. Use pandas.concat instead.\n",
      "  resultados=resultados.append(comprobador(a))\n"
     ]
    },
    {
     "name": "stdout",
     "output_type": "stream",
     "text": [
      "Si está el campo personalizado para la URL 'https://online.universidadeuropea.com/master-customer-experience-online/'\n"
     ]
    },
    {
     "name": "stderr",
     "output_type": "stream",
     "text": [
      "C:\\Users\\9140\\AppData\\Local\\Temp\\ipykernel_12948\\3282100434.py:2: FutureWarning: The frame.append method is deprecated and will be removed from pandas in a future version. Use pandas.concat instead.\n",
      "  resultados=resultados.append(comprobador(a))\n"
     ]
    },
    {
     "name": "stdout",
     "output_type": "stream",
     "text": [
      "Si está el campo personalizado para la URL 'https://online-colombia.universidadeuropea.com/maestrias-oficiales-a-distancia/'\n"
     ]
    },
    {
     "name": "stderr",
     "output_type": "stream",
     "text": [
      "C:\\Users\\9140\\AppData\\Local\\Temp\\ipykernel_12948\\3282100434.py:2: FutureWarning: The frame.append method is deprecated and will be removed from pandas in a future version. Use pandas.concat instead.\n",
      "  resultados=resultados.append(comprobador(a))\n"
     ]
    },
    {
     "name": "stdout",
     "output_type": "stream",
     "text": [
      "Si está el campo personalizado para la URL 'https://online.universidadeuropea.com/masters-oficiales-a-distancia/'\n"
     ]
    },
    {
     "name": "stderr",
     "output_type": "stream",
     "text": [
      "C:\\Users\\9140\\AppData\\Local\\Temp\\ipykernel_12948\\3282100434.py:2: FutureWarning: The frame.append method is deprecated and will be removed from pandas in a future version. Use pandas.concat instead.\n",
      "  resultados=resultados.append(comprobador(a))\n"
     ]
    },
    {
     "name": "stdout",
     "output_type": "stream",
     "text": [
      "Si está el campo personalizado para la URL 'https://online-ecuador.universidadeuropea.com/maestrias-oficiales-a-distancia/'\n"
     ]
    },
    {
     "name": "stderr",
     "output_type": "stream",
     "text": [
      "C:\\Users\\9140\\AppData\\Local\\Temp\\ipykernel_12948\\3282100434.py:2: FutureWarning: The frame.append method is deprecated and will be removed from pandas in a future version. Use pandas.concat instead.\n",
      "  resultados=resultados.append(comprobador(a))\n"
     ]
    },
    {
     "name": "stdout",
     "output_type": "stream",
     "text": [
      "Si está el campo personalizado para la URL 'https://online.universidadeuropea.com/master-universitario-mediacion-educativa-acoso-escolar-online/'\n"
     ]
    },
    {
     "name": "stderr",
     "output_type": "stream",
     "text": [
      "C:\\Users\\9140\\AppData\\Local\\Temp\\ipykernel_12948\\3282100434.py:2: FutureWarning: The frame.append method is deprecated and will be removed from pandas in a future version. Use pandas.concat instead.\n",
      "  resultados=resultados.append(comprobador(a))\n"
     ]
    },
    {
     "name": "stdout",
     "output_type": "stream",
     "text": [
      "Si está el campo personalizado para la URL 'https://online-colombia.universidadeuropea.com/maestria-oficial-mediacion-educativa-acoso-escolar-en-linea/'\n"
     ]
    },
    {
     "name": "stderr",
     "output_type": "stream",
     "text": [
      "C:\\Users\\9140\\AppData\\Local\\Temp\\ipykernel_12948\\3282100434.py:2: FutureWarning: The frame.append method is deprecated and will be removed from pandas in a future version. Use pandas.concat instead.\n",
      "  resultados=resultados.append(comprobador(a))\n"
     ]
    },
    {
     "name": "stdout",
     "output_type": "stream",
     "text": [
      "Si está el campo personalizado para la URL 'https://online-ecuador.universidadeuropea.com/maestria-oficial-mediacion-educativa-acoso-escolar-en-linea/'\n"
     ]
    },
    {
     "name": "stderr",
     "output_type": "stream",
     "text": [
      "C:\\Users\\9140\\AppData\\Local\\Temp\\ipykernel_12948\\3282100434.py:2: FutureWarning: The frame.append method is deprecated and will be removed from pandas in a future version. Use pandas.concat instead.\n",
      "  resultados=resultados.append(comprobador(a))\n"
     ]
    },
    {
     "name": "stdout",
     "output_type": "stream",
     "text": [
      "Si está el campo personalizado para la URL 'https://online.universidadeuropea.com/retos-aulas-masteres-oficiales-online/'\n"
     ]
    },
    {
     "name": "stderr",
     "output_type": "stream",
     "text": [
      "C:\\Users\\9140\\AppData\\Local\\Temp\\ipykernel_12948\\3282100434.py:2: FutureWarning: The frame.append method is deprecated and will be removed from pandas in a future version. Use pandas.concat instead.\n",
      "  resultados=resultados.append(comprobador(a))\n"
     ]
    },
    {
     "name": "stdout",
     "output_type": "stream",
     "text": [
      "Si está el campo personalizado para la URL 'https://online-colombia.universidadeuropea.com/retos-aulas-maestrias-oficiales-en-linea/'\n"
     ]
    },
    {
     "name": "stderr",
     "output_type": "stream",
     "text": [
      "C:\\Users\\9140\\AppData\\Local\\Temp\\ipykernel_12948\\3282100434.py:2: FutureWarning: The frame.append method is deprecated and will be removed from pandas in a future version. Use pandas.concat instead.\n",
      "  resultados=resultados.append(comprobador(a))\n"
     ]
    },
    {
     "name": "stdout",
     "output_type": "stream",
     "text": [
      "Si está el campo personalizado para la URL 'https://online-ecuador.universidadeuropea.com/retos-aulas-maestrias-oficiales-en-linea/'\n"
     ]
    },
    {
     "name": "stderr",
     "output_type": "stream",
     "text": [
      "C:\\Users\\9140\\AppData\\Local\\Temp\\ipykernel_12948\\3282100434.py:2: FutureWarning: The frame.append method is deprecated and will be removed from pandas in a future version. Use pandas.concat instead.\n",
      "  resultados=resultados.append(comprobador(a))\n"
     ]
    },
    {
     "name": "stdout",
     "output_type": "stream",
     "text": [
      "Si está el campo personalizado para la URL 'https://online.universidadeuropea.com/master-universitario-e-learning-online/'\n"
     ]
    },
    {
     "name": "stderr",
     "output_type": "stream",
     "text": [
      "C:\\Users\\9140\\AppData\\Local\\Temp\\ipykernel_12948\\3282100434.py:2: FutureWarning: The frame.append method is deprecated and will be removed from pandas in a future version. Use pandas.concat instead.\n",
      "  resultados=resultados.append(comprobador(a))\n"
     ]
    },
    {
     "name": "stdout",
     "output_type": "stream",
     "text": [
      "Si está el campo personalizado para la URL 'https://online-ecuador.universidadeuropea.com/maestria-oficial-a-distancia-e-learning/'\n"
     ]
    },
    {
     "name": "stderr",
     "output_type": "stream",
     "text": [
      "C:\\Users\\9140\\AppData\\Local\\Temp\\ipykernel_12948\\3282100434.py:2: FutureWarning: The frame.append method is deprecated and will be removed from pandas in a future version. Use pandas.concat instead.\n",
      "  resultados=resultados.append(comprobador(a))\n"
     ]
    },
    {
     "name": "stdout",
     "output_type": "stream",
     "text": [
      "Si está el campo personalizado para la URL 'https://online-colombia.universidadeuropea.com/maestria-oficial-a-distancia-e-learning/'\n"
     ]
    },
    {
     "name": "stderr",
     "output_type": "stream",
     "text": [
      "C:\\Users\\9140\\AppData\\Local\\Temp\\ipykernel_12948\\3282100434.py:2: FutureWarning: The frame.append method is deprecated and will be removed from pandas in a future version. Use pandas.concat instead.\n",
      "  resultados=resultados.append(comprobador(a))\n"
     ]
    },
    {
     "name": "stdout",
     "output_type": "stream",
     "text": [
      "Si está el campo personalizado para la URL 'https://estudiar.universidadeuropea.com/grado-superior-desarrollo-aplicaciones-web-landingdual/'\n"
     ]
    },
    {
     "name": "stderr",
     "output_type": "stream",
     "text": [
      "C:\\Users\\9140\\AppData\\Local\\Temp\\ipykernel_12948\\3282100434.py:2: FutureWarning: The frame.append method is deprecated and will be removed from pandas in a future version. Use pandas.concat instead.\n",
      "  resultados=resultados.append(comprobador(a))\n"
     ]
    },
    {
     "name": "stdout",
     "output_type": "stream",
     "text": [
      "Si está el campo personalizado para la URL 'https://online.universidadeuropea.com/grado-superior-gestion-ventas-espacios-comerciales-online/'\n"
     ]
    },
    {
     "name": "stderr",
     "output_type": "stream",
     "text": [
      "C:\\Users\\9140\\AppData\\Local\\Temp\\ipykernel_12948\\3282100434.py:2: FutureWarning: The frame.append method is deprecated and will be removed from pandas in a future version. Use pandas.concat instead.\n",
      "  resultados=resultados.append(comprobador(a))\n"
     ]
    },
    {
     "name": "stdout",
     "output_type": "stream",
     "text": [
      "Si está el campo personalizado para la URL 'https://online.universidadeuropea.com/grado-superior-online-asistencia-direccion/'\n"
     ]
    },
    {
     "name": "stderr",
     "output_type": "stream",
     "text": [
      "C:\\Users\\9140\\AppData\\Local\\Temp\\ipykernel_12948\\3282100434.py:2: FutureWarning: The frame.append method is deprecated and will be removed from pandas in a future version. Use pandas.concat instead.\n",
      "  resultados=resultados.append(comprobador(a))\n"
     ]
    },
    {
     "name": "stdout",
     "output_type": "stream",
     "text": [
      "Si está el campo personalizado para la URL 'https://estudiar.universidadeuropea.com/grado-superior-animaciones-3D-juegos-entornos-interactivos-landingdual/'\n"
     ]
    },
    {
     "name": "stderr",
     "output_type": "stream",
     "text": [
      "C:\\Users\\9140\\AppData\\Local\\Temp\\ipykernel_12948\\3282100434.py:2: FutureWarning: The frame.append method is deprecated and will be removed from pandas in a future version. Use pandas.concat instead.\n",
      "  resultados=resultados.append(comprobador(a))\n"
     ]
    },
    {
     "name": "stdout",
     "output_type": "stream",
     "text": [
      "Si está el campo personalizado para la URL 'https://online-colombia.universidadeuropea.com/maestria-oficial-salud-publica/'\n"
     ]
    },
    {
     "name": "stderr",
     "output_type": "stream",
     "text": [
      "C:\\Users\\9140\\AppData\\Local\\Temp\\ipykernel_12948\\3282100434.py:2: FutureWarning: The frame.append method is deprecated and will be removed from pandas in a future version. Use pandas.concat instead.\n",
      "  resultados=resultados.append(comprobador(a))\n"
     ]
    },
    {
     "name": "stdout",
     "output_type": "stream",
     "text": [
      "Si está el campo personalizado para la URL 'https://online.universidadeuropea.com/maestria-oficial-salud-publica/'\n"
     ]
    },
    {
     "name": "stderr",
     "output_type": "stream",
     "text": [
      "C:\\Users\\9140\\AppData\\Local\\Temp\\ipykernel_12948\\3282100434.py:2: FutureWarning: The frame.append method is deprecated and will be removed from pandas in a future version. Use pandas.concat instead.\n",
      "  resultados=resultados.append(comprobador(a))\n"
     ]
    },
    {
     "name": "stdout",
     "output_type": "stream",
     "text": [
      "Si está el campo personalizado para la URL 'https://estudiar.universidadeuropea.com/grado-superior-dietetica-landingdual/'\n"
     ]
    },
    {
     "name": "stderr",
     "output_type": "stream",
     "text": [
      "C:\\Users\\9140\\AppData\\Local\\Temp\\ipykernel_12948\\3282100434.py:2: FutureWarning: The frame.append method is deprecated and will be removed from pandas in a future version. Use pandas.concat instead.\n",
      "  resultados=resultados.append(comprobador(a))\n"
     ]
    },
    {
     "name": "stdout",
     "output_type": "stream",
     "text": [
      "Si está el campo personalizado para la URL 'https://estudiar.universidadeuropea.com/grado-superior-laboratorio-clinico-biomedico-landingdual/'\n"
     ]
    },
    {
     "name": "stderr",
     "output_type": "stream",
     "text": [
      "C:\\Users\\9140\\AppData\\Local\\Temp\\ipykernel_12948\\3282100434.py:2: FutureWarning: The frame.append method is deprecated and will be removed from pandas in a future version. Use pandas.concat instead.\n",
      "  resultados=resultados.append(comprobador(a))\n"
     ]
    },
    {
     "name": "stdout",
     "output_type": "stream",
     "text": [
      "Si está el campo personalizado para la URL 'https://estudiar.universidadeuropea.com/grado-superior-imagen-diagnostico-medicina-nuclear-landingdual/'\n"
     ]
    },
    {
     "name": "stderr",
     "output_type": "stream",
     "text": [
      "C:\\Users\\9140\\AppData\\Local\\Temp\\ipykernel_12948\\3282100434.py:2: FutureWarning: The frame.append method is deprecated and will be removed from pandas in a future version. Use pandas.concat instead.\n",
      "  resultados=resultados.append(comprobador(a))\n"
     ]
    },
    {
     "name": "stdout",
     "output_type": "stream",
     "text": [
      "Si está el campo personalizado para la URL 'https://online.universidadeuropea.com/master-creacion-firmas-juridicas-online/'\n"
     ]
    },
    {
     "name": "stderr",
     "output_type": "stream",
     "text": [
      "C:\\Users\\9140\\AppData\\Local\\Temp\\ipykernel_12948\\3282100434.py:2: FutureWarning: The frame.append method is deprecated and will be removed from pandas in a future version. Use pandas.concat instead.\n",
      "  resultados=resultados.append(comprobador(a))\n"
     ]
    },
    {
     "name": "stdout",
     "output_type": "stream",
     "text": [
      "Si está el campo personalizado para la URL 'https://estudiar.universidadeuropea.com/en/bartlett-summer-workshop-2022/'\n"
     ]
    },
    {
     "name": "stderr",
     "output_type": "stream",
     "text": [
      "C:\\Users\\9140\\AppData\\Local\\Temp\\ipykernel_12948\\3282100434.py:2: FutureWarning: The frame.append method is deprecated and will be removed from pandas in a future version. Use pandas.concat instead.\n",
      "  resultados=resultados.append(comprobador(a))\n"
     ]
    },
    {
     "name": "stdout",
     "output_type": "stream",
     "text": [
      "Si está el campo personalizado para la URL 'https://online.universidadeuropea.com/master-universitario-matematica-aplicada-ingenieria-computacion/'\n"
     ]
    },
    {
     "name": "stderr",
     "output_type": "stream",
     "text": [
      "C:\\Users\\9140\\AppData\\Local\\Temp\\ipykernel_12948\\3282100434.py:2: FutureWarning: The frame.append method is deprecated and will be removed from pandas in a future version. Use pandas.concat instead.\n",
      "  resultados=resultados.append(comprobador(a))\n"
     ]
    },
    {
     "name": "stdout",
     "output_type": "stream",
     "text": [
      "Si está el campo personalizado para la URL 'https://online.universidadeuropea.com/master-desarrollo-web-aplicaciones-online/'\n"
     ]
    },
    {
     "name": "stderr",
     "output_type": "stream",
     "text": [
      "C:\\Users\\9140\\AppData\\Local\\Temp\\ipykernel_12948\\3282100434.py:2: FutureWarning: The frame.append method is deprecated and will be removed from pandas in a future version. Use pandas.concat instead.\n",
      "  resultados=resultados.append(comprobador(a))\n"
     ]
    },
    {
     "name": "stdout",
     "output_type": "stream",
     "text": [
      "Si está el campo personalizado para la URL 'https://online.universidadeuropea.com/master-animacion-3d-online/'\n"
     ]
    },
    {
     "name": "stderr",
     "output_type": "stream",
     "text": [
      "C:\\Users\\9140\\AppData\\Local\\Temp\\ipykernel_12948\\3282100434.py:2: FutureWarning: The frame.append method is deprecated and will be removed from pandas in a future version. Use pandas.concat instead.\n",
      "  resultados=resultados.append(comprobador(a))\n"
     ]
    },
    {
     "name": "stdout",
     "output_type": "stream",
     "text": [
      "Si está el campo personalizado para la URL 'https://online-ecuador.universidadeuropea.com/maestria-matematica-aplicada-ingenieria-computacion/'\n"
     ]
    },
    {
     "name": "stderr",
     "output_type": "stream",
     "text": [
      "C:\\Users\\9140\\AppData\\Local\\Temp\\ipykernel_12948\\3282100434.py:2: FutureWarning: The frame.append method is deprecated and will be removed from pandas in a future version. Use pandas.concat instead.\n",
      "  resultados=resultados.append(comprobador(a))\n"
     ]
    },
    {
     "name": "stdout",
     "output_type": "stream",
     "text": [
      "Si está el campo personalizado para la URL 'https://online-colombia.universidadeuropea.com/maestria-matematica-aplicada-ingenieria-computacion/'\n"
     ]
    },
    {
     "name": "stderr",
     "output_type": "stream",
     "text": [
      "C:\\Users\\9140\\AppData\\Local\\Temp\\ipykernel_12948\\3282100434.py:2: FutureWarning: The frame.append method is deprecated and will be removed from pandas in a future version. Use pandas.concat instead.\n",
      "  resultados=resultados.append(comprobador(a))\n"
     ]
    },
    {
     "name": "stdout",
     "output_type": "stream",
     "text": [
      "Si está el campo personalizado para la URL 'https://online.universidadeuropea.com/experto-universitario-rehabilitacion-energetica-edificios-online/'\n"
     ]
    },
    {
     "name": "stderr",
     "output_type": "stream",
     "text": [
      "C:\\Users\\9140\\AppData\\Local\\Temp\\ipykernel_12948\\3282100434.py:2: FutureWarning: The frame.append method is deprecated and will be removed from pandas in a future version. Use pandas.concat instead.\n",
      "  resultados=resultados.append(comprobador(a))\n"
     ]
    },
    {
     "name": "stdout",
     "output_type": "stream",
     "text": [
      "Si está el campo personalizado para la URL 'https://online-ecuador.universidadeuropea.com/maestria-transformacion-digital/'\n"
     ]
    },
    {
     "name": "stderr",
     "output_type": "stream",
     "text": [
      "C:\\Users\\9140\\AppData\\Local\\Temp\\ipykernel_12948\\3282100434.py:2: FutureWarning: The frame.append method is deprecated and will be removed from pandas in a future version. Use pandas.concat instead.\n",
      "  resultados=resultados.append(comprobador(a))\n"
     ]
    },
    {
     "name": "stdout",
     "output_type": "stream",
     "text": [
      "Si está el campo personalizado para la URL 'https://online-colombia.universidadeuropea.com/maestria-transformacion-digital/'\n"
     ]
    },
    {
     "name": "stderr",
     "output_type": "stream",
     "text": [
      "C:\\Users\\9140\\AppData\\Local\\Temp\\ipykernel_12948\\3282100434.py:2: FutureWarning: The frame.append method is deprecated and will be removed from pandas in a future version. Use pandas.concat instead.\n",
      "  resultados=resultados.append(comprobador(a))\n"
     ]
    },
    {
     "name": "stdout",
     "output_type": "stream",
     "text": [
      "Si está el campo personalizado para la URL 'https://online-colombia.universidadeuropea.com/maestria-gestion-investigacion-clinica-en-linea/'\n"
     ]
    },
    {
     "name": "stderr",
     "output_type": "stream",
     "text": [
      "C:\\Users\\9140\\AppData\\Local\\Temp\\ipykernel_12948\\3282100434.py:2: FutureWarning: The frame.append method is deprecated and will be removed from pandas in a future version. Use pandas.concat instead.\n",
      "  resultados=resultados.append(comprobador(a))\n"
     ]
    },
    {
     "name": "stdout",
     "output_type": "stream",
     "text": [
      "Si está el campo personalizado para la URL 'https://online.universidadeuropea.com/maestria-gestion-investigacion-clinica-en-linea/'\n"
     ]
    },
    {
     "name": "stderr",
     "output_type": "stream",
     "text": [
      "C:\\Users\\9140\\AppData\\Local\\Temp\\ipykernel_12948\\3282100434.py:2: FutureWarning: The frame.append method is deprecated and will be removed from pandas in a future version. Use pandas.concat instead.\n",
      "  resultados=resultados.append(comprobador(a))\n"
     ]
    },
    {
     "name": "stdout",
     "output_type": "stream",
     "text": [
      "Si está el campo personalizado para la URL 'https://online.universidadeuropea.com/master-internet-de-las-cosas-online/'\n"
     ]
    },
    {
     "name": "stderr",
     "output_type": "stream",
     "text": [
      "C:\\Users\\9140\\AppData\\Local\\Temp\\ipykernel_12948\\3282100434.py:2: FutureWarning: The frame.append method is deprecated and will be removed from pandas in a future version. Use pandas.concat instead.\n",
      "  resultados=resultados.append(comprobador(a))\n"
     ]
    },
    {
     "name": "stdout",
     "output_type": "stream",
     "text": [
      "Si está el campo personalizado para la URL 'https://online-ecuador.universidadeuropea.com/diplomado-rehabilitacion-energetica-edificios-online/'\n"
     ]
    },
    {
     "name": "stderr",
     "output_type": "stream",
     "text": [
      "C:\\Users\\9140\\AppData\\Local\\Temp\\ipykernel_12948\\3282100434.py:2: FutureWarning: The frame.append method is deprecated and will be removed from pandas in a future version. Use pandas.concat instead.\n",
      "  resultados=resultados.append(comprobador(a))\n"
     ]
    },
    {
     "name": "stdout",
     "output_type": "stream",
     "text": [
      "Si está el campo personalizado para la URL 'https://online-colombia.universidadeuropea.com/experto-universitario-rehabilitacion-energetica-edificios-online/'\n"
     ]
    },
    {
     "name": "stderr",
     "output_type": "stream",
     "text": [
      "C:\\Users\\9140\\AppData\\Local\\Temp\\ipykernel_12948\\3282100434.py:2: FutureWarning: The frame.append method is deprecated and will be removed from pandas in a future version. Use pandas.concat instead.\n",
      "  resultados=resultados.append(comprobador(a))\n"
     ]
    },
    {
     "name": "stdout",
     "output_type": "stream",
     "text": [
      "No está el campo personalizado para la URL 'https://estudiar.universidadeuropea.com/fr/licensesante/'\n"
     ]
    },
    {
     "name": "stderr",
     "output_type": "stream",
     "text": [
      "C:\\Users\\9140\\AppData\\Local\\Temp\\ipykernel_12948\\3282100434.py:2: FutureWarning: The frame.append method is deprecated and will be removed from pandas in a future version. Use pandas.concat instead.\n",
      "  resultados=resultados.append(comprobador(a))\n"
     ]
    },
    {
     "name": "stdout",
     "output_type": "stream",
     "text": [
      "Si está el campo personalizado para la URL 'https://online.universidadeuropea.com/maestria-oficial-didactica-lengua-peru/'\n"
     ]
    },
    {
     "name": "stderr",
     "output_type": "stream",
     "text": [
      "C:\\Users\\9140\\AppData\\Local\\Temp\\ipykernel_12948\\3282100434.py:2: FutureWarning: The frame.append method is deprecated and will be removed from pandas in a future version. Use pandas.concat instead.\n",
      "  resultados=resultados.append(comprobador(a))\n"
     ]
    },
    {
     "name": "stdout",
     "output_type": "stream",
     "text": [
      "Si está el campo personalizado para la URL 'https://online.universidadeuropea.com/maestria-oficial-organizacion-direccion-centros-docentes-en-linea-peru/'\n"
     ]
    },
    {
     "name": "stderr",
     "output_type": "stream",
     "text": [
      "C:\\Users\\9140\\AppData\\Local\\Temp\\ipykernel_12948\\3282100434.py:2: FutureWarning: The frame.append method is deprecated and will be removed from pandas in a future version. Use pandas.concat instead.\n",
      "  resultados=resultados.append(comprobador(a))\n"
     ]
    },
    {
     "name": "stdout",
     "output_type": "stream",
     "text": [
      "No está el campo personalizado para la URL 'https://estudiar.universidadeuropea.com/fisica-que-no-te-cuentan-en-el-instituto/'\n"
     ]
    },
    {
     "name": "stderr",
     "output_type": "stream",
     "text": [
      "C:\\Users\\9140\\AppData\\Local\\Temp\\ipykernel_12948\\3282100434.py:2: FutureWarning: The frame.append method is deprecated and will be removed from pandas in a future version. Use pandas.concat instead.\n",
      "  resultados=resultados.append(comprobador(a))\n"
     ]
    },
    {
     "name": "stdout",
     "output_type": "stream",
     "text": [
      "Si está el campo personalizado para la URL 'https://online.universidadeuropea.com/master-prevencion-riesgos-laborales-online-canarias/'\n"
     ]
    },
    {
     "name": "stderr",
     "output_type": "stream",
     "text": [
      "C:\\Users\\9140\\AppData\\Local\\Temp\\ipykernel_12948\\3282100434.py:2: FutureWarning: The frame.append method is deprecated and will be removed from pandas in a future version. Use pandas.concat instead.\n",
      "  resultados=resultados.append(comprobador(a))\n"
     ]
    },
    {
     "name": "stdout",
     "output_type": "stream",
     "text": [
      "Si está el campo personalizado para la URL 'https://estudiar.universidadeuropea.com/todo-sobre-utilizacion-ecografia-fisioterapia/'\n"
     ]
    },
    {
     "name": "stderr",
     "output_type": "stream",
     "text": [
      "C:\\Users\\9140\\AppData\\Local\\Temp\\ipykernel_12948\\3282100434.py:2: FutureWarning: The frame.append method is deprecated and will be removed from pandas in a future version. Use pandas.concat instead.\n",
      "  resultados=resultados.append(comprobador(a))\n"
     ]
    },
    {
     "name": "stdout",
     "output_type": "stream",
     "text": [
      "No está el campo personalizado para la URL 'https://online.universidadeuropea.com/jornadas-puertas-abiertas-formacion-profesional-grados-superiores/'\n"
     ]
    },
    {
     "name": "stderr",
     "output_type": "stream",
     "text": [
      "C:\\Users\\9140\\AppData\\Local\\Temp\\ipykernel_12948\\3282100434.py:2: FutureWarning: The frame.append method is deprecated and will be removed from pandas in a future version. Use pandas.concat instead.\n",
      "  resultados=resultados.append(comprobador(a))\n"
     ]
    },
    {
     "name": "stdout",
     "output_type": "stream",
     "text": [
      "No está el campo personalizado para la URL 'https://universidadeuropea.com/it/universita-europea/'\n"
     ]
    },
    {
     "name": "stderr",
     "output_type": "stream",
     "text": [
      "C:\\Users\\9140\\AppData\\Local\\Temp\\ipykernel_12948\\3282100434.py:2: FutureWarning: The frame.append method is deprecated and will be removed from pandas in a future version. Use pandas.concat instead.\n",
      "  resultados=resultados.append(comprobador(a))\n"
     ]
    },
    {
     "name": "stdout",
     "output_type": "stream",
     "text": [
      "No está el campo personalizado para la URL 'https://universidadeuropea.com/fr/universite-europeennne  '\n"
     ]
    },
    {
     "name": "stderr",
     "output_type": "stream",
     "text": [
      "C:\\Users\\9140\\AppData\\Local\\Temp\\ipykernel_12948\\3282100434.py:2: FutureWarning: The frame.append method is deprecated and will be removed from pandas in a future version. Use pandas.concat instead.\n",
      "  resultados=resultados.append(comprobador(a))\n"
     ]
    },
    {
     "name": "stdout",
     "output_type": "stream",
     "text": [
      "Si está el campo personalizado para la URL 'https://online.universidadeuropea.com/grado-ingenieria-ciberseguridad-online/'\n"
     ]
    },
    {
     "name": "stderr",
     "output_type": "stream",
     "text": [
      "C:\\Users\\9140\\AppData\\Local\\Temp\\ipykernel_12948\\3282100434.py:2: FutureWarning: The frame.append method is deprecated and will be removed from pandas in a future version. Use pandas.concat instead.\n",
      "  resultados=resultados.append(comprobador(a))\n"
     ]
    },
    {
     "name": "stdout",
     "output_type": "stream",
     "text": [
      "Si está el campo personalizado para la URL 'https://estudiar.universidadeuropea.com/colectivos-grados-deportes/'\n"
     ]
    },
    {
     "name": "stderr",
     "output_type": "stream",
     "text": [
      "C:\\Users\\9140\\AppData\\Local\\Temp\\ipykernel_12948\\3282100434.py:2: FutureWarning: The frame.append method is deprecated and will be removed from pandas in a future version. Use pandas.concat instead.\n",
      "  resultados=resultados.append(comprobador(a))\n"
     ]
    },
    {
     "name": "stdout",
     "output_type": "stream",
     "text": [
      "Si está el campo personalizado para la URL 'https://online-ecuador.universidadeuropea.com/maestria-fiscalidad-internacional-en-linea/'\n"
     ]
    },
    {
     "name": "stderr",
     "output_type": "stream",
     "text": [
      "C:\\Users\\9140\\AppData\\Local\\Temp\\ipykernel_12948\\3282100434.py:2: FutureWarning: The frame.append method is deprecated and will be removed from pandas in a future version. Use pandas.concat instead.\n",
      "  resultados=resultados.append(comprobador(a))\n"
     ]
    },
    {
     "name": "stdout",
     "output_type": "stream",
     "text": [
      "Si está el campo personalizado para la URL 'https://online-colombia.universidadeuropea.com/maestria-fiscalidad-internacional-en-linea/'\n"
     ]
    },
    {
     "name": "stderr",
     "output_type": "stream",
     "text": [
      "C:\\Users\\9140\\AppData\\Local\\Temp\\ipykernel_12948\\3282100434.py:2: FutureWarning: The frame.append method is deprecated and will be removed from pandas in a future version. Use pandas.concat instead.\n",
      "  resultados=resultados.append(comprobador(a))\n"
     ]
    },
    {
     "name": "stdout",
     "output_type": "stream",
     "text": [
      "Si está el campo personalizado para la URL 'https://online.universidadeuropea.com/maestria-fiscalidad-internacional-en-linea/'\n"
     ]
    },
    {
     "name": "stderr",
     "output_type": "stream",
     "text": [
      "C:\\Users\\9140\\AppData\\Local\\Temp\\ipykernel_12948\\3282100434.py:2: FutureWarning: The frame.append method is deprecated and will be removed from pandas in a future version. Use pandas.concat instead.\n",
      "  resultados=resultados.append(comprobador(a))\n"
     ]
    },
    {
     "name": "stdout",
     "output_type": "stream",
     "text": [
      "Si está el campo personalizado para la URL 'https://online.universidadeuropea.com/area-ingenieria-en-linea-latam/'\n"
     ]
    },
    {
     "name": "stderr",
     "output_type": "stream",
     "text": [
      "C:\\Users\\9140\\AppData\\Local\\Temp\\ipykernel_12948\\3282100434.py:2: FutureWarning: The frame.append method is deprecated and will be removed from pandas in a future version. Use pandas.concat instead.\n",
      "  resultados=resultados.append(comprobador(a))\n"
     ]
    },
    {
     "name": "stdout",
     "output_type": "stream",
     "text": [
      "Si está el campo personalizado para la URL 'https://online.universidadeuropea.com/area-grados-steam/'\n"
     ]
    },
    {
     "name": "stderr",
     "output_type": "stream",
     "text": [
      "C:\\Users\\9140\\AppData\\Local\\Temp\\ipykernel_12948\\3282100434.py:2: FutureWarning: The frame.append method is deprecated and will be removed from pandas in a future version. Use pandas.concat instead.\n",
      "  resultados=resultados.append(comprobador(a))\n"
     ]
    },
    {
     "name": "stdout",
     "output_type": "stream",
     "text": [
      "Si está el campo personalizado para la URL 'https://online.universidadeuropea.com/master-diseno-videojuegos-online/'\n"
     ]
    },
    {
     "name": "stderr",
     "output_type": "stream",
     "text": [
      "C:\\Users\\9140\\AppData\\Local\\Temp\\ipykernel_12948\\3282100434.py:2: FutureWarning: The frame.append method is deprecated and will be removed from pandas in a future version. Use pandas.concat instead.\n",
      "  resultados=resultados.append(comprobador(a))\n"
     ]
    },
    {
     "name": "stdout",
     "output_type": "stream",
     "text": [
      "Si está el campo personalizado para la URL 'https://online.universidadeuropea.com/maestria-innovacion-educativa-online-peru/'\n"
     ]
    },
    {
     "name": "stderr",
     "output_type": "stream",
     "text": [
      "C:\\Users\\9140\\AppData\\Local\\Temp\\ipykernel_12948\\3282100434.py:2: FutureWarning: The frame.append method is deprecated and will be removed from pandas in a future version. Use pandas.concat instead.\n",
      "  resultados=resultados.append(comprobador(a))\n"
     ]
    },
    {
     "name": "stdout",
     "output_type": "stream",
     "text": [
      "Si está el campo personalizado para la URL 'https://online.universidadeuropea.com/maestria-marketing-peru/'\n"
     ]
    },
    {
     "name": "stderr",
     "output_type": "stream",
     "text": [
      "C:\\Users\\9140\\AppData\\Local\\Temp\\ipykernel_12948\\3282100434.py:2: FutureWarning: The frame.append method is deprecated and will be removed from pandas in a future version. Use pandas.concat instead.\n",
      "  resultados=resultados.append(comprobador(a))\n"
     ]
    },
    {
     "name": "stdout",
     "output_type": "stream",
     "text": [
      "Si está el campo personalizado para la URL 'https://online.universidadeuropea.com/maestria-oficial-en-direccion-comercial-ventas-peru/'\n"
     ]
    },
    {
     "name": "stderr",
     "output_type": "stream",
     "text": [
      "C:\\Users\\9140\\AppData\\Local\\Temp\\ipykernel_12948\\3282100434.py:2: FutureWarning: The frame.append method is deprecated and will be removed from pandas in a future version. Use pandas.concat instead.\n",
      "  resultados=resultados.append(comprobador(a))\n"
     ]
    },
    {
     "name": "stdout",
     "output_type": "stream",
     "text": [
      "Si está el campo personalizado para la URL 'https://online.universidadeuropea.com/maestria-oficial-en-direccion-gestion-financiera-peru/'\n"
     ]
    },
    {
     "name": "stderr",
     "output_type": "stream",
     "text": [
      "C:\\Users\\9140\\AppData\\Local\\Temp\\ipykernel_12948\\3282100434.py:2: FutureWarning: The frame.append method is deprecated and will be removed from pandas in a future version. Use pandas.concat instead.\n",
      "  resultados=resultados.append(comprobador(a))\n"
     ]
    },
    {
     "name": "stdout",
     "output_type": "stream",
     "text": [
      "Si está el campo personalizado para la URL 'https://online.universidadeuropea.com/maestria-asesoria-juridica-empresas-online-peru/'\n"
     ]
    },
    {
     "name": "stderr",
     "output_type": "stream",
     "text": [
      "C:\\Users\\9140\\AppData\\Local\\Temp\\ipykernel_12948\\3282100434.py:2: FutureWarning: The frame.append method is deprecated and will be removed from pandas in a future version. Use pandas.concat instead.\n",
      "  resultados=resultados.append(comprobador(a))\n"
     ]
    },
    {
     "name": "stdout",
     "output_type": "stream",
     "text": [
      "Si está el campo personalizado para la URL 'https://online.universidadeuropea.com/maestria-oficial-diseno-videojuegos-virtual-latam/'\n"
     ]
    },
    {
     "name": "stderr",
     "output_type": "stream",
     "text": [
      "C:\\Users\\9140\\AppData\\Local\\Temp\\ipykernel_12948\\3282100434.py:2: FutureWarning: The frame.append method is deprecated and will be removed from pandas in a future version. Use pandas.concat instead.\n",
      "  resultados=resultados.append(comprobador(a))\n"
     ]
    },
    {
     "name": "stdout",
     "output_type": "stream",
     "text": [
      "Si está el campo personalizado para la URL 'https://online-ecuador.universidadeuropea.com/maestria-oficial-diseno-videojuegos-virtual/'\n"
     ]
    },
    {
     "name": "stderr",
     "output_type": "stream",
     "text": [
      "C:\\Users\\9140\\AppData\\Local\\Temp\\ipykernel_12948\\3282100434.py:2: FutureWarning: The frame.append method is deprecated and will be removed from pandas in a future version. Use pandas.concat instead.\n",
      "  resultados=resultados.append(comprobador(a))\n"
     ]
    },
    {
     "name": "stdout",
     "output_type": "stream",
     "text": [
      "Si está el campo personalizado para la URL 'https://online-colombia.universidadeuropea.com/maestria-oficial-diseno-videojuegos-virtual/'\n"
     ]
    },
    {
     "name": "stderr",
     "output_type": "stream",
     "text": [
      "C:\\Users\\9140\\AppData\\Local\\Temp\\ipykernel_12948\\3282100434.py:2: FutureWarning: The frame.append method is deprecated and will be removed from pandas in a future version. Use pandas.concat instead.\n",
      "  resultados=resultados.append(comprobador(a))\n"
     ]
    },
    {
     "name": "stdout",
     "output_type": "stream",
     "text": [
      "Si está el campo personalizado para la URL 'https://online.universidadeuropea.com/curso-javascript-online/'\n"
     ]
    },
    {
     "name": "stderr",
     "output_type": "stream",
     "text": [
      "C:\\Users\\9140\\AppData\\Local\\Temp\\ipykernel_12948\\3282100434.py:2: FutureWarning: The frame.append method is deprecated and will be removed from pandas in a future version. Use pandas.concat instead.\n",
      "  resultados=resultados.append(comprobador(a))\n"
     ]
    },
    {
     "name": "stdout",
     "output_type": "stream",
     "text": [
      "No está el campo personalizado para la URL 'https://estudiar.universidadeuropea.com/jornadas-puertas-abiertas-valencia/'\n"
     ]
    },
    {
     "name": "stderr",
     "output_type": "stream",
     "text": [
      "C:\\Users\\9140\\AppData\\Local\\Temp\\ipykernel_12948\\3282100434.py:2: FutureWarning: The frame.append method is deprecated and will be removed from pandas in a future version. Use pandas.concat instead.\n",
      "  resultados=resultados.append(comprobador(a))\n"
     ]
    },
    {
     "name": "stdout",
     "output_type": "stream",
     "text": [
      "Si está el campo personalizado para la URL 'https://online-colombia.universidadeuropea.com/maestria-animacion-3d-en-linea/'\n"
     ]
    },
    {
     "name": "stderr",
     "output_type": "stream",
     "text": [
      "C:\\Users\\9140\\AppData\\Local\\Temp\\ipykernel_12948\\3282100434.py:2: FutureWarning: The frame.append method is deprecated and will be removed from pandas in a future version. Use pandas.concat instead.\n",
      "  resultados=resultados.append(comprobador(a))\n"
     ]
    },
    {
     "name": "stdout",
     "output_type": "stream",
     "text": [
      "Si está el campo personalizado para la URL 'https://online-colombia.universidadeuropea.com/maestria-desarrollo-web-aplicaciones-en-linea/'\n"
     ]
    },
    {
     "name": "stderr",
     "output_type": "stream",
     "text": [
      "C:\\Users\\9140\\AppData\\Local\\Temp\\ipykernel_12948\\3282100434.py:2: FutureWarning: The frame.append method is deprecated and will be removed from pandas in a future version. Use pandas.concat instead.\n",
      "  resultados=resultados.append(comprobador(a))\n"
     ]
    },
    {
     "name": "stdout",
     "output_type": "stream",
     "text": [
      "Si está el campo personalizado para la URL 'https://online-ecuador.universidadeuropea.com/diplomado-universitario-peritaje-informatico-en-linea/'\n"
     ]
    },
    {
     "name": "stderr",
     "output_type": "stream",
     "text": [
      "C:\\Users\\9140\\AppData\\Local\\Temp\\ipykernel_12948\\3282100434.py:2: FutureWarning: The frame.append method is deprecated and will be removed from pandas in a future version. Use pandas.concat instead.\n",
      "  resultados=resultados.append(comprobador(a))\n"
     ]
    },
    {
     "name": "stdout",
     "output_type": "stream",
     "text": [
      "Si está el campo personalizado para la URL 'https://online-colombia.universidadeuropea.com/diplomado-universitario-peritaje-informatico-en-linea/'\n"
     ]
    },
    {
     "name": "stderr",
     "output_type": "stream",
     "text": [
      "C:\\Users\\9140\\AppData\\Local\\Temp\\ipykernel_12948\\3282100434.py:2: FutureWarning: The frame.append method is deprecated and will be removed from pandas in a future version. Use pandas.concat instead.\n",
      "  resultados=resultados.append(comprobador(a))\n"
     ]
    },
    {
     "name": "stdout",
     "output_type": "stream",
     "text": [
      "Si está el campo personalizado para la URL 'https://online-ecuador.universidadeuropea.com/maestria-internet-de-las-cosas-en-linea/'\n"
     ]
    },
    {
     "name": "stderr",
     "output_type": "stream",
     "text": [
      "C:\\Users\\9140\\AppData\\Local\\Temp\\ipykernel_12948\\3282100434.py:2: FutureWarning: The frame.append method is deprecated and will be removed from pandas in a future version. Use pandas.concat instead.\n",
      "  resultados=resultados.append(comprobador(a))\n"
     ]
    },
    {
     "name": "stdout",
     "output_type": "stream",
     "text": [
      "Si está el campo personalizado para la URL 'https://online-colombia.universidadeuropea.com/maestria-internet-de-las-cosas-en-linea/'\n"
     ]
    },
    {
     "name": "stderr",
     "output_type": "stream",
     "text": [
      "C:\\Users\\9140\\AppData\\Local\\Temp\\ipykernel_12948\\3282100434.py:2: FutureWarning: The frame.append method is deprecated and will be removed from pandas in a future version. Use pandas.concat instead.\n",
      "  resultados=resultados.append(comprobador(a))\n"
     ]
    },
    {
     "name": "stdout",
     "output_type": "stream",
     "text": [
      "Si está el campo personalizado para la URL 'https://online.universidadeuropea.com/maestria-oficial-negocios-digitales-en-linea-peru/'\n"
     ]
    },
    {
     "name": "stderr",
     "output_type": "stream",
     "text": [
      "C:\\Users\\9140\\AppData\\Local\\Temp\\ipykernel_12948\\3282100434.py:2: FutureWarning: The frame.append method is deprecated and will be removed from pandas in a future version. Use pandas.concat instead.\n",
      "  resultados=resultados.append(comprobador(a))\n"
     ]
    },
    {
     "name": "stdout",
     "output_type": "stream",
     "text": [
      "Si está el campo personalizado para la URL 'https://online-ecuador.universidadeuropea.com/becas-globo-comun/'\n"
     ]
    },
    {
     "name": "stderr",
     "output_type": "stream",
     "text": [
      "C:\\Users\\9140\\AppData\\Local\\Temp\\ipykernel_12948\\3282100434.py:2: FutureWarning: The frame.append method is deprecated and will be removed from pandas in a future version. Use pandas.concat instead.\n",
      "  resultados=resultados.append(comprobador(a))\n"
     ]
    },
    {
     "name": "stdout",
     "output_type": "stream",
     "text": [
      "Si está el campo personalizado para la URL 'https://online.universidadeuropea.com/maestria-oficial-derecho-ambiental-en-linea-peru/'\n"
     ]
    },
    {
     "name": "stderr",
     "output_type": "stream",
     "text": [
      "C:\\Users\\9140\\AppData\\Local\\Temp\\ipykernel_12948\\3282100434.py:2: FutureWarning: The frame.append method is deprecated and will be removed from pandas in a future version. Use pandas.concat instead.\n",
      "  resultados=resultados.append(comprobador(a))\n"
     ]
    },
    {
     "name": "stdout",
     "output_type": "stream",
     "text": [
      "Si está el campo personalizado para la URL 'https://online.universidadeuropea.com/maestria-oficial-criminologia-aplicada-en-linea-peru/'\n"
     ]
    },
    {
     "name": "stderr",
     "output_type": "stream",
     "text": [
      "C:\\Users\\9140\\AppData\\Local\\Temp\\ipykernel_12948\\3282100434.py:2: FutureWarning: The frame.append method is deprecated and will be removed from pandas in a future version. Use pandas.concat instead.\n",
      "  resultados=resultados.append(comprobador(a))\n"
     ]
    },
    {
     "name": "stdout",
     "output_type": "stream",
     "text": [
      "Si está el campo personalizado para la URL 'https://online.universidadeuropea.com/maestria-oficial-seguridad-defensa-en-linea-peru/'\n"
     ]
    },
    {
     "name": "stderr",
     "output_type": "stream",
     "text": [
      "C:\\Users\\9140\\AppData\\Local\\Temp\\ipykernel_12948\\3282100434.py:2: FutureWarning: The frame.append method is deprecated and will be removed from pandas in a future version. Use pandas.concat instead.\n",
      "  resultados=resultados.append(comprobador(a))\n"
     ]
    },
    {
     "name": "stdout",
     "output_type": "stream",
     "text": [
      "Si está el campo personalizado para la URL 'https://online.universidadeuropea.com/maestria-oficial-derechos-humanos-peru/'\n"
     ]
    },
    {
     "name": "stderr",
     "output_type": "stream",
     "text": [
      "C:\\Users\\9140\\AppData\\Local\\Temp\\ipykernel_12948\\3282100434.py:2: FutureWarning: The frame.append method is deprecated and will be removed from pandas in a future version. Use pandas.concat instead.\n",
      "  resultados=resultados.append(comprobador(a))\n"
     ]
    },
    {
     "name": "stdout",
     "output_type": "stream",
     "text": [
      "Si está el campo personalizado para la URL 'https://online.universidadeuropea.com/maestria-oficial-gestion-negocio-maritimo-derecho-maritimo-peru/'\n"
     ]
    },
    {
     "name": "stderr",
     "output_type": "stream",
     "text": [
      "C:\\Users\\9140\\AppData\\Local\\Temp\\ipykernel_12948\\3282100434.py:2: FutureWarning: The frame.append method is deprecated and will be removed from pandas in a future version. Use pandas.concat instead.\n",
      "  resultados=resultados.append(comprobador(a))\n"
     ]
    },
    {
     "name": "stdout",
     "output_type": "stream",
     "text": [
      "Si está el campo personalizado para la URL 'https://online.universidadeuropea.com/maestria-mediacion-online-peru/'\n"
     ]
    },
    {
     "name": "stderr",
     "output_type": "stream",
     "text": [
      "C:\\Users\\9140\\AppData\\Local\\Temp\\ipykernel_12948\\3282100434.py:2: FutureWarning: The frame.append method is deprecated and will be removed from pandas in a future version. Use pandas.concat instead.\n",
      "  resultados=resultados.append(comprobador(a))\n"
     ]
    },
    {
     "name": "stdout",
     "output_type": "stream",
     "text": [
      "Si está el campo personalizado para la URL 'https://online.universidadeuropea.com/masters-online-idiomas/'\n"
     ]
    },
    {
     "name": "stderr",
     "output_type": "stream",
     "text": [
      "C:\\Users\\9140\\AppData\\Local\\Temp\\ipykernel_12948\\3282100434.py:2: FutureWarning: The frame.append method is deprecated and will be removed from pandas in a future version. Use pandas.concat instead.\n",
      "  resultados=resultados.append(comprobador(a))\n"
     ]
    },
    {
     "name": "stdout",
     "output_type": "stream",
     "text": [
      "Si está el campo personalizado para la URL 'https://online.universidadeuropea.com/maestriasenlinea/'\n"
     ]
    },
    {
     "name": "stderr",
     "output_type": "stream",
     "text": [
      "C:\\Users\\9140\\AppData\\Local\\Temp\\ipykernel_12948\\3282100434.py:2: FutureWarning: The frame.append method is deprecated and will be removed from pandas in a future version. Use pandas.concat instead.\n",
      "  resultados=resultados.append(comprobador(a))\n"
     ]
    },
    {
     "name": "stdout",
     "output_type": "stream",
     "text": [
      "Si está el campo personalizado para la URL 'https://online.universidadeuropea.com/becas-oea-ecuador/'\n"
     ]
    },
    {
     "name": "stderr",
     "output_type": "stream",
     "text": [
      "C:\\Users\\9140\\AppData\\Local\\Temp\\ipykernel_12948\\3282100434.py:2: FutureWarning: The frame.append method is deprecated and will be removed from pandas in a future version. Use pandas.concat instead.\n",
      "  resultados=resultados.append(comprobador(a))\n"
     ]
    },
    {
     "name": "stdout",
     "output_type": "stream",
     "text": [
      "Si está el campo personalizado para la URL 'https://online.universidadeuropea.com/becas-oea-colombia/'\n"
     ]
    },
    {
     "name": "stderr",
     "output_type": "stream",
     "text": [
      "C:\\Users\\9140\\AppData\\Local\\Temp\\ipykernel_12948\\3282100434.py:2: FutureWarning: The frame.append method is deprecated and will be removed from pandas in a future version. Use pandas.concat instead.\n",
      "  resultados=resultados.append(comprobador(a))\n"
     ]
    },
    {
     "name": "stdout",
     "output_type": "stream",
     "text": [
      "Si está el campo personalizado para la URL 'https://online.universidadeuropea.com/becas-oea-peru/'\n"
     ]
    },
    {
     "name": "stderr",
     "output_type": "stream",
     "text": [
      "C:\\Users\\9140\\AppData\\Local\\Temp\\ipykernel_12948\\3282100434.py:2: FutureWarning: The frame.append method is deprecated and will be removed from pandas in a future version. Use pandas.concat instead.\n",
      "  resultados=resultados.append(comprobador(a))\n"
     ]
    },
    {
     "name": "stdout",
     "output_type": "stream",
     "text": [
      "Si está el campo personalizado para la URL 'https://online.universidadeuropea.com/becas-oea-latinoamerica/'\n"
     ]
    },
    {
     "name": "stderr",
     "output_type": "stream",
     "text": [
      "C:\\Users\\9140\\AppData\\Local\\Temp\\ipykernel_12948\\3282100434.py:2: FutureWarning: The frame.append method is deprecated and will be removed from pandas in a future version. Use pandas.concat instead.\n",
      "  resultados=resultados.append(comprobador(a))\n"
     ]
    },
    {
     "name": "stdout",
     "output_type": "stream",
     "text": [
      "Si está el campo personalizado para la URL 'https://online.universidadeuropea.com/masters-online-innovacion/'\n"
     ]
    },
    {
     "name": "stderr",
     "output_type": "stream",
     "text": [
      "C:\\Users\\9140\\AppData\\Local\\Temp\\ipykernel_12948\\3282100434.py:2: FutureWarning: The frame.append method is deprecated and will be removed from pandas in a future version. Use pandas.concat instead.\n",
      "  resultados=resultados.append(comprobador(a))\n"
     ]
    },
    {
     "name": "stdout",
     "output_type": "stream",
     "text": [
      "Si está el campo personalizado para la URL 'https://online-ecuador.universidadeuropea.com/maestria-online-innovacion/'\n"
     ]
    },
    {
     "name": "stderr",
     "output_type": "stream",
     "text": [
      "C:\\Users\\9140\\AppData\\Local\\Temp\\ipykernel_12948\\3282100434.py:2: FutureWarning: The frame.append method is deprecated and will be removed from pandas in a future version. Use pandas.concat instead.\n",
      "  resultados=resultados.append(comprobador(a))\n"
     ]
    },
    {
     "name": "stdout",
     "output_type": "stream",
     "text": [
      "Si está el campo personalizado para la URL 'https://online-colombia.universidadeuropea.com/maestria-online-innovacion/'\n"
     ]
    },
    {
     "name": "stderr",
     "output_type": "stream",
     "text": [
      "C:\\Users\\9140\\AppData\\Local\\Temp\\ipykernel_12948\\3282100434.py:2: FutureWarning: The frame.append method is deprecated and will be removed from pandas in a future version. Use pandas.concat instead.\n",
      "  resultados=resultados.append(comprobador(a))\n"
     ]
    },
    {
     "name": "stdout",
     "output_type": "stream",
     "text": [
      "Si está el campo personalizado para la URL 'https://online.universidadeuropea.com/maestria-online-innovacion/'\n"
     ]
    },
    {
     "name": "stderr",
     "output_type": "stream",
     "text": [
      "C:\\Users\\9140\\AppData\\Local\\Temp\\ipykernel_12948\\3282100434.py:2: FutureWarning: The frame.append method is deprecated and will be removed from pandas in a future version. Use pandas.concat instead.\n",
      "  resultados=resultados.append(comprobador(a))\n"
     ]
    },
    {
     "name": "stdout",
     "output_type": "stream",
     "text": [
      "Si está el campo personalizado para la URL 'https://online.universidadeuropea.com/masters-online-tecnologias-innovacion-elearning/'\n"
     ]
    },
    {
     "name": "stderr",
     "output_type": "stream",
     "text": [
      "C:\\Users\\9140\\AppData\\Local\\Temp\\ipykernel_12948\\3282100434.py:2: FutureWarning: The frame.append method is deprecated and will be removed from pandas in a future version. Use pandas.concat instead.\n",
      "  resultados=resultados.append(comprobador(a))\n"
     ]
    },
    {
     "name": "stdout",
     "output_type": "stream",
     "text": [
      "Si está el campo personalizado para la URL 'https://online-ecuador.universidadeuropea.com/maestria-creacion-firmas-juridicas-en-linea/'\n"
     ]
    },
    {
     "name": "stderr",
     "output_type": "stream",
     "text": [
      "C:\\Users\\9140\\AppData\\Local\\Temp\\ipykernel_12948\\3282100434.py:2: FutureWarning: The frame.append method is deprecated and will be removed from pandas in a future version. Use pandas.concat instead.\n",
      "  resultados=resultados.append(comprobador(a))\n"
     ]
    },
    {
     "name": "stdout",
     "output_type": "stream",
     "text": [
      "Si está el campo personalizado para la URL 'https://online-colombia.universidadeuropea.com/maestria-creacion-firmas-juridicas-en-linea/'\n"
     ]
    },
    {
     "name": "stderr",
     "output_type": "stream",
     "text": [
      "C:\\Users\\9140\\AppData\\Local\\Temp\\ipykernel_12948\\3282100434.py:2: FutureWarning: The frame.append method is deprecated and will be removed from pandas in a future version. Use pandas.concat instead.\n",
      "  resultados=resultados.append(comprobador(a))\n"
     ]
    },
    {
     "name": "stdout",
     "output_type": "stream",
     "text": [
      "Si está el campo personalizado para la URL 'https://online.universidadeuropea.com/maestria-creacion-firmas-juridicas-en-linea-peru/'\n"
     ]
    },
    {
     "name": "stderr",
     "output_type": "stream",
     "text": [
      "C:\\Users\\9140\\AppData\\Local\\Temp\\ipykernel_12948\\3282100434.py:2: FutureWarning: The frame.append method is deprecated and will be removed from pandas in a future version. Use pandas.concat instead.\n",
      "  resultados=resultados.append(comprobador(a))\n"
     ]
    },
    {
     "name": "stdout",
     "output_type": "stream",
     "text": [
      "Si está el campo personalizado para la URL 'https://online.universidadeuropea.com/doble-grado-online-maestro-educacion-primaria-y-pedagogia/'\n"
     ]
    },
    {
     "name": "stderr",
     "output_type": "stream",
     "text": [
      "C:\\Users\\9140\\AppData\\Local\\Temp\\ipykernel_12948\\3282100434.py:2: FutureWarning: The frame.append method is deprecated and will be removed from pandas in a future version. Use pandas.concat instead.\n",
      "  resultados=resultados.append(comprobador(a))\n"
     ]
    },
    {
     "name": "stdout",
     "output_type": "stream",
     "text": [
      "Si está el campo personalizado para la URL 'https://online-colombia.universidadeuropea.com/maestria-diseno-grafico-en-linea/'\n"
     ]
    },
    {
     "name": "stderr",
     "output_type": "stream",
     "text": [
      "C:\\Users\\9140\\AppData\\Local\\Temp\\ipykernel_12948\\3282100434.py:2: FutureWarning: The frame.append method is deprecated and will be removed from pandas in a future version. Use pandas.concat instead.\n",
      "  resultados=resultados.append(comprobador(a))\n"
     ]
    },
    {
     "name": "stdout",
     "output_type": "stream",
     "text": [
      "Si está el campo personalizado para la URL 'https://online-colombia.universidadeuropea.com/maestria-oficial-sistemas-integrados-gestion/'\n"
     ]
    },
    {
     "name": "stderr",
     "output_type": "stream",
     "text": [
      "C:\\Users\\9140\\AppData\\Local\\Temp\\ipykernel_12948\\3282100434.py:2: FutureWarning: The frame.append method is deprecated and will be removed from pandas in a future version. Use pandas.concat instead.\n",
      "  resultados=resultados.append(comprobador(a))\n"
     ]
    },
    {
     "name": "stdout",
     "output_type": "stream",
     "text": [
      "Si está el campo personalizado para la URL 'https://online-colombia.universidadeuropea.com/maestria-oficial-ingenieria-de-organizacion-proyectos/'\n"
     ]
    },
    {
     "name": "stderr",
     "output_type": "stream",
     "text": [
      "C:\\Users\\9140\\AppData\\Local\\Temp\\ipykernel_12948\\3282100434.py:2: FutureWarning: The frame.append method is deprecated and will be removed from pandas in a future version. Use pandas.concat instead.\n",
      "  resultados=resultados.append(comprobador(a))\n"
     ]
    },
    {
     "name": "stdout",
     "output_type": "stream",
     "text": [
      "Si está el campo personalizado para la URL 'https://online-colombia.universidadeuropea.com/maestria-oficial-industria-40-en-linea/'\n"
     ]
    },
    {
     "name": "stderr",
     "output_type": "stream",
     "text": [
      "C:\\Users\\9140\\AppData\\Local\\Temp\\ipykernel_12948\\3282100434.py:2: FutureWarning: The frame.append method is deprecated and will be removed from pandas in a future version. Use pandas.concat instead.\n",
      "  resultados=resultados.append(comprobador(a))\n"
     ]
    },
    {
     "name": "stdout",
     "output_type": "stream",
     "text": [
      "Si está el campo personalizado para la URL 'https://online-colombia.universidadeuropea.com/maestria-oficial-logistica-en-linea/'\n"
     ]
    },
    {
     "name": "stderr",
     "output_type": "stream",
     "text": [
      "C:\\Users\\9140\\AppData\\Local\\Temp\\ipykernel_12948\\3282100434.py:2: FutureWarning: The frame.append method is deprecated and will be removed from pandas in a future version. Use pandas.concat instead.\n",
      "  resultados=resultados.append(comprobador(a))\n"
     ]
    },
    {
     "name": "stdout",
     "output_type": "stream",
     "text": [
      "Si está el campo personalizado para la URL 'https://online-colombia.universidadeuropea.com/maestria-big-data-en-linea/'\n"
     ]
    },
    {
     "name": "stderr",
     "output_type": "stream",
     "text": [
      "C:\\Users\\9140\\AppData\\Local\\Temp\\ipykernel_12948\\3282100434.py:2: FutureWarning: The frame.append method is deprecated and will be removed from pandas in a future version. Use pandas.concat instead.\n",
      "  resultados=resultados.append(comprobador(a))\n"
     ]
    },
    {
     "name": "stdout",
     "output_type": "stream",
     "text": [
      "Si está el campo personalizado para la URL 'https://online.universidadeuropea.com/podcast-ux/'\n"
     ]
    },
    {
     "name": "stderr",
     "output_type": "stream",
     "text": [
      "C:\\Users\\9140\\AppData\\Local\\Temp\\ipykernel_12948\\3282100434.py:2: FutureWarning: The frame.append method is deprecated and will be removed from pandas in a future version. Use pandas.concat instead.\n",
      "  resultados=resultados.append(comprobador(a))\n"
     ]
    },
    {
     "name": "stdout",
     "output_type": "stream",
     "text": [
      "Si está el campo personalizado para la URL 'https://online-colombia.universidadeuropea.com/maestria-oficial-investigacion-ciencias-actividad-fisica-y-deporte-en-linea/'\n"
     ]
    },
    {
     "name": "stderr",
     "output_type": "stream",
     "text": [
      "C:\\Users\\9140\\AppData\\Local\\Temp\\ipykernel_12948\\3282100434.py:2: FutureWarning: The frame.append method is deprecated and will be removed from pandas in a future version. Use pandas.concat instead.\n",
      "  resultados=resultados.append(comprobador(a))\n"
     ]
    },
    {
     "name": "stdout",
     "output_type": "stream",
     "text": [
      "Si está el campo personalizado para la URL 'https://online.universidadeuropea.com/maestria-oficial-investigacion-ciencias-actividad-fisica-y-deporte-en-linea-peru/'\n"
     ]
    },
    {
     "name": "stderr",
     "output_type": "stream",
     "text": [
      "C:\\Users\\9140\\AppData\\Local\\Temp\\ipykernel_12948\\3282100434.py:2: FutureWarning: The frame.append method is deprecated and will be removed from pandas in a future version. Use pandas.concat instead.\n",
      "  resultados=resultados.append(comprobador(a))\n"
     ]
    },
    {
     "name": "stdout",
     "output_type": "stream",
     "text": [
      "Si está el campo personalizado para la URL 'https://online-ecuador.universidadeuropea.com/maestria-ingenieria-sistemas-virtual/'\n"
     ]
    },
    {
     "name": "stderr",
     "output_type": "stream",
     "text": [
      "C:\\Users\\9140\\AppData\\Local\\Temp\\ipykernel_12948\\3282100434.py:2: FutureWarning: The frame.append method is deprecated and will be removed from pandas in a future version. Use pandas.concat instead.\n",
      "  resultados=resultados.append(comprobador(a))\n"
     ]
    },
    {
     "name": "stdout",
     "output_type": "stream",
     "text": [
      "Si está el campo personalizado para la URL 'https://online-colombia.universidadeuropea.com/maestria-ingenieria-sistemas-virtual/'\n"
     ]
    },
    {
     "name": "stderr",
     "output_type": "stream",
     "text": [
      "C:\\Users\\9140\\AppData\\Local\\Temp\\ipykernel_12948\\3282100434.py:2: FutureWarning: The frame.append method is deprecated and will be removed from pandas in a future version. Use pandas.concat instead.\n",
      "  resultados=resultados.append(comprobador(a))\n",
      "C:\\Users\\9140\\AppData\\Local\\Temp\\ipykernel_12948\\3282100434.py:2: FutureWarning: The frame.append method is deprecated and will be removed from pandas in a future version. Use pandas.concat instead.\n",
      "  resultados=resultados.append(comprobador(a))\n"
     ]
    },
    {
     "name": "stdout",
     "output_type": "stream",
     "text": [
      "Si está el campo personalizado para la URL 'https://online-ecuador.universidadeuropea.com/maestria-direccion-protocolo-organizacion-eventos-en-linea/'\n",
      "Si está el campo personalizado para la URL 'https://online-colombia.universidadeuropea.com/maestria-direccion-protocolo-organizacion-eventos-en-linea/'\n"
     ]
    },
    {
     "name": "stderr",
     "output_type": "stream",
     "text": [
      "C:\\Users\\9140\\AppData\\Local\\Temp\\ipykernel_12948\\3282100434.py:2: FutureWarning: The frame.append method is deprecated and will be removed from pandas in a future version. Use pandas.concat instead.\n",
      "  resultados=resultados.append(comprobador(a))\n"
     ]
    },
    {
     "name": "stdout",
     "output_type": "stream",
     "text": [
      "Si está el campo personalizado para la URL 'https://online-ecuador.universidadeuropea.com/maestrias-online-tecnologias-innovacion-elearning/'\n"
     ]
    },
    {
     "name": "stderr",
     "output_type": "stream",
     "text": [
      "C:\\Users\\9140\\AppData\\Local\\Temp\\ipykernel_12948\\3282100434.py:2: FutureWarning: The frame.append method is deprecated and will be removed from pandas in a future version. Use pandas.concat instead.\n",
      "  resultados=resultados.append(comprobador(a))\n"
     ]
    },
    {
     "name": "stdout",
     "output_type": "stream",
     "text": [
      "Si está el campo personalizado para la URL 'https://online-colombia.universidadeuropea.com/maestrias-online-tecnologias-innovacion-elearning/'\n"
     ]
    },
    {
     "name": "stderr",
     "output_type": "stream",
     "text": [
      "C:\\Users\\9140\\AppData\\Local\\Temp\\ipykernel_12948\\3282100434.py:2: FutureWarning: The frame.append method is deprecated and will be removed from pandas in a future version. Use pandas.concat instead.\n",
      "  resultados=resultados.append(comprobador(a))\n"
     ]
    },
    {
     "name": "stdout",
     "output_type": "stream",
     "text": [
      "Si está el campo personalizado para la URL 'https://online.universidadeuropea.com/maestrias-online-tecnologias-innovacion-elearning-peru/'\n"
     ]
    },
    {
     "name": "stderr",
     "output_type": "stream",
     "text": [
      "C:\\Users\\9140\\AppData\\Local\\Temp\\ipykernel_12948\\3282100434.py:2: FutureWarning: The frame.append method is deprecated and will be removed from pandas in a future version. Use pandas.concat instead.\n",
      "  resultados=resultados.append(comprobador(a))\n"
     ]
    },
    {
     "name": "stdout",
     "output_type": "stream",
     "text": [
      "Si está el campo personalizado para la URL 'https://online-ecuador.universidadeuropea.com/maestrias-online-idiomas/'\n"
     ]
    },
    {
     "name": "stderr",
     "output_type": "stream",
     "text": [
      "C:\\Users\\9140\\AppData\\Local\\Temp\\ipykernel_12948\\3282100434.py:2: FutureWarning: The frame.append method is deprecated and will be removed from pandas in a future version. Use pandas.concat instead.\n",
      "  resultados=resultados.append(comprobador(a))\n"
     ]
    },
    {
     "name": "stdout",
     "output_type": "stream",
     "text": [
      "Si está el campo personalizado para la URL 'https://online-colombia.universidadeuropea.com/maestrias-online-idiomas/'\n"
     ]
    },
    {
     "name": "stderr",
     "output_type": "stream",
     "text": [
      "C:\\Users\\9140\\AppData\\Local\\Temp\\ipykernel_12948\\3282100434.py:2: FutureWarning: The frame.append method is deprecated and will be removed from pandas in a future version. Use pandas.concat instead.\n",
      "  resultados=resultados.append(comprobador(a))\n"
     ]
    },
    {
     "name": "stdout",
     "output_type": "stream",
     "text": [
      "Si está el campo personalizado para la URL 'https://online.universidadeuropea.com/maestrias-online-idiomas-peru/'\n"
     ]
    },
    {
     "name": "stderr",
     "output_type": "stream",
     "text": [
      "C:\\Users\\9140\\AppData\\Local\\Temp\\ipykernel_12948\\3282100434.py:2: FutureWarning: The frame.append method is deprecated and will be removed from pandas in a future version. Use pandas.concat instead.\n",
      "  resultados=resultados.append(comprobador(a))\n"
     ]
    },
    {
     "name": "stdout",
     "output_type": "stream",
     "text": [
      "Si está el campo personalizado para la URL 'https://online.universidadeuropea.com/masteres-para-maestros/'\n"
     ]
    },
    {
     "name": "stderr",
     "output_type": "stream",
     "text": [
      "C:\\Users\\9140\\AppData\\Local\\Temp\\ipykernel_12948\\3282100434.py:2: FutureWarning: The frame.append method is deprecated and will be removed from pandas in a future version. Use pandas.concat instead.\n",
      "  resultados=resultados.append(comprobador(a))\n"
     ]
    },
    {
     "name": "stdout",
     "output_type": "stream",
     "text": [
      "Si está el campo personalizado para la URL 'https://online-ecuador.universidadeuropea.com/maestrias-para-maestros/'\n"
     ]
    },
    {
     "name": "stderr",
     "output_type": "stream",
     "text": [
      "C:\\Users\\9140\\AppData\\Local\\Temp\\ipykernel_12948\\3282100434.py:2: FutureWarning: The frame.append method is deprecated and will be removed from pandas in a future version. Use pandas.concat instead.\n",
      "  resultados=resultados.append(comprobador(a))\n"
     ]
    },
    {
     "name": "stdout",
     "output_type": "stream",
     "text": [
      "Si está el campo personalizado para la URL 'https://online-colombia.universidadeuropea.com/maestrias-para-maestros/'\n"
     ]
    },
    {
     "name": "stderr",
     "output_type": "stream",
     "text": [
      "C:\\Users\\9140\\AppData\\Local\\Temp\\ipykernel_12948\\3282100434.py:2: FutureWarning: The frame.append method is deprecated and will be removed from pandas in a future version. Use pandas.concat instead.\n",
      "  resultados=resultados.append(comprobador(a))\n"
     ]
    },
    {
     "name": "stdout",
     "output_type": "stream",
     "text": [
      "Si está el campo personalizado para la URL 'https://online.universidadeuropea.com/maestrias-para-maestros-peru/'\n"
     ]
    },
    {
     "name": "stderr",
     "output_type": "stream",
     "text": [
      "C:\\Users\\9140\\AppData\\Local\\Temp\\ipykernel_12948\\3282100434.py:2: FutureWarning: The frame.append method is deprecated and will be removed from pandas in a future version. Use pandas.concat instead.\n",
      "  resultados=resultados.append(comprobador(a))\n"
     ]
    },
    {
     "name": "stdout",
     "output_type": "stream",
     "text": [
      "Si está el campo personalizado para la URL 'https://online-ecuador.universidadeuropea.com/maestria-business-analytics-online/'\n"
     ]
    },
    {
     "name": "stderr",
     "output_type": "stream",
     "text": [
      "C:\\Users\\9140\\AppData\\Local\\Temp\\ipykernel_12948\\3282100434.py:2: FutureWarning: The frame.append method is deprecated and will be removed from pandas in a future version. Use pandas.concat instead.\n",
      "  resultados=resultados.append(comprobador(a))\n"
     ]
    },
    {
     "name": "stdout",
     "output_type": "stream",
     "text": [
      "Si está el campo personalizado para la URL 'https://online-colombia.universidadeuropea.com/maestria-business-analytics-online/'\n"
     ]
    },
    {
     "name": "stderr",
     "output_type": "stream",
     "text": [
      "C:\\Users\\9140\\AppData\\Local\\Temp\\ipykernel_12948\\3282100434.py:2: FutureWarning: The frame.append method is deprecated and will be removed from pandas in a future version. Use pandas.concat instead.\n",
      "  resultados=resultados.append(comprobador(a))\n"
     ]
    },
    {
     "name": "stdout",
     "output_type": "stream",
     "text": [
      "Si está el campo personalizado para la URL 'https://estudiar.universidadeuropea.com/curso-experto-ejercicio-fisico-cancer/'\n"
     ]
    },
    {
     "name": "stderr",
     "output_type": "stream",
     "text": [
      "C:\\Users\\9140\\AppData\\Local\\Temp\\ipykernel_12948\\3282100434.py:2: FutureWarning: The frame.append method is deprecated and will be removed from pandas in a future version. Use pandas.concat instead.\n",
      "  resultados=resultados.append(comprobador(a))\n"
     ]
    },
    {
     "name": "stdout",
     "output_type": "stream",
     "text": [
      "Si está el campo personalizado para la URL 'https://online.universidadeuropea.com/convenios-latam/'\n"
     ]
    },
    {
     "name": "stderr",
     "output_type": "stream",
     "text": [
      "C:\\Users\\9140\\AppData\\Local\\Temp\\ipykernel_12948\\3282100434.py:2: FutureWarning: The frame.append method is deprecated and will be removed from pandas in a future version. Use pandas.concat instead.\n",
      "  resultados=resultados.append(comprobador(a))\n"
     ]
    },
    {
     "name": "stdout",
     "output_type": "stream",
     "text": [
      "Si está el campo personalizado para la URL 'https://online.universidadeuropea.com/cursos-ventas-atencion-cliente/'\n"
     ]
    },
    {
     "name": "stderr",
     "output_type": "stream",
     "text": [
      "C:\\Users\\9140\\AppData\\Local\\Temp\\ipykernel_12948\\3282100434.py:2: FutureWarning: The frame.append method is deprecated and will be removed from pandas in a future version. Use pandas.concat instead.\n",
      "  resultados=resultados.append(comprobador(a))\n"
     ]
    },
    {
     "name": "stdout",
     "output_type": "stream",
     "text": [
      "Si está el campo personalizado para la URL 'https://online.universidadeuropea.com/master-neuropsicologia-clinica-peru/'\n"
     ]
    },
    {
     "name": "stderr",
     "output_type": "stream",
     "text": [
      "C:\\Users\\9140\\AppData\\Local\\Temp\\ipykernel_12948\\3282100434.py:2: FutureWarning: The frame.append method is deprecated and will be removed from pandas in a future version. Use pandas.concat instead.\n",
      "  resultados=resultados.append(comprobador(a))\n"
     ]
    },
    {
     "name": "stdout",
     "output_type": "stream",
     "text": [
      "Si está el campo personalizado para la URL 'https://online.universidadeuropea.com/maestria-product-manager-estrategia-negocio-en-linea-peru/'\n"
     ]
    },
    {
     "name": "stderr",
     "output_type": "stream",
     "text": [
      "C:\\Users\\9140\\AppData\\Local\\Temp\\ipykernel_12948\\3282100434.py:2: FutureWarning: The frame.append method is deprecated and will be removed from pandas in a future version. Use pandas.concat instead.\n",
      "  resultados=resultados.append(comprobador(a))\n"
     ]
    },
    {
     "name": "stdout",
     "output_type": "stream",
     "text": [
      "Si está el campo personalizado para la URL 'https://online.universidadeuropea.com/curso-universitario-en-tecnicas-venta-telefonica-online/'\n"
     ]
    },
    {
     "name": "stderr",
     "output_type": "stream",
     "text": [
      "C:\\Users\\9140\\AppData\\Local\\Temp\\ipykernel_12948\\3282100434.py:2: FutureWarning: The frame.append method is deprecated and will be removed from pandas in a future version. Use pandas.concat instead.\n",
      "  resultados=resultados.append(comprobador(a))\n"
     ]
    },
    {
     "name": "stdout",
     "output_type": "stream",
     "text": [
      "Si está el campo personalizado para la URL 'https://online.universidadeuropea.com/curso-universitario-atencion-telefonica-call-center-online/'\n"
     ]
    },
    {
     "name": "stderr",
     "output_type": "stream",
     "text": [
      "C:\\Users\\9140\\AppData\\Local\\Temp\\ipykernel_12948\\3282100434.py:2: FutureWarning: The frame.append method is deprecated and will be removed from pandas in a future version. Use pandas.concat instead.\n",
      "  resultados=resultados.append(comprobador(a))\n"
     ]
    },
    {
     "name": "stdout",
     "output_type": "stream",
     "text": [
      "Si está el campo personalizado para la URL 'https://online.universidadeuropea.com/maestria-transformacion-digital-peru/'\n"
     ]
    },
    {
     "name": "stderr",
     "output_type": "stream",
     "text": [
      "C:\\Users\\9140\\AppData\\Local\\Temp\\ipykernel_12948\\3282100434.py:2: FutureWarning: The frame.append method is deprecated and will be removed from pandas in a future version. Use pandas.concat instead.\n",
      "  resultados=resultados.append(comprobador(a))\n"
     ]
    },
    {
     "name": "stdout",
     "output_type": "stream",
     "text": [
      "Si está el campo personalizado para la URL 'https://estudiar.universidadeuropea.com/ciclos-formativos-area-empresa-valencia/'\n"
     ]
    },
    {
     "name": "stderr",
     "output_type": "stream",
     "text": [
      "C:\\Users\\9140\\AppData\\Local\\Temp\\ipykernel_12948\\3282100434.py:2: FutureWarning: The frame.append method is deprecated and will be removed from pandas in a future version. Use pandas.concat instead.\n",
      "  resultados=resultados.append(comprobador(a))\n"
     ]
    },
    {
     "name": "stdout",
     "output_type": "stream",
     "text": [
      "Si está el campo personalizado para la URL 'https://online.universidadeuropea.com/masters-area-salud/'\n"
     ]
    },
    {
     "name": "stderr",
     "output_type": "stream",
     "text": [
      "C:\\Users\\9140\\AppData\\Local\\Temp\\ipykernel_12948\\3282100434.py:2: FutureWarning: The frame.append method is deprecated and will be removed from pandas in a future version. Use pandas.concat instead.\n",
      "  resultados=resultados.append(comprobador(a))\n"
     ]
    },
    {
     "name": "stdout",
     "output_type": "stream",
     "text": [
      "Si está el campo personalizado para la URL 'https://online-ecuador.universidadeuropea.com/maestria-propiedad-intelectual-derecho-tecnologico/'\n"
     ]
    },
    {
     "name": "stderr",
     "output_type": "stream",
     "text": [
      "C:\\Users\\9140\\AppData\\Local\\Temp\\ipykernel_12948\\3282100434.py:2: FutureWarning: The frame.append method is deprecated and will be removed from pandas in a future version. Use pandas.concat instead.\n",
      "  resultados=resultados.append(comprobador(a))\n"
     ]
    },
    {
     "name": "stdout",
     "output_type": "stream",
     "text": [
      "Si está el campo personalizado para la URL 'https://online-colombia.universidadeuropea.com/maestria-propiedad-intelectual-derecho-tecnologico/'\n"
     ]
    },
    {
     "name": "stderr",
     "output_type": "stream",
     "text": [
      "C:\\Users\\9140\\AppData\\Local\\Temp\\ipykernel_12948\\3282100434.py:2: FutureWarning: The frame.append method is deprecated and will be removed from pandas in a future version. Use pandas.concat instead.\n",
      "  resultados=resultados.append(comprobador(a))\n"
     ]
    },
    {
     "name": "stdout",
     "output_type": "stream",
     "text": [
      "Si está el campo personalizado para la URL 'https://online.universidadeuropea.com/maestria-propiedad-intelectual-derecho-tecnologico-peru/'\n"
     ]
    },
    {
     "name": "stderr",
     "output_type": "stream",
     "text": [
      "C:\\Users\\9140\\AppData\\Local\\Temp\\ipykernel_12948\\3282100434.py:2: FutureWarning: The frame.append method is deprecated and will be removed from pandas in a future version. Use pandas.concat instead.\n",
      "  resultados=resultados.append(comprobador(a))\n"
     ]
    },
    {
     "name": "stdout",
     "output_type": "stream",
     "text": [
      "Si está el campo personalizado para la URL 'https://online.universidadeuropea.com/maestria-universitaria-direccion-gestion-hotelera-peru/'\n"
     ]
    },
    {
     "name": "stderr",
     "output_type": "stream",
     "text": [
      "C:\\Users\\9140\\AppData\\Local\\Temp\\ipykernel_12948\\3282100434.py:2: FutureWarning: The frame.append method is deprecated and will be removed from pandas in a future version. Use pandas.concat instead.\n",
      "  resultados=resultados.append(comprobador(a))\n"
     ]
    },
    {
     "name": "stdout",
     "output_type": "stream",
     "text": [
      "Si está el campo personalizado para la URL 'https://online.universidadeuropea.com/aula-del-futuro/'\n"
     ]
    },
    {
     "name": "stderr",
     "output_type": "stream",
     "text": [
      "C:\\Users\\9140\\AppData\\Local\\Temp\\ipykernel_12948\\3282100434.py:2: FutureWarning: The frame.append method is deprecated and will be removed from pandas in a future version. Use pandas.concat instead.\n",
      "  resultados=resultados.append(comprobador(a))\n"
     ]
    },
    {
     "name": "stdout",
     "output_type": "stream",
     "text": [
      "No está el campo personalizado para la URL 'https://estudiar.universidadeuropea.com/dia-de-la-animacion/'\n"
     ]
    },
    {
     "name": "stderr",
     "output_type": "stream",
     "text": [
      "C:\\Users\\9140\\AppData\\Local\\Temp\\ipykernel_12948\\3282100434.py:2: FutureWarning: The frame.append method is deprecated and will be removed from pandas in a future version. Use pandas.concat instead.\n",
      "  resultados=resultados.append(comprobador(a))\n"
     ]
    },
    {
     "name": "stdout",
     "output_type": "stream",
     "text": [
      "Si está el campo personalizado para la URL 'https://online-ecuador.universidadeuropea.com/maestria-derecho-penal-economico-en-linea/'\n"
     ]
    },
    {
     "name": "stderr",
     "output_type": "stream",
     "text": [
      "C:\\Users\\9140\\AppData\\Local\\Temp\\ipykernel_12948\\3282100434.py:2: FutureWarning: The frame.append method is deprecated and will be removed from pandas in a future version. Use pandas.concat instead.\n",
      "  resultados=resultados.append(comprobador(a))\n"
     ]
    },
    {
     "name": "stdout",
     "output_type": "stream",
     "text": [
      "Si está el campo personalizado para la URL 'https://online-colombia.universidadeuropea.com/maestria-derecho-penal-economico-en-linea/'\n"
     ]
    },
    {
     "name": "stderr",
     "output_type": "stream",
     "text": [
      "C:\\Users\\9140\\AppData\\Local\\Temp\\ipykernel_12948\\3282100434.py:2: FutureWarning: The frame.append method is deprecated and will be removed from pandas in a future version. Use pandas.concat instead.\n",
      "  resultados=resultados.append(comprobador(a))\n"
     ]
    },
    {
     "name": "stdout",
     "output_type": "stream",
     "text": [
      "Si está el campo personalizado para la URL 'https://online.universidadeuropea.com/maestria-derecho-penal-economico-en-linea/'\n"
     ]
    },
    {
     "name": "stderr",
     "output_type": "stream",
     "text": [
      "C:\\Users\\9140\\AppData\\Local\\Temp\\ipykernel_12948\\3282100434.py:2: FutureWarning: The frame.append method is deprecated and will be removed from pandas in a future version. Use pandas.concat instead.\n",
      "  resultados=resultados.append(comprobador(a))\n"
     ]
    },
    {
     "name": "stdout",
     "output_type": "stream",
     "text": [
      "Si está el campo personalizado para la URL 'https://online-colombia.universidadeuropea.com/mba-en-tecnologias-informacion-online/'\n"
     ]
    },
    {
     "name": "stderr",
     "output_type": "stream",
     "text": [
      "C:\\Users\\9140\\AppData\\Local\\Temp\\ipykernel_12948\\3282100434.py:2: FutureWarning: The frame.append method is deprecated and will be removed from pandas in a future version. Use pandas.concat instead.\n",
      "  resultados=resultados.append(comprobador(a))\n"
     ]
    },
    {
     "name": "stdout",
     "output_type": "stream",
     "text": [
      "Si está el campo personalizado para la URL 'https://estudiar.universidadeuropea.com/en/bachelors-degree-media-studies/'\n"
     ]
    },
    {
     "name": "stderr",
     "output_type": "stream",
     "text": [
      "C:\\Users\\9140\\AppData\\Local\\Temp\\ipykernel_12948\\3282100434.py:2: FutureWarning: The frame.append method is deprecated and will be removed from pandas in a future version. Use pandas.concat instead.\n",
      "  resultados=resultados.append(comprobador(a))\n"
     ]
    },
    {
     "name": "stdout",
     "output_type": "stream",
     "text": [
      "Si está el campo personalizado para la URL 'https://estudiar.universidadeuropea.com/en/degree-in-computer-engineering/'\n"
     ]
    },
    {
     "name": "stderr",
     "output_type": "stream",
     "text": [
      "C:\\Users\\9140\\AppData\\Local\\Temp\\ipykernel_12948\\3282100434.py:2: FutureWarning: The frame.append method is deprecated and will be removed from pandas in a future version. Use pandas.concat instead.\n",
      "  resultados=resultados.append(comprobador(a))\n"
     ]
    },
    {
     "name": "stdout",
     "output_type": "stream",
     "text": [
      "Si está el campo personalizado para la URL 'https://online.universidadeuropea.com/masters-online-area-finanzas/'\n"
     ]
    },
    {
     "name": "stderr",
     "output_type": "stream",
     "text": [
      "C:\\Users\\9140\\AppData\\Local\\Temp\\ipykernel_12948\\3282100434.py:2: FutureWarning: The frame.append method is deprecated and will be removed from pandas in a future version. Use pandas.concat instead.\n",
      "  resultados=resultados.append(comprobador(a))\n"
     ]
    },
    {
     "name": "stdout",
     "output_type": "stream",
     "text": [
      "Si está el campo personalizado para la URL 'https://online.universidadeuropea.com/maestrias-oficiales-area-finanzas/'\n"
     ]
    },
    {
     "name": "stderr",
     "output_type": "stream",
     "text": [
      "C:\\Users\\9140\\AppData\\Local\\Temp\\ipykernel_12948\\3282100434.py:2: FutureWarning: The frame.append method is deprecated and will be removed from pandas in a future version. Use pandas.concat instead.\n",
      "  resultados=resultados.append(comprobador(a))\n"
     ]
    },
    {
     "name": "stdout",
     "output_type": "stream",
     "text": [
      "Si está el campo personalizado para la URL 'https://estudiar.universidadeuropea.com/masters-postgrados-marketing-comunicacion/'\n"
     ]
    },
    {
     "name": "stderr",
     "output_type": "stream",
     "text": [
      "C:\\Users\\9140\\AppData\\Local\\Temp\\ipykernel_12948\\3282100434.py:2: FutureWarning: The frame.append method is deprecated and will be removed from pandas in a future version. Use pandas.concat instead.\n",
      "  resultados=resultados.append(comprobador(a))\n"
     ]
    },
    {
     "name": "stdout",
     "output_type": "stream",
     "text": [
      "Si está el campo personalizado para la URL 'https://online.universidadeuropea.com/curso-ingles-C1/'\n"
     ]
    },
    {
     "name": "stderr",
     "output_type": "stream",
     "text": [
      "C:\\Users\\9140\\AppData\\Local\\Temp\\ipykernel_12948\\3282100434.py:2: FutureWarning: The frame.append method is deprecated and will be removed from pandas in a future version. Use pandas.concat instead.\n",
      "  resultados=resultados.append(comprobador(a))\n"
     ]
    },
    {
     "name": "stdout",
     "output_type": "stream",
     "text": [
      "Si está el campo personalizado para la URL 'https://estudiar.universidadeuropea.com/en/masters-degree-in-international-trade-and-economic-relations/'\n"
     ]
    },
    {
     "name": "stderr",
     "output_type": "stream",
     "text": [
      "C:\\Users\\9140\\AppData\\Local\\Temp\\ipykernel_12948\\3282100434.py:2: FutureWarning: The frame.append method is deprecated and will be removed from pandas in a future version. Use pandas.concat instead.\n",
      "  resultados=resultados.append(comprobador(a))\n"
     ]
    },
    {
     "name": "stdout",
     "output_type": "stream",
     "text": [
      "Si está el campo personalizado para la URL 'https://estudiar.universidadeuropea.com/en/masters-degree-in-financial-management/'\n"
     ]
    },
    {
     "name": "stderr",
     "output_type": "stream",
     "text": [
      "C:\\Users\\9140\\AppData\\Local\\Temp\\ipykernel_12948\\3282100434.py:2: FutureWarning: The frame.append method is deprecated and will be removed from pandas in a future version. Use pandas.concat instead.\n",
      "  resultados=resultados.append(comprobador(a))\n"
     ]
    },
    {
     "name": "stdout",
     "output_type": "stream",
     "text": [
      "Si está el campo personalizado para la URL 'https://estudiar.universidadeuropea.com/en/private-masters-degree-in-business-analytics/'\n"
     ]
    },
    {
     "name": "stderr",
     "output_type": "stream",
     "text": [
      "C:\\Users\\9140\\AppData\\Local\\Temp\\ipykernel_12948\\3282100434.py:2: FutureWarning: The frame.append method is deprecated and will be removed from pandas in a future version. Use pandas.concat instead.\n",
      "  resultados=resultados.append(comprobador(a))\n"
     ]
    },
    {
     "name": "stdout",
     "output_type": "stream",
     "text": [
      "Si está el campo personalizado para la URL 'https://estudiar.universidadeuropea.com/en/masters-degree-in-marketing/'\n"
     ]
    },
    {
     "name": "stderr",
     "output_type": "stream",
     "text": [
      "C:\\Users\\9140\\AppData\\Local\\Temp\\ipykernel_12948\\3282100434.py:2: FutureWarning: The frame.append method is deprecated and will be removed from pandas in a future version. Use pandas.concat instead.\n",
      "  resultados=resultados.append(comprobador(a))\n"
     ]
    },
    {
     "name": "stdout",
     "output_type": "stream",
     "text": [
      "Si está el campo personalizado para la URL 'https://estudiar.universidadeuropea.com/en/postgraduate-programmes-at-universidad-europea/'\n"
     ]
    },
    {
     "name": "stderr",
     "output_type": "stream",
     "text": [
      "C:\\Users\\9140\\AppData\\Local\\Temp\\ipykernel_12948\\3282100434.py:2: FutureWarning: The frame.append method is deprecated and will be removed from pandas in a future version. Use pandas.concat instead.\n",
      "  resultados=resultados.append(comprobador(a))\n"
     ]
    },
    {
     "name": "stdout",
     "output_type": "stream",
     "text": [
      "Si está el campo personalizado para la URL 'https://estudiar.universidadeuropea.com/en/private-masters-degree-in-big-data-analytics/'\n"
     ]
    },
    {
     "name": "stderr",
     "output_type": "stream",
     "text": [
      "C:\\Users\\9140\\AppData\\Local\\Temp\\ipykernel_12948\\3282100434.py:2: FutureWarning: The frame.append method is deprecated and will be removed from pandas in a future version. Use pandas.concat instead.\n",
      "  resultados=resultados.append(comprobador(a))\n"
     ]
    },
    {
     "name": "stdout",
     "output_type": "stream",
     "text": [
      "Si está el campo personalizado para la URL 'https://estudiar.universidadeuropea.com/en/global-masters-degree-in-business-administration/'\n"
     ]
    },
    {
     "name": "stderr",
     "output_type": "stream",
     "text": [
      "C:\\Users\\9140\\AppData\\Local\\Temp\\ipykernel_12948\\3282100434.py:2: FutureWarning: The frame.append method is deprecated and will be removed from pandas in a future version. Use pandas.concat instead.\n",
      "  resultados=resultados.append(comprobador(a))\n"
     ]
    },
    {
     "name": "stdout",
     "output_type": "stream",
     "text": [
      "Si está el campo personalizado para la URL 'https://estudiar.universidadeuropea.com/en/masters-degree-in-international-construction-management-mba/'\n"
     ]
    },
    {
     "name": "stderr",
     "output_type": "stream",
     "text": [
      "C:\\Users\\9140\\AppData\\Local\\Temp\\ipykernel_12948\\3282100434.py:2: FutureWarning: The frame.append method is deprecated and will be removed from pandas in a future version. Use pandas.concat instead.\n",
      "  resultados=resultados.append(comprobador(a))\n"
     ]
    },
    {
     "name": "stdout",
     "output_type": "stream",
     "text": [
      "Si está el campo personalizado para la URL 'https://estudiar.universidadeuropea.com/en/private-masters-degree-in-project-management/'\n"
     ]
    },
    {
     "name": "stderr",
     "output_type": "stream",
     "text": [
      "C:\\Users\\9140\\AppData\\Local\\Temp\\ipykernel_12948\\3282100434.py:2: FutureWarning: The frame.append method is deprecated and will be removed from pandas in a future version. Use pandas.concat instead.\n",
      "  resultados=resultados.append(comprobador(a))\n"
     ]
    },
    {
     "name": "stdout",
     "output_type": "stream",
     "text": [
      "Si está el campo personalizado para la URL 'https://estudiar.universidadeuropea.com/grado-en-economia/'\n"
     ]
    },
    {
     "name": "stderr",
     "output_type": "stream",
     "text": [
      "C:\\Users\\9140\\AppData\\Local\\Temp\\ipykernel_12948\\3282100434.py:2: FutureWarning: The frame.append method is deprecated and will be removed from pandas in a future version. Use pandas.concat instead.\n",
      "  resultados=resultados.append(comprobador(a))\n"
     ]
    },
    {
     "name": "stdout",
     "output_type": "stream",
     "text": [
      "Si está el campo personalizado para la URL 'https://estudiar.universidadeuropea.com/en/bachelors-degree-business-analytics/'\n"
     ]
    },
    {
     "name": "stderr",
     "output_type": "stream",
     "text": [
      "C:\\Users\\9140\\AppData\\Local\\Temp\\ipykernel_12948\\3282100434.py:2: FutureWarning: The frame.append method is deprecated and will be removed from pandas in a future version. Use pandas.concat instead.\n",
      "  resultados=resultados.append(comprobador(a))\n"
     ]
    },
    {
     "name": "stdout",
     "output_type": "stream",
     "text": [
      "No está el campo personalizado para la URL 'https://estudiar.universidadeuropea.com/hackaton/'\n"
     ]
    },
    {
     "name": "stderr",
     "output_type": "stream",
     "text": [
      "C:\\Users\\9140\\AppData\\Local\\Temp\\ipykernel_12948\\3282100434.py:2: FutureWarning: The frame.append method is deprecated and will be removed from pandas in a future version. Use pandas.concat instead.\n",
      "  resultados=resultados.append(comprobador(a))\n"
     ]
    },
    {
     "name": "stdout",
     "output_type": "stream",
     "text": [
      "Si está el campo personalizado para la URL 'https://online-ecuador.universidadeuropea.com/maestrias-online-b/'\n"
     ]
    },
    {
     "name": "stderr",
     "output_type": "stream",
     "text": [
      "C:\\Users\\9140\\AppData\\Local\\Temp\\ipykernel_12948\\3282100434.py:2: FutureWarning: The frame.append method is deprecated and will be removed from pandas in a future version. Use pandas.concat instead.\n",
      "  resultados=resultados.append(comprobador(a))\n"
     ]
    },
    {
     "name": "stdout",
     "output_type": "stream",
     "text": [
      "Si está el campo personalizado para la URL 'https://estudiar.universidadeuropea.com/en/bachelors-degree-in-dentistry-valencia/'\n"
     ]
    },
    {
     "name": "stderr",
     "output_type": "stream",
     "text": [
      "C:\\Users\\9140\\AppData\\Local\\Temp\\ipykernel_12948\\3282100434.py:2: FutureWarning: The frame.append method is deprecated and will be removed from pandas in a future version. Use pandas.concat instead.\n",
      "  resultados=resultados.append(comprobador(a))\n"
     ]
    },
    {
     "name": "stdout",
     "output_type": "stream",
     "text": [
      "Si está el campo personalizado para la URL 'https://estudiar.universidadeuropea.com/en/private-masters-degree-in-international-leadership-and-negotiation/'\n"
     ]
    },
    {
     "name": "stderr",
     "output_type": "stream",
     "text": [
      "C:\\Users\\9140\\AppData\\Local\\Temp\\ipykernel_12948\\3282100434.py:2: FutureWarning: The frame.append method is deprecated and will be removed from pandas in a future version. Use pandas.concat instead.\n",
      "  resultados=resultados.append(comprobador(a))\n"
     ]
    },
    {
     "name": "stdout",
     "output_type": "stream",
     "text": [
      "Si está el campo personalizado para la URL 'https://estudiar.universidadeuropea.com/en/bachelors-degree-in-marketing-valencia/'\n"
     ]
    },
    {
     "name": "stderr",
     "output_type": "stream",
     "text": [
      "C:\\Users\\9140\\AppData\\Local\\Temp\\ipykernel_12948\\3282100434.py:2: FutureWarning: The frame.append method is deprecated and will be removed from pandas in a future version. Use pandas.concat instead.\n",
      "  resultados=resultados.append(comprobador(a))\n"
     ]
    },
    {
     "name": "stdout",
     "output_type": "stream",
     "text": [
      "Si está el campo personalizado para la URL 'https://estudiar.universidadeuropea.com/en/bachelors-degree-in-psychology-valencia/'\n"
     ]
    },
    {
     "name": "stderr",
     "output_type": "stream",
     "text": [
      "C:\\Users\\9140\\AppData\\Local\\Temp\\ipykernel_12948\\3282100434.py:2: FutureWarning: The frame.append method is deprecated and will be removed from pandas in a future version. Use pandas.concat instead.\n",
      "  resultados=resultados.append(comprobador(a))\n"
     ]
    },
    {
     "name": "stdout",
     "output_type": "stream",
     "text": [
      "Si está el campo personalizado para la URL 'https://estudiar.universidadeuropea.com/en/bachelors-degree-in-international-relations-valencia/'\n"
     ]
    },
    {
     "name": "stderr",
     "output_type": "stream",
     "text": [
      "C:\\Users\\9140\\AppData\\Local\\Temp\\ipykernel_12948\\3282100434.py:2: FutureWarning: The frame.append method is deprecated and will be removed from pandas in a future version. Use pandas.concat instead.\n",
      "  resultados=resultados.append(comprobador(a))\n"
     ]
    },
    {
     "name": "stdout",
     "output_type": "stream",
     "text": [
      "Si está el campo personalizado para la URL 'https://estudiar.universidadeuropea.com/en/bachelors-degree-in-tourism-valencia/'\n"
     ]
    },
    {
     "name": "stderr",
     "output_type": "stream",
     "text": [
      "C:\\Users\\9140\\AppData\\Local\\Temp\\ipykernel_12948\\3282100434.py:2: FutureWarning: The frame.append method is deprecated and will be removed from pandas in a future version. Use pandas.concat instead.\n",
      "  resultados=resultados.append(comprobador(a))\n"
     ]
    },
    {
     "name": "stdout",
     "output_type": "stream",
     "text": [
      "Si está el campo personalizado para la URL 'https://estudiar.universidadeuropea.com/en/double-degree-in-law-and-international-relations/'\n"
     ]
    },
    {
     "name": "stderr",
     "output_type": "stream",
     "text": [
      "C:\\Users\\9140\\AppData\\Local\\Temp\\ipykernel_12948\\3282100434.py:2: FutureWarning: The frame.append method is deprecated and will be removed from pandas in a future version. Use pandas.concat instead.\n",
      "  resultados=resultados.append(comprobador(a))\n"
     ]
    },
    {
     "name": "stdout",
     "output_type": "stream",
     "text": [
      "Si está el campo personalizado para la URL 'https://online.universidadeuropea.com/maestria-product-manager-estrategia-negocio-en-linea-mexico/'\n"
     ]
    },
    {
     "name": "stderr",
     "output_type": "stream",
     "text": [
      "C:\\Users\\9140\\AppData\\Local\\Temp\\ipykernel_12948\\3282100434.py:2: FutureWarning: The frame.append method is deprecated and will be removed from pandas in a future version. Use pandas.concat instead.\n",
      "  resultados=resultados.append(comprobador(a))\n"
     ]
    },
    {
     "name": "stdout",
     "output_type": "stream",
     "text": [
      "Si está el campo personalizado para la URL 'https://online.universidadeuropea.com/grado-animacion-online/'\n"
     ]
    },
    {
     "name": "stderr",
     "output_type": "stream",
     "text": [
      "C:\\Users\\9140\\AppData\\Local\\Temp\\ipykernel_12948\\3282100434.py:2: FutureWarning: The frame.append method is deprecated and will be removed from pandas in a future version. Use pandas.concat instead.\n",
      "  resultados=resultados.append(comprobador(a))\n"
     ]
    },
    {
     "name": "stdout",
     "output_type": "stream",
     "text": [
      "Si está el campo personalizado para la URL 'https://online.universidadeuropea.com/experto-universitario-criptomonedas-online/'\n"
     ]
    },
    {
     "name": "stderr",
     "output_type": "stream",
     "text": [
      "C:\\Users\\9140\\AppData\\Local\\Temp\\ipykernel_12948\\3282100434.py:2: FutureWarning: The frame.append method is deprecated and will be removed from pandas in a future version. Use pandas.concat instead.\n",
      "  resultados=resultados.append(comprobador(a))\n"
     ]
    },
    {
     "name": "stdout",
     "output_type": "stream",
     "text": [
      "Si está el campo personalizado para la URL 'https://estudiar.universidadeuropea.com/en/bachelors-degree-in-psychology-landingdual/'\n"
     ]
    },
    {
     "name": "stderr",
     "output_type": "stream",
     "text": [
      "C:\\Users\\9140\\AppData\\Local\\Temp\\ipykernel_12948\\3282100434.py:2: FutureWarning: The frame.append method is deprecated and will be removed from pandas in a future version. Use pandas.concat instead.\n",
      "  resultados=resultados.append(comprobador(a))\n"
     ]
    },
    {
     "name": "stdout",
     "output_type": "stream",
     "text": [
      "Si está el campo personalizado para la URL 'https://online.universidadeuropea.com/becas-oij-latinoamerica/'\n"
     ]
    },
    {
     "name": "stderr",
     "output_type": "stream",
     "text": [
      "C:\\Users\\9140\\AppData\\Local\\Temp\\ipykernel_12948\\3282100434.py:2: FutureWarning: The frame.append method is deprecated and will be removed from pandas in a future version. Use pandas.concat instead.\n",
      "  resultados=resultados.append(comprobador(a))\n"
     ]
    },
    {
     "name": "stdout",
     "output_type": "stream",
     "text": [
      "Si está el campo personalizado para la URL 'https://online.universidadeuropea.com/becas-oij-ecuador/'\n"
     ]
    },
    {
     "name": "stderr",
     "output_type": "stream",
     "text": [
      "C:\\Users\\9140\\AppData\\Local\\Temp\\ipykernel_12948\\3282100434.py:2: FutureWarning: The frame.append method is deprecated and will be removed from pandas in a future version. Use pandas.concat instead.\n",
      "  resultados=resultados.append(comprobador(a))\n"
     ]
    },
    {
     "name": "stdout",
     "output_type": "stream",
     "text": [
      "Si está el campo personalizado para la URL 'https://online.universidadeuropea.com/becas-oij-colombia/'\n"
     ]
    },
    {
     "name": "stderr",
     "output_type": "stream",
     "text": [
      "C:\\Users\\9140\\AppData\\Local\\Temp\\ipykernel_12948\\3282100434.py:2: FutureWarning: The frame.append method is deprecated and will be removed from pandas in a future version. Use pandas.concat instead.\n",
      "  resultados=resultados.append(comprobador(a))\n"
     ]
    },
    {
     "name": "stdout",
     "output_type": "stream",
     "text": [
      "Si está el campo personalizado para la URL 'https://online.universidadeuropea.com/becas-oij-peru/'\n"
     ]
    },
    {
     "name": "stderr",
     "output_type": "stream",
     "text": [
      "C:\\Users\\9140\\AppData\\Local\\Temp\\ipykernel_12948\\3282100434.py:2: FutureWarning: The frame.append method is deprecated and will be removed from pandas in a future version. Use pandas.concat instead.\n",
      "  resultados=resultados.append(comprobador(a))\n"
     ]
    },
    {
     "name": "stdout",
     "output_type": "stream",
     "text": [
      "Si está el campo personalizado para la URL 'https://online.universidadeuropea.com/becas-santillana-latinoamerica/'\n"
     ]
    },
    {
     "name": "stderr",
     "output_type": "stream",
     "text": [
      "C:\\Users\\9140\\AppData\\Local\\Temp\\ipykernel_12948\\3282100434.py:2: FutureWarning: The frame.append method is deprecated and will be removed from pandas in a future version. Use pandas.concat instead.\n",
      "  resultados=resultados.append(comprobador(a))\n"
     ]
    },
    {
     "name": "stdout",
     "output_type": "stream",
     "text": [
      "Si está el campo personalizado para la URL 'https://online.universidadeuropea.com/becas-santillana-ecuador/'\n"
     ]
    },
    {
     "name": "stderr",
     "output_type": "stream",
     "text": [
      "C:\\Users\\9140\\AppData\\Local\\Temp\\ipykernel_12948\\3282100434.py:2: FutureWarning: The frame.append method is deprecated and will be removed from pandas in a future version. Use pandas.concat instead.\n",
      "  resultados=resultados.append(comprobador(a))\n"
     ]
    },
    {
     "name": "stdout",
     "output_type": "stream",
     "text": [
      "Si está el campo personalizado para la URL 'https://online.universidadeuropea.com/becas-santillana-colombia/'\n"
     ]
    },
    {
     "name": "stderr",
     "output_type": "stream",
     "text": [
      "C:\\Users\\9140\\AppData\\Local\\Temp\\ipykernel_12948\\3282100434.py:2: FutureWarning: The frame.append method is deprecated and will be removed from pandas in a future version. Use pandas.concat instead.\n",
      "  resultados=resultados.append(comprobador(a))\n"
     ]
    },
    {
     "name": "stdout",
     "output_type": "stream",
     "text": [
      "Si está el campo personalizado para la URL 'https://online.universidadeuropea.com/becas-santillana-peru/'\n"
     ]
    },
    {
     "name": "stderr",
     "output_type": "stream",
     "text": [
      "C:\\Users\\9140\\AppData\\Local\\Temp\\ipykernel_12948\\3282100434.py:2: FutureWarning: The frame.append method is deprecated and will be removed from pandas in a future version. Use pandas.concat instead.\n",
      "  resultados=resultados.append(comprobador(a))\n"
     ]
    },
    {
     "name": "stdout",
     "output_type": "stream",
     "text": [
      "Si está el campo personalizado para la URL 'https://online.universidadeuropea.com/grado-ciencia-datos/'\n"
     ]
    },
    {
     "name": "stderr",
     "output_type": "stream",
     "text": [
      "C:\\Users\\9140\\AppData\\Local\\Temp\\ipykernel_12948\\3282100434.py:2: FutureWarning: The frame.append method is deprecated and will be removed from pandas in a future version. Use pandas.concat instead.\n",
      "  resultados=resultados.append(comprobador(a))\n"
     ]
    },
    {
     "name": "stdout",
     "output_type": "stream",
     "text": [
      "Si está el campo personalizado para la URL 'https://online.universidadeuropea.com/master-diseno-urbano-movilidad-sostenible-online/'\n"
     ]
    },
    {
     "name": "stderr",
     "output_type": "stream",
     "text": [
      "C:\\Users\\9140\\AppData\\Local\\Temp\\ipykernel_12948\\3282100434.py:2: FutureWarning: The frame.append method is deprecated and will be removed from pandas in a future version. Use pandas.concat instead.\n",
      "  resultados=resultados.append(comprobador(a))\n"
     ]
    },
    {
     "name": "stdout",
     "output_type": "stream",
     "text": [
      "Si está el campo personalizado para la URL 'https://online-ecuador.universidadeuropea.com/maestria-oficial-diseno-urbano-movilidad-sostenible-virtual/'\n"
     ]
    },
    {
     "name": "stderr",
     "output_type": "stream",
     "text": [
      "C:\\Users\\9140\\AppData\\Local\\Temp\\ipykernel_12948\\3282100434.py:2: FutureWarning: The frame.append method is deprecated and will be removed from pandas in a future version. Use pandas.concat instead.\n",
      "  resultados=resultados.append(comprobador(a))\n"
     ]
    },
    {
     "name": "stdout",
     "output_type": "stream",
     "text": [
      "Si está el campo personalizado para la URL 'https://online-colombia.universidadeuropea.com/maestria-oficial-diseno-urbano-movilidad-sostenible-virtual/'\n"
     ]
    },
    {
     "name": "stderr",
     "output_type": "stream",
     "text": [
      "C:\\Users\\9140\\AppData\\Local\\Temp\\ipykernel_12948\\3282100434.py:2: FutureWarning: The frame.append method is deprecated and will be removed from pandas in a future version. Use pandas.concat instead.\n",
      "  resultados=resultados.append(comprobador(a))\n"
     ]
    },
    {
     "name": "stdout",
     "output_type": "stream",
     "text": [
      "Si está el campo personalizado para la URL 'https://online.universidadeuropea.com/ulacit-costa-rica/'\n"
     ]
    },
    {
     "name": "stderr",
     "output_type": "stream",
     "text": [
      "C:\\Users\\9140\\AppData\\Local\\Temp\\ipykernel_12948\\3282100434.py:2: FutureWarning: The frame.append method is deprecated and will be removed from pandas in a future version. Use pandas.concat instead.\n",
      "  resultados=resultados.append(comprobador(a))\n"
     ]
    },
    {
     "name": "stdout",
     "output_type": "stream",
     "text": [
      "No está el campo personalizado para la URL 'https://estudiar.universidadeuropea.com/reserva-de-plaza-valencia/'\n"
     ]
    },
    {
     "name": "stderr",
     "output_type": "stream",
     "text": [
      "C:\\Users\\9140\\AppData\\Local\\Temp\\ipykernel_12948\\3282100434.py:2: FutureWarning: The frame.append method is deprecated and will be removed from pandas in a future version. Use pandas.concat instead.\n",
      "  resultados=resultados.append(comprobador(a))\n"
     ]
    },
    {
     "name": "stdout",
     "output_type": "stream",
     "text": [
      "No está el campo personalizado para la URL 'https://estudiar.universidadeuropea.com/ciclos-valencia/'\n"
     ]
    },
    {
     "name": "stderr",
     "output_type": "stream",
     "text": [
      "C:\\Users\\9140\\AppData\\Local\\Temp\\ipykernel_12948\\3282100434.py:2: FutureWarning: The frame.append method is deprecated and will be removed from pandas in a future version. Use pandas.concat instead.\n",
      "  resultados=resultados.append(comprobador(a))\n"
     ]
    },
    {
     "name": "stdout",
     "output_type": "stream",
     "text": [
      "Si está el campo personalizado para la URL 'https://estudiar.universidadeuropea.com/master-formacion-permanente-business-analytics/'\n"
     ]
    },
    {
     "name": "stderr",
     "output_type": "stream",
     "text": [
      "C:\\Users\\9140\\AppData\\Local\\Temp\\ipykernel_12948\\3282100434.py:2: FutureWarning: The frame.append method is deprecated and will be removed from pandas in a future version. Use pandas.concat instead.\n",
      "  resultados=resultados.append(comprobador(a))\n"
     ]
    },
    {
     "name": "stdout",
     "output_type": "stream",
     "text": [
      "Si está el campo personalizado para la URL 'https://estudiar.universidadeuropea.com/master-universitario-psicologia-deportiva-landingdual/'\n"
     ]
    },
    {
     "name": "stderr",
     "output_type": "stream",
     "text": [
      "C:\\Users\\9140\\AppData\\Local\\Temp\\ipykernel_12948\\3282100434.py:2: FutureWarning: The frame.append method is deprecated and will be removed from pandas in a future version. Use pandas.concat instead.\n",
      "  resultados=resultados.append(comprobador(a))\n"
     ]
    },
    {
     "ename": "MissingSchema",
     "evalue": "Invalid URL 'EN BORRADOR': No scheme supplied. Perhaps you meant http://EN BORRADOR?",
     "output_type": "error",
     "traceback": [
      "\u001b[1;31m---------------------------------------------------------------------------\u001b[0m",
      "\u001b[1;31mMissingSchema\u001b[0m                             Traceback (most recent call last)",
      "Cell \u001b[1;32mIn[78], line 2\u001b[0m\n\u001b[0;32m      1\u001b[0m \u001b[38;5;28;01mfor\u001b[39;00m a \u001b[38;5;129;01min\u001b[39;00m bbdd[\u001b[38;5;124m\"\u001b[39m\u001b[38;5;124mURL\u001b[39m\u001b[38;5;124m\"\u001b[39m]:\n\u001b[1;32m----> 2\u001b[0m     resultados\u001b[38;5;241m=\u001b[39mresultados\u001b[38;5;241m.\u001b[39mappend(\u001b[43mcomprobador\u001b[49m\u001b[43m(\u001b[49m\u001b[43ma\u001b[49m\u001b[43m)\u001b[49m)\n",
      "Cell \u001b[1;32mIn[68], line 6\u001b[0m, in \u001b[0;36mcomprobador\u001b[1;34m(url)\u001b[0m\n\u001b[0;32m      5\u001b[0m \u001b[38;5;28;01mdef\u001b[39;00m \u001b[38;5;21mcomprobador\u001b[39m(url):\n\u001b[1;32m----> 6\u001b[0m     response \u001b[38;5;241m=\u001b[39m \u001b[43mrequests\u001b[49m\u001b[38;5;241;43m.\u001b[39;49m\u001b[43mget\u001b[49m\u001b[43m(\u001b[49m\u001b[43murl\u001b[49m\u001b[43m)\u001b[49m\n\u001b[0;32m      7\u001b[0m     soup \u001b[38;5;241m=\u001b[39m BeautifulSoup(response\u001b[38;5;241m.\u001b[39mcontent, \u001b[38;5;124m'\u001b[39m\u001b[38;5;124mhtml.parser\u001b[39m\u001b[38;5;124m'\u001b[39m)\n\u001b[0;32m      8\u001b[0m     datalayer_script \u001b[38;5;241m=\u001b[39m soup\u001b[38;5;241m.\u001b[39mfind(\u001b[38;5;124m'\u001b[39m\u001b[38;5;124mscript\u001b[39m\u001b[38;5;124m'\u001b[39m, {\u001b[38;5;124m'\u001b[39m\u001b[38;5;124mdata-name\u001b[39m\u001b[38;5;124m'\u001b[39m: \u001b[38;5;124m'\u001b[39m\u001b[38;5;124mdataLayer\u001b[39m\u001b[38;5;124m'\u001b[39m})\n",
      "File \u001b[1;32m~\\AppData\\Local\\anaconda3\\lib\\site-packages\\requests\\api.py:73\u001b[0m, in \u001b[0;36mget\u001b[1;34m(url, params, **kwargs)\u001b[0m\n\u001b[0;32m     62\u001b[0m \u001b[38;5;28;01mdef\u001b[39;00m \u001b[38;5;21mget\u001b[39m(url, params\u001b[38;5;241m=\u001b[39m\u001b[38;5;28;01mNone\u001b[39;00m, \u001b[38;5;241m*\u001b[39m\u001b[38;5;241m*\u001b[39mkwargs):\n\u001b[0;32m     63\u001b[0m     \u001b[38;5;124mr\u001b[39m\u001b[38;5;124;03m\"\"\"Sends a GET request.\u001b[39;00m\n\u001b[0;32m     64\u001b[0m \n\u001b[0;32m     65\u001b[0m \u001b[38;5;124;03m    :param url: URL for the new :class:`Request` object.\u001b[39;00m\n\u001b[1;32m   (...)\u001b[0m\n\u001b[0;32m     70\u001b[0m \u001b[38;5;124;03m    :rtype: requests.Response\u001b[39;00m\n\u001b[0;32m     71\u001b[0m \u001b[38;5;124;03m    \"\"\"\u001b[39;00m\n\u001b[1;32m---> 73\u001b[0m     \u001b[38;5;28;01mreturn\u001b[39;00m request(\u001b[38;5;124m\"\u001b[39m\u001b[38;5;124mget\u001b[39m\u001b[38;5;124m\"\u001b[39m, url, params\u001b[38;5;241m=\u001b[39mparams, \u001b[38;5;241m*\u001b[39m\u001b[38;5;241m*\u001b[39mkwargs)\n",
      "File \u001b[1;32m~\\AppData\\Local\\anaconda3\\lib\\site-packages\\requests\\api.py:59\u001b[0m, in \u001b[0;36mrequest\u001b[1;34m(method, url, **kwargs)\u001b[0m\n\u001b[0;32m     55\u001b[0m \u001b[38;5;66;03m# By using the 'with' statement we are sure the session is closed, thus we\u001b[39;00m\n\u001b[0;32m     56\u001b[0m \u001b[38;5;66;03m# avoid leaving sockets open which can trigger a ResourceWarning in some\u001b[39;00m\n\u001b[0;32m     57\u001b[0m \u001b[38;5;66;03m# cases, and look like a memory leak in others.\u001b[39;00m\n\u001b[0;32m     58\u001b[0m \u001b[38;5;28;01mwith\u001b[39;00m sessions\u001b[38;5;241m.\u001b[39mSession() \u001b[38;5;28;01mas\u001b[39;00m session:\n\u001b[1;32m---> 59\u001b[0m     \u001b[38;5;28;01mreturn\u001b[39;00m session\u001b[38;5;241m.\u001b[39mrequest(method\u001b[38;5;241m=\u001b[39mmethod, url\u001b[38;5;241m=\u001b[39murl, \u001b[38;5;241m*\u001b[39m\u001b[38;5;241m*\u001b[39mkwargs)\n",
      "File \u001b[1;32m~\\AppData\\Local\\anaconda3\\lib\\site-packages\\requests\\sessions.py:573\u001b[0m, in \u001b[0;36mSession.request\u001b[1;34m(self, method, url, params, data, headers, cookies, files, auth, timeout, allow_redirects, proxies, hooks, stream, verify, cert, json)\u001b[0m\n\u001b[0;32m    560\u001b[0m \u001b[38;5;66;03m# Create the Request.\u001b[39;00m\n\u001b[0;32m    561\u001b[0m req \u001b[38;5;241m=\u001b[39m Request(\n\u001b[0;32m    562\u001b[0m     method\u001b[38;5;241m=\u001b[39mmethod\u001b[38;5;241m.\u001b[39mupper(),\n\u001b[0;32m    563\u001b[0m     url\u001b[38;5;241m=\u001b[39murl,\n\u001b[1;32m   (...)\u001b[0m\n\u001b[0;32m    571\u001b[0m     hooks\u001b[38;5;241m=\u001b[39mhooks,\n\u001b[0;32m    572\u001b[0m )\n\u001b[1;32m--> 573\u001b[0m prep \u001b[38;5;241m=\u001b[39m \u001b[38;5;28;43mself\u001b[39;49m\u001b[38;5;241;43m.\u001b[39;49m\u001b[43mprepare_request\u001b[49m\u001b[43m(\u001b[49m\u001b[43mreq\u001b[49m\u001b[43m)\u001b[49m\n\u001b[0;32m    575\u001b[0m proxies \u001b[38;5;241m=\u001b[39m proxies \u001b[38;5;129;01mor\u001b[39;00m {}\n\u001b[0;32m    577\u001b[0m settings \u001b[38;5;241m=\u001b[39m \u001b[38;5;28mself\u001b[39m\u001b[38;5;241m.\u001b[39mmerge_environment_settings(\n\u001b[0;32m    578\u001b[0m     prep\u001b[38;5;241m.\u001b[39murl, proxies, stream, verify, cert\n\u001b[0;32m    579\u001b[0m )\n",
      "File \u001b[1;32m~\\AppData\\Local\\anaconda3\\lib\\site-packages\\requests\\sessions.py:484\u001b[0m, in \u001b[0;36mSession.prepare_request\u001b[1;34m(self, request)\u001b[0m\n\u001b[0;32m    481\u001b[0m     auth \u001b[38;5;241m=\u001b[39m get_netrc_auth(request\u001b[38;5;241m.\u001b[39murl)\n\u001b[0;32m    483\u001b[0m p \u001b[38;5;241m=\u001b[39m PreparedRequest()\n\u001b[1;32m--> 484\u001b[0m \u001b[43mp\u001b[49m\u001b[38;5;241;43m.\u001b[39;49m\u001b[43mprepare\u001b[49m\u001b[43m(\u001b[49m\n\u001b[0;32m    485\u001b[0m \u001b[43m    \u001b[49m\u001b[43mmethod\u001b[49m\u001b[38;5;241;43m=\u001b[39;49m\u001b[43mrequest\u001b[49m\u001b[38;5;241;43m.\u001b[39;49m\u001b[43mmethod\u001b[49m\u001b[38;5;241;43m.\u001b[39;49m\u001b[43mupper\u001b[49m\u001b[43m(\u001b[49m\u001b[43m)\u001b[49m\u001b[43m,\u001b[49m\n\u001b[0;32m    486\u001b[0m \u001b[43m    \u001b[49m\u001b[43murl\u001b[49m\u001b[38;5;241;43m=\u001b[39;49m\u001b[43mrequest\u001b[49m\u001b[38;5;241;43m.\u001b[39;49m\u001b[43murl\u001b[49m\u001b[43m,\u001b[49m\n\u001b[0;32m    487\u001b[0m \u001b[43m    \u001b[49m\u001b[43mfiles\u001b[49m\u001b[38;5;241;43m=\u001b[39;49m\u001b[43mrequest\u001b[49m\u001b[38;5;241;43m.\u001b[39;49m\u001b[43mfiles\u001b[49m\u001b[43m,\u001b[49m\n\u001b[0;32m    488\u001b[0m \u001b[43m    \u001b[49m\u001b[43mdata\u001b[49m\u001b[38;5;241;43m=\u001b[39;49m\u001b[43mrequest\u001b[49m\u001b[38;5;241;43m.\u001b[39;49m\u001b[43mdata\u001b[49m\u001b[43m,\u001b[49m\n\u001b[0;32m    489\u001b[0m \u001b[43m    \u001b[49m\u001b[43mjson\u001b[49m\u001b[38;5;241;43m=\u001b[39;49m\u001b[43mrequest\u001b[49m\u001b[38;5;241;43m.\u001b[39;49m\u001b[43mjson\u001b[49m\u001b[43m,\u001b[49m\n\u001b[0;32m    490\u001b[0m \u001b[43m    \u001b[49m\u001b[43mheaders\u001b[49m\u001b[38;5;241;43m=\u001b[39;49m\u001b[43mmerge_setting\u001b[49m\u001b[43m(\u001b[49m\n\u001b[0;32m    491\u001b[0m \u001b[43m        \u001b[49m\u001b[43mrequest\u001b[49m\u001b[38;5;241;43m.\u001b[39;49m\u001b[43mheaders\u001b[49m\u001b[43m,\u001b[49m\u001b[43m \u001b[49m\u001b[38;5;28;43mself\u001b[39;49m\u001b[38;5;241;43m.\u001b[39;49m\u001b[43mheaders\u001b[49m\u001b[43m,\u001b[49m\u001b[43m \u001b[49m\u001b[43mdict_class\u001b[49m\u001b[38;5;241;43m=\u001b[39;49m\u001b[43mCaseInsensitiveDict\u001b[49m\n\u001b[0;32m    492\u001b[0m \u001b[43m    \u001b[49m\u001b[43m)\u001b[49m\u001b[43m,\u001b[49m\n\u001b[0;32m    493\u001b[0m \u001b[43m    \u001b[49m\u001b[43mparams\u001b[49m\u001b[38;5;241;43m=\u001b[39;49m\u001b[43mmerge_setting\u001b[49m\u001b[43m(\u001b[49m\u001b[43mrequest\u001b[49m\u001b[38;5;241;43m.\u001b[39;49m\u001b[43mparams\u001b[49m\u001b[43m,\u001b[49m\u001b[43m \u001b[49m\u001b[38;5;28;43mself\u001b[39;49m\u001b[38;5;241;43m.\u001b[39;49m\u001b[43mparams\u001b[49m\u001b[43m)\u001b[49m\u001b[43m,\u001b[49m\n\u001b[0;32m    494\u001b[0m \u001b[43m    \u001b[49m\u001b[43mauth\u001b[49m\u001b[38;5;241;43m=\u001b[39;49m\u001b[43mmerge_setting\u001b[49m\u001b[43m(\u001b[49m\u001b[43mauth\u001b[49m\u001b[43m,\u001b[49m\u001b[43m \u001b[49m\u001b[38;5;28;43mself\u001b[39;49m\u001b[38;5;241;43m.\u001b[39;49m\u001b[43mauth\u001b[49m\u001b[43m)\u001b[49m\u001b[43m,\u001b[49m\n\u001b[0;32m    495\u001b[0m \u001b[43m    \u001b[49m\u001b[43mcookies\u001b[49m\u001b[38;5;241;43m=\u001b[39;49m\u001b[43mmerged_cookies\u001b[49m\u001b[43m,\u001b[49m\n\u001b[0;32m    496\u001b[0m \u001b[43m    \u001b[49m\u001b[43mhooks\u001b[49m\u001b[38;5;241;43m=\u001b[39;49m\u001b[43mmerge_hooks\u001b[49m\u001b[43m(\u001b[49m\u001b[43mrequest\u001b[49m\u001b[38;5;241;43m.\u001b[39;49m\u001b[43mhooks\u001b[49m\u001b[43m,\u001b[49m\u001b[43m \u001b[49m\u001b[38;5;28;43mself\u001b[39;49m\u001b[38;5;241;43m.\u001b[39;49m\u001b[43mhooks\u001b[49m\u001b[43m)\u001b[49m\u001b[43m,\u001b[49m\n\u001b[0;32m    497\u001b[0m \u001b[43m\u001b[49m\u001b[43m)\u001b[49m\n\u001b[0;32m    498\u001b[0m \u001b[38;5;28;01mreturn\u001b[39;00m p\n",
      "File \u001b[1;32m~\\AppData\\Local\\anaconda3\\lib\\site-packages\\requests\\models.py:368\u001b[0m, in \u001b[0;36mPreparedRequest.prepare\u001b[1;34m(self, method, url, headers, files, data, params, auth, cookies, hooks, json)\u001b[0m\n\u001b[0;32m    365\u001b[0m \u001b[38;5;124;03m\"\"\"Prepares the entire request with the given parameters.\"\"\"\u001b[39;00m\n\u001b[0;32m    367\u001b[0m \u001b[38;5;28mself\u001b[39m\u001b[38;5;241m.\u001b[39mprepare_method(method)\n\u001b[1;32m--> 368\u001b[0m \u001b[38;5;28;43mself\u001b[39;49m\u001b[38;5;241;43m.\u001b[39;49m\u001b[43mprepare_url\u001b[49m\u001b[43m(\u001b[49m\u001b[43murl\u001b[49m\u001b[43m,\u001b[49m\u001b[43m \u001b[49m\u001b[43mparams\u001b[49m\u001b[43m)\u001b[49m\n\u001b[0;32m    369\u001b[0m \u001b[38;5;28mself\u001b[39m\u001b[38;5;241m.\u001b[39mprepare_headers(headers)\n\u001b[0;32m    370\u001b[0m \u001b[38;5;28mself\u001b[39m\u001b[38;5;241m.\u001b[39mprepare_cookies(cookies)\n",
      "File \u001b[1;32m~\\AppData\\Local\\anaconda3\\lib\\site-packages\\requests\\models.py:439\u001b[0m, in \u001b[0;36mPreparedRequest.prepare_url\u001b[1;34m(self, url, params)\u001b[0m\n\u001b[0;32m    436\u001b[0m     \u001b[38;5;28;01mraise\u001b[39;00m InvalidURL(\u001b[38;5;241m*\u001b[39me\u001b[38;5;241m.\u001b[39margs)\n\u001b[0;32m    438\u001b[0m \u001b[38;5;28;01mif\u001b[39;00m \u001b[38;5;129;01mnot\u001b[39;00m scheme:\n\u001b[1;32m--> 439\u001b[0m     \u001b[38;5;28;01mraise\u001b[39;00m MissingSchema(\n\u001b[0;32m    440\u001b[0m         \u001b[38;5;124mf\u001b[39m\u001b[38;5;124m\"\u001b[39m\u001b[38;5;124mInvalid URL \u001b[39m\u001b[38;5;132;01m{\u001b[39;00murl\u001b[38;5;132;01m!r}\u001b[39;00m\u001b[38;5;124m: No scheme supplied. \u001b[39m\u001b[38;5;124m\"\u001b[39m\n\u001b[0;32m    441\u001b[0m         \u001b[38;5;124mf\u001b[39m\u001b[38;5;124m\"\u001b[39m\u001b[38;5;124mPerhaps you meant http://\u001b[39m\u001b[38;5;132;01m{\u001b[39;00murl\u001b[38;5;132;01m}\u001b[39;00m\u001b[38;5;124m?\u001b[39m\u001b[38;5;124m\"\u001b[39m\n\u001b[0;32m    442\u001b[0m     )\n\u001b[0;32m    444\u001b[0m \u001b[38;5;28;01mif\u001b[39;00m \u001b[38;5;129;01mnot\u001b[39;00m host:\n\u001b[0;32m    445\u001b[0m     \u001b[38;5;28;01mraise\u001b[39;00m InvalidURL(\u001b[38;5;124mf\u001b[39m\u001b[38;5;124m\"\u001b[39m\u001b[38;5;124mInvalid URL \u001b[39m\u001b[38;5;132;01m{\u001b[39;00murl\u001b[38;5;132;01m!r}\u001b[39;00m\u001b[38;5;124m: No host supplied\u001b[39m\u001b[38;5;124m\"\u001b[39m)\n",
      "\u001b[1;31mMissingSchema\u001b[0m: Invalid URL 'EN BORRADOR': No scheme supplied. Perhaps you meant http://EN BORRADOR?"
     ]
    }
   ],
   "source": [
    "for a in bbdd[\"URL\"]:\n",
    "    resultados=resultados.append(comprobador(a))"
   ]
  },
  {
   "cell_type": "code",
   "execution_count": 81,
   "id": "6527dbe7",
   "metadata": {},
   "outputs": [
    {
     "name": "stdout",
     "output_type": "stream",
     "text": [
      "Si está el campo personalizado para la URL 'https://online.universidadeuropea.com/becas-latinoamerica/'\n"
     ]
    },
    {
     "name": "stderr",
     "output_type": "stream",
     "text": [
      "C:\\Users\\9140\\AppData\\Local\\Temp\\ipykernel_12948\\2671022197.py:4: FutureWarning: The frame.append method is deprecated and will be removed from pandas in a future version. Use pandas.concat instead.\n",
      "  resultados=resultados.append(comprobador(a))\n"
     ]
    },
    {
     "name": "stdout",
     "output_type": "stream",
     "text": [
      "Si está el campo personalizado para la URL 'https://online.universidadeuropea.com/master-universitario-alimentacion-actividad-fisica-deporte-online/'\n"
     ]
    },
    {
     "name": "stderr",
     "output_type": "stream",
     "text": [
      "C:\\Users\\9140\\AppData\\Local\\Temp\\ipykernel_12948\\2671022197.py:4: FutureWarning: The frame.append method is deprecated and will be removed from pandas in a future version. Use pandas.concat instead.\n",
      "  resultados=resultados.append(comprobador(a))\n"
     ]
    },
    {
     "name": "stdout",
     "output_type": "stream",
     "text": [
      "Si está el campo personalizado para la URL 'https://online-colombia.universidadeuropea.com/maestria-oficial-alimentacion-actividad-fisica-deporte-online/'\n"
     ]
    },
    {
     "name": "stderr",
     "output_type": "stream",
     "text": [
      "C:\\Users\\9140\\AppData\\Local\\Temp\\ipykernel_12948\\2671022197.py:4: FutureWarning: The frame.append method is deprecated and will be removed from pandas in a future version. Use pandas.concat instead.\n",
      "  resultados=resultados.append(comprobador(a))\n"
     ]
    },
    {
     "name": "stdout",
     "output_type": "stream",
     "text": [
      "Si está el campo personalizado para la URL 'https://online-ecuador.universidadeuropea.com/maestria-oficial-alimentacion-actividad-fisica-deporte-online/'\n"
     ]
    },
    {
     "name": "stderr",
     "output_type": "stream",
     "text": [
      "C:\\Users\\9140\\AppData\\Local\\Temp\\ipykernel_12948\\2671022197.py:4: FutureWarning: The frame.append method is deprecated and will be removed from pandas in a future version. Use pandas.concat instead.\n",
      "  resultados=resultados.append(comprobador(a))\n"
     ]
    },
    {
     "name": "stdout",
     "output_type": "stream",
     "text": [
      "Si está el campo personalizado para la URL 'https://estudiar.universidadeuropea.com/postgrado-experto-universitario-ejercicio-terapeutico-pacientes-dolor-musculoesqueletico/'\n"
     ]
    },
    {
     "name": "stderr",
     "output_type": "stream",
     "text": [
      "C:\\Users\\9140\\AppData\\Local\\Temp\\ipykernel_12948\\2671022197.py:4: FutureWarning: The frame.append method is deprecated and will be removed from pandas in a future version. Use pandas.concat instead.\n",
      "  resultados=resultados.append(comprobador(a))\n"
     ]
    },
    {
     "name": "stdout",
     "output_type": "stream",
     "text": [
      "Si está el campo personalizado para la URL 'https://online.universidadeuropea.com/master-comunicacion-digital-estrategia-data-online/'\n"
     ]
    },
    {
     "name": "stderr",
     "output_type": "stream",
     "text": [
      "C:\\Users\\9140\\AppData\\Local\\Temp\\ipykernel_12948\\2671022197.py:4: FutureWarning: The frame.append method is deprecated and will be removed from pandas in a future version. Use pandas.concat instead.\n",
      "  resultados=resultados.append(comprobador(a))\n"
     ]
    },
    {
     "name": "stdout",
     "output_type": "stream",
     "text": [
      "Si está el campo personalizado para la URL 'https://online-colombia.universidadeuropea.com/maestria-comunicacion-digital-estrategia-data-en-linea/'\n"
     ]
    },
    {
     "name": "stderr",
     "output_type": "stream",
     "text": [
      "C:\\Users\\9140\\AppData\\Local\\Temp\\ipykernel_12948\\2671022197.py:4: FutureWarning: The frame.append method is deprecated and will be removed from pandas in a future version. Use pandas.concat instead.\n",
      "  resultados=resultados.append(comprobador(a))\n"
     ]
    },
    {
     "name": "stdout",
     "output_type": "stream",
     "text": [
      "Si está el campo personalizado para la URL 'https://online-ecuador.universidadeuropea.com/maestria-comunicacion-digital-estrategia-data-en-linea/'\n"
     ]
    },
    {
     "name": "stderr",
     "output_type": "stream",
     "text": [
      "C:\\Users\\9140\\AppData\\Local\\Temp\\ipykernel_12948\\2671022197.py:4: FutureWarning: The frame.append method is deprecated and will be removed from pandas in a future version. Use pandas.concat instead.\n",
      "  resultados=resultados.append(comprobador(a))\n"
     ]
    },
    {
     "name": "stdout",
     "output_type": "stream",
     "text": [
      "Si está el campo personalizado para la URL 'https://online-colombia.universidadeuropea.com/maestria-oficial-neuroeducacion-dificultades-aprendizaje-santillana/'\n"
     ]
    },
    {
     "name": "stderr",
     "output_type": "stream",
     "text": [
      "C:\\Users\\9140\\AppData\\Local\\Temp\\ipykernel_12948\\2671022197.py:4: FutureWarning: The frame.append method is deprecated and will be removed from pandas in a future version. Use pandas.concat instead.\n",
      "  resultados=resultados.append(comprobador(a))\n"
     ]
    },
    {
     "name": "stdout",
     "output_type": "stream",
     "text": [
      "No está el campo personalizado para la URL 'https://online-colombia.universidadeuropea.com/maestrias-educacion-santillana/'\n"
     ]
    },
    {
     "name": "stderr",
     "output_type": "stream",
     "text": [
      "C:\\Users\\9140\\AppData\\Local\\Temp\\ipykernel_12948\\2671022197.py:4: FutureWarning: The frame.append method is deprecated and will be removed from pandas in a future version. Use pandas.concat instead.\n",
      "  resultados=resultados.append(comprobador(a))\n"
     ]
    },
    {
     "name": "stdout",
     "output_type": "stream",
     "text": [
      "No está el campo personalizado para la URL 'https://estudiar.universidadeuropea.com/turismo-canarias/'\n"
     ]
    },
    {
     "name": "stderr",
     "output_type": "stream",
     "text": [
      "C:\\Users\\9140\\AppData\\Local\\Temp\\ipykernel_12948\\2671022197.py:4: FutureWarning: The frame.append method is deprecated and will be removed from pandas in a future version. Use pandas.concat instead.\n",
      "  resultados=resultados.append(comprobador(a))\n"
     ]
    },
    {
     "name": "stdout",
     "output_type": "stream",
     "text": [
      "No está el campo personalizado para la URL 'https://online.universidadeuropea.com/empresa-follouers/'\n"
     ]
    },
    {
     "name": "stderr",
     "output_type": "stream",
     "text": [
      "C:\\Users\\9140\\AppData\\Local\\Temp\\ipykernel_12948\\2671022197.py:4: FutureWarning: The frame.append method is deprecated and will be removed from pandas in a future version. Use pandas.concat instead.\n",
      "  resultados=resultados.append(comprobador(a))\n"
     ]
    },
    {
     "name": "stdout",
     "output_type": "stream",
     "text": [
      "No está el campo personalizado para la URL 'https://estudiar.universidadeuropea.com/admin/pages/14698/view_draft/?mode=es'\n"
     ]
    },
    {
     "name": "stderr",
     "output_type": "stream",
     "text": [
      "C:\\Users\\9140\\AppData\\Local\\Temp\\ipykernel_12948\\2671022197.py:4: FutureWarning: The frame.append method is deprecated and will be removed from pandas in a future version. Use pandas.concat instead.\n",
      "  resultados=resultados.append(comprobador(a))\n"
     ]
    },
    {
     "name": "stdout",
     "output_type": "stream",
     "text": [
      "No está el campo personalizado para la URL 'https://estudiar.universidadeuropea.com/admin/pages/14700/view_draft/?mode=es'\n"
     ]
    },
    {
     "name": "stderr",
     "output_type": "stream",
     "text": [
      "C:\\Users\\9140\\AppData\\Local\\Temp\\ipykernel_12948\\2671022197.py:4: FutureWarning: The frame.append method is deprecated and will be removed from pandas in a future version. Use pandas.concat instead.\n",
      "  resultados=resultados.append(comprobador(a))\n"
     ]
    },
    {
     "name": "stdout",
     "output_type": "stream",
     "text": [
      "Si está el campo personalizado para la URL 'https://estudiar.universidadeuropea.com/en/bachelors-degree-fundamentals-of-architecture/'\n"
     ]
    },
    {
     "name": "stderr",
     "output_type": "stream",
     "text": [
      "C:\\Users\\9140\\AppData\\Local\\Temp\\ipykernel_12948\\2671022197.py:4: FutureWarning: The frame.append method is deprecated and will be removed from pandas in a future version. Use pandas.concat instead.\n",
      "  resultados=resultados.append(comprobador(a))\n"
     ]
    },
    {
     "name": "stdout",
     "output_type": "stream",
     "text": [
      "Si está el campo personalizado para la URL 'https://estudiar.universidadeuropea.com/grado-en-sociologia/'\n"
     ]
    },
    {
     "name": "stderr",
     "output_type": "stream",
     "text": [
      "C:\\Users\\9140\\AppData\\Local\\Temp\\ipykernel_12948\\2671022197.py:4: FutureWarning: The frame.append method is deprecated and will be removed from pandas in a future version. Use pandas.concat instead.\n",
      "  resultados=resultados.append(comprobador(a))\n"
     ]
    },
    {
     "name": "stdout",
     "output_type": "stream",
     "text": [
      "Si está el campo personalizado para la URL 'https://online.universidadeuropea.com/master-universitario-educacion-bilingue-online/'\n"
     ]
    },
    {
     "name": "stderr",
     "output_type": "stream",
     "text": [
      "C:\\Users\\9140\\AppData\\Local\\Temp\\ipykernel_12948\\2671022197.py:4: FutureWarning: The frame.append method is deprecated and will be removed from pandas in a future version. Use pandas.concat instead.\n",
      "  resultados=resultados.append(comprobador(a))\n"
     ]
    },
    {
     "name": "stdout",
     "output_type": "stream",
     "text": [
      "Si está el campo personalizado para la URL 'https://online-colombia.universidadeuropea.com/maestria-oficial-educacion-bilingue-virtual/'\n"
     ]
    },
    {
     "name": "stderr",
     "output_type": "stream",
     "text": [
      "C:\\Users\\9140\\AppData\\Local\\Temp\\ipykernel_12948\\2671022197.py:4: FutureWarning: The frame.append method is deprecated and will be removed from pandas in a future version. Use pandas.concat instead.\n",
      "  resultados=resultados.append(comprobador(a))\n"
     ]
    },
    {
     "name": "stdout",
     "output_type": "stream",
     "text": [
      "Si está el campo personalizado para la URL 'https://online-ecuador.universidadeuropea.com/maestria-oficial-educacion-bilingue-virtual/'\n"
     ]
    },
    {
     "name": "stderr",
     "output_type": "stream",
     "text": [
      "C:\\Users\\9140\\AppData\\Local\\Temp\\ipykernel_12948\\2671022197.py:4: FutureWarning: The frame.append method is deprecated and will be removed from pandas in a future version. Use pandas.concat instead.\n",
      "  resultados=resultados.append(comprobador(a))\n"
     ]
    },
    {
     "name": "stdout",
     "output_type": "stream",
     "text": [
      "Si está el campo personalizado para la URL 'https://online-colombia.universidadeuropea.com/maestria-oficial-educacion-bilingue-virtual-santillana/'\n"
     ]
    },
    {
     "name": "stderr",
     "output_type": "stream",
     "text": [
      "C:\\Users\\9140\\AppData\\Local\\Temp\\ipykernel_12948\\2671022197.py:4: FutureWarning: The frame.append method is deprecated and will be removed from pandas in a future version. Use pandas.concat instead.\n",
      "  resultados=resultados.append(comprobador(a))\n"
     ]
    },
    {
     "name": "stdout",
     "output_type": "stream",
     "text": [
      "Si está el campo personalizado para la URL 'https://estudiar.universidadeuropea.com/grado-arte-digital-tecnologias-creativas/'\n"
     ]
    },
    {
     "name": "stderr",
     "output_type": "stream",
     "text": [
      "C:\\Users\\9140\\AppData\\Local\\Temp\\ipykernel_12948\\2671022197.py:4: FutureWarning: The frame.append method is deprecated and will be removed from pandas in a future version. Use pandas.concat instead.\n",
      "  resultados=resultados.append(comprobador(a))\n"
     ]
    },
    {
     "name": "stdout",
     "output_type": "stream",
     "text": [
      "Si está el campo personalizado para la URL 'https://online.universidadeuropea.com/masters-online-digital-business/'\n"
     ]
    },
    {
     "name": "stderr",
     "output_type": "stream",
     "text": [
      "C:\\Users\\9140\\AppData\\Local\\Temp\\ipykernel_12948\\2671022197.py:4: FutureWarning: The frame.append method is deprecated and will be removed from pandas in a future version. Use pandas.concat instead.\n",
      "  resultados=resultados.append(comprobador(a))\n"
     ]
    },
    {
     "name": "stdout",
     "output_type": "stream",
     "text": [
      "Si está el campo personalizado para la URL 'https://online-ecuador.universidadeuropea.com/maestria-online-digital-business/'\n"
     ]
    },
    {
     "name": "stderr",
     "output_type": "stream",
     "text": [
      "C:\\Users\\9140\\AppData\\Local\\Temp\\ipykernel_12948\\2671022197.py:4: FutureWarning: The frame.append method is deprecated and will be removed from pandas in a future version. Use pandas.concat instead.\n",
      "  resultados=resultados.append(comprobador(a))\n"
     ]
    },
    {
     "name": "stdout",
     "output_type": "stream",
     "text": [
      "Si está el campo personalizado para la URL 'https://online-colombia.universidadeuropea.com/maestria-online-digital-business/'\n"
     ]
    },
    {
     "name": "stderr",
     "output_type": "stream",
     "text": [
      "C:\\Users\\9140\\AppData\\Local\\Temp\\ipykernel_12948\\2671022197.py:4: FutureWarning: The frame.append method is deprecated and will be removed from pandas in a future version. Use pandas.concat instead.\n",
      "  resultados=resultados.append(comprobador(a))\n"
     ]
    },
    {
     "name": "stdout",
     "output_type": "stream",
     "text": [
      "Si está el campo personalizado para la URL 'https://online.universidadeuropea.com/maestria-online-digital-business/'\n"
     ]
    },
    {
     "name": "stderr",
     "output_type": "stream",
     "text": [
      "C:\\Users\\9140\\AppData\\Local\\Temp\\ipykernel_12948\\2671022197.py:4: FutureWarning: The frame.append method is deprecated and will be removed from pandas in a future version. Use pandas.concat instead.\n",
      "  resultados=resultados.append(comprobador(a))\n"
     ]
    },
    {
     "name": "stdout",
     "output_type": "stream",
     "text": [
      "No está el campo personalizado para la URL 'https://estudiar.universidadeuropea.com/sci-tech-day-jornadas-ciencia-tecnologia/'\n"
     ]
    },
    {
     "name": "stderr",
     "output_type": "stream",
     "text": [
      "C:\\Users\\9140\\AppData\\Local\\Temp\\ipykernel_12948\\2671022197.py:4: FutureWarning: The frame.append method is deprecated and will be removed from pandas in a future version. Use pandas.concat instead.\n",
      "  resultados=resultados.append(comprobador(a))\n"
     ]
    },
    {
     "name": "stdout",
     "output_type": "stream",
     "text": [
      "Si está el campo personalizado para la URL 'https://estudiar.universidadeuropea.com/master-formacion-permanente-seguridad-alimentaria-tecnologia-gestion-empresa-alimentaria/'\n"
     ]
    },
    {
     "name": "stderr",
     "output_type": "stream",
     "text": [
      "C:\\Users\\9140\\AppData\\Local\\Temp\\ipykernel_12948\\2671022197.py:4: FutureWarning: The frame.append method is deprecated and will be removed from pandas in a future version. Use pandas.concat instead.\n",
      "  resultados=resultados.append(comprobador(a))\n"
     ]
    },
    {
     "name": "stdout",
     "output_type": "stream",
     "text": [
      "Si está el campo personalizado para la URL 'https://estudiar.universidadeuropea.com/master-universitario-marketing-deportivo-landingdual/'\n"
     ]
    },
    {
     "name": "stderr",
     "output_type": "stream",
     "text": [
      "C:\\Users\\9140\\AppData\\Local\\Temp\\ipykernel_12948\\2671022197.py:4: FutureWarning: The frame.append method is deprecated and will be removed from pandas in a future version. Use pandas.concat instead.\n",
      "  resultados=resultados.append(comprobador(a))\n"
     ]
    },
    {
     "name": "stdout",
     "output_type": "stream",
     "text": [
      "No está el campo personalizado para la URL 'https://estudiar.universidadeuropea.com/en/open-day-virtual-valencia/'\n"
     ]
    },
    {
     "name": "stderr",
     "output_type": "stream",
     "text": [
      "C:\\Users\\9140\\AppData\\Local\\Temp\\ipykernel_12948\\2671022197.py:4: FutureWarning: The frame.append method is deprecated and will be removed from pandas in a future version. Use pandas.concat instead.\n",
      "  resultados=resultados.append(comprobador(a))\n"
     ]
    },
    {
     "name": "stdout",
     "output_type": "stream",
     "text": [
      "No está el campo personalizado para la URL 'https://estudiar.universidadeuropea.com/demostracion-clinica-ecografia-fisioterapeutas/'\n"
     ]
    },
    {
     "name": "stderr",
     "output_type": "stream",
     "text": [
      "C:\\Users\\9140\\AppData\\Local\\Temp\\ipykernel_12948\\2671022197.py:4: FutureWarning: The frame.append method is deprecated and will be removed from pandas in a future version. Use pandas.concat instead.\n",
      "  resultados=resultados.append(comprobador(a))\n"
     ]
    },
    {
     "name": "stdout",
     "output_type": "stream",
     "text": [
      "No está el campo personalizado para la URL 'https://estudiar.universidadeuropea.com/pensando-en-seguir-estudiando/'\n"
     ]
    },
    {
     "name": "stderr",
     "output_type": "stream",
     "text": [
      "C:\\Users\\9140\\AppData\\Local\\Temp\\ipykernel_12948\\2671022197.py:4: FutureWarning: The frame.append method is deprecated and will be removed from pandas in a future version. Use pandas.concat instead.\n",
      "  resultados=resultados.append(comprobador(a))\n"
     ]
    },
    {
     "name": "stdout",
     "output_type": "stream",
     "text": [
      "Si está el campo personalizado para la URL 'https://online.universidadeuropea.com/master-universitario-derecho-de-familia-online/'\n"
     ]
    },
    {
     "name": "stderr",
     "output_type": "stream",
     "text": [
      "C:\\Users\\9140\\AppData\\Local\\Temp\\ipykernel_12948\\2671022197.py:4: FutureWarning: The frame.append method is deprecated and will be removed from pandas in a future version. Use pandas.concat instead.\n",
      "  resultados=resultados.append(comprobador(a))\n"
     ]
    },
    {
     "name": "stdout",
     "output_type": "stream",
     "text": [
      "Si está el campo personalizado para la URL 'https://estudiar.universidadeuropea.com/masters-postgrados-diseno/'\n"
     ]
    },
    {
     "name": "stderr",
     "output_type": "stream",
     "text": [
      "C:\\Users\\9140\\AppData\\Local\\Temp\\ipykernel_12948\\2671022197.py:4: FutureWarning: The frame.append method is deprecated and will be removed from pandas in a future version. Use pandas.concat instead.\n",
      "  resultados=resultados.append(comprobador(a))\n"
     ]
    },
    {
     "name": "stdout",
     "output_type": "stream",
     "text": [
      "Si está el campo personalizado para la URL 'https://online.universidadeuropea.com/master-universitario-en-marketing-deportivo-online/'\n"
     ]
    },
    {
     "name": "stderr",
     "output_type": "stream",
     "text": [
      "C:\\Users\\9140\\AppData\\Local\\Temp\\ipykernel_12948\\2671022197.py:4: FutureWarning: The frame.append method is deprecated and will be removed from pandas in a future version. Use pandas.concat instead.\n",
      "  resultados=resultados.append(comprobador(a))\n"
     ]
    },
    {
     "name": "stdout",
     "output_type": "stream",
     "text": [
      "No está el campo personalizado para la URL 'https://online.universidadeuropea.com/admin/pages/14895/view_draft/?mode=es'\n"
     ]
    },
    {
     "name": "stderr",
     "output_type": "stream",
     "text": [
      "C:\\Users\\9140\\AppData\\Local\\Temp\\ipykernel_12948\\2671022197.py:4: FutureWarning: The frame.append method is deprecated and will be removed from pandas in a future version. Use pandas.concat instead.\n",
      "  resultados=resultados.append(comprobador(a))\n"
     ]
    },
    {
     "name": "stdout",
     "output_type": "stream",
     "text": [
      "Si está el campo personalizado para la URL 'https://estudiar.universidadeuropea.com/master-formacion-permanente-produccion-creativa-ficcion-documentales/'\n"
     ]
    },
    {
     "name": "stderr",
     "output_type": "stream",
     "text": [
      "C:\\Users\\9140\\AppData\\Local\\Temp\\ipykernel_12948\\2671022197.py:4: FutureWarning: The frame.append method is deprecated and will be removed from pandas in a future version. Use pandas.concat instead.\n",
      "  resultados=resultados.append(comprobador(a))\n"
     ]
    },
    {
     "name": "stdout",
     "output_type": "stream",
     "text": [
      "Si está el campo personalizado para la URL 'https://online.universidadeuropea.com/grado-superior-documentacion-administracion-sanitarias-online/'\n"
     ]
    },
    {
     "name": "stderr",
     "output_type": "stream",
     "text": [
      "C:\\Users\\9140\\AppData\\Local\\Temp\\ipykernel_12948\\2671022197.py:4: FutureWarning: The frame.append method is deprecated and will be removed from pandas in a future version. Use pandas.concat instead.\n",
      "  resultados=resultados.append(comprobador(a))\n"
     ]
    },
    {
     "name": "stdout",
     "output_type": "stream",
     "text": [
      "Si está el campo personalizado para la URL 'https://estudiar.universidadeuropea.com/master-universitario-fisioterapia-invasiva/'\n"
     ]
    },
    {
     "name": "stderr",
     "output_type": "stream",
     "text": [
      "C:\\Users\\9140\\AppData\\Local\\Temp\\ipykernel_12948\\2671022197.py:4: FutureWarning: The frame.append method is deprecated and will be removed from pandas in a future version. Use pandas.concat instead.\n",
      "  resultados=resultados.append(comprobador(a))\n"
     ]
    },
    {
     "name": "stdout",
     "output_type": "stream",
     "text": [
      "Si está el campo personalizado para la URL 'https://estudiar.universidadeuropea.com/master-en-direccion-comercial-y-ventas/'\n"
     ]
    },
    {
     "name": "stderr",
     "output_type": "stream",
     "text": [
      "C:\\Users\\9140\\AppData\\Local\\Temp\\ipykernel_12948\\2671022197.py:4: FutureWarning: The frame.append method is deprecated and will be removed from pandas in a future version. Use pandas.concat instead.\n",
      "  resultados=resultados.append(comprobador(a))\n"
     ]
    },
    {
     "name": "stdout",
     "output_type": "stream",
     "text": [
      "Si está el campo personalizado para la URL 'https://online.universidadeuropea.com/grado-universitario-ciencias-politicas-online/'\n"
     ]
    },
    {
     "name": "stderr",
     "output_type": "stream",
     "text": [
      "C:\\Users\\9140\\AppData\\Local\\Temp\\ipykernel_12948\\2671022197.py:4: FutureWarning: The frame.append method is deprecated and will be removed from pandas in a future version. Use pandas.concat instead.\n",
      "  resultados=resultados.append(comprobador(a))\n"
     ]
    },
    {
     "name": "stdout",
     "output_type": "stream",
     "text": [
      "Si está el campo personalizado para la URL 'https://estudiar.universidadeuropea.com/masters-postgrados-derecho-latam/'\n"
     ]
    },
    {
     "name": "stderr",
     "output_type": "stream",
     "text": [
      "C:\\Users\\9140\\AppData\\Local\\Temp\\ipykernel_12948\\2671022197.py:4: FutureWarning: The frame.append method is deprecated and will be removed from pandas in a future version. Use pandas.concat instead.\n",
      "  resultados=resultados.append(comprobador(a))\n"
     ]
    },
    {
     "name": "stdout",
     "output_type": "stream",
     "text": [
      "Si está el campo personalizado para la URL 'https://estudiar.universidadeuropea.com/masters-postgrados-empresa-latam/'\n"
     ]
    },
    {
     "name": "stderr",
     "output_type": "stream",
     "text": [
      "C:\\Users\\9140\\AppData\\Local\\Temp\\ipykernel_12948\\2671022197.py:4: FutureWarning: The frame.append method is deprecated and will be removed from pandas in a future version. Use pandas.concat instead.\n",
      "  resultados=resultados.append(comprobador(a))\n"
     ]
    },
    {
     "name": "stdout",
     "output_type": "stream",
     "text": [
      "Si está el campo personalizado para la URL 'https://estudiar.universidadeuropea.com/area-fisioterapia-latam/'\n"
     ]
    },
    {
     "name": "stderr",
     "output_type": "stream",
     "text": [
      "C:\\Users\\9140\\AppData\\Local\\Temp\\ipykernel_12948\\2671022197.py:4: FutureWarning: The frame.append method is deprecated and will be removed from pandas in a future version. Use pandas.concat instead.\n",
      "  resultados=resultados.append(comprobador(a))\n"
     ]
    },
    {
     "name": "stdout",
     "output_type": "stream",
     "text": [
      "Si está el campo personalizado para la URL 'https://estudiar.universidadeuropea.com/master-formacion-permanente-fisioterapia-dermatofuncional/'\n"
     ]
    },
    {
     "name": "stderr",
     "output_type": "stream",
     "text": [
      "C:\\Users\\9140\\AppData\\Local\\Temp\\ipykernel_12948\\2671022197.py:4: FutureWarning: The frame.append method is deprecated and will be removed from pandas in a future version. Use pandas.concat instead.\n",
      "  resultados=resultados.append(comprobador(a))\n"
     ]
    },
    {
     "name": "stdout",
     "output_type": "stream",
     "text": [
      "Si está el campo personalizado para la URL 'https://estudiar.universidadeuropea.com/masters-postgrados-salud-latam/'\n"
     ]
    },
    {
     "name": "stderr",
     "output_type": "stream",
     "text": [
      "C:\\Users\\9140\\AppData\\Local\\Temp\\ipykernel_12948\\2671022197.py:4: FutureWarning: The frame.append method is deprecated and will be removed from pandas in a future version. Use pandas.concat instead.\n",
      "  resultados=resultados.append(comprobador(a))\n"
     ]
    },
    {
     "name": "stdout",
     "output_type": "stream",
     "text": [
      "Si está el campo personalizado para la URL 'https://estudiar.universidadeuropea.com/masters-postgrados-diseno-latam/'\n"
     ]
    },
    {
     "name": "stderr",
     "output_type": "stream",
     "text": [
      "C:\\Users\\9140\\AppData\\Local\\Temp\\ipykernel_12948\\2671022197.py:4: FutureWarning: The frame.append method is deprecated and will be removed from pandas in a future version. Use pandas.concat instead.\n",
      "  resultados=resultados.append(comprobador(a))\n"
     ]
    },
    {
     "name": "stdout",
     "output_type": "stream",
     "text": [
      "Si está el campo personalizado para la URL 'https://estudiar.universidadeuropea.com/postgrado-experto-universitario-cirugia-maxilofacial-reconstructiva-pequenos-animales/'\n"
     ]
    },
    {
     "name": "stderr",
     "output_type": "stream",
     "text": [
      "C:\\Users\\9140\\AppData\\Local\\Temp\\ipykernel_12948\\2671022197.py:4: FutureWarning: The frame.append method is deprecated and will be removed from pandas in a future version. Use pandas.concat instead.\n",
      "  resultados=resultados.append(comprobador(a))\n"
     ]
    },
    {
     "name": "stdout",
     "output_type": "stream",
     "text": [
      "Si está el campo personalizado para la URL 'https://estudiar.universidadeuropea.com/postgrado-experto-universitario-odontologia-cirugia-oral-pequenos-animales/'\n"
     ]
    },
    {
     "name": "stderr",
     "output_type": "stream",
     "text": [
      "C:\\Users\\9140\\AppData\\Local\\Temp\\ipykernel_12948\\2671022197.py:4: FutureWarning: The frame.append method is deprecated and will be removed from pandas in a future version. Use pandas.concat instead.\n",
      "  resultados=resultados.append(comprobador(a))\n"
     ]
    },
    {
     "name": "stdout",
     "output_type": "stream",
     "text": [
      "Si está el campo personalizado para la URL 'https://estudiar.universidadeuropea.com/master-formacion-permanente-gestion-integral-bienestar-veterinaria-acuarios-zoologicos-siglo-xxi/'\n"
     ]
    },
    {
     "name": "stderr",
     "output_type": "stream",
     "text": [
      "C:\\Users\\9140\\AppData\\Local\\Temp\\ipykernel_12948\\2671022197.py:4: FutureWarning: The frame.append method is deprecated and will be removed from pandas in a future version. Use pandas.concat instead.\n",
      "  resultados=resultados.append(comprobador(a))\n"
     ]
    },
    {
     "name": "stdout",
     "output_type": "stream",
     "text": [
      "Si está el campo personalizado para la URL 'https://online.universidadeuropea.com/grado-superior-integracion-social-online/'\n"
     ]
    },
    {
     "name": "stderr",
     "output_type": "stream",
     "text": [
      "C:\\Users\\9140\\AppData\\Local\\Temp\\ipykernel_12948\\2671022197.py:4: FutureWarning: The frame.append method is deprecated and will be removed from pandas in a future version. Use pandas.concat instead.\n",
      "  resultados=resultados.append(comprobador(a))\n"
     ]
    },
    {
     "name": "stdout",
     "output_type": "stream",
     "text": [
      "Si está el campo personalizado para la URL 'https://estudiar.universidadeuropea.com/postgrado-especializacion-universitaria-dolor-orofacial-medicina-oral-medicina-dental-del-sueno/'\n"
     ]
    },
    {
     "name": "stderr",
     "output_type": "stream",
     "text": [
      "C:\\Users\\9140\\AppData\\Local\\Temp\\ipykernel_12948\\2671022197.py:4: FutureWarning: The frame.append method is deprecated and will be removed from pandas in a future version. Use pandas.concat instead.\n",
      "  resultados=resultados.append(comprobador(a))\n"
     ]
    },
    {
     "name": "stdout",
     "output_type": "stream",
     "text": [
      "No está el campo personalizado para la URL 'https://estudiar.universidadeuropea.com/en/open-day-virtual-valencia-27-march/'\n"
     ]
    },
    {
     "name": "stderr",
     "output_type": "stream",
     "text": [
      "C:\\Users\\9140\\AppData\\Local\\Temp\\ipykernel_12948\\2671022197.py:4: FutureWarning: The frame.append method is deprecated and will be removed from pandas in a future version. Use pandas.concat instead.\n",
      "  resultados=resultados.append(comprobador(a))\n"
     ]
    },
    {
     "name": "stdout",
     "output_type": "stream",
     "text": [
      "Si está el campo personalizado para la URL 'https://estudiar.universidadeuropea.com/masters-area-fisioterapia/'\n"
     ]
    },
    {
     "name": "stderr",
     "output_type": "stream",
     "text": [
      "C:\\Users\\9140\\AppData\\Local\\Temp\\ipykernel_12948\\2671022197.py:4: FutureWarning: The frame.append method is deprecated and will be removed from pandas in a future version. Use pandas.concat instead.\n",
      "  resultados=resultados.append(comprobador(a))\n"
     ]
    },
    {
     "name": "stdout",
     "output_type": "stream",
     "text": [
      "No está el campo personalizado para la URL 'https://universidadeuropea.com/admin/pages/14994/view_draft/?mode=es'\n"
     ]
    },
    {
     "name": "stderr",
     "output_type": "stream",
     "text": [
      "C:\\Users\\9140\\AppData\\Local\\Temp\\ipykernel_12948\\2671022197.py:4: FutureWarning: The frame.append method is deprecated and will be removed from pandas in a future version. Use pandas.concat instead.\n",
      "  resultados=resultados.append(comprobador(a))\n"
     ]
    },
    {
     "name": "stdout",
     "output_type": "stream",
     "text": [
      "No está el campo personalizado para la URL 'https://online-ecuador.universidadeuropea.com/maestria-oficial-diseno-interiores-en-linea/'\n"
     ]
    },
    {
     "name": "stderr",
     "output_type": "stream",
     "text": [
      "C:\\Users\\9140\\AppData\\Local\\Temp\\ipykernel_12948\\2671022197.py:4: FutureWarning: The frame.append method is deprecated and will be removed from pandas in a future version. Use pandas.concat instead.\n",
      "  resultados=resultados.append(comprobador(a))\n"
     ]
    },
    {
     "name": "stdout",
     "output_type": "stream",
     "text": [
      "No está el campo personalizado para la URL 'https://online-colombia.universidadeuropea.com/maestria-oficial-diseno-interiores-en-linea/'\n"
     ]
    },
    {
     "name": "stderr",
     "output_type": "stream",
     "text": [
      "C:\\Users\\9140\\AppData\\Local\\Temp\\ipykernel_12948\\2671022197.py:4: FutureWarning: The frame.append method is deprecated and will be removed from pandas in a future version. Use pandas.concat instead.\n",
      "  resultados=resultados.append(comprobador(a))\n"
     ]
    },
    {
     "name": "stdout",
     "output_type": "stream",
     "text": [
      "Si está el campo personalizado para la URL 'https://online-colombia.universidadeuropea.com/becas-mindefensa-colombia/'\n"
     ]
    },
    {
     "name": "stderr",
     "output_type": "stream",
     "text": [
      "C:\\Users\\9140\\AppData\\Local\\Temp\\ipykernel_12948\\2671022197.py:4: FutureWarning: The frame.append method is deprecated and will be removed from pandas in a future version. Use pandas.concat instead.\n",
      "  resultados=resultados.append(comprobador(a))\n"
     ]
    },
    {
     "name": "stdout",
     "output_type": "stream",
     "text": [
      "Si está el campo personalizado para la URL 'https://estudiar.universidadeuropea.com/master-formacion-permanente-direccion-gestion-empresas-mba/'\n"
     ]
    },
    {
     "name": "stderr",
     "output_type": "stream",
     "text": [
      "C:\\Users\\9140\\AppData\\Local\\Temp\\ipykernel_12948\\2671022197.py:4: FutureWarning: The frame.append method is deprecated and will be removed from pandas in a future version. Use pandas.concat instead.\n",
      "  resultados=resultados.append(comprobador(a))\n"
     ]
    },
    {
     "name": "stdout",
     "output_type": "stream",
     "text": [
      "Si está el campo personalizado para la URL 'https://estudiar.universidadeuropea.com/maestria-formacion-permanente-direccion-gestion-empresas-mba/'\n"
     ]
    },
    {
     "name": "stderr",
     "output_type": "stream",
     "text": [
      "C:\\Users\\9140\\AppData\\Local\\Temp\\ipykernel_12948\\2671022197.py:4: FutureWarning: The frame.append method is deprecated and will be removed from pandas in a future version. Use pandas.concat instead.\n",
      "  resultados=resultados.append(comprobador(a))\n"
     ]
    },
    {
     "name": "stdout",
     "output_type": "stream",
     "text": [
      "Si está el campo personalizado para la URL 'https://estudiar.universidadeuropea.com/maestria-business-analytics-latam/'\n"
     ]
    },
    {
     "name": "stderr",
     "output_type": "stream",
     "text": [
      "C:\\Users\\9140\\AppData\\Local\\Temp\\ipykernel_12948\\2671022197.py:4: FutureWarning: The frame.append method is deprecated and will be removed from pandas in a future version. Use pandas.concat instead.\n",
      "  resultados=resultados.append(comprobador(a))\n"
     ]
    },
    {
     "name": "stdout",
     "output_type": "stream",
     "text": [
      "Si está el campo personalizado para la URL 'https://estudiar.universidadeuropea.com/grado-superior-acondicionamiento-fisico-landingdual/'\n"
     ]
    },
    {
     "name": "stderr",
     "output_type": "stream",
     "text": [
      "C:\\Users\\9140\\AppData\\Local\\Temp\\ipykernel_12948\\2671022197.py:4: FutureWarning: The frame.append method is deprecated and will be removed from pandas in a future version. Use pandas.concat instead.\n",
      "  resultados=resultados.append(comprobador(a))\n"
     ]
    },
    {
     "name": "stdout",
     "output_type": "stream",
     "text": [
      "Si está el campo personalizado para la URL 'https://estudiar.universidadeuropea.com/master-formacion-permanente-creacion-videojuegos-metaverso/'\n"
     ]
    },
    {
     "name": "stderr",
     "output_type": "stream",
     "text": [
      "C:\\Users\\9140\\AppData\\Local\\Temp\\ipykernel_12948\\2671022197.py:4: FutureWarning: The frame.append method is deprecated and will be removed from pandas in a future version. Use pandas.concat instead.\n",
      "  resultados=resultados.append(comprobador(a))\n"
     ]
    },
    {
     "name": "stdout",
     "output_type": "stream",
     "text": [
      "Si está el campo personalizado para la URL 'https://estudiar.universidadeuropea.com/grado-bioinformatica/'\n"
     ]
    },
    {
     "name": "stderr",
     "output_type": "stream",
     "text": [
      "C:\\Users\\9140\\AppData\\Local\\Temp\\ipykernel_12948\\2671022197.py:4: FutureWarning: The frame.append method is deprecated and will be removed from pandas in a future version. Use pandas.concat instead.\n",
      "  resultados=resultados.append(comprobador(a))\n"
     ]
    },
    {
     "name": "stdout",
     "output_type": "stream",
     "text": [
      "Si está el campo personalizado para la URL 'https://estudiar.universidadeuropea.com/master-formacion-permanente-estetica-rehabilitacion-oral/'\n"
     ]
    },
    {
     "name": "stderr",
     "output_type": "stream",
     "text": [
      "C:\\Users\\9140\\AppData\\Local\\Temp\\ipykernel_12948\\2671022197.py:4: FutureWarning: The frame.append method is deprecated and will be removed from pandas in a future version. Use pandas.concat instead.\n",
      "  resultados=resultados.append(comprobador(a))\n"
     ]
    },
    {
     "name": "stdout",
     "output_type": "stream",
     "text": [
      "Si está el campo personalizado para la URL 'https://online.universidadeuropea.com/master-direccion-comercio-electronico/'\n"
     ]
    },
    {
     "name": "stderr",
     "output_type": "stream",
     "text": [
      "C:\\Users\\9140\\AppData\\Local\\Temp\\ipykernel_12948\\2671022197.py:4: FutureWarning: The frame.append method is deprecated and will be removed from pandas in a future version. Use pandas.concat instead.\n",
      "  resultados=resultados.append(comprobador(a))\n"
     ]
    },
    {
     "name": "stdout",
     "output_type": "stream",
     "text": [
      "Si está el campo personalizado para la URL 'https://online-ecuador.universidadeuropea.com/maestria-direccion-comercio-electronico/'\n"
     ]
    },
    {
     "name": "stderr",
     "output_type": "stream",
     "text": [
      "C:\\Users\\9140\\AppData\\Local\\Temp\\ipykernel_12948\\2671022197.py:4: FutureWarning: The frame.append method is deprecated and will be removed from pandas in a future version. Use pandas.concat instead.\n",
      "  resultados=resultados.append(comprobador(a))\n"
     ]
    },
    {
     "name": "stdout",
     "output_type": "stream",
     "text": [
      "Si está el campo personalizado para la URL 'https://online-colombia.universidadeuropea.com/maestria-direccion-comercio-electronico/'\n"
     ]
    },
    {
     "name": "stderr",
     "output_type": "stream",
     "text": [
      "C:\\Users\\9140\\AppData\\Local\\Temp\\ipykernel_12948\\2671022197.py:4: FutureWarning: The frame.append method is deprecated and will be removed from pandas in a future version. Use pandas.concat instead.\n",
      "  resultados=resultados.append(comprobador(a))\n"
     ]
    },
    {
     "name": "stdout",
     "output_type": "stream",
     "text": [
      "Si está el campo personalizado para la URL 'https://estudiar.universidadeuropea.com/master-formacion-permanente-direccion-gestion-financiera/'\n"
     ]
    },
    {
     "name": "stderr",
     "output_type": "stream",
     "text": [
      "C:\\Users\\9140\\AppData\\Local\\Temp\\ipykernel_12948\\2671022197.py:4: FutureWarning: The frame.append method is deprecated and will be removed from pandas in a future version. Use pandas.concat instead.\n",
      "  resultados=resultados.append(comprobador(a))\n"
     ]
    },
    {
     "name": "stdout",
     "output_type": "stream",
     "text": [
      "Si está el campo personalizado para la URL 'https://estudiar.universidadeuropea.com/postgrado-experto-universitario-electrofisiologia-electrocardiografial-pequenos-animales/'\n"
     ]
    },
    {
     "name": "stderr",
     "output_type": "stream",
     "text": [
      "C:\\Users\\9140\\AppData\\Local\\Temp\\ipykernel_12948\\2671022197.py:4: FutureWarning: The frame.append method is deprecated and will be removed from pandas in a future version. Use pandas.concat instead.\n",
      "  resultados=resultados.append(comprobador(a))\n"
     ]
    },
    {
     "name": "stdout",
     "output_type": "stream",
     "text": [
      "Si está el campo personalizado para la URL 'https://online.universidadeuropea.com/masteres-para-maestros-didactica-lengua/'\n"
     ]
    },
    {
     "name": "stderr",
     "output_type": "stream",
     "text": [
      "C:\\Users\\9140\\AppData\\Local\\Temp\\ipykernel_12948\\2671022197.py:4: FutureWarning: The frame.append method is deprecated and will be removed from pandas in a future version. Use pandas.concat instead.\n",
      "  resultados=resultados.append(comprobador(a))\n"
     ]
    },
    {
     "name": "stdout",
     "output_type": "stream",
     "text": [
      "Si está el campo personalizado para la URL 'https://online-ecuador.universidadeuropea.com/maestrias-para-maestros-didactica-lengua/'\n"
     ]
    },
    {
     "name": "stderr",
     "output_type": "stream",
     "text": [
      "C:\\Users\\9140\\AppData\\Local\\Temp\\ipykernel_12948\\2671022197.py:4: FutureWarning: The frame.append method is deprecated and will be removed from pandas in a future version. Use pandas.concat instead.\n",
      "  resultados=resultados.append(comprobador(a))\n"
     ]
    },
    {
     "name": "stdout",
     "output_type": "stream",
     "text": [
      "Si está el campo personalizado para la URL 'https://online-colombia.universidadeuropea.com/maestrias-para-maestros-didactica-lengua/'\n"
     ]
    },
    {
     "name": "stderr",
     "output_type": "stream",
     "text": [
      "C:\\Users\\9140\\AppData\\Local\\Temp\\ipykernel_12948\\2671022197.py:4: FutureWarning: The frame.append method is deprecated and will be removed from pandas in a future version. Use pandas.concat instead.\n",
      "  resultados=resultados.append(comprobador(a))\n"
     ]
    },
    {
     "name": "stdout",
     "output_type": "stream",
     "text": [
      "Si está el campo personalizado para la URL 'https://online.universidadeuropea.com/maestrias-para-maestros-peru/'\n"
     ]
    },
    {
     "name": "stderr",
     "output_type": "stream",
     "text": [
      "C:\\Users\\9140\\AppData\\Local\\Temp\\ipykernel_12948\\2671022197.py:4: FutureWarning: The frame.append method is deprecated and will be removed from pandas in a future version. Use pandas.concat instead.\n",
      "  resultados=resultados.append(comprobador(a))\n"
     ]
    },
    {
     "name": "stdout",
     "output_type": "stream",
     "text": [
      "Si está el campo personalizado para la URL 'https://estudiar.universidadeuropea.com/master-direccion-financiera-landingdual/'\n"
     ]
    },
    {
     "name": "stderr",
     "output_type": "stream",
     "text": [
      "C:\\Users\\9140\\AppData\\Local\\Temp\\ipykernel_12948\\2671022197.py:4: FutureWarning: The frame.append method is deprecated and will be removed from pandas in a future version. Use pandas.concat instead.\n",
      "  resultados=resultados.append(comprobador(a))\n"
     ]
    },
    {
     "name": "stdout",
     "output_type": "stream",
     "text": [
      "Si está el campo personalizado para la URL 'https://estudiar.universidadeuropea.com/master-universitario-fisioterapia-oncologica/'\n"
     ]
    },
    {
     "name": "stderr",
     "output_type": "stream",
     "text": [
      "C:\\Users\\9140\\AppData\\Local\\Temp\\ipykernel_12948\\2671022197.py:4: FutureWarning: The frame.append method is deprecated and will be removed from pandas in a future version. Use pandas.concat instead.\n",
      "  resultados=resultados.append(comprobador(a))\n"
     ]
    },
    {
     "name": "stdout",
     "output_type": "stream",
     "text": [
      "Si está el campo personalizado para la URL 'https://online.universidadeuropea.com/grado-historia-online/'\n"
     ]
    },
    {
     "name": "stderr",
     "output_type": "stream",
     "text": [
      "C:\\Users\\9140\\AppData\\Local\\Temp\\ipykernel_12948\\2671022197.py:4: FutureWarning: The frame.append method is deprecated and will be removed from pandas in a future version. Use pandas.concat instead.\n",
      "  resultados=resultados.append(comprobador(a))\n"
     ]
    },
    {
     "name": "stdout",
     "output_type": "stream",
     "text": [
      "Si está el campo personalizado para la URL 'https://online.universidadeuropea.com/master-derecho-digital-tecnologico-online/'\n"
     ]
    },
    {
     "name": "stderr",
     "output_type": "stream",
     "text": [
      "C:\\Users\\9140\\AppData\\Local\\Temp\\ipykernel_12948\\2671022197.py:4: FutureWarning: The frame.append method is deprecated and will be removed from pandas in a future version. Use pandas.concat instead.\n",
      "  resultados=resultados.append(comprobador(a))\n"
     ]
    },
    {
     "name": "stdout",
     "output_type": "stream",
     "text": [
      "Si está el campo personalizado para la URL 'https://online-ecuador.universidadeuropea.com/maestria-derecho-digital-tecnologico-en-linea/'\n"
     ]
    },
    {
     "name": "stderr",
     "output_type": "stream",
     "text": [
      "C:\\Users\\9140\\AppData\\Local\\Temp\\ipykernel_12948\\2671022197.py:4: FutureWarning: The frame.append method is deprecated and will be removed from pandas in a future version. Use pandas.concat instead.\n",
      "  resultados=resultados.append(comprobador(a))\n"
     ]
    },
    {
     "name": "stdout",
     "output_type": "stream",
     "text": [
      "Si está el campo personalizado para la URL 'https://online-colombia.universidadeuropea.com/maestria-derecho-digital-tecnologico-en-linea/'\n"
     ]
    },
    {
     "name": "stderr",
     "output_type": "stream",
     "text": [
      "C:\\Users\\9140\\AppData\\Local\\Temp\\ipykernel_12948\\2671022197.py:4: FutureWarning: The frame.append method is deprecated and will be removed from pandas in a future version. Use pandas.concat instead.\n",
      "  resultados=resultados.append(comprobador(a))\n"
     ]
    },
    {
     "name": "stdout",
     "output_type": "stream",
     "text": [
      "Si está el campo personalizado para la URL 'https://online.universidadeuropea.com/master-universitario-violencia-genero-politicas-igualdad-online/'\n"
     ]
    },
    {
     "name": "stderr",
     "output_type": "stream",
     "text": [
      "C:\\Users\\9140\\AppData\\Local\\Temp\\ipykernel_12948\\2671022197.py:4: FutureWarning: The frame.append method is deprecated and will be removed from pandas in a future version. Use pandas.concat instead.\n",
      "  resultados=resultados.append(comprobador(a))\n"
     ]
    },
    {
     "name": "stdout",
     "output_type": "stream",
     "text": [
      "Si está el campo personalizado para la URL 'https://online-ecuador.universidadeuropea.com/maestria-violencia-genero-politicas-igualdad-en-linea/'\n"
     ]
    },
    {
     "name": "stderr",
     "output_type": "stream",
     "text": [
      "C:\\Users\\9140\\AppData\\Local\\Temp\\ipykernel_12948\\2671022197.py:4: FutureWarning: The frame.append method is deprecated and will be removed from pandas in a future version. Use pandas.concat instead.\n",
      "  resultados=resultados.append(comprobador(a))\n"
     ]
    },
    {
     "name": "stdout",
     "output_type": "stream",
     "text": [
      "Si está el campo personalizado para la URL 'https://online-colombia.universidadeuropea.com/maestria-violencia-genero-politicas-igualdad-en-linea/'\n"
     ]
    },
    {
     "name": "stderr",
     "output_type": "stream",
     "text": [
      "C:\\Users\\9140\\AppData\\Local\\Temp\\ipykernel_12948\\2671022197.py:4: FutureWarning: The frame.append method is deprecated and will be removed from pandas in a future version. Use pandas.concat instead.\n",
      "  resultados=resultados.append(comprobador(a))\n"
     ]
    },
    {
     "name": "stdout",
     "output_type": "stream",
     "text": [
      "Si está el campo personalizado para la URL 'https://online.universidadeuropea.com/master-universitario-educacion-intercultural-online/'\n"
     ]
    },
    {
     "name": "stderr",
     "output_type": "stream",
     "text": [
      "C:\\Users\\9140\\AppData\\Local\\Temp\\ipykernel_12948\\2671022197.py:4: FutureWarning: The frame.append method is deprecated and will be removed from pandas in a future version. Use pandas.concat instead.\n",
      "  resultados=resultados.append(comprobador(a))\n"
     ]
    },
    {
     "name": "stdout",
     "output_type": "stream",
     "text": [
      "Si está el campo personalizado para la URL 'https://online-ecuador.universidadeuropea.com/maestria-educacion-intercultural-en-linea/'\n"
     ]
    },
    {
     "name": "stderr",
     "output_type": "stream",
     "text": [
      "C:\\Users\\9140\\AppData\\Local\\Temp\\ipykernel_12948\\2671022197.py:4: FutureWarning: The frame.append method is deprecated and will be removed from pandas in a future version. Use pandas.concat instead.\n",
      "  resultados=resultados.append(comprobador(a))\n"
     ]
    },
    {
     "name": "stdout",
     "output_type": "stream",
     "text": [
      "Si está el campo personalizado para la URL 'https://online-colombia.universidadeuropea.com/maestria-educacion-intercultural-en-linea/'\n"
     ]
    },
    {
     "name": "stderr",
     "output_type": "stream",
     "text": [
      "C:\\Users\\9140\\AppData\\Local\\Temp\\ipykernel_12948\\2671022197.py:4: FutureWarning: The frame.append method is deprecated and will be removed from pandas in a future version. Use pandas.concat instead.\n",
      "  resultados=resultados.append(comprobador(a))\n"
     ]
    },
    {
     "name": "stdout",
     "output_type": "stream",
     "text": [
      "Si está el campo personalizado para la URL 'https://online.universidadeuropea.com/master-universitario-metodologias-activas-online/'\n"
     ]
    },
    {
     "name": "stderr",
     "output_type": "stream",
     "text": [
      "C:\\Users\\9140\\AppData\\Local\\Temp\\ipykernel_12948\\2671022197.py:4: FutureWarning: The frame.append method is deprecated and will be removed from pandas in a future version. Use pandas.concat instead.\n",
      "  resultados=resultados.append(comprobador(a))\n"
     ]
    },
    {
     "name": "stdout",
     "output_type": "stream",
     "text": [
      "Si está el campo personalizado para la URL 'https://online-ecuador.universidadeuropea.com/maestria-metodologias-activas-en-linea/'\n"
     ]
    },
    {
     "name": "stderr",
     "output_type": "stream",
     "text": [
      "C:\\Users\\9140\\AppData\\Local\\Temp\\ipykernel_12948\\2671022197.py:4: FutureWarning: The frame.append method is deprecated and will be removed from pandas in a future version. Use pandas.concat instead.\n",
      "  resultados=resultados.append(comprobador(a))\n"
     ]
    },
    {
     "name": "stdout",
     "output_type": "stream",
     "text": [
      "Si está el campo personalizado para la URL 'https://online-colombia.universidadeuropea.com/maestria-metodologias-activas-en-linea/'\n"
     ]
    },
    {
     "name": "stderr",
     "output_type": "stream",
     "text": [
      "C:\\Users\\9140\\AppData\\Local\\Temp\\ipykernel_12948\\2671022197.py:4: FutureWarning: The frame.append method is deprecated and will be removed from pandas in a future version. Use pandas.concat instead.\n",
      "  resultados=resultados.append(comprobador(a))\n"
     ]
    },
    {
     "name": "stdout",
     "output_type": "stream",
     "text": [
      "Si está el campo personalizado para la URL 'https://estudiar.universidadeuropea.com/master-formacion-permanente-comercio-internacional-globalizacion-empresarial/'\n"
     ]
    },
    {
     "name": "stderr",
     "output_type": "stream",
     "text": [
      "C:\\Users\\9140\\AppData\\Local\\Temp\\ipykernel_12948\\2671022197.py:4: FutureWarning: The frame.append method is deprecated and will be removed from pandas in a future version. Use pandas.concat instead.\n",
      "  resultados=resultados.append(comprobador(a))\n"
     ]
    },
    {
     "name": "stdout",
     "output_type": "stream",
     "text": [
      "Si está el campo personalizado para la URL 'https://estudiar.universidadeuropea.com/master-formacion-permanente-direccion-seguridad-ciberdelincuencia-terrorismo/'\n"
     ]
    },
    {
     "name": "stderr",
     "output_type": "stream",
     "text": [
      "C:\\Users\\9140\\AppData\\Local\\Temp\\ipykernel_12948\\2671022197.py:4: FutureWarning: The frame.append method is deprecated and will be removed from pandas in a future version. Use pandas.concat instead.\n",
      "  resultados=resultados.append(comprobador(a))\n"
     ]
    },
    {
     "name": "stdout",
     "output_type": "stream",
     "text": [
      "Si está el campo personalizado para la URL 'https://estudiar.universidadeuropea.com/masteres-posgrados-area-enfermeria-canarias/'\n"
     ]
    },
    {
     "name": "stderr",
     "output_type": "stream",
     "text": [
      "C:\\Users\\9140\\AppData\\Local\\Temp\\ipykernel_12948\\2671022197.py:4: FutureWarning: The frame.append method is deprecated and will be removed from pandas in a future version. Use pandas.concat instead.\n",
      "  resultados=resultados.append(comprobador(a))\n"
     ]
    },
    {
     "name": "stdout",
     "output_type": "stream",
     "text": [
      "Si está el campo personalizado para la URL 'https://estudiar.universidadeuropea.com/masteres-cursos-area-ciencias-sociales-canarias/'\n"
     ]
    },
    {
     "name": "stderr",
     "output_type": "stream",
     "text": [
      "C:\\Users\\9140\\AppData\\Local\\Temp\\ipykernel_12948\\2671022197.py:4: FutureWarning: The frame.append method is deprecated and will be removed from pandas in a future version. Use pandas.concat instead.\n",
      "  resultados=resultados.append(comprobador(a))\n"
     ]
    },
    {
     "name": "stdout",
     "output_type": "stream",
     "text": [
      "Si está el campo personalizado para la URL 'https://estudiar.universidadeuropea.com/curso-universitario-diseno-desarrollo-web-integrativo/'\n"
     ]
    },
    {
     "name": "stderr",
     "output_type": "stream",
     "text": [
      "C:\\Users\\9140\\AppData\\Local\\Temp\\ipykernel_12948\\2671022197.py:4: FutureWarning: The frame.append method is deprecated and will be removed from pandas in a future version. Use pandas.concat instead.\n",
      "  resultados=resultados.append(comprobador(a))\n"
     ]
    },
    {
     "name": "stdout",
     "output_type": "stream",
     "text": [
      "Si está el campo personalizado para la URL 'https://estudiar.universidadeuropea.com/curso-universitario-gestion-avanzada-proyectos-innovacion/'\n"
     ]
    },
    {
     "name": "stderr",
     "output_type": "stream",
     "text": [
      "C:\\Users\\9140\\AppData\\Local\\Temp\\ipykernel_12948\\2671022197.py:4: FutureWarning: The frame.append method is deprecated and will be removed from pandas in a future version. Use pandas.concat instead.\n",
      "  resultados=resultados.append(comprobador(a))\n"
     ]
    },
    {
     "name": "stdout",
     "output_type": "stream",
     "text": [
      "Si está el campo personalizado para la URL 'https://estudiar.universidadeuropea.com/master-formacion-permanente-metaverso-comunicacion/'\n"
     ]
    },
    {
     "name": "stderr",
     "output_type": "stream",
     "text": [
      "C:\\Users\\9140\\AppData\\Local\\Temp\\ipykernel_12948\\2671022197.py:4: FutureWarning: The frame.append method is deprecated and will be removed from pandas in a future version. Use pandas.concat instead.\n",
      "  resultados=resultados.append(comprobador(a))\n"
     ]
    },
    {
     "name": "stdout",
     "output_type": "stream",
     "text": [
      "Si está el campo personalizado para la URL 'https://estudiar.universidadeuropea.com/master-universitario-direccion-comercial-ventas-landingdual/'\n"
     ]
    },
    {
     "name": "stderr",
     "output_type": "stream",
     "text": [
      "C:\\Users\\9140\\AppData\\Local\\Temp\\ipykernel_12948\\2671022197.py:4: FutureWarning: The frame.append method is deprecated and will be removed from pandas in a future version. Use pandas.concat instead.\n",
      "  resultados=resultados.append(comprobador(a))\n"
     ]
    },
    {
     "name": "stdout",
     "output_type": "stream",
     "text": [
      "Si está el campo personalizado para la URL 'https://online.universidadeuropea.com/master-universitario-educacion-steam-online/'\n"
     ]
    },
    {
     "name": "stderr",
     "output_type": "stream",
     "text": [
      "C:\\Users\\9140\\AppData\\Local\\Temp\\ipykernel_12948\\2671022197.py:4: FutureWarning: The frame.append method is deprecated and will be removed from pandas in a future version. Use pandas.concat instead.\n",
      "  resultados=resultados.append(comprobador(a))\n"
     ]
    },
    {
     "name": "stdout",
     "output_type": "stream",
     "text": [
      "Si está el campo personalizado para la URL 'https://online-ecuador.universidadeuropea.com/maestria-educacion-steam-en-linea/'\n"
     ]
    },
    {
     "name": "stderr",
     "output_type": "stream",
     "text": [
      "C:\\Users\\9140\\AppData\\Local\\Temp\\ipykernel_12948\\2671022197.py:4: FutureWarning: The frame.append method is deprecated and will be removed from pandas in a future version. Use pandas.concat instead.\n",
      "  resultados=resultados.append(comprobador(a))\n"
     ]
    },
    {
     "name": "stdout",
     "output_type": "stream",
     "text": [
      "Si está el campo personalizado para la URL 'https://online-colombia.universidadeuropea.com/maestria-educacion-steam-en-linea/'\n"
     ]
    },
    {
     "name": "stderr",
     "output_type": "stream",
     "text": [
      "C:\\Users\\9140\\AppData\\Local\\Temp\\ipykernel_12948\\2671022197.py:4: FutureWarning: The frame.append method is deprecated and will be removed from pandas in a future version. Use pandas.concat instead.\n",
      "  resultados=resultados.append(comprobador(a))\n"
     ]
    },
    {
     "name": "stdout",
     "output_type": "stream",
     "text": [
      "Si está el campo personalizado para la URL 'https://estudiar.universidadeuropea.com/jornada-puertas-abiertas-area-animacion-videojuegos/'\n"
     ]
    },
    {
     "name": "stderr",
     "output_type": "stream",
     "text": [
      "C:\\Users\\9140\\AppData\\Local\\Temp\\ipykernel_12948\\2671022197.py:4: FutureWarning: The frame.append method is deprecated and will be removed from pandas in a future version. Use pandas.concat instead.\n",
      "  resultados=resultados.append(comprobador(a))\n"
     ]
    },
    {
     "name": "stdout",
     "output_type": "stream",
     "text": [
      "Si está el campo personalizado para la URL 'https://online-ecuador.universidadeuropea.com/maestria-derecho-familia-en-linea/'\n"
     ]
    },
    {
     "name": "stderr",
     "output_type": "stream",
     "text": [
      "C:\\Users\\9140\\AppData\\Local\\Temp\\ipykernel_12948\\2671022197.py:4: FutureWarning: The frame.append method is deprecated and will be removed from pandas in a future version. Use pandas.concat instead.\n",
      "  resultados=resultados.append(comprobador(a))\n"
     ]
    },
    {
     "name": "stdout",
     "output_type": "stream",
     "text": [
      "Si está el campo personalizado para la URL 'https://online-colombia.universidadeuropea.com/maestria-derecho-familia-en-linea/'\n"
     ]
    },
    {
     "name": "stderr",
     "output_type": "stream",
     "text": [
      "C:\\Users\\9140\\AppData\\Local\\Temp\\ipykernel_12948\\2671022197.py:4: FutureWarning: The frame.append method is deprecated and will be removed from pandas in a future version. Use pandas.concat instead.\n",
      "  resultados=resultados.append(comprobador(a))\n"
     ]
    },
    {
     "name": "stdout",
     "output_type": "stream",
     "text": [
      "Si está el campo personalizado para la URL 'https://estudiar.universidadeuropea.com/grado-fisioterapia-valencia/'\n"
     ]
    },
    {
     "name": "stderr",
     "output_type": "stream",
     "text": [
      "C:\\Users\\9140\\AppData\\Local\\Temp\\ipykernel_12948\\2671022197.py:4: FutureWarning: The frame.append method is deprecated and will be removed from pandas in a future version. Use pandas.concat instead.\n",
      "  resultados=resultados.append(comprobador(a))\n"
     ]
    },
    {
     "name": "stdout",
     "output_type": "stream",
     "text": [
      "Si está el campo personalizado para la URL 'https://estudiar.universidadeuropea.com/grado-psicologia-valencia/'\n"
     ]
    },
    {
     "name": "stderr",
     "output_type": "stream",
     "text": [
      "C:\\Users\\9140\\AppData\\Local\\Temp\\ipykernel_12948\\2671022197.py:4: FutureWarning: The frame.append method is deprecated and will be removed from pandas in a future version. Use pandas.concat instead.\n",
      "  resultados=resultados.append(comprobador(a))\n"
     ]
    },
    {
     "name": "stdout",
     "output_type": "stream",
     "text": [
      "Si está el campo personalizado para la URL 'https://estudiar.universidadeuropea.com/grado-odontologia-valencia/'\n"
     ]
    },
    {
     "name": "stderr",
     "output_type": "stream",
     "text": [
      "C:\\Users\\9140\\AppData\\Local\\Temp\\ipykernel_12948\\2671022197.py:4: FutureWarning: The frame.append method is deprecated and will be removed from pandas in a future version. Use pandas.concat instead.\n",
      "  resultados=resultados.append(comprobador(a))\n"
     ]
    },
    {
     "name": "stdout",
     "output_type": "stream",
     "text": [
      "Si está el campo personalizado para la URL 'https://online.universidadeuropea.com/maestria-derecho-familia-en-linea-peru/'\n"
     ]
    },
    {
     "name": "stderr",
     "output_type": "stream",
     "text": [
      "C:\\Users\\9140\\AppData\\Local\\Temp\\ipykernel_12948\\2671022197.py:4: FutureWarning: The frame.append method is deprecated and will be removed from pandas in a future version. Use pandas.concat instead.\n",
      "  resultados=resultados.append(comprobador(a))\n"
     ]
    },
    {
     "name": "stdout",
     "output_type": "stream",
     "text": [
      "Si está el campo personalizado para la URL 'https://online.universidadeuropea.com/maestria-derecho-digital-tecnologico-en-linea-peru/'\n"
     ]
    },
    {
     "name": "stderr",
     "output_type": "stream",
     "text": [
      "C:\\Users\\9140\\AppData\\Local\\Temp\\ipykernel_12948\\2671022197.py:4: FutureWarning: The frame.append method is deprecated and will be removed from pandas in a future version. Use pandas.concat instead.\n",
      "  resultados=resultados.append(comprobador(a))\n"
     ]
    },
    {
     "name": "stdout",
     "output_type": "stream",
     "text": [
      "Si está el campo personalizado para la URL 'https://online.universidadeuropea.com/maestria-violencia-genero-politicas-igualdad-en-linea-peru/'\n"
     ]
    },
    {
     "name": "stderr",
     "output_type": "stream",
     "text": [
      "C:\\Users\\9140\\AppData\\Local\\Temp\\ipykernel_12948\\2671022197.py:4: FutureWarning: The frame.append method is deprecated and will be removed from pandas in a future version. Use pandas.concat instead.\n",
      "  resultados=resultados.append(comprobador(a))\n"
     ]
    },
    {
     "name": "stdout",
     "output_type": "stream",
     "text": [
      "Si está el campo personalizado para la URL 'https://estudiar.universidadeuropea.com/area-arte-diseno/'\n"
     ]
    },
    {
     "name": "stderr",
     "output_type": "stream",
     "text": [
      "C:\\Users\\9140\\AppData\\Local\\Temp\\ipykernel_12948\\2671022197.py:4: FutureWarning: The frame.append method is deprecated and will be removed from pandas in a future version. Use pandas.concat instead.\n",
      "  resultados=resultados.append(comprobador(a))\n"
     ]
    },
    {
     "name": "stdout",
     "output_type": "stream",
     "text": [
      "Si está el campo personalizado para la URL 'https://estudiar.universidadeuropea.com/en/master-sports-psychology-landingdual/'\n"
     ]
    },
    {
     "name": "stderr",
     "output_type": "stream",
     "text": [
      "C:\\Users\\9140\\AppData\\Local\\Temp\\ipykernel_12948\\2671022197.py:4: FutureWarning: The frame.append method is deprecated and will be removed from pandas in a future version. Use pandas.concat instead.\n",
      "  resultados=resultados.append(comprobador(a))\n"
     ]
    },
    {
     "name": "stdout",
     "output_type": "stream",
     "text": [
      "Si está el campo personalizado para la URL 'https://online-colombia.universidadeuropea.com/programa-formacion-servidores-publicos/'\n"
     ]
    },
    {
     "name": "stderr",
     "output_type": "stream",
     "text": [
      "C:\\Users\\9140\\AppData\\Local\\Temp\\ipykernel_12948\\2671022197.py:4: FutureWarning: The frame.append method is deprecated and will be removed from pandas in a future version. Use pandas.concat instead.\n",
      "  resultados=resultados.append(comprobador(a))\n"
     ]
    },
    {
     "name": "stdout",
     "output_type": "stream",
     "text": [
      "Si está el campo personalizado para la URL 'https://online.universidadeuropea.com/grado-universitario-diseno-interiores/'\n"
     ]
    },
    {
     "name": "stderr",
     "output_type": "stream",
     "text": [
      "C:\\Users\\9140\\AppData\\Local\\Temp\\ipykernel_12948\\2671022197.py:4: FutureWarning: The frame.append method is deprecated and will be removed from pandas in a future version. Use pandas.concat instead.\n",
      "  resultados=resultados.append(comprobador(a))\n"
     ]
    },
    {
     "name": "stdout",
     "output_type": "stream",
     "text": [
      "Si está el campo personalizado para la URL 'https://online-ecuador.universidadeuropea.com/maestria-proteccion-datos-en-linea/'\n"
     ]
    },
    {
     "name": "stderr",
     "output_type": "stream",
     "text": [
      "C:\\Users\\9140\\AppData\\Local\\Temp\\ipykernel_12948\\2671022197.py:4: FutureWarning: The frame.append method is deprecated and will be removed from pandas in a future version. Use pandas.concat instead.\n",
      "  resultados=resultados.append(comprobador(a))\n"
     ]
    },
    {
     "name": "stdout",
     "output_type": "stream",
     "text": [
      "Si está el campo personalizado para la URL 'https://online-colombia.universidadeuropea.com/maestria-proteccion-datos-en-linea/'\n"
     ]
    },
    {
     "name": "stderr",
     "output_type": "stream",
     "text": [
      "C:\\Users\\9140\\AppData\\Local\\Temp\\ipykernel_12948\\2671022197.py:4: FutureWarning: The frame.append method is deprecated and will be removed from pandas in a future version. Use pandas.concat instead.\n",
      "  resultados=resultados.append(comprobador(a))\n"
     ]
    },
    {
     "name": "stdout",
     "output_type": "stream",
     "text": [
      "Si está el campo personalizado para la URL 'https://online.universidadeuropea.com/maestria-proteccion-datos-en-linea/'\n"
     ]
    },
    {
     "name": "stderr",
     "output_type": "stream",
     "text": [
      "C:\\Users\\9140\\AppData\\Local\\Temp\\ipykernel_12948\\2671022197.py:4: FutureWarning: The frame.append method is deprecated and will be removed from pandas in a future version. Use pandas.concat instead.\n",
      "  resultados=resultados.append(comprobador(a))\n"
     ]
    },
    {
     "name": "stdout",
     "output_type": "stream",
     "text": [
      "Si está el campo personalizado para la URL 'https://online-ecuador.universidadeuropea.com/area-ingenieria-en-linea/'\n"
     ]
    },
    {
     "name": "stderr",
     "output_type": "stream",
     "text": [
      "C:\\Users\\9140\\AppData\\Local\\Temp\\ipykernel_12948\\2671022197.py:4: FutureWarning: The frame.append method is deprecated and will be removed from pandas in a future version. Use pandas.concat instead.\n",
      "  resultados=resultados.append(comprobador(a))\n"
     ]
    },
    {
     "name": "stdout",
     "output_type": "stream",
     "text": [
      "Si está el campo personalizado para la URL 'https://online-colombia.universidadeuropea.com/area-ingenieria-en-linea/'\n"
     ]
    },
    {
     "name": "stderr",
     "output_type": "stream",
     "text": [
      "C:\\Users\\9140\\AppData\\Local\\Temp\\ipykernel_12948\\2671022197.py:4: FutureWarning: The frame.append method is deprecated and will be removed from pandas in a future version. Use pandas.concat instead.\n",
      "  resultados=resultados.append(comprobador(a))\n"
     ]
    },
    {
     "name": "stdout",
     "output_type": "stream",
     "text": [
      "Si está el campo personalizado para la URL 'https://online.universidadeuropea.com/area-ingenieria-en-linea-peru/'\n"
     ]
    },
    {
     "name": "stderr",
     "output_type": "stream",
     "text": [
      "C:\\Users\\9140\\AppData\\Local\\Temp\\ipykernel_12948\\2671022197.py:4: FutureWarning: The frame.append method is deprecated and will be removed from pandas in a future version. Use pandas.concat instead.\n",
      "  resultados=resultados.append(comprobador(a))\n"
     ]
    },
    {
     "name": "stdout",
     "output_type": "stream",
     "text": [
      "Si está el campo personalizado para la URL 'https://online-ecuador.universidadeuropea.com/area-diseno-en-linea/'\n"
     ]
    },
    {
     "name": "stderr",
     "output_type": "stream",
     "text": [
      "C:\\Users\\9140\\AppData\\Local\\Temp\\ipykernel_12948\\2671022197.py:4: FutureWarning: The frame.append method is deprecated and will be removed from pandas in a future version. Use pandas.concat instead.\n",
      "  resultados=resultados.append(comprobador(a))\n"
     ]
    },
    {
     "name": "stdout",
     "output_type": "stream",
     "text": [
      "Si está el campo personalizado para la URL 'https://online-colombia.universidadeuropea.com/area-diseno-en-linea/'\n"
     ]
    },
    {
     "name": "stderr",
     "output_type": "stream",
     "text": [
      "C:\\Users\\9140\\AppData\\Local\\Temp\\ipykernel_12948\\2671022197.py:4: FutureWarning: The frame.append method is deprecated and will be removed from pandas in a future version. Use pandas.concat instead.\n",
      "  resultados=resultados.append(comprobador(a))\n"
     ]
    },
    {
     "name": "stdout",
     "output_type": "stream",
     "text": [
      "Si está el campo personalizado para la URL 'https://online.universidadeuropea.com/area-diseno-en-linea-peru/'\n"
     ]
    },
    {
     "name": "stderr",
     "output_type": "stream",
     "text": [
      "C:\\Users\\9140\\AppData\\Local\\Temp\\ipykernel_12948\\2671022197.py:4: FutureWarning: The frame.append method is deprecated and will be removed from pandas in a future version. Use pandas.concat instead.\n",
      "  resultados=resultados.append(comprobador(a))\n"
     ]
    },
    {
     "name": "stdout",
     "output_type": "stream",
     "text": [
      "Si está el campo personalizado para la URL 'https://online-ecuador.universidadeuropea.com/titulaciones-tecnologias-informacion-en-linea/'\n"
     ]
    },
    {
     "name": "stderr",
     "output_type": "stream",
     "text": [
      "C:\\Users\\9140\\AppData\\Local\\Temp\\ipykernel_12948\\2671022197.py:4: FutureWarning: The frame.append method is deprecated and will be removed from pandas in a future version. Use pandas.concat instead.\n",
      "  resultados=resultados.append(comprobador(a))\n"
     ]
    },
    {
     "name": "stdout",
     "output_type": "stream",
     "text": [
      "Si está el campo personalizado para la URL 'https://online-colombia.universidadeuropea.com/titulaciones-tecnologias-informacion-en-linea/'\n"
     ]
    },
    {
     "name": "stderr",
     "output_type": "stream",
     "text": [
      "C:\\Users\\9140\\AppData\\Local\\Temp\\ipykernel_12948\\2671022197.py:4: FutureWarning: The frame.append method is deprecated and will be removed from pandas in a future version. Use pandas.concat instead.\n",
      "  resultados=resultados.append(comprobador(a))\n"
     ]
    },
    {
     "name": "stdout",
     "output_type": "stream",
     "text": [
      "Si está el campo personalizado para la URL 'https://online.universidadeuropea.com/titulaciones-tecnologias-informacion-en-linea/'\n"
     ]
    },
    {
     "name": "stderr",
     "output_type": "stream",
     "text": [
      "C:\\Users\\9140\\AppData\\Local\\Temp\\ipykernel_12948\\2671022197.py:4: FutureWarning: The frame.append method is deprecated and will be removed from pandas in a future version. Use pandas.concat instead.\n",
      "  resultados=resultados.append(comprobador(a))\n"
     ]
    },
    {
     "name": "stdout",
     "output_type": "stream",
     "text": [
      "Si está el campo personalizado para la URL 'https://online-ecuador.universidadeuropea.com/maestria-oficial-derecho-laboral-seguridad-social-en-linea/'\n"
     ]
    },
    {
     "name": "stderr",
     "output_type": "stream",
     "text": [
      "C:\\Users\\9140\\AppData\\Local\\Temp\\ipykernel_12948\\2671022197.py:4: FutureWarning: The frame.append method is deprecated and will be removed from pandas in a future version. Use pandas.concat instead.\n",
      "  resultados=resultados.append(comprobador(a))\n"
     ]
    },
    {
     "name": "stdout",
     "output_type": "stream",
     "text": [
      "Si está el campo personalizado para la URL 'https://online-colombia.universidadeuropea.com/maestria-oficial-derecho-laboral-seguridad-social-en-linea/'\n"
     ]
    },
    {
     "name": "stderr",
     "output_type": "stream",
     "text": [
      "C:\\Users\\9140\\AppData\\Local\\Temp\\ipykernel_12948\\2671022197.py:4: FutureWarning: The frame.append method is deprecated and will be removed from pandas in a future version. Use pandas.concat instead.\n",
      "  resultados=resultados.append(comprobador(a))\n"
     ]
    },
    {
     "name": "stdout",
     "output_type": "stream",
     "text": [
      "Si está el campo personalizado para la URL 'https://online.universidadeuropea.com/maestria-oficial-derecho-laboral-seguridad-social-en-linea-peru/'\n"
     ]
    },
    {
     "name": "stderr",
     "output_type": "stream",
     "text": [
      "C:\\Users\\9140\\AppData\\Local\\Temp\\ipykernel_12948\\2671022197.py:4: FutureWarning: The frame.append method is deprecated and will be removed from pandas in a future version. Use pandas.concat instead.\n",
      "  resultados=resultados.append(comprobador(a))\n"
     ]
    },
    {
     "name": "stdout",
     "output_type": "stream",
     "text": [
      "Si está el campo personalizado para la URL 'https://estudiar.universidadeuropea.com/jornada-puertas-abiertas-virtual-internacional-grados/'\n"
     ]
    },
    {
     "name": "stderr",
     "output_type": "stream",
     "text": [
      "C:\\Users\\9140\\AppData\\Local\\Temp\\ipykernel_12948\\2671022197.py:4: FutureWarning: The frame.append method is deprecated and will be removed from pandas in a future version. Use pandas.concat instead.\n",
      "  resultados=resultados.append(comprobador(a))\n"
     ]
    },
    {
     "name": "stdout",
     "output_type": "stream",
     "text": [
      "Si está el campo personalizado para la URL 'https://estudiar.universidadeuropea.com/doble-grado-criminologia-derecho-valencia/'\n"
     ]
    },
    {
     "name": "stderr",
     "output_type": "stream",
     "text": [
      "C:\\Users\\9140\\AppData\\Local\\Temp\\ipykernel_12948\\2671022197.py:4: FutureWarning: The frame.append method is deprecated and will be removed from pandas in a future version. Use pandas.concat instead.\n",
      "  resultados=resultados.append(comprobador(a))\n"
     ]
    },
    {
     "name": "stdout",
     "output_type": "stream",
     "text": [
      "Si está el campo personalizado para la URL 'https://estudiar.universidadeuropea.com/grado-diseno-grafico-multimedia-landingdual/'\n"
     ]
    },
    {
     "name": "stderr",
     "output_type": "stream",
     "text": [
      "C:\\Users\\9140\\AppData\\Local\\Temp\\ipykernel_12948\\2671022197.py:4: FutureWarning: The frame.append method is deprecated and will be removed from pandas in a future version. Use pandas.concat instead.\n",
      "  resultados=resultados.append(comprobador(a))\n"
     ]
    },
    {
     "name": "stdout",
     "output_type": "stream",
     "text": [
      "Si está el campo personalizado para la URL 'https://estudiar.universidadeuropea.com/grado-ingenieria-informatica-landingdual/'\n"
     ]
    },
    {
     "name": "stderr",
     "output_type": "stream",
     "text": [
      "C:\\Users\\9140\\AppData\\Local\\Temp\\ipykernel_12948\\2671022197.py:4: FutureWarning: The frame.append method is deprecated and will be removed from pandas in a future version. Use pandas.concat instead.\n",
      "  resultados=resultados.append(comprobador(a))\n"
     ]
    },
    {
     "name": "stdout",
     "output_type": "stream",
     "text": [
      "Si está el campo personalizado para la URL 'https://estudiar.universidadeuropea.com/grado-diseno-videojuegos-landingdual/'\n"
     ]
    },
    {
     "name": "stderr",
     "output_type": "stream",
     "text": [
      "C:\\Users\\9140\\AppData\\Local\\Temp\\ipykernel_12948\\2671022197.py:4: FutureWarning: The frame.append method is deprecated and will be removed from pandas in a future version. Use pandas.concat instead.\n",
      "  resultados=resultados.append(comprobador(a))\n"
     ]
    },
    {
     "name": "stdout",
     "output_type": "stream",
     "text": [
      "Si está el campo personalizado para la URL 'https://estudiar.universidadeuropea.com/grado-psicologia-landingdual/'\n"
     ]
    },
    {
     "name": "stderr",
     "output_type": "stream",
     "text": [
      "C:\\Users\\9140\\AppData\\Local\\Temp\\ipykernel_12948\\2671022197.py:4: FutureWarning: The frame.append method is deprecated and will be removed from pandas in a future version. Use pandas.concat instead.\n",
      "  resultados=resultados.append(comprobador(a))\n"
     ]
    },
    {
     "name": "stdout",
     "output_type": "stream",
     "text": [
      "Si está el campo personalizado para la URL 'https://online.universidadeuropea.com/masteres-marketing-comunicacion/'\n"
     ]
    },
    {
     "name": "stderr",
     "output_type": "stream",
     "text": [
      "C:\\Users\\9140\\AppData\\Local\\Temp\\ipykernel_12948\\2671022197.py:4: FutureWarning: The frame.append method is deprecated and will be removed from pandas in a future version. Use pandas.concat instead.\n",
      "  resultados=resultados.append(comprobador(a))\n"
     ]
    },
    {
     "name": "stdout",
     "output_type": "stream",
     "text": [
      "Si está el campo personalizado para la URL 'https://online-ecuador.universidadeuropea.com/maestrias-marketing-comunicacion/'\n"
     ]
    },
    {
     "name": "stderr",
     "output_type": "stream",
     "text": [
      "C:\\Users\\9140\\AppData\\Local\\Temp\\ipykernel_12948\\2671022197.py:4: FutureWarning: The frame.append method is deprecated and will be removed from pandas in a future version. Use pandas.concat instead.\n",
      "  resultados=resultados.append(comprobador(a))\n"
     ]
    },
    {
     "name": "stdout",
     "output_type": "stream",
     "text": [
      "Si está el campo personalizado para la URL 'https://online-colombia.universidadeuropea.com/maestrias-marketing-comunicacion/'\n"
     ]
    },
    {
     "name": "stderr",
     "output_type": "stream",
     "text": [
      "C:\\Users\\9140\\AppData\\Local\\Temp\\ipykernel_12948\\2671022197.py:4: FutureWarning: The frame.append method is deprecated and will be removed from pandas in a future version. Use pandas.concat instead.\n",
      "  resultados=resultados.append(comprobador(a))\n"
     ]
    },
    {
     "name": "stdout",
     "output_type": "stream",
     "text": [
      "Si está el campo personalizado para la URL 'https://estudiar.universidadeuropea.com/master-formacion-permanente-direccion-gestion-hotelera/'\n"
     ]
    },
    {
     "name": "stderr",
     "output_type": "stream",
     "text": [
      "C:\\Users\\9140\\AppData\\Local\\Temp\\ipykernel_12948\\2671022197.py:4: FutureWarning: The frame.append method is deprecated and will be removed from pandas in a future version. Use pandas.concat instead.\n",
      "  resultados=resultados.append(comprobador(a))\n"
     ]
    },
    {
     "name": "stdout",
     "output_type": "stream",
     "text": [
      "Si está el campo personalizado para la URL 'https://online.universidadeuropea.com/area-sostenibilidad/'\n"
     ]
    },
    {
     "name": "stderr",
     "output_type": "stream",
     "text": [
      "C:\\Users\\9140\\AppData\\Local\\Temp\\ipykernel_12948\\2671022197.py:4: FutureWarning: The frame.append method is deprecated and will be removed from pandas in a future version. Use pandas.concat instead.\n",
      "  resultados=resultados.append(comprobador(a))\n"
     ]
    },
    {
     "name": "stdout",
     "output_type": "stream",
     "text": [
      "Si está el campo personalizado para la URL 'https://online-ecuador.universidadeuropea.com/area-sostenibilidad/'\n"
     ]
    },
    {
     "name": "stderr",
     "output_type": "stream",
     "text": [
      "C:\\Users\\9140\\AppData\\Local\\Temp\\ipykernel_12948\\2671022197.py:4: FutureWarning: The frame.append method is deprecated and will be removed from pandas in a future version. Use pandas.concat instead.\n",
      "  resultados=resultados.append(comprobador(a))\n"
     ]
    },
    {
     "name": "stdout",
     "output_type": "stream",
     "text": [
      "Si está el campo personalizado para la URL 'https://online-colombia.universidadeuropea.com/area-sostenibilidad/'\n"
     ]
    },
    {
     "name": "stderr",
     "output_type": "stream",
     "text": [
      "C:\\Users\\9140\\AppData\\Local\\Temp\\ipykernel_12948\\2671022197.py:4: FutureWarning: The frame.append method is deprecated and will be removed from pandas in a future version. Use pandas.concat instead.\n",
      "  resultados=resultados.append(comprobador(a))\n"
     ]
    },
    {
     "name": "stdout",
     "output_type": "stream",
     "text": [
      "Si está el campo personalizado para la URL 'https://online.universidadeuropea.com/area-sostenibilidad-peru/'\n"
     ]
    },
    {
     "name": "stderr",
     "output_type": "stream",
     "text": [
      "C:\\Users\\9140\\AppData\\Local\\Temp\\ipykernel_12948\\2671022197.py:4: FutureWarning: The frame.append method is deprecated and will be removed from pandas in a future version. Use pandas.concat instead.\n",
      "  resultados=resultados.append(comprobador(a))\n"
     ]
    },
    {
     "name": "stdout",
     "output_type": "stream",
     "text": [
      "Si está el campo personalizado para la URL 'https://online-ecuador.universidadeuropea.com/maestrias-area-juridico-social-en-linea/'\n"
     ]
    },
    {
     "name": "stderr",
     "output_type": "stream",
     "text": [
      "C:\\Users\\9140\\AppData\\Local\\Temp\\ipykernel_12948\\2671022197.py:4: FutureWarning: The frame.append method is deprecated and will be removed from pandas in a future version. Use pandas.concat instead.\n",
      "  resultados=resultados.append(comprobador(a))\n"
     ]
    },
    {
     "name": "stdout",
     "output_type": "stream",
     "text": [
      "Si está el campo personalizado para la URL 'https://online-colombia.universidadeuropea.com/maestrias-area-juridico-social-en-linea/'\n"
     ]
    },
    {
     "name": "stderr",
     "output_type": "stream",
     "text": [
      "C:\\Users\\9140\\AppData\\Local\\Temp\\ipykernel_12948\\2671022197.py:4: FutureWarning: The frame.append method is deprecated and will be removed from pandas in a future version. Use pandas.concat instead.\n",
      "  resultados=resultados.append(comprobador(a))\n"
     ]
    },
    {
     "name": "stdout",
     "output_type": "stream",
     "text": [
      "Si está el campo personalizado para la URL 'https://online.universidadeuropea.com/maestrias-area-juridico-social-en-linea-peru/'\n"
     ]
    },
    {
     "name": "stderr",
     "output_type": "stream",
     "text": [
      "C:\\Users\\9140\\AppData\\Local\\Temp\\ipykernel_12948\\2671022197.py:4: FutureWarning: The frame.append method is deprecated and will be removed from pandas in a future version. Use pandas.concat instead.\n",
      "  resultados=resultados.append(comprobador(a))\n"
     ]
    },
    {
     "name": "stdout",
     "output_type": "stream",
     "text": [
      "Si está el campo personalizado para la URL 'https://estudiar.universidadeuropea.com/grados-area-deporte-landingdual/'\n"
     ]
    },
    {
     "name": "stderr",
     "output_type": "stream",
     "text": [
      "C:\\Users\\9140\\AppData\\Local\\Temp\\ipykernel_12948\\2671022197.py:4: FutureWarning: The frame.append method is deprecated and will be removed from pandas in a future version. Use pandas.concat instead.\n",
      "  resultados=resultados.append(comprobador(a))\n"
     ]
    },
    {
     "name": "stdout",
     "output_type": "stream",
     "text": [
      "Si está el campo personalizado para la URL 'https://online.universidadeuropea.com/maestrias-educacion-chile/'\n"
     ]
    },
    {
     "name": "stderr",
     "output_type": "stream",
     "text": [
      "C:\\Users\\9140\\AppData\\Local\\Temp\\ipykernel_12948\\2671022197.py:4: FutureWarning: The frame.append method is deprecated and will be removed from pandas in a future version. Use pandas.concat instead.\n",
      "  resultados=resultados.append(comprobador(a))\n"
     ]
    },
    {
     "name": "stdout",
     "output_type": "stream",
     "text": [
      "Si está el campo personalizado para la URL 'https://online-colombia.universidadeuropea.com/maestrias-online-b/'\n"
     ]
    },
    {
     "name": "stderr",
     "output_type": "stream",
     "text": [
      "C:\\Users\\9140\\AppData\\Local\\Temp\\ipykernel_12948\\2671022197.py:4: FutureWarning: The frame.append method is deprecated and will be removed from pandas in a future version. Use pandas.concat instead.\n",
      "  resultados=resultados.append(comprobador(a))\n"
     ]
    },
    {
     "name": "stdout",
     "output_type": "stream",
     "text": [
      "Si está el campo personalizado para la URL 'https://online-ecuador.universidadeuropea.com/maestrias-en-linea-b/'\n"
     ]
    },
    {
     "name": "stderr",
     "output_type": "stream",
     "text": [
      "C:\\Users\\9140\\AppData\\Local\\Temp\\ipykernel_12948\\2671022197.py:4: FutureWarning: The frame.append method is deprecated and will be removed from pandas in a future version. Use pandas.concat instead.\n",
      "  resultados=resultados.append(comprobador(a))\n"
     ]
    },
    {
     "name": "stdout",
     "output_type": "stream",
     "text": [
      "Si está el campo personalizado para la URL 'https://online.universidadeuropea.com/maestrias-en-linea-peru-b/'\n"
     ]
    },
    {
     "name": "stderr",
     "output_type": "stream",
     "text": [
      "C:\\Users\\9140\\AppData\\Local\\Temp\\ipykernel_12948\\2671022197.py:4: FutureWarning: The frame.append method is deprecated and will be removed from pandas in a future version. Use pandas.concat instead.\n",
      "  resultados=resultados.append(comprobador(a))\n"
     ]
    },
    {
     "name": "stdout",
     "output_type": "stream",
     "text": [
      "Si está el campo personalizado para la URL 'https://online.universidadeuropea.com/diploma-especializacion-infertilidad-masculina-online/'\n"
     ]
    },
    {
     "name": "stderr",
     "output_type": "stream",
     "text": [
      "C:\\Users\\9140\\AppData\\Local\\Temp\\ipykernel_12948\\2671022197.py:4: FutureWarning: The frame.append method is deprecated and will be removed from pandas in a future version. Use pandas.concat instead.\n",
      "  resultados=resultados.append(comprobador(a))\n"
     ]
    },
    {
     "name": "stdout",
     "output_type": "stream",
     "text": [
      "Si está el campo personalizado para la URL 'https://online.universidadeuropea.com/master-universitario-investigacion-bioetica-online/'\n"
     ]
    },
    {
     "name": "stderr",
     "output_type": "stream",
     "text": [
      "C:\\Users\\9140\\AppData\\Local\\Temp\\ipykernel_12948\\2671022197.py:4: FutureWarning: The frame.append method is deprecated and will be removed from pandas in a future version. Use pandas.concat instead.\n",
      "  resultados=resultados.append(comprobador(a))\n"
     ]
    },
    {
     "name": "stdout",
     "output_type": "stream",
     "text": [
      "Si está el campo personalizado para la URL 'https://online.universidadeuropea.com/master-universitario-atencion-farmaceutica-servicios-profesionales-farmaceuticos-asistenciales-online/'\n"
     ]
    },
    {
     "name": "stderr",
     "output_type": "stream",
     "text": [
      "C:\\Users\\9140\\AppData\\Local\\Temp\\ipykernel_12948\\2671022197.py:4: FutureWarning: The frame.append method is deprecated and will be removed from pandas in a future version. Use pandas.concat instead.\n",
      "  resultados=resultados.append(comprobador(a))\n"
     ]
    },
    {
     "name": "stdout",
     "output_type": "stream",
     "text": [
      "Si está el campo personalizado para la URL 'https://online.universidadeuropea.com/maestria-gestion-proyectos-online-peru/'\n"
     ]
    },
    {
     "name": "stderr",
     "output_type": "stream",
     "text": [
      "C:\\Users\\9140\\AppData\\Local\\Temp\\ipykernel_12948\\2671022197.py:4: FutureWarning: The frame.append method is deprecated and will be removed from pandas in a future version. Use pandas.concat instead.\n",
      "  resultados=resultados.append(comprobador(a))\n"
     ]
    },
    {
     "name": "stdout",
     "output_type": "stream",
     "text": [
      "Si está el campo personalizado para la URL 'https://online.universidadeuropea.com/masters-area-juridico-social-online/'\n"
     ]
    },
    {
     "name": "stderr",
     "output_type": "stream",
     "text": [
      "C:\\Users\\9140\\AppData\\Local\\Temp\\ipykernel_12948\\2671022197.py:4: FutureWarning: The frame.append method is deprecated and will be removed from pandas in a future version. Use pandas.concat instead.\n",
      "  resultados=resultados.append(comprobador(a))\n"
     ]
    },
    {
     "name": "stdout",
     "output_type": "stream",
     "text": [
      "Si está el campo personalizado para la URL 'https://online.universidadeuropea.com/master-formacion-permanente-gestion-direccion-servicios-admision-documentacion-clinica-semipresencial/'\n"
     ]
    },
    {
     "name": "stderr",
     "output_type": "stream",
     "text": [
      "C:\\Users\\9140\\AppData\\Local\\Temp\\ipykernel_12948\\2671022197.py:4: FutureWarning: The frame.append method is deprecated and will be removed from pandas in a future version. Use pandas.concat instead.\n",
      "  resultados=resultados.append(comprobador(a))\n"
     ]
    },
    {
     "name": "stdout",
     "output_type": "stream",
     "text": [
      "Si está el campo personalizado para la URL 'https://online.universidadeuropea.com/maestria-direccion-protocolo-organizacion-eventos-en-linea-peru/'\n"
     ]
    },
    {
     "name": "stderr",
     "output_type": "stream",
     "text": [
      "C:\\Users\\9140\\AppData\\Local\\Temp\\ipykernel_12948\\2671022197.py:4: FutureWarning: The frame.append method is deprecated and will be removed from pandas in a future version. Use pandas.concat instead.\n",
      "  resultados=resultados.append(comprobador(a))\n"
     ]
    },
    {
     "name": "stdout",
     "output_type": "stream",
     "text": [
      "Si está el campo personalizado para la URL 'https://estudiar.universidadeuropea.com/grados-dual/'\n"
     ]
    },
    {
     "name": "stderr",
     "output_type": "stream",
     "text": [
      "C:\\Users\\9140\\AppData\\Local\\Temp\\ipykernel_12948\\2671022197.py:4: FutureWarning: The frame.append method is deprecated and will be removed from pandas in a future version. Use pandas.concat instead.\n",
      "  resultados=resultados.append(comprobador(a))\n"
     ]
    },
    {
     "name": "stdout",
     "output_type": "stream",
     "text": [
      "No está el campo personalizado para la URL 'https://estudiar.universidadeuropea.com/admin/pages/15361/view_draft/?mode=es'\n"
     ]
    },
    {
     "name": "stderr",
     "output_type": "stream",
     "text": [
      "C:\\Users\\9140\\AppData\\Local\\Temp\\ipykernel_12948\\2671022197.py:4: FutureWarning: The frame.append method is deprecated and will be removed from pandas in a future version. Use pandas.concat instead.\n",
      "  resultados=resultados.append(comprobador(a))\n"
     ]
    },
    {
     "name": "stdout",
     "output_type": "stream",
     "text": [
      "Si está el campo personalizado para la URL 'https://estudiar.universidadeuropea.com/curso-universitario-periodoncia-ortodoncia-higienistas-dentales/'\n"
     ]
    },
    {
     "name": "stderr",
     "output_type": "stream",
     "text": [
      "C:\\Users\\9140\\AppData\\Local\\Temp\\ipykernel_12948\\2671022197.py:4: FutureWarning: The frame.append method is deprecated and will be removed from pandas in a future version. Use pandas.concat instead.\n",
      "  resultados=resultados.append(comprobador(a))\n"
     ]
    },
    {
     "name": "stdout",
     "output_type": "stream",
     "text": [
      "Si está el campo personalizado para la URL 'https://estudiar.universidadeuropea.com/grado-diseno-creacion-moda/'\n"
     ]
    },
    {
     "name": "stderr",
     "output_type": "stream",
     "text": [
      "C:\\Users\\9140\\AppData\\Local\\Temp\\ipykernel_12948\\2671022197.py:4: FutureWarning: The frame.append method is deprecated and will be removed from pandas in a future version. Use pandas.concat instead.\n",
      "  resultados=resultados.append(comprobador(a))\n"
     ]
    },
    {
     "name": "stdout",
     "output_type": "stream",
     "text": [
      "Si está el campo personalizado para la URL 'https://estudiar.universidadeuropea.com/master-formacion-permanente-prevencion-readaptacion-deportiva-landingdual/'\n"
     ]
    },
    {
     "name": "stderr",
     "output_type": "stream",
     "text": [
      "C:\\Users\\9140\\AppData\\Local\\Temp\\ipykernel_12948\\2671022197.py:4: FutureWarning: The frame.append method is deprecated and will be removed from pandas in a future version. Use pandas.concat instead.\n",
      "  resultados=resultados.append(comprobador(a))\n"
     ]
    },
    {
     "name": "stdout",
     "output_type": "stream",
     "text": [
      "Si está el campo personalizado para la URL 'https://online-ecuador.universidadeuropea.com/maestrias-oficiales-derecho-en-linea/'\n"
     ]
    },
    {
     "name": "stderr",
     "output_type": "stream",
     "text": [
      "C:\\Users\\9140\\AppData\\Local\\Temp\\ipykernel_12948\\2671022197.py:4: FutureWarning: The frame.append method is deprecated and will be removed from pandas in a future version. Use pandas.concat instead.\n",
      "  resultados=resultados.append(comprobador(a))\n"
     ]
    },
    {
     "name": "stdout",
     "output_type": "stream",
     "text": [
      "Si está el campo personalizado para la URL 'https://online-colombia.universidadeuropea.com/maestrias-oficiales-derecho-en-linea/'\n"
     ]
    },
    {
     "name": "stderr",
     "output_type": "stream",
     "text": [
      "C:\\Users\\9140\\AppData\\Local\\Temp\\ipykernel_12948\\2671022197.py:4: FutureWarning: The frame.append method is deprecated and will be removed from pandas in a future version. Use pandas.concat instead.\n",
      "  resultados=resultados.append(comprobador(a))\n"
     ]
    },
    {
     "name": "stdout",
     "output_type": "stream",
     "text": [
      "Si está el campo personalizado para la URL 'https://online.universidadeuropea.com/maestrias-oficiales-derecho-en-linea-peru/'\n"
     ]
    },
    {
     "name": "stderr",
     "output_type": "stream",
     "text": [
      "C:\\Users\\9140\\AppData\\Local\\Temp\\ipykernel_12948\\2671022197.py:4: FutureWarning: The frame.append method is deprecated and will be removed from pandas in a future version. Use pandas.concat instead.\n",
      "  resultados=resultados.append(comprobador(a))\n"
     ]
    },
    {
     "name": "stdout",
     "output_type": "stream",
     "text": [
      "Si está el campo personalizado para la URL 'https://estudiar.universidadeuropea.com/grado-superior-marketing-publicidad/'\n"
     ]
    },
    {
     "name": "stderr",
     "output_type": "stream",
     "text": [
      "C:\\Users\\9140\\AppData\\Local\\Temp\\ipykernel_12948\\2671022197.py:4: FutureWarning: The frame.append method is deprecated and will be removed from pandas in a future version. Use pandas.concat instead.\n",
      "  resultados=resultados.append(comprobador(a))\n"
     ]
    },
    {
     "name": "stdout",
     "output_type": "stream",
     "text": [
      "Si está el campo personalizado para la URL 'https://estudiar.universidadeuropea.com/alicante/'\n"
     ]
    },
    {
     "name": "stderr",
     "output_type": "stream",
     "text": [
      "C:\\Users\\9140\\AppData\\Local\\Temp\\ipykernel_12948\\2671022197.py:4: FutureWarning: The frame.append method is deprecated and will be removed from pandas in a future version. Use pandas.concat instead.\n",
      "  resultados=resultados.append(comprobador(a))\n"
     ]
    },
    {
     "name": "stdout",
     "output_type": "stream",
     "text": [
      "Si está el campo personalizado para la URL 'https://online.universidadeuropea.com/maestrias-marketing-comunicacion-peru/'\n"
     ]
    },
    {
     "name": "stderr",
     "output_type": "stream",
     "text": [
      "C:\\Users\\9140\\AppData\\Local\\Temp\\ipykernel_12948\\2671022197.py:4: FutureWarning: The frame.append method is deprecated and will be removed from pandas in a future version. Use pandas.concat instead.\n",
      "  resultados=resultados.append(comprobador(a))\n"
     ]
    },
    {
     "name": "stdout",
     "output_type": "stream",
     "text": [
      "Si está el campo personalizado para la URL 'https://online-ecuador.universidadeuropea.com/maestrias-oficiales-area-finanzas/'\n"
     ]
    },
    {
     "name": "stderr",
     "output_type": "stream",
     "text": [
      "C:\\Users\\9140\\AppData\\Local\\Temp\\ipykernel_12948\\2671022197.py:4: FutureWarning: The frame.append method is deprecated and will be removed from pandas in a future version. Use pandas.concat instead.\n",
      "  resultados=resultados.append(comprobador(a))\n"
     ]
    },
    {
     "name": "stdout",
     "output_type": "stream",
     "text": [
      "Si está el campo personalizado para la URL 'https://online-colombia.universidadeuropea.com/maestrias-oficiales-area-finanzas/'\n"
     ]
    },
    {
     "name": "stderr",
     "output_type": "stream",
     "text": [
      "C:\\Users\\9140\\AppData\\Local\\Temp\\ipykernel_12948\\2671022197.py:4: FutureWarning: The frame.append method is deprecated and will be removed from pandas in a future version. Use pandas.concat instead.\n",
      "  resultados=resultados.append(comprobador(a))\n"
     ]
    },
    {
     "name": "stdout",
     "output_type": "stream",
     "text": [
      "Si está el campo personalizado para la URL 'https://online.universidadeuropea.com/maestrias-oficiales-area-finanzas-peru/'\n"
     ]
    },
    {
     "name": "stderr",
     "output_type": "stream",
     "text": [
      "C:\\Users\\9140\\AppData\\Local\\Temp\\ipykernel_12948\\2671022197.py:4: FutureWarning: The frame.append method is deprecated and will be removed from pandas in a future version. Use pandas.concat instead.\n",
      "  resultados=resultados.append(comprobador(a))\n"
     ]
    },
    {
     "name": "stdout",
     "output_type": "stream",
     "text": [
      "No está el campo personalizado para la URL 'https://estudiar.universidadeuropea.com/descubre-nuestros-ciclos-formativos-deporte/'\n"
     ]
    },
    {
     "name": "stderr",
     "output_type": "stream",
     "text": [
      "C:\\Users\\9140\\AppData\\Local\\Temp\\ipykernel_12948\\2671022197.py:4: FutureWarning: The frame.append method is deprecated and will be removed from pandas in a future version. Use pandas.concat instead.\n",
      "  resultados=resultados.append(comprobador(a))\n"
     ]
    },
    {
     "name": "stdout",
     "output_type": "stream",
     "text": [
      "Si está el campo personalizado para la URL 'https://estudiar.universidadeuropea.com/area-biomedicas-salud-dual/'\n"
     ]
    },
    {
     "name": "stderr",
     "output_type": "stream",
     "text": [
      "C:\\Users\\9140\\AppData\\Local\\Temp\\ipykernel_12948\\2671022197.py:4: FutureWarning: The frame.append method is deprecated and will be removed from pandas in a future version. Use pandas.concat instead.\n",
      "  resultados=resultados.append(comprobador(a))\n"
     ]
    },
    {
     "name": "stdout",
     "output_type": "stream",
     "text": [
      "Si está el campo personalizado para la URL 'https://online-ecuador.universidadeuropea.com/posgrados-deportes/'\n"
     ]
    },
    {
     "name": "stderr",
     "output_type": "stream",
     "text": [
      "C:\\Users\\9140\\AppData\\Local\\Temp\\ipykernel_12948\\2671022197.py:4: FutureWarning: The frame.append method is deprecated and will be removed from pandas in a future version. Use pandas.concat instead.\n",
      "  resultados=resultados.append(comprobador(a))\n"
     ]
    },
    {
     "name": "stdout",
     "output_type": "stream",
     "text": [
      "Si está el campo personalizado para la URL 'https://online-colombia.universidadeuropea.com/posgrados-deportes/'\n"
     ]
    },
    {
     "name": "stderr",
     "output_type": "stream",
     "text": [
      "C:\\Users\\9140\\AppData\\Local\\Temp\\ipykernel_12948\\2671022197.py:4: FutureWarning: The frame.append method is deprecated and will be removed from pandas in a future version. Use pandas.concat instead.\n",
      "  resultados=resultados.append(comprobador(a))\n"
     ]
    },
    {
     "name": "stdout",
     "output_type": "stream",
     "text": [
      "Si está el campo personalizado para la URL 'https://online-colombia.universidadeuropea.com/maestrias-educacion-mesa-nacional/'\n"
     ]
    },
    {
     "name": "stderr",
     "output_type": "stream",
     "text": [
      "C:\\Users\\9140\\AppData\\Local\\Temp\\ipykernel_12948\\2671022197.py:4: FutureWarning: The frame.append method is deprecated and will be removed from pandas in a future version. Use pandas.concat instead.\n",
      "  resultados=resultados.append(comprobador(a))\n"
     ]
    },
    {
     "name": "stdout",
     "output_type": "stream",
     "text": [
      "Si está el campo personalizado para la URL 'https://online.universidadeuropea.com/master-online-direccion-gestion-publica/'\n"
     ]
    },
    {
     "name": "stderr",
     "output_type": "stream",
     "text": [
      "C:\\Users\\9140\\AppData\\Local\\Temp\\ipykernel_12948\\2671022197.py:4: FutureWarning: The frame.append method is deprecated and will be removed from pandas in a future version. Use pandas.concat instead.\n",
      "  resultados=resultados.append(comprobador(a))\n"
     ]
    },
    {
     "name": "stdout",
     "output_type": "stream",
     "text": [
      "Si está el campo personalizado para la URL 'https://online-ecuador.universidadeuropea.com/maestria-direccion-gestion-publica/'\n"
     ]
    },
    {
     "name": "stderr",
     "output_type": "stream",
     "text": [
      "C:\\Users\\9140\\AppData\\Local\\Temp\\ipykernel_12948\\2671022197.py:4: FutureWarning: The frame.append method is deprecated and will be removed from pandas in a future version. Use pandas.concat instead.\n",
      "  resultados=resultados.append(comprobador(a))\n"
     ]
    },
    {
     "name": "stdout",
     "output_type": "stream",
     "text": [
      "Si está el campo personalizado para la URL 'https://online-colombia.universidadeuropea.com/maestria-direccion-gestion-publica/'\n"
     ]
    },
    {
     "name": "stderr",
     "output_type": "stream",
     "text": [
      "C:\\Users\\9140\\AppData\\Local\\Temp\\ipykernel_12948\\2671022197.py:4: FutureWarning: The frame.append method is deprecated and will be removed from pandas in a future version. Use pandas.concat instead.\n",
      "  resultados=resultados.append(comprobador(a))\n"
     ]
    },
    {
     "name": "stdout",
     "output_type": "stream",
     "text": [
      "Si está el campo personalizado para la URL 'https://online.universidadeuropea.com/maestria-direccion-gestion-publica-peru/'\n"
     ]
    },
    {
     "name": "stderr",
     "output_type": "stream",
     "text": [
      "C:\\Users\\9140\\AppData\\Local\\Temp\\ipykernel_12948\\2671022197.py:4: FutureWarning: The frame.append method is deprecated and will be removed from pandas in a future version. Use pandas.concat instead.\n",
      "  resultados=resultados.append(comprobador(a))\n"
     ]
    },
    {
     "name": "stdout",
     "output_type": "stream",
     "text": [
      "Si está el campo personalizado para la URL 'https://estudiar.universidadeuropea.com/master-universitario-investigacion-bioetica/'\n"
     ]
    },
    {
     "name": "stderr",
     "output_type": "stream",
     "text": [
      "C:\\Users\\9140\\AppData\\Local\\Temp\\ipykernel_12948\\2671022197.py:4: FutureWarning: The frame.append method is deprecated and will be removed from pandas in a future version. Use pandas.concat instead.\n",
      "  resultados=resultados.append(comprobador(a))\n"
     ]
    },
    {
     "name": "stdout",
     "output_type": "stream",
     "text": [
      "Si está el campo personalizado para la URL 'https://online.universidadeuropea.com/master-universitario-direccion-procesos-estrategicos/'\n"
     ]
    },
    {
     "name": "stderr",
     "output_type": "stream",
     "text": [
      "C:\\Users\\9140\\AppData\\Local\\Temp\\ipykernel_12948\\2671022197.py:4: FutureWarning: The frame.append method is deprecated and will be removed from pandas in a future version. Use pandas.concat instead.\n",
      "  resultados=resultados.append(comprobador(a))\n"
     ]
    },
    {
     "name": "stdout",
     "output_type": "stream",
     "text": [
      "Si está el campo personalizado para la URL 'https://online.universidadeuropea.com/maestria-direccion-procesos-estrategicos/'\n"
     ]
    },
    {
     "name": "stderr",
     "output_type": "stream",
     "text": [
      "C:\\Users\\9140\\AppData\\Local\\Temp\\ipykernel_12948\\2671022197.py:4: FutureWarning: The frame.append method is deprecated and will be removed from pandas in a future version. Use pandas.concat instead.\n",
      "  resultados=resultados.append(comprobador(a))\n"
     ]
    },
    {
     "name": "stdout",
     "output_type": "stream",
     "text": [
      "Si está el campo personalizado para la URL 'https://online.universidadeuropea.com/maestrias-oficiales-de-empresa-chile/'\n"
     ]
    },
    {
     "name": "stderr",
     "output_type": "stream",
     "text": [
      "C:\\Users\\9140\\AppData\\Local\\Temp\\ipykernel_12948\\2671022197.py:4: FutureWarning: The frame.append method is deprecated and will be removed from pandas in a future version. Use pandas.concat instead.\n",
      "  resultados=resultados.append(comprobador(a))\n"
     ]
    },
    {
     "name": "stdout",
     "output_type": "stream",
     "text": [
      "Si está el campo personalizado para la URL 'https://online-ecuador.universidadeuropea.com/maestria-direccion-procesos-estrategicos/'\n"
     ]
    },
    {
     "name": "stderr",
     "output_type": "stream",
     "text": [
      "C:\\Users\\9140\\AppData\\Local\\Temp\\ipykernel_12948\\2671022197.py:4: FutureWarning: The frame.append method is deprecated and will be removed from pandas in a future version. Use pandas.concat instead.\n",
      "  resultados=resultados.append(comprobador(a))\n"
     ]
    },
    {
     "name": "stdout",
     "output_type": "stream",
     "text": [
      "Si está el campo personalizado para la URL 'https://online-colombia.universidadeuropea.com/maestria-direccion-procesos-estrategicos/'\n"
     ]
    },
    {
     "name": "stderr",
     "output_type": "stream",
     "text": [
      "C:\\Users\\9140\\AppData\\Local\\Temp\\ipykernel_12948\\2671022197.py:4: FutureWarning: The frame.append method is deprecated and will be removed from pandas in a future version. Use pandas.concat instead.\n",
      "  resultados=resultados.append(comprobador(a))\n"
     ]
    },
    {
     "name": "stdout",
     "output_type": "stream",
     "text": [
      "Si está el campo personalizado para la URL 'https://estudiar.universidadeuropea.com/en/mba-ingles-landingdual/'\n"
     ]
    },
    {
     "name": "stderr",
     "output_type": "stream",
     "text": [
      "C:\\Users\\9140\\AppData\\Local\\Temp\\ipykernel_12948\\2671022197.py:4: FutureWarning: The frame.append method is deprecated and will be removed from pandas in a future version. Use pandas.concat instead.\n",
      "  resultados=resultados.append(comprobador(a))\n"
     ]
    },
    {
     "name": "stdout",
     "output_type": "stream",
     "text": [
      "No está el campo personalizado para la URL 'https://online.universidadeuropea.com/en/masters-degree-renewable-energy-online/'\n"
     ]
    },
    {
     "name": "stderr",
     "output_type": "stream",
     "text": [
      "C:\\Users\\9140\\AppData\\Local\\Temp\\ipykernel_12948\\2671022197.py:4: FutureWarning: The frame.append method is deprecated and will be removed from pandas in a future version. Use pandas.concat instead.\n",
      "  resultados=resultados.append(comprobador(a))\n"
     ]
    },
    {
     "name": "stdout",
     "output_type": "stream",
     "text": [
      "Si está el campo personalizado para la URL 'https://estudiar.universidadeuropea.com/master-universitario-biotecnologia-clinica/'\n"
     ]
    },
    {
     "name": "stderr",
     "output_type": "stream",
     "text": [
      "C:\\Users\\9140\\AppData\\Local\\Temp\\ipykernel_12948\\2671022197.py:4: FutureWarning: The frame.append method is deprecated and will be removed from pandas in a future version. Use pandas.concat instead.\n",
      "  resultados=resultados.append(comprobador(a))\n"
     ]
    },
    {
     "name": "stdout",
     "output_type": "stream",
     "text": [
      "Si está el campo personalizado para la URL 'https://estudiar.universidadeuropea.com/master-formacion-permanente-traduccion-audiovisual/'\n"
     ]
    },
    {
     "name": "stderr",
     "output_type": "stream",
     "text": [
      "C:\\Users\\9140\\AppData\\Local\\Temp\\ipykernel_12948\\2671022197.py:4: FutureWarning: The frame.append method is deprecated and will be removed from pandas in a future version. Use pandas.concat instead.\n",
      "  resultados=resultados.append(comprobador(a))\n"
     ]
    },
    {
     "name": "stdout",
     "output_type": "stream",
     "text": [
      "Si está el campo personalizado para la URL 'https://online.universidadeuropea.com/masters-oficiales-en-derecho-online/'\n"
     ]
    },
    {
     "name": "stderr",
     "output_type": "stream",
     "text": [
      "C:\\Users\\9140\\AppData\\Local\\Temp\\ipykernel_12948\\2671022197.py:4: FutureWarning: The frame.append method is deprecated and will be removed from pandas in a future version. Use pandas.concat instead.\n",
      "  resultados=resultados.append(comprobador(a))\n"
     ]
    },
    {
     "name": "stdout",
     "output_type": "stream",
     "text": [
      "Si está el campo personalizado para la URL 'https://online.universidadeuropea.com/master-en-neuropsicologia-clinica-chile/'\n"
     ]
    },
    {
     "name": "stderr",
     "output_type": "stream",
     "text": [
      "C:\\Users\\9140\\AppData\\Local\\Temp\\ipykernel_12948\\2671022197.py:4: FutureWarning: The frame.append method is deprecated and will be removed from pandas in a future version. Use pandas.concat instead.\n",
      "  resultados=resultados.append(comprobador(a))\n"
     ]
    },
    {
     "name": "stdout",
     "output_type": "stream",
     "text": [
      "Si está el campo personalizado para la URL 'https://online.universidadeuropea.com/grados-maestrias-area-psicologia/'\n"
     ]
    },
    {
     "name": "stderr",
     "output_type": "stream",
     "text": [
      "C:\\Users\\9140\\AppData\\Local\\Temp\\ipykernel_12948\\2671022197.py:4: FutureWarning: The frame.append method is deprecated and will be removed from pandas in a future version. Use pandas.concat instead.\n",
      "  resultados=resultados.append(comprobador(a))\n"
     ]
    },
    {
     "name": "stdout",
     "output_type": "stream",
     "text": [
      "Si está el campo personalizado para la URL 'https://online-ecuador.universidadeuropea.com/convenios/'\n"
     ]
    },
    {
     "name": "stderr",
     "output_type": "stream",
     "text": [
      "C:\\Users\\9140\\AppData\\Local\\Temp\\ipykernel_12948\\2671022197.py:4: FutureWarning: The frame.append method is deprecated and will be removed from pandas in a future version. Use pandas.concat instead.\n",
      "  resultados=resultados.append(comprobador(a))\n"
     ]
    },
    {
     "name": "stdout",
     "output_type": "stream",
     "text": [
      "Si está el campo personalizado para la URL 'https://online.universidadeuropea.com/masters-derecho-digital/'\n"
     ]
    },
    {
     "name": "stderr",
     "output_type": "stream",
     "text": [
      "C:\\Users\\9140\\AppData\\Local\\Temp\\ipykernel_12948\\2671022197.py:4: FutureWarning: The frame.append method is deprecated and will be removed from pandas in a future version. Use pandas.concat instead.\n",
      "  resultados=resultados.append(comprobador(a))\n"
     ]
    },
    {
     "name": "stdout",
     "output_type": "stream",
     "text": [
      "Si está el campo personalizado para la URL 'https://online-ecuador.universidadeuropea.com/maestrias-derecho-digital/'\n"
     ]
    },
    {
     "name": "stderr",
     "output_type": "stream",
     "text": [
      "C:\\Users\\9140\\AppData\\Local\\Temp\\ipykernel_12948\\2671022197.py:4: FutureWarning: The frame.append method is deprecated and will be removed from pandas in a future version. Use pandas.concat instead.\n",
      "  resultados=resultados.append(comprobador(a))\n"
     ]
    },
    {
     "name": "stdout",
     "output_type": "stream",
     "text": [
      "Si está el campo personalizado para la URL 'https://online-colombia.universidadeuropea.com/maestrias-derecho-digital/'\n"
     ]
    },
    {
     "name": "stderr",
     "output_type": "stream",
     "text": [
      "C:\\Users\\9140\\AppData\\Local\\Temp\\ipykernel_12948\\2671022197.py:4: FutureWarning: The frame.append method is deprecated and will be removed from pandas in a future version. Use pandas.concat instead.\n",
      "  resultados=resultados.append(comprobador(a))\n"
     ]
    },
    {
     "name": "stdout",
     "output_type": "stream",
     "text": [
      "Si está el campo personalizado para la URL 'https://online.universidadeuropea.com/maestrias-derecho-digital-peru/'\n"
     ]
    },
    {
     "name": "stderr",
     "output_type": "stream",
     "text": [
      "C:\\Users\\9140\\AppData\\Local\\Temp\\ipykernel_12948\\2671022197.py:4: FutureWarning: The frame.append method is deprecated and will be removed from pandas in a future version. Use pandas.concat instead.\n",
      "  resultados=resultados.append(comprobador(a))\n"
     ]
    },
    {
     "name": "stdout",
     "output_type": "stream",
     "text": [
      "Si está el campo personalizado para la URL 'https://online.universidadeuropea.com/masters-oficiales-para-abogados-online/'\n"
     ]
    },
    {
     "name": "stderr",
     "output_type": "stream",
     "text": [
      "C:\\Users\\9140\\AppData\\Local\\Temp\\ipykernel_12948\\2671022197.py:4: FutureWarning: The frame.append method is deprecated and will be removed from pandas in a future version. Use pandas.concat instead.\n",
      "  resultados=resultados.append(comprobador(a))\n"
     ]
    },
    {
     "name": "stdout",
     "output_type": "stream",
     "text": [
      "Si está el campo personalizado para la URL 'https://online-ecuador.universidadeuropea.com/maestrias-oficiales-para-abogados-en-linea/'\n"
     ]
    },
    {
     "name": "stderr",
     "output_type": "stream",
     "text": [
      "C:\\Users\\9140\\AppData\\Local\\Temp\\ipykernel_12948\\2671022197.py:4: FutureWarning: The frame.append method is deprecated and will be removed from pandas in a future version. Use pandas.concat instead.\n",
      "  resultados=resultados.append(comprobador(a))\n"
     ]
    },
    {
     "name": "stdout",
     "output_type": "stream",
     "text": [
      "Si está el campo personalizado para la URL 'https://online-colombia.universidadeuropea.com/maestrias-oficiales-para-abogados-en-linea/'\n"
     ]
    },
    {
     "name": "stderr",
     "output_type": "stream",
     "text": [
      "C:\\Users\\9140\\AppData\\Local\\Temp\\ipykernel_12948\\2671022197.py:4: FutureWarning: The frame.append method is deprecated and will be removed from pandas in a future version. Use pandas.concat instead.\n",
      "  resultados=resultados.append(comprobador(a))\n"
     ]
    },
    {
     "name": "stdout",
     "output_type": "stream",
     "text": [
      "Si está el campo personalizado para la URL 'https://online.universidadeuropea.com/maestrias-oficiales-para-abogados-en-linea-peru/'\n"
     ]
    },
    {
     "name": "stderr",
     "output_type": "stream",
     "text": [
      "C:\\Users\\9140\\AppData\\Local\\Temp\\ipykernel_12948\\2671022197.py:4: FutureWarning: The frame.append method is deprecated and will be removed from pandas in a future version. Use pandas.concat instead.\n",
      "  resultados=resultados.append(comprobador(a))\n"
     ]
    },
    {
     "name": "stdout",
     "output_type": "stream",
     "text": [
      "Si está el campo personalizado para la URL 'https://online-ecuador.universidadeuropea.com/programas-de-salud/'\n"
     ]
    },
    {
     "name": "stderr",
     "output_type": "stream",
     "text": [
      "C:\\Users\\9140\\AppData\\Local\\Temp\\ipykernel_12948\\2671022197.py:4: FutureWarning: The frame.append method is deprecated and will be removed from pandas in a future version. Use pandas.concat instead.\n",
      "  resultados=resultados.append(comprobador(a))\n"
     ]
    },
    {
     "name": "stdout",
     "output_type": "stream",
     "text": [
      "Si está el campo personalizado para la URL 'https://online-colombia.universidadeuropea.com/programas-de-salud/'\n"
     ]
    },
    {
     "name": "stderr",
     "output_type": "stream",
     "text": [
      "C:\\Users\\9140\\AppData\\Local\\Temp\\ipykernel_12948\\2671022197.py:4: FutureWarning: The frame.append method is deprecated and will be removed from pandas in a future version. Use pandas.concat instead.\n",
      "  resultados=resultados.append(comprobador(a))\n"
     ]
    },
    {
     "name": "stdout",
     "output_type": "stream",
     "text": [
      "Si está el campo personalizado para la URL 'https://online.universidadeuropea.com/programas-de-salud-chile/'\n"
     ]
    },
    {
     "name": "stderr",
     "output_type": "stream",
     "text": [
      "C:\\Users\\9140\\AppData\\Local\\Temp\\ipykernel_12948\\2671022197.py:4: FutureWarning: The frame.append method is deprecated and will be removed from pandas in a future version. Use pandas.concat instead.\n",
      "  resultados=resultados.append(comprobador(a))\n"
     ]
    },
    {
     "name": "stdout",
     "output_type": "stream",
     "text": [
      "Si está el campo personalizado para la URL 'https://online.universidadeuropea.com/programas-de-salud-peru/'\n"
     ]
    },
    {
     "name": "stderr",
     "output_type": "stream",
     "text": [
      "C:\\Users\\9140\\AppData\\Local\\Temp\\ipykernel_12948\\2671022197.py:4: FutureWarning: The frame.append method is deprecated and will be removed from pandas in a future version. Use pandas.concat instead.\n",
      "  resultados=resultados.append(comprobador(a))\n"
     ]
    },
    {
     "name": "stdout",
     "output_type": "stream",
     "text": [
      "No está el campo personalizado para la URL 'https://los10cafyd.universidadeuropea.com/inscripcion/'\n"
     ]
    },
    {
     "name": "stderr",
     "output_type": "stream",
     "text": [
      "C:\\Users\\9140\\AppData\\Local\\Temp\\ipykernel_12948\\2671022197.py:4: FutureWarning: The frame.append method is deprecated and will be removed from pandas in a future version. Use pandas.concat instead.\n",
      "  resultados=resultados.append(comprobador(a))\n"
     ]
    },
    {
     "name": "stdout",
     "output_type": "stream",
     "text": [
      "No está el campo personalizado para la URL 'https://estudiar.universidadeuropea.com/tecnico-superior-comercio-internacional-madrid-landingdual/'\n"
     ]
    },
    {
     "name": "stderr",
     "output_type": "stream",
     "text": [
      "C:\\Users\\9140\\AppData\\Local\\Temp\\ipykernel_12948\\2671022197.py:4: FutureWarning: The frame.append method is deprecated and will be removed from pandas in a future version. Use pandas.concat instead.\n",
      "  resultados=resultados.append(comprobador(a))\n"
     ]
    },
    {
     "name": "stdout",
     "output_type": "stream",
     "text": [
      "No está el campo personalizado para la URL 'https://estudiar.universidadeuropea.com/tecnico-superior-en-administracion-finanzas-madrid-landingdual/'\n"
     ]
    },
    {
     "name": "stderr",
     "output_type": "stream",
     "text": [
      "C:\\Users\\9140\\AppData\\Local\\Temp\\ipykernel_12948\\2671022197.py:4: FutureWarning: The frame.append method is deprecated and will be removed from pandas in a future version. Use pandas.concat instead.\n",
      "  resultados=resultados.append(comprobador(a))\n"
     ]
    },
    {
     "name": "stdout",
     "output_type": "stream",
     "text": [
      "Si está el campo personalizado para la URL 'https://estudiar.universidadeuropea.com/master-universitario-investigacion-bioetica-landingdual/'\n"
     ]
    },
    {
     "name": "stderr",
     "output_type": "stream",
     "text": [
      "C:\\Users\\9140\\AppData\\Local\\Temp\\ipykernel_12948\\2671022197.py:4: FutureWarning: The frame.append method is deprecated and will be removed from pandas in a future version. Use pandas.concat instead.\n",
      "  resultados=resultados.append(comprobador(a))\n"
     ]
    },
    {
     "name": "stdout",
     "output_type": "stream",
     "text": [
      "Si está el campo personalizado para la URL 'https://estudiar.universidadeuropea.com/grado-superior-educacion-Infantil/'\n"
     ]
    },
    {
     "name": "stderr",
     "output_type": "stream",
     "text": [
      "C:\\Users\\9140\\AppData\\Local\\Temp\\ipykernel_12948\\2671022197.py:4: FutureWarning: The frame.append method is deprecated and will be removed from pandas in a future version. Use pandas.concat instead.\n",
      "  resultados=resultados.append(comprobador(a))\n"
     ]
    },
    {
     "name": "stdout",
     "output_type": "stream",
     "text": [
      "Si está el campo personalizado para la URL 'https://online.universidadeuropea.com/maestria-gestion-proyectos-online-chile/'\n"
     ]
    },
    {
     "name": "stderr",
     "output_type": "stream",
     "text": [
      "C:\\Users\\9140\\AppData\\Local\\Temp\\ipykernel_12948\\2671022197.py:4: FutureWarning: The frame.append method is deprecated and will be removed from pandas in a future version. Use pandas.concat instead.\n",
      "  resultados=resultados.append(comprobador(a))\n"
     ]
    },
    {
     "name": "stdout",
     "output_type": "stream",
     "text": [
      "Si está el campo personalizado para la URL 'https://estudiar.universidadeuropea.com/grado-diseno-creacion-moda-landingdual/'\n"
     ]
    },
    {
     "name": "stderr",
     "output_type": "stream",
     "text": [
      "C:\\Users\\9140\\AppData\\Local\\Temp\\ipykernel_12948\\2671022197.py:4: FutureWarning: The frame.append method is deprecated and will be removed from pandas in a future version. Use pandas.concat instead.\n",
      "  resultados=resultados.append(comprobador(a))\n"
     ]
    },
    {
     "name": "stdout",
     "output_type": "stream",
     "text": [
      "Si está el campo personalizado para la URL 'https://estudiar.universidadeuropea.com/grado-diseno-interiores-landingdual/'\n"
     ]
    },
    {
     "name": "stderr",
     "output_type": "stream",
     "text": [
      "C:\\Users\\9140\\AppData\\Local\\Temp\\ipykernel_12948\\2671022197.py:4: FutureWarning: The frame.append method is deprecated and will be removed from pandas in a future version. Use pandas.concat instead.\n",
      "  resultados=resultados.append(comprobador(a))\n"
     ]
    },
    {
     "name": "stdout",
     "output_type": "stream",
     "text": [
      "Si está el campo personalizado para la URL 'https://online.universidadeuropea.com/maestria-oficial-fisioterapia-deportiva/'\n"
     ]
    },
    {
     "name": "stderr",
     "output_type": "stream",
     "text": [
      "C:\\Users\\9140\\AppData\\Local\\Temp\\ipykernel_12948\\2671022197.py:4: FutureWarning: The frame.append method is deprecated and will be removed from pandas in a future version. Use pandas.concat instead.\n",
      "  resultados=resultados.append(comprobador(a))\n"
     ]
    },
    {
     "name": "stdout",
     "output_type": "stream",
     "text": [
      "Si está el campo personalizado para la URL 'https://online.universidadeuropea.com/master-universitario-cuidados-paliativos-semipresencial/'\n"
     ]
    },
    {
     "name": "stderr",
     "output_type": "stream",
     "text": [
      "C:\\Users\\9140\\AppData\\Local\\Temp\\ipykernel_12948\\2671022197.py:4: FutureWarning: The frame.append method is deprecated and will be removed from pandas in a future version. Use pandas.concat instead.\n",
      "  resultados=resultados.append(comprobador(a))\n"
     ]
    },
    {
     "name": "stdout",
     "output_type": "stream",
     "text": [
      "Si está el campo personalizado para la URL 'https://estudiar.universidadeuropea.com/grado-diseno-grafico-tecnologias-creativas-valencia/'\n"
     ]
    },
    {
     "name": "stderr",
     "output_type": "stream",
     "text": [
      "C:\\Users\\9140\\AppData\\Local\\Temp\\ipykernel_12948\\2671022197.py:4: FutureWarning: The frame.append method is deprecated and will be removed from pandas in a future version. Use pandas.concat instead.\n",
      "  resultados=resultados.append(comprobador(a))\n"
     ]
    },
    {
     "name": "stdout",
     "output_type": "stream",
     "text": [
      "Si está el campo personalizado para la URL 'https://estudiar.universidadeuropea.com/area-postgrados-psicologia/'\n"
     ]
    },
    {
     "name": "stderr",
     "output_type": "stream",
     "text": [
      "C:\\Users\\9140\\AppData\\Local\\Temp\\ipykernel_12948\\2671022197.py:4: FutureWarning: The frame.append method is deprecated and will be removed from pandas in a future version. Use pandas.concat instead.\n",
      "  resultados=resultados.append(comprobador(a))\n"
     ]
    }
   ],
   "source": [
    "\n",
    "bbdd2=pd.read_csv(\"/Users/9140/Desktop/enborrador2.csv\",sep=\";\")\n",
    "bbdd2=pd.DataFrame(bbdd2)\n",
    "for a in bbdd2[\"URL\"]:\n",
    "    resultados=resultados.append(comprobador(a))"
   ]
  },
  {
   "cell_type": "code",
   "execution_count": null,
   "id": "bdf93afa",
   "metadata": {},
   "outputs": [],
   "source": []
  }
 ],
 "metadata": {
  "kernelspec": {
   "display_name": "Python 3 (ipykernel)",
   "language": "python",
   "name": "python3"
  },
  "language_info": {
   "codemirror_mode": {
    "name": "ipython",
    "version": 3
   },
   "file_extension": ".py",
   "mimetype": "text/x-python",
   "name": "python",
   "nbconvert_exporter": "python",
   "pygments_lexer": "ipython3",
   "version": "3.10.9"
  }
 },
 "nbformat": 4,
 "nbformat_minor": 5
}
